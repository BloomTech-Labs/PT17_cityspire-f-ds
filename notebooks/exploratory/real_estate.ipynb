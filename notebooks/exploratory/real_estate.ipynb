{
 "metadata": {
  "language_info": {
   "codemirror_mode": {
    "name": "ipython",
    "version": 3
   },
   "file_extension": ".py",
   "mimetype": "text/x-python",
   "name": "python",
   "nbconvert_exporter": "python",
   "pygments_lexer": "ipython3",
   "version": "3.9.1-final"
  },
  "orig_nbformat": 2,
  "kernelspec": {
   "name": "cityspire",
   "display_name": "Python 3.9.1 64-bit ('labspt15-cityspire-g-ds': pipenv)"
  }
 },
 "nbformat": 4,
 "nbformat_minor": 2,
 "cells": [
  {
   "source": [
    "# Zillow Data via Quandl"
   ],
   "cell_type": "markdown",
   "metadata": {}
  },
  {
   "cell_type": "code",
   "execution_count": 16,
   "metadata": {},
   "outputs": [],
   "source": [
    "import os\n",
    "import sys\n",
    "import quandl\n",
    "import pandas as pd\n",
    "import numpy as np\n",
    "import matplotlib.pyplot as plt\n",
    "from uszipcode import SearchEngine\n",
    "\n",
    "# sys.path.append('C:Users/Rob/repos/labspt15-cityspire-g-ds')\n",
    "# sys.path\n",
    "\n",
    "# path = r'C:\\Users\\Rob\\repos\\\\'\n",
    "# path == r'V:\\\\'"
   ]
  },
  {
   "cell_type": "code",
   "execution_count": 17,
   "metadata": {},
   "outputs": [],
   "source": [
    "# quandl.ApiConfig.api_key = 'rfzykh-NDsw72dmc4Ms4'"
   ]
  },
  {
   "cell_type": "code",
   "execution_count": 18,
   "metadata": {},
   "outputs": [],
   "source": [
    "# data = quandl.get_table('MER/F1', compnumber=\"39102\", paginate=True)"
   ]
  },
  {
   "cell_type": "code",
   "execution_count": 19,
   "metadata": {},
   "outputs": [],
   "source": [
    "# quandl.ApiConfig.api_key = 'rfzykh-NDsw72dmc4Ms4'\n",
    "# quandl.get_table('ZILLOW/DATA', indicator_id='ZSFH', region_id='99999')"
   ]
  },
  {
   "source": [
    "## Data"
   ],
   "cell_type": "markdown",
   "metadata": {}
  },
  {
   "cell_type": "code",
   "execution_count": 20,
   "metadata": {},
   "outputs": [
    {
     "output_type": "execute_result",
     "data": {
      "text/plain": [
       "  indicator_id  region_id        date     value\n",
       "0         ZATT       3101  1998-01-31  338849.0\n",
       "1         ZATT       3101  1998-02-28  342993.0\n",
       "2         ZATT       3101  1998-03-31  346763.0\n",
       "3         ZATT       3101  1998-04-30  349356.0\n",
       "4         ZATT       3101  1998-05-31  351981.0"
      ],
      "text/html": "<div>\n<style scoped>\n    .dataframe tbody tr th:only-of-type {\n        vertical-align: middle;\n    }\n\n    .dataframe tbody tr th {\n        vertical-align: top;\n    }\n\n    .dataframe thead th {\n        text-align: right;\n    }\n</style>\n<table border=\"1\" class=\"dataframe\">\n  <thead>\n    <tr style=\"text-align: right;\">\n      <th></th>\n      <th>indicator_id</th>\n      <th>region_id</th>\n      <th>date</th>\n      <th>value</th>\n    </tr>\n  </thead>\n  <tbody>\n    <tr>\n      <th>0</th>\n      <td>ZATT</td>\n      <td>3101</td>\n      <td>1998-01-31</td>\n      <td>338849.0</td>\n    </tr>\n    <tr>\n      <th>1</th>\n      <td>ZATT</td>\n      <td>3101</td>\n      <td>1998-02-28</td>\n      <td>342993.0</td>\n    </tr>\n    <tr>\n      <th>2</th>\n      <td>ZATT</td>\n      <td>3101</td>\n      <td>1998-03-31</td>\n      <td>346763.0</td>\n    </tr>\n    <tr>\n      <th>3</th>\n      <td>ZATT</td>\n      <td>3101</td>\n      <td>1998-04-30</td>\n      <td>349356.0</td>\n    </tr>\n    <tr>\n      <th>4</th>\n      <td>ZATT</td>\n      <td>3101</td>\n      <td>1998-05-31</td>\n      <td>351981.0</td>\n    </tr>\n  </tbody>\n</table>\n</div>"
     },
     "metadata": {},
     "execution_count": 20
    }
   ],
   "source": [
    "data = pd.read_csv(\"V:\\ZILLOW_DATA.csv\")\n",
    "data.head()"
   ]
  },
  {
   "cell_type": "code",
   "execution_count": 21,
   "metadata": {},
   "outputs": [
    {
     "output_type": "execute_result",
     "data": {
      "text/plain": [
       "125528409"
      ]
     },
     "metadata": {},
     "execution_count": 21
    }
   ],
   "source": [
    "len(data) #125.5 million lines!!"
   ]
  },
  {
   "cell_type": "code",
   "execution_count": 22,
   "metadata": {},
   "outputs": [
    {
     "output_type": "execute_result",
     "data": {
      "text/plain": [
       "array(['ZATT', 'ZSFH', 'ZALL', 'ZCON', 'ZABT', 'Z5BR', 'Z2BR', 'Z3BR',\n",
       "       'Z1BR', 'Z4BR', 'ISAW', 'SSAW', 'IRAM', 'CRSM', 'CSSM', 'MSAM',\n",
       "       'IRAW', 'MRAM', 'SSSW', 'LSSM', 'CSAW', 'ISSM', 'SASW', 'MRAW',\n",
       "       'LRAM', 'ISSW', 'MSAW', 'LSAM', 'CRAM', 'ISAM', 'IRSM', 'SRSW',\n",
       "       'LSAW', 'NRAW', 'NSAW', 'CRSW', 'SSAM', 'IRSW', 'NRAM', 'CRAW',\n",
       "       'LRSM', 'SASM', 'SSSM', 'SAAM', 'LRAW', 'CSAM', 'SRAW', 'CSSW',\n",
       "       'LRSW', 'SRSM', 'SAAW', 'LSSW', 'SRAM', 'NSAM', 'RSNA', 'RSSA'],\n",
       "      dtype=object)"
      ]
     },
     "metadata": {},
     "execution_count": 22
    }
   ],
   "source": [
    "data['indicator_id'].unique()"
   ]
  },
  {
   "cell_type": "code",
   "execution_count": 23,
   "metadata": {},
   "outputs": [],
   "source": [
    "rental_data = data[data['indicator_id'].isin(['RSSA', 'RSNA'])]"
   ]
  },
  {
   "cell_type": "code",
   "execution_count": 24,
   "metadata": {},
   "outputs": [
    {
     "output_type": "stream",
     "name": "stdout",
     "text": [
      "535891\n(535891, 4)\n"
     ]
    },
    {
     "output_type": "execute_result",
     "data": {
      "text/plain": [
       "        indicator_id  region_id        date   value\n",
       "1586389         RSNA     102001  2020-06-30  1777.0\n",
       "1586392         RSNA     394913  2020-06-30  2811.0\n",
       "1586396         RSNA     753899  2020-06-30  2625.0\n",
       "1586400         RSNA     394463  2020-06-30  1804.0\n",
       "1586403         RSNA     394514  2020-06-30  1611.0"
      ],
      "text/html": "<div>\n<style scoped>\n    .dataframe tbody tr th:only-of-type {\n        vertical-align: middle;\n    }\n\n    .dataframe tbody tr th {\n        vertical-align: top;\n    }\n\n    .dataframe thead th {\n        text-align: right;\n    }\n</style>\n<table border=\"1\" class=\"dataframe\">\n  <thead>\n    <tr style=\"text-align: right;\">\n      <th></th>\n      <th>indicator_id</th>\n      <th>region_id</th>\n      <th>date</th>\n      <th>value</th>\n    </tr>\n  </thead>\n  <tbody>\n    <tr>\n      <th>1586389</th>\n      <td>RSNA</td>\n      <td>102001</td>\n      <td>2020-06-30</td>\n      <td>1777.0</td>\n    </tr>\n    <tr>\n      <th>1586392</th>\n      <td>RSNA</td>\n      <td>394913</td>\n      <td>2020-06-30</td>\n      <td>2811.0</td>\n    </tr>\n    <tr>\n      <th>1586396</th>\n      <td>RSNA</td>\n      <td>753899</td>\n      <td>2020-06-30</td>\n      <td>2625.0</td>\n    </tr>\n    <tr>\n      <th>1586400</th>\n      <td>RSNA</td>\n      <td>394463</td>\n      <td>2020-06-30</td>\n      <td>1804.0</td>\n    </tr>\n    <tr>\n      <th>1586403</th>\n      <td>RSNA</td>\n      <td>394514</td>\n      <td>2020-06-30</td>\n      <td>1611.0</td>\n    </tr>\n  </tbody>\n</table>\n</div>"
     },
     "metadata": {},
     "execution_count": 24
    }
   ],
   "source": [
    "print(len(rental_data))\n",
    "print(rental_data.shape)\n",
    "rental_data.head()"
   ]
  },
  {
   "cell_type": "code",
   "execution_count": 25,
   "metadata": {},
   "outputs": [
    {
     "output_type": "stream",
     "name": "stdout",
     "text": [
      "average rent:  1686\n"
     ]
    }
   ],
   "source": [
    "print('average rent: ', round(sum(rental_data['value']) / len(rental_data)))"
   ]
  },
  {
   "source": [
    "## Indicators"
   ],
   "cell_type": "markdown",
   "metadata": {}
  },
  {
   "cell_type": "code",
   "execution_count": 26,
   "metadata": {},
   "outputs": [
    {
     "output_type": "execute_result",
     "data": {
      "text/plain": [
       "  indicator_id                                          indicator     category\n",
       "0         ZATT           ZHVI All Homes- Top Tier Time Series ($)  Home values\n",
       "1         ZSFH           ZHVI Single-Family Homes Time Series ($)  Home values\n",
       "2         ZALL  ZHVI All Homes (SFR, Condo/Co-op) Time Series ($)  Home values\n",
       "3         ZCON                   ZHVI Condo/Co-op Time Series ($)  Home values\n",
       "4         ZABT        ZHVI All Homes- Bottom Tier Time Series ($)  Home values"
      ],
      "text/html": "<div>\n<style scoped>\n    .dataframe tbody tr th:only-of-type {\n        vertical-align: middle;\n    }\n\n    .dataframe tbody tr th {\n        vertical-align: top;\n    }\n\n    .dataframe thead th {\n        text-align: right;\n    }\n</style>\n<table border=\"1\" class=\"dataframe\">\n  <thead>\n    <tr style=\"text-align: right;\">\n      <th></th>\n      <th>indicator_id</th>\n      <th>indicator</th>\n      <th>category</th>\n    </tr>\n  </thead>\n  <tbody>\n    <tr>\n      <th>0</th>\n      <td>ZATT</td>\n      <td>ZHVI All Homes- Top Tier Time Series ($)</td>\n      <td>Home values</td>\n    </tr>\n    <tr>\n      <th>1</th>\n      <td>ZSFH</td>\n      <td>ZHVI Single-Family Homes Time Series ($)</td>\n      <td>Home values</td>\n    </tr>\n    <tr>\n      <th>2</th>\n      <td>ZALL</td>\n      <td>ZHVI All Homes (SFR, Condo/Co-op) Time Series ($)</td>\n      <td>Home values</td>\n    </tr>\n    <tr>\n      <th>3</th>\n      <td>ZCON</td>\n      <td>ZHVI Condo/Co-op Time Series ($)</td>\n      <td>Home values</td>\n    </tr>\n    <tr>\n      <th>4</th>\n      <td>ZABT</td>\n      <td>ZHVI All Homes- Bottom Tier Time Series ($)</td>\n      <td>Home values</td>\n    </tr>\n  </tbody>\n</table>\n</div>"
     },
     "metadata": {},
     "execution_count": 26
    }
   ],
   "source": [
    "indicators = pd.read_csv('V:\\ZILLOW_INDICATORS.csv')\n",
    "indicators.head()"
   ]
  },
  {
   "cell_type": "code",
   "execution_count": 27,
   "metadata": {},
   "outputs": [
    {
     "output_type": "execute_result",
     "data": {
      "text/plain": [
       "array(['ZATT', 'ZSFH', 'ZALL', 'ZCON', 'ZABT', 'Z5BR', 'Z2BR', 'Z3BR',\n",
       "       'Z1BR', 'LSAW', 'NRAW', 'NSAW', 'CRSW', 'SSAM', 'IRSW', 'NRAM',\n",
       "       'CRAW', 'LRSM', 'SASM', 'SSSM', 'SAAM', 'LRAW', 'CSAM', 'SRAW',\n",
       "       'CSSW', 'LRSW', 'SRSM', 'SAAW', 'LSSW', 'SRAM', 'NSAM', 'RSNA',\n",
       "       'RSSA', 'Z4BR', 'ISAW', 'SSAW', 'IRAM', 'CRSM', 'CSSM', 'MSAM',\n",
       "       'IRAW', 'MRAM', 'SSSW', 'LSSM', 'CSAW', 'ISSM', 'SASW', 'MRAW',\n",
       "       'LRAM', 'ISSW', 'MSAW', 'LSAM', 'CRAM', 'ISAM', 'IRSM', 'SRSW'],\n",
       "      dtype=object)"
      ]
     },
     "metadata": {},
     "execution_count": 27
    }
   ],
   "source": [
    "indicators['indicator_id'].unique()"
   ]
  },
  {
   "cell_type": "code",
   "execution_count": 28,
   "metadata": {},
   "outputs": [
    {
     "output_type": "execute_result",
     "data": {
      "text/plain": [
       "   indicator_id                                          indicator  \\\n",
       "0          ZATT           ZHVI All Homes- Top Tier Time Series ($)   \n",
       "1          ZSFH           ZHVI Single-Family Homes Time Series ($)   \n",
       "2          ZALL  ZHVI All Homes (SFR, Condo/Co-op) Time Series ($)   \n",
       "3          ZCON                   ZHVI Condo/Co-op Time Series ($)   \n",
       "4          ZABT        ZHVI All Homes- Bottom Tier Time Series ($)   \n",
       "5          Z5BR                    ZHVI 5+ Bedroom Time Series ($)   \n",
       "6          Z2BR                     ZHVI 2-Bedroom Time Series ($)   \n",
       "7          Z3BR                     ZHVI 3-Bedroom Time Series ($)   \n",
       "8          Z1BR                     ZHVI 1-Bedroom Time Series ($)   \n",
       "9          LSAW  Median List Price (Smooth, All Homes, Weekly V...   \n",
       "10         NRAW  Median Days to Pending (Raw, All Homes, Weekly...   \n",
       "11         NSAW  Median Days to Pending (Smooth, All Homes, Wee...   \n",
       "12         CRSW  Share of Listings With a Price Cut (Raw, SFR O...   \n",
       "13         SSAM     Median Sale Price (Smooth, All Homes, Monthly)   \n",
       "14         IRSW    For-sale Inventory (Raw, SFR only, Weekly View)   \n",
       "15         NRAM   Median Days to Pending (Raw, All Homes, Monthly)   \n",
       "16         CRAW  Share of Listings With a Price Cut (Raw, All H...   \n",
       "17         LRSM         Median List Price (Raw, SFR Only, Monthly)   \n",
       "18         SASM  Median Sale Price (Smooth & Seasonally Adjuste...   \n",
       "19         SSSM      Median Sale Price (Smooth, SFR only, Monthly)   \n",
       "20         SAAM  Median Sale Price (Smooth & Seasonally Adjuste...   \n",
       "21         LRAW    Median List Price (Raw, All Homes, Weekly View)   \n",
       "22         CSAM  Share of Listings With a Price Cut (Smooth, Al...   \n",
       "23         SRAW    Median Sale Price (Raw, All Homes, Weekly View)   \n",
       "24         CSSW  Share of Listings With a Price Cut (Smooth, SF...   \n",
       "25         LRSW     Median List Price (Raw, SFR Only, Weekly View)   \n",
       "26         SRSM         Median Sale Price (Raw, SFR only, Monthly)   \n",
       "27         SAAW  Median Sale Price (Smooth & Seasonally Adjuste...   \n",
       "28         LSSW  Median List Price (Smooth, SFR Only, Weekly View)   \n",
       "29         SRAM        Median Sale Price (Raw, All Homes, Monthly)   \n",
       "30         NSAM  Median Days to Pending (Smooth, All Homes, Mon...   \n",
       "31         RSNA  ZORI (Smoothed): All Homes Plus Multifamily Ti...   \n",
       "32         RSSA  ZORI (Smoothed, Seasonally Adjusted): All Home...   \n",
       "33         Z4BR                     ZHVI 4-Bedroom Time Series ($)   \n",
       "34         ISAW  For-Sale Inventory (Smooth, All Homes, Weekly ...   \n",
       "35         SSAW  Median Sale Price (Smooth, All Homes, Weekly V...   \n",
       "36         IRAM       For-Sale Inventory (Raw, All Homes, Monthly)   \n",
       "37         CRSM  Share of Listings With a Price Cut (Raw, SFR O...   \n",
       "38         CSSM  Share of Listings With a Price Cut (Smooth, SF...   \n",
       "39         MSAM  Mean Days to Pending (Smooth, All Homes, Monthly)   \n",
       "40         IRAW   For-Sale Inventory (Raw, All Homes, Weekly View)   \n",
       "41         MRAM     Mean Days to Pending (Raw, All Homes, Monthly)   \n",
       "42         SSSW  Median Sale Price (Smooth, SFR only, Weekly View)   \n",
       "43         LSSM      Median List Price (Smooth, SFR Only, Monthly)   \n",
       "44         CSAW  Share of Listings With a Price Cut (Smooth, Al...   \n",
       "45         ISSM     For-Sale Inventory (Smooth, SFR only, Monthly)   \n",
       "46         SASW  Median Sale Price (Smooth & Seasonally Adjuste...   \n",
       "47         MRAW  Mean Days to Pending (Raw, All Homes, Weekly V...   \n",
       "48         LRAM        Median List Price (Raw, All Homes, Monthly)   \n",
       "49         ISSW  For-Sale Inventory (Smooth, SFR only, Weekly V...   \n",
       "50         MSAW  Mean Days to Pending (Smooth, All Homes, Weekl...   \n",
       "51         LSAM     Median List Price (Smooth, All Homes, Monthly)   \n",
       "52         CRAM  Share of Listings With a Price Cut (Raw, All H...   \n",
       "53         ISAM    For-Sale Inventory (Smooth, All Homes, Monthly)   \n",
       "54         IRSM        For-sale Inventory (Raw, SFR only, Monthly)   \n",
       "55         SRSW     Median Sale Price (Raw, SFR only, Weekly View)   \n",
       "\n",
       "               category  \n",
       "0           Home values  \n",
       "1           Home values  \n",
       "2           Home values  \n",
       "3           Home values  \n",
       "4           Home values  \n",
       "5           Home values  \n",
       "6           Home values  \n",
       "7           Home values  \n",
       "8           Home values  \n",
       "9   Inventory and sales  \n",
       "10  Inventory and sales  \n",
       "11  Inventory and sales  \n",
       "12  Inventory and sales  \n",
       "13  Inventory and sales  \n",
       "14  Inventory and sales  \n",
       "15  Inventory and sales  \n",
       "16  Inventory and sales  \n",
       "17  Inventory and sales  \n",
       "18  Inventory and sales  \n",
       "19  Inventory and sales  \n",
       "20  Inventory and sales  \n",
       "21  Inventory and sales  \n",
       "22  Inventory and sales  \n",
       "23  Inventory and sales  \n",
       "24  Inventory and sales  \n",
       "25  Inventory and sales  \n",
       "26  Inventory and sales  \n",
       "27  Inventory and sales  \n",
       "28  Inventory and sales  \n",
       "29  Inventory and sales  \n",
       "30  Inventory and sales  \n",
       "31              Rentals  \n",
       "32              Rentals  \n",
       "33          Home values  \n",
       "34  Inventory and sales  \n",
       "35  Inventory and sales  \n",
       "36  Inventory and sales  \n",
       "37  Inventory and sales  \n",
       "38  Inventory and sales  \n",
       "39  Inventory and sales  \n",
       "40  Inventory and sales  \n",
       "41  Inventory and sales  \n",
       "42  Inventory and sales  \n",
       "43  Inventory and sales  \n",
       "44  Inventory and sales  \n",
       "45  Inventory and sales  \n",
       "46  Inventory and sales  \n",
       "47  Inventory and sales  \n",
       "48  Inventory and sales  \n",
       "49  Inventory and sales  \n",
       "50  Inventory and sales  \n",
       "51  Inventory and sales  \n",
       "52  Inventory and sales  \n",
       "53  Inventory and sales  \n",
       "54  Inventory and sales  \n",
       "55  Inventory and sales  "
      ],
      "text/html": "<div>\n<style scoped>\n    .dataframe tbody tr th:only-of-type {\n        vertical-align: middle;\n    }\n\n    .dataframe tbody tr th {\n        vertical-align: top;\n    }\n\n    .dataframe thead th {\n        text-align: right;\n    }\n</style>\n<table border=\"1\" class=\"dataframe\">\n  <thead>\n    <tr style=\"text-align: right;\">\n      <th></th>\n      <th>indicator_id</th>\n      <th>indicator</th>\n      <th>category</th>\n    </tr>\n  </thead>\n  <tbody>\n    <tr>\n      <th>0</th>\n      <td>ZATT</td>\n      <td>ZHVI All Homes- Top Tier Time Series ($)</td>\n      <td>Home values</td>\n    </tr>\n    <tr>\n      <th>1</th>\n      <td>ZSFH</td>\n      <td>ZHVI Single-Family Homes Time Series ($)</td>\n      <td>Home values</td>\n    </tr>\n    <tr>\n      <th>2</th>\n      <td>ZALL</td>\n      <td>ZHVI All Homes (SFR, Condo/Co-op) Time Series ($)</td>\n      <td>Home values</td>\n    </tr>\n    <tr>\n      <th>3</th>\n      <td>ZCON</td>\n      <td>ZHVI Condo/Co-op Time Series ($)</td>\n      <td>Home values</td>\n    </tr>\n    <tr>\n      <th>4</th>\n      <td>ZABT</td>\n      <td>ZHVI All Homes- Bottom Tier Time Series ($)</td>\n      <td>Home values</td>\n    </tr>\n    <tr>\n      <th>5</th>\n      <td>Z5BR</td>\n      <td>ZHVI 5+ Bedroom Time Series ($)</td>\n      <td>Home values</td>\n    </tr>\n    <tr>\n      <th>6</th>\n      <td>Z2BR</td>\n      <td>ZHVI 2-Bedroom Time Series ($)</td>\n      <td>Home values</td>\n    </tr>\n    <tr>\n      <th>7</th>\n      <td>Z3BR</td>\n      <td>ZHVI 3-Bedroom Time Series ($)</td>\n      <td>Home values</td>\n    </tr>\n    <tr>\n      <th>8</th>\n      <td>Z1BR</td>\n      <td>ZHVI 1-Bedroom Time Series ($)</td>\n      <td>Home values</td>\n    </tr>\n    <tr>\n      <th>9</th>\n      <td>LSAW</td>\n      <td>Median List Price (Smooth, All Homes, Weekly V...</td>\n      <td>Inventory and sales</td>\n    </tr>\n    <tr>\n      <th>10</th>\n      <td>NRAW</td>\n      <td>Median Days to Pending (Raw, All Homes, Weekly...</td>\n      <td>Inventory and sales</td>\n    </tr>\n    <tr>\n      <th>11</th>\n      <td>NSAW</td>\n      <td>Median Days to Pending (Smooth, All Homes, Wee...</td>\n      <td>Inventory and sales</td>\n    </tr>\n    <tr>\n      <th>12</th>\n      <td>CRSW</td>\n      <td>Share of Listings With a Price Cut (Raw, SFR O...</td>\n      <td>Inventory and sales</td>\n    </tr>\n    <tr>\n      <th>13</th>\n      <td>SSAM</td>\n      <td>Median Sale Price (Smooth, All Homes, Monthly)</td>\n      <td>Inventory and sales</td>\n    </tr>\n    <tr>\n      <th>14</th>\n      <td>IRSW</td>\n      <td>For-sale Inventory (Raw, SFR only, Weekly View)</td>\n      <td>Inventory and sales</td>\n    </tr>\n    <tr>\n      <th>15</th>\n      <td>NRAM</td>\n      <td>Median Days to Pending (Raw, All Homes, Monthly)</td>\n      <td>Inventory and sales</td>\n    </tr>\n    <tr>\n      <th>16</th>\n      <td>CRAW</td>\n      <td>Share of Listings With a Price Cut (Raw, All H...</td>\n      <td>Inventory and sales</td>\n    </tr>\n    <tr>\n      <th>17</th>\n      <td>LRSM</td>\n      <td>Median List Price (Raw, SFR Only, Monthly)</td>\n      <td>Inventory and sales</td>\n    </tr>\n    <tr>\n      <th>18</th>\n      <td>SASM</td>\n      <td>Median Sale Price (Smooth &amp; Seasonally Adjuste...</td>\n      <td>Inventory and sales</td>\n    </tr>\n    <tr>\n      <th>19</th>\n      <td>SSSM</td>\n      <td>Median Sale Price (Smooth, SFR only, Monthly)</td>\n      <td>Inventory and sales</td>\n    </tr>\n    <tr>\n      <th>20</th>\n      <td>SAAM</td>\n      <td>Median Sale Price (Smooth &amp; Seasonally Adjuste...</td>\n      <td>Inventory and sales</td>\n    </tr>\n    <tr>\n      <th>21</th>\n      <td>LRAW</td>\n      <td>Median List Price (Raw, All Homes, Weekly View)</td>\n      <td>Inventory and sales</td>\n    </tr>\n    <tr>\n      <th>22</th>\n      <td>CSAM</td>\n      <td>Share of Listings With a Price Cut (Smooth, Al...</td>\n      <td>Inventory and sales</td>\n    </tr>\n    <tr>\n      <th>23</th>\n      <td>SRAW</td>\n      <td>Median Sale Price (Raw, All Homes, Weekly View)</td>\n      <td>Inventory and sales</td>\n    </tr>\n    <tr>\n      <th>24</th>\n      <td>CSSW</td>\n      <td>Share of Listings With a Price Cut (Smooth, SF...</td>\n      <td>Inventory and sales</td>\n    </tr>\n    <tr>\n      <th>25</th>\n      <td>LRSW</td>\n      <td>Median List Price (Raw, SFR Only, Weekly View)</td>\n      <td>Inventory and sales</td>\n    </tr>\n    <tr>\n      <th>26</th>\n      <td>SRSM</td>\n      <td>Median Sale Price (Raw, SFR only, Monthly)</td>\n      <td>Inventory and sales</td>\n    </tr>\n    <tr>\n      <th>27</th>\n      <td>SAAW</td>\n      <td>Median Sale Price (Smooth &amp; Seasonally Adjuste...</td>\n      <td>Inventory and sales</td>\n    </tr>\n    <tr>\n      <th>28</th>\n      <td>LSSW</td>\n      <td>Median List Price (Smooth, SFR Only, Weekly View)</td>\n      <td>Inventory and sales</td>\n    </tr>\n    <tr>\n      <th>29</th>\n      <td>SRAM</td>\n      <td>Median Sale Price (Raw, All Homes, Monthly)</td>\n      <td>Inventory and sales</td>\n    </tr>\n    <tr>\n      <th>30</th>\n      <td>NSAM</td>\n      <td>Median Days to Pending (Smooth, All Homes, Mon...</td>\n      <td>Inventory and sales</td>\n    </tr>\n    <tr>\n      <th>31</th>\n      <td>RSNA</td>\n      <td>ZORI (Smoothed): All Homes Plus Multifamily Ti...</td>\n      <td>Rentals</td>\n    </tr>\n    <tr>\n      <th>32</th>\n      <td>RSSA</td>\n      <td>ZORI (Smoothed, Seasonally Adjusted): All Home...</td>\n      <td>Rentals</td>\n    </tr>\n    <tr>\n      <th>33</th>\n      <td>Z4BR</td>\n      <td>ZHVI 4-Bedroom Time Series ($)</td>\n      <td>Home values</td>\n    </tr>\n    <tr>\n      <th>34</th>\n      <td>ISAW</td>\n      <td>For-Sale Inventory (Smooth, All Homes, Weekly ...</td>\n      <td>Inventory and sales</td>\n    </tr>\n    <tr>\n      <th>35</th>\n      <td>SSAW</td>\n      <td>Median Sale Price (Smooth, All Homes, Weekly V...</td>\n      <td>Inventory and sales</td>\n    </tr>\n    <tr>\n      <th>36</th>\n      <td>IRAM</td>\n      <td>For-Sale Inventory (Raw, All Homes, Monthly)</td>\n      <td>Inventory and sales</td>\n    </tr>\n    <tr>\n      <th>37</th>\n      <td>CRSM</td>\n      <td>Share of Listings With a Price Cut (Raw, SFR O...</td>\n      <td>Inventory and sales</td>\n    </tr>\n    <tr>\n      <th>38</th>\n      <td>CSSM</td>\n      <td>Share of Listings With a Price Cut (Smooth, SF...</td>\n      <td>Inventory and sales</td>\n    </tr>\n    <tr>\n      <th>39</th>\n      <td>MSAM</td>\n      <td>Mean Days to Pending (Smooth, All Homes, Monthly)</td>\n      <td>Inventory and sales</td>\n    </tr>\n    <tr>\n      <th>40</th>\n      <td>IRAW</td>\n      <td>For-Sale Inventory (Raw, All Homes, Weekly View)</td>\n      <td>Inventory and sales</td>\n    </tr>\n    <tr>\n      <th>41</th>\n      <td>MRAM</td>\n      <td>Mean Days to Pending (Raw, All Homes, Monthly)</td>\n      <td>Inventory and sales</td>\n    </tr>\n    <tr>\n      <th>42</th>\n      <td>SSSW</td>\n      <td>Median Sale Price (Smooth, SFR only, Weekly View)</td>\n      <td>Inventory and sales</td>\n    </tr>\n    <tr>\n      <th>43</th>\n      <td>LSSM</td>\n      <td>Median List Price (Smooth, SFR Only, Monthly)</td>\n      <td>Inventory and sales</td>\n    </tr>\n    <tr>\n      <th>44</th>\n      <td>CSAW</td>\n      <td>Share of Listings With a Price Cut (Smooth, Al...</td>\n      <td>Inventory and sales</td>\n    </tr>\n    <tr>\n      <th>45</th>\n      <td>ISSM</td>\n      <td>For-Sale Inventory (Smooth, SFR only, Monthly)</td>\n      <td>Inventory and sales</td>\n    </tr>\n    <tr>\n      <th>46</th>\n      <td>SASW</td>\n      <td>Median Sale Price (Smooth &amp; Seasonally Adjuste...</td>\n      <td>Inventory and sales</td>\n    </tr>\n    <tr>\n      <th>47</th>\n      <td>MRAW</td>\n      <td>Mean Days to Pending (Raw, All Homes, Weekly V...</td>\n      <td>Inventory and sales</td>\n    </tr>\n    <tr>\n      <th>48</th>\n      <td>LRAM</td>\n      <td>Median List Price (Raw, All Homes, Monthly)</td>\n      <td>Inventory and sales</td>\n    </tr>\n    <tr>\n      <th>49</th>\n      <td>ISSW</td>\n      <td>For-Sale Inventory (Smooth, SFR only, Weekly V...</td>\n      <td>Inventory and sales</td>\n    </tr>\n    <tr>\n      <th>50</th>\n      <td>MSAW</td>\n      <td>Mean Days to Pending (Smooth, All Homes, Weekl...</td>\n      <td>Inventory and sales</td>\n    </tr>\n    <tr>\n      <th>51</th>\n      <td>LSAM</td>\n      <td>Median List Price (Smooth, All Homes, Monthly)</td>\n      <td>Inventory and sales</td>\n    </tr>\n    <tr>\n      <th>52</th>\n      <td>CRAM</td>\n      <td>Share of Listings With a Price Cut (Raw, All H...</td>\n      <td>Inventory and sales</td>\n    </tr>\n    <tr>\n      <th>53</th>\n      <td>ISAM</td>\n      <td>For-Sale Inventory (Smooth, All Homes, Monthly)</td>\n      <td>Inventory and sales</td>\n    </tr>\n    <tr>\n      <th>54</th>\n      <td>IRSM</td>\n      <td>For-sale Inventory (Raw, SFR only, Monthly)</td>\n      <td>Inventory and sales</td>\n    </tr>\n    <tr>\n      <th>55</th>\n      <td>SRSW</td>\n      <td>Median Sale Price (Raw, SFR only, Weekly View)</td>\n      <td>Inventory and sales</td>\n    </tr>\n  </tbody>\n</table>\n</div>"
     },
     "metadata": {},
     "execution_count": 28
    }
   ],
   "source": [
    "indicators"
   ]
  },
  {
   "cell_type": "code",
   "execution_count": 29,
   "metadata": {},
   "outputs": [
    {
     "output_type": "execute_result",
     "data": {
      "text/plain": [
       "array(['Home values', 'Inventory and sales', 'Rentals'], dtype=object)"
      ]
     },
     "metadata": {},
     "execution_count": 29
    }
   ],
   "source": [
    "indicators['category'].unique()"
   ]
  },
  {
   "cell_type": "code",
   "execution_count": 30,
   "metadata": {},
   "outputs": [
    {
     "output_type": "execute_result",
     "data": {
      "text/plain": [
       "   indicator_id                                          indicator category\n",
       "31         RSNA  ZORI (Smoothed): All Homes Plus Multifamily Ti...  Rentals\n",
       "32         RSSA  ZORI (Smoothed, Seasonally Adjusted): All Home...  Rentals"
      ],
      "text/html": "<div>\n<style scoped>\n    .dataframe tbody tr th:only-of-type {\n        vertical-align: middle;\n    }\n\n    .dataframe tbody tr th {\n        vertical-align: top;\n    }\n\n    .dataframe thead th {\n        text-align: right;\n    }\n</style>\n<table border=\"1\" class=\"dataframe\">\n  <thead>\n    <tr style=\"text-align: right;\">\n      <th></th>\n      <th>indicator_id</th>\n      <th>indicator</th>\n      <th>category</th>\n    </tr>\n  </thead>\n  <tbody>\n    <tr>\n      <th>31</th>\n      <td>RSNA</td>\n      <td>ZORI (Smoothed): All Homes Plus Multifamily Ti...</td>\n      <td>Rentals</td>\n    </tr>\n    <tr>\n      <th>32</th>\n      <td>RSSA</td>\n      <td>ZORI (Smoothed, Seasonally Adjusted): All Home...</td>\n      <td>Rentals</td>\n    </tr>\n  </tbody>\n</table>\n</div>"
     },
     "metadata": {},
     "execution_count": 30
    }
   ],
   "source": [
    "rentals = indicators[indicators['category'] == 'Rentals']\n",
    "rentals.head()"
   ]
  },
  {
   "cell_type": "code",
   "execution_count": 31,
   "metadata": {},
   "outputs": [
    {
     "output_type": "stream",
     "name": "stdout",
     "text": [
      "RSNA\nRSSA\n"
     ]
    }
   ],
   "source": [
    "for item in rentals['indicator_id']:\n",
    "    print(item)"
   ]
  },
  {
   "cell_type": "code",
   "execution_count": null,
   "metadata": {},
   "outputs": [],
   "source": []
  },
  {
   "source": [
    "## Regions"
   ],
   "cell_type": "markdown",
   "metadata": {}
  },
  {
   "cell_type": "code",
   "execution_count": 32,
   "metadata": {},
   "outputs": [
    {
     "output_type": "execute_result",
     "data": {
      "text/plain": [
       "      region_id region_type                    region\n",
       "1150          3       state                Alaska; AK\n",
       "453           4       state               Alabama; AL\n",
       "515           6       state              Arkansas; AR\n",
       "30            8       state               Arizona; AZ\n",
       "10            9       state            California; CA\n",
       "2555         10       state              Colorado; CO\n",
       "349          11       state           Connecticut; CT\n",
       "1243         12       state  District of Columbia; DC\n",
       "1149         13       state              Delaware; DE\n",
       "11           14       state               Florida; FL\n",
       "2539         16       state               Georgia; GA\n",
       "76           18       state                Hawaii; HI\n",
       "454          19       state                  Iowa; IA\n",
       "75           20       state                 Idaho; ID\n",
       "14           21       state              Illinois; IL\n",
       "2030         22       state               Indiana; IN\n",
       "65           23       state                Kansas; KS\n",
       "5855         24       state              Kentucky; KY\n",
       "52           25       state             Louisiana; LA\n",
       "88           26       state         Massachusetts; MA"
      ],
      "text/html": "<div>\n<style scoped>\n    .dataframe tbody tr th:only-of-type {\n        vertical-align: middle;\n    }\n\n    .dataframe tbody tr th {\n        vertical-align: top;\n    }\n\n    .dataframe thead th {\n        text-align: right;\n    }\n</style>\n<table border=\"1\" class=\"dataframe\">\n  <thead>\n    <tr style=\"text-align: right;\">\n      <th></th>\n      <th>region_id</th>\n      <th>region_type</th>\n      <th>region</th>\n    </tr>\n  </thead>\n  <tbody>\n    <tr>\n      <th>1150</th>\n      <td>3</td>\n      <td>state</td>\n      <td>Alaska; AK</td>\n    </tr>\n    <tr>\n      <th>453</th>\n      <td>4</td>\n      <td>state</td>\n      <td>Alabama; AL</td>\n    </tr>\n    <tr>\n      <th>515</th>\n      <td>6</td>\n      <td>state</td>\n      <td>Arkansas; AR</td>\n    </tr>\n    <tr>\n      <th>30</th>\n      <td>8</td>\n      <td>state</td>\n      <td>Arizona; AZ</td>\n    </tr>\n    <tr>\n      <th>10</th>\n      <td>9</td>\n      <td>state</td>\n      <td>California; CA</td>\n    </tr>\n    <tr>\n      <th>2555</th>\n      <td>10</td>\n      <td>state</td>\n      <td>Colorado; CO</td>\n    </tr>\n    <tr>\n      <th>349</th>\n      <td>11</td>\n      <td>state</td>\n      <td>Connecticut; CT</td>\n    </tr>\n    <tr>\n      <th>1243</th>\n      <td>12</td>\n      <td>state</td>\n      <td>District of Columbia; DC</td>\n    </tr>\n    <tr>\n      <th>1149</th>\n      <td>13</td>\n      <td>state</td>\n      <td>Delaware; DE</td>\n    </tr>\n    <tr>\n      <th>11</th>\n      <td>14</td>\n      <td>state</td>\n      <td>Florida; FL</td>\n    </tr>\n    <tr>\n      <th>2539</th>\n      <td>16</td>\n      <td>state</td>\n      <td>Georgia; GA</td>\n    </tr>\n    <tr>\n      <th>76</th>\n      <td>18</td>\n      <td>state</td>\n      <td>Hawaii; HI</td>\n    </tr>\n    <tr>\n      <th>454</th>\n      <td>19</td>\n      <td>state</td>\n      <td>Iowa; IA</td>\n    </tr>\n    <tr>\n      <th>75</th>\n      <td>20</td>\n      <td>state</td>\n      <td>Idaho; ID</td>\n    </tr>\n    <tr>\n      <th>14</th>\n      <td>21</td>\n      <td>state</td>\n      <td>Illinois; IL</td>\n    </tr>\n    <tr>\n      <th>2030</th>\n      <td>22</td>\n      <td>state</td>\n      <td>Indiana; IN</td>\n    </tr>\n    <tr>\n      <th>65</th>\n      <td>23</td>\n      <td>state</td>\n      <td>Kansas; KS</td>\n    </tr>\n    <tr>\n      <th>5855</th>\n      <td>24</td>\n      <td>state</td>\n      <td>Kentucky; KY</td>\n    </tr>\n    <tr>\n      <th>52</th>\n      <td>25</td>\n      <td>state</td>\n      <td>Louisiana; LA</td>\n    </tr>\n    <tr>\n      <th>88</th>\n      <td>26</td>\n      <td>state</td>\n      <td>Massachusetts; MA</td>\n    </tr>\n  </tbody>\n</table>\n</div>"
     },
     "metadata": {},
     "execution_count": 32
    }
   ],
   "source": [
    "regions = pd.read_csv('V:\\ZILLOW_REGIONS.csv')\n",
    "regions = regions.sort_values(by=['region_id'])\n",
    "regions.head(20)"
   ]
  },
  {
   "cell_type": "code",
   "execution_count": 33,
   "metadata": {},
   "outputs": [
    {
     "output_type": "execute_result",
     "data": {
      "text/plain": [
       "78730"
      ]
     },
     "metadata": {},
     "execution_count": 33
    }
   ],
   "source": [
    "len(regions)"
   ]
  },
  {
   "cell_type": "code",
   "execution_count": 34,
   "metadata": {},
   "outputs": [
    {
     "output_type": "execute_result",
     "data": {
      "text/plain": [
       "array(['state', 'county', 'city', 'neigh', 'zip', 'metro'], dtype=object)"
      ]
     },
     "metadata": {},
     "execution_count": 34
    }
   ],
   "source": [
    "regions['region_type'].unique()"
   ]
  },
  {
   "cell_type": "code",
   "execution_count": 35,
   "metadata": {},
   "outputs": [
    {
     "output_type": "execute_result",
     "data": {
      "text/plain": [
       "78730"
      ]
     },
     "metadata": {},
     "execution_count": 35
    }
   ],
   "source": [
    "len(regions['region_type'] == 'metro')"
   ]
  },
  {
   "cell_type": "code",
   "execution_count": 36,
   "metadata": {},
   "outputs": [
    {
     "output_type": "execute_result",
     "data": {
      "text/plain": [
       "       region_id region_type                 region\n",
       "5176      102001       metro          United States\n",
       "13277     394297       metro       Aberdeen, SD; SD\n",
       "13668     394298       metro       Aberdeen, WA; WA\n",
       "1213      394299       metro        Abilene, TX; TX\n",
       "4449      394300       metro            Ada, OK; OK\n",
       "3469      394302       metro         Adrian, MI; MI\n",
       "1237      394304       metro              Akron, OH\n",
       "5831      394305       metro     Alamogordo, NM; NM\n",
       "2423      394306       metro         Albany, GA; GA\n",
       "2899      394307       metro         Albany, OR; OR\n",
       "595       394308       metro             Albany, NY\n",
       "3822      394309       metro      Albemarle, NC; NC\n",
       "4733      394310       metro     Albert Lea, MN; MN\n",
       "4193      394311       metro    Albertville, AL; AL\n",
       "571       394312       metro        Albuquerque, NM\n",
       "6304      394314       metro     Alexandria, LA; LA\n",
       "7409      394315       metro     Alexandria, MN; MN\n",
       "15618     394316       metro          Alice, TX; TX\n",
       "27753     394318       metro          Allentown, PA\n",
       "6538      394319       metro           Alma, MI; MI\n",
       "4739      394320       metro         Alpena, MI; MI\n",
       "2619      394321       metro        Altoona, PA; PA\n",
       "8366      394322       metro          Altus, OK; OK\n",
       "1917      394323       metro       Amarillo, TX; TX\n",
       "17871     394324       metro       Americus, GA; GA\n",
       "8132      394325       metro           Ames, IA; IA\n",
       "9409      394326       metro      Amsterdam, NY; NY\n",
       "1124      394327       metro      Anchorage, AK; AK\n",
       "26329     394330       metro        Andrews, TX; TX\n",
       "7742      394331       metro         Angola, IN; IN\n",
       "1619      394332       metro      Ann Arbor, MI; MI\n",
       "2839      394333       metro       Anniston, AL; AL\n",
       "584       394334       metro       Appleton, WI; WI\n",
       "7490      394335       metro        Arcadia, FL; FL\n",
       "31251     394336       metro        Ardmore, OK; OK\n",
       "4886      394337       metro    Arkadelphia, AR; AR\n",
       "581       394338       metro      Asheville, NC; NC\n",
       "30241     394339       metro        Ashland, OH; OH\n",
       "3243      394340       metro      Ashtabula, OH; OH\n",
       "7201      394341       metro        Astoria, OR; OR\n",
       "10888     394342       metro       Atchison, KS; KS\n",
       "5810      394343       metro         Athens, OH; OH\n",
       "30464     394344       metro         Athens, TN; TN\n",
       "11524     394345       metro         Athens, TX; TX\n",
       "1199      394346       metro         Athens, GA; GA\n",
       "99        394347       metro            Atlanta, GA\n",
       "1875      394348       metro  Atlantic City, NJ; NJ\n",
       "13911     394349       metro         Auburn, IN; IN\n",
       "3482      394350       metro         Auburn, NY; NY\n",
       "2278      394351       metro         Auburn, AL; AL"
      ],
      "text/html": "<div>\n<style scoped>\n    .dataframe tbody tr th:only-of-type {\n        vertical-align: middle;\n    }\n\n    .dataframe tbody tr th {\n        vertical-align: top;\n    }\n\n    .dataframe thead th {\n        text-align: right;\n    }\n</style>\n<table border=\"1\" class=\"dataframe\">\n  <thead>\n    <tr style=\"text-align: right;\">\n      <th></th>\n      <th>region_id</th>\n      <th>region_type</th>\n      <th>region</th>\n    </tr>\n  </thead>\n  <tbody>\n    <tr>\n      <th>5176</th>\n      <td>102001</td>\n      <td>metro</td>\n      <td>United States</td>\n    </tr>\n    <tr>\n      <th>13277</th>\n      <td>394297</td>\n      <td>metro</td>\n      <td>Aberdeen, SD; SD</td>\n    </tr>\n    <tr>\n      <th>13668</th>\n      <td>394298</td>\n      <td>metro</td>\n      <td>Aberdeen, WA; WA</td>\n    </tr>\n    <tr>\n      <th>1213</th>\n      <td>394299</td>\n      <td>metro</td>\n      <td>Abilene, TX; TX</td>\n    </tr>\n    <tr>\n      <th>4449</th>\n      <td>394300</td>\n      <td>metro</td>\n      <td>Ada, OK; OK</td>\n    </tr>\n    <tr>\n      <th>3469</th>\n      <td>394302</td>\n      <td>metro</td>\n      <td>Adrian, MI; MI</td>\n    </tr>\n    <tr>\n      <th>1237</th>\n      <td>394304</td>\n      <td>metro</td>\n      <td>Akron, OH</td>\n    </tr>\n    <tr>\n      <th>5831</th>\n      <td>394305</td>\n      <td>metro</td>\n      <td>Alamogordo, NM; NM</td>\n    </tr>\n    <tr>\n      <th>2423</th>\n      <td>394306</td>\n      <td>metro</td>\n      <td>Albany, GA; GA</td>\n    </tr>\n    <tr>\n      <th>2899</th>\n      <td>394307</td>\n      <td>metro</td>\n      <td>Albany, OR; OR</td>\n    </tr>\n    <tr>\n      <th>595</th>\n      <td>394308</td>\n      <td>metro</td>\n      <td>Albany, NY</td>\n    </tr>\n    <tr>\n      <th>3822</th>\n      <td>394309</td>\n      <td>metro</td>\n      <td>Albemarle, NC; NC</td>\n    </tr>\n    <tr>\n      <th>4733</th>\n      <td>394310</td>\n      <td>metro</td>\n      <td>Albert Lea, MN; MN</td>\n    </tr>\n    <tr>\n      <th>4193</th>\n      <td>394311</td>\n      <td>metro</td>\n      <td>Albertville, AL; AL</td>\n    </tr>\n    <tr>\n      <th>571</th>\n      <td>394312</td>\n      <td>metro</td>\n      <td>Albuquerque, NM</td>\n    </tr>\n    <tr>\n      <th>6304</th>\n      <td>394314</td>\n      <td>metro</td>\n      <td>Alexandria, LA; LA</td>\n    </tr>\n    <tr>\n      <th>7409</th>\n      <td>394315</td>\n      <td>metro</td>\n      <td>Alexandria, MN; MN</td>\n    </tr>\n    <tr>\n      <th>15618</th>\n      <td>394316</td>\n      <td>metro</td>\n      <td>Alice, TX; TX</td>\n    </tr>\n    <tr>\n      <th>27753</th>\n      <td>394318</td>\n      <td>metro</td>\n      <td>Allentown, PA</td>\n    </tr>\n    <tr>\n      <th>6538</th>\n      <td>394319</td>\n      <td>metro</td>\n      <td>Alma, MI; MI</td>\n    </tr>\n    <tr>\n      <th>4739</th>\n      <td>394320</td>\n      <td>metro</td>\n      <td>Alpena, MI; MI</td>\n    </tr>\n    <tr>\n      <th>2619</th>\n      <td>394321</td>\n      <td>metro</td>\n      <td>Altoona, PA; PA</td>\n    </tr>\n    <tr>\n      <th>8366</th>\n      <td>394322</td>\n      <td>metro</td>\n      <td>Altus, OK; OK</td>\n    </tr>\n    <tr>\n      <th>1917</th>\n      <td>394323</td>\n      <td>metro</td>\n      <td>Amarillo, TX; TX</td>\n    </tr>\n    <tr>\n      <th>17871</th>\n      <td>394324</td>\n      <td>metro</td>\n      <td>Americus, GA; GA</td>\n    </tr>\n    <tr>\n      <th>8132</th>\n      <td>394325</td>\n      <td>metro</td>\n      <td>Ames, IA; IA</td>\n    </tr>\n    <tr>\n      <th>9409</th>\n      <td>394326</td>\n      <td>metro</td>\n      <td>Amsterdam, NY; NY</td>\n    </tr>\n    <tr>\n      <th>1124</th>\n      <td>394327</td>\n      <td>metro</td>\n      <td>Anchorage, AK; AK</td>\n    </tr>\n    <tr>\n      <th>26329</th>\n      <td>394330</td>\n      <td>metro</td>\n      <td>Andrews, TX; TX</td>\n    </tr>\n    <tr>\n      <th>7742</th>\n      <td>394331</td>\n      <td>metro</td>\n      <td>Angola, IN; IN</td>\n    </tr>\n    <tr>\n      <th>1619</th>\n      <td>394332</td>\n      <td>metro</td>\n      <td>Ann Arbor, MI; MI</td>\n    </tr>\n    <tr>\n      <th>2839</th>\n      <td>394333</td>\n      <td>metro</td>\n      <td>Anniston, AL; AL</td>\n    </tr>\n    <tr>\n      <th>584</th>\n      <td>394334</td>\n      <td>metro</td>\n      <td>Appleton, WI; WI</td>\n    </tr>\n    <tr>\n      <th>7490</th>\n      <td>394335</td>\n      <td>metro</td>\n      <td>Arcadia, FL; FL</td>\n    </tr>\n    <tr>\n      <th>31251</th>\n      <td>394336</td>\n      <td>metro</td>\n      <td>Ardmore, OK; OK</td>\n    </tr>\n    <tr>\n      <th>4886</th>\n      <td>394337</td>\n      <td>metro</td>\n      <td>Arkadelphia, AR; AR</td>\n    </tr>\n    <tr>\n      <th>581</th>\n      <td>394338</td>\n      <td>metro</td>\n      <td>Asheville, NC; NC</td>\n    </tr>\n    <tr>\n      <th>30241</th>\n      <td>394339</td>\n      <td>metro</td>\n      <td>Ashland, OH; OH</td>\n    </tr>\n    <tr>\n      <th>3243</th>\n      <td>394340</td>\n      <td>metro</td>\n      <td>Ashtabula, OH; OH</td>\n    </tr>\n    <tr>\n      <th>7201</th>\n      <td>394341</td>\n      <td>metro</td>\n      <td>Astoria, OR; OR</td>\n    </tr>\n    <tr>\n      <th>10888</th>\n      <td>394342</td>\n      <td>metro</td>\n      <td>Atchison, KS; KS</td>\n    </tr>\n    <tr>\n      <th>5810</th>\n      <td>394343</td>\n      <td>metro</td>\n      <td>Athens, OH; OH</td>\n    </tr>\n    <tr>\n      <th>30464</th>\n      <td>394344</td>\n      <td>metro</td>\n      <td>Athens, TN; TN</td>\n    </tr>\n    <tr>\n      <th>11524</th>\n      <td>394345</td>\n      <td>metro</td>\n      <td>Athens, TX; TX</td>\n    </tr>\n    <tr>\n      <th>1199</th>\n      <td>394346</td>\n      <td>metro</td>\n      <td>Athens, GA; GA</td>\n    </tr>\n    <tr>\n      <th>99</th>\n      <td>394347</td>\n      <td>metro</td>\n      <td>Atlanta, GA</td>\n    </tr>\n    <tr>\n      <th>1875</th>\n      <td>394348</td>\n      <td>metro</td>\n      <td>Atlantic City, NJ; NJ</td>\n    </tr>\n    <tr>\n      <th>13911</th>\n      <td>394349</td>\n      <td>metro</td>\n      <td>Auburn, IN; IN</td>\n    </tr>\n    <tr>\n      <th>3482</th>\n      <td>394350</td>\n      <td>metro</td>\n      <td>Auburn, NY; NY</td>\n    </tr>\n    <tr>\n      <th>2278</th>\n      <td>394351</td>\n      <td>metro</td>\n      <td>Auburn, AL; AL</td>\n    </tr>\n  </tbody>\n</table>\n</div>"
     },
     "metadata": {},
     "execution_count": 36
    }
   ],
   "source": [
    "metro = regions[regions['region_type'] == 'metro']\n",
    "metro[:50]"
   ]
  },
  {
   "cell_type": "code",
   "execution_count": null,
   "metadata": {},
   "outputs": [],
   "source": []
  },
  {
   "source": [
    "# Data.World Population Data Set"
   ],
   "cell_type": "markdown",
   "metadata": {}
  },
  {
   "cell_type": "code",
   "execution_count": 37,
   "metadata": {},
   "outputs": [
    {
     "output_type": "execute_result",
     "data": {
      "text/plain": [
       "     State            City  Population\n",
       "0  Alabama        Abernant        7599\n",
       "1  Alabama       Alabaster       31545\n",
       "2  Alabama     Albertville       21458\n",
       "3  Alabama  Alexander City       14849\n",
       "4  Alabama       Andalusia        9081"
      ],
      "text/html": "<div>\n<style scoped>\n    .dataframe tbody tr th:only-of-type {\n        vertical-align: middle;\n    }\n\n    .dataframe tbody tr th {\n        vertical-align: top;\n    }\n\n    .dataframe thead th {\n        text-align: right;\n    }\n</style>\n<table border=\"1\" class=\"dataframe\">\n  <thead>\n    <tr style=\"text-align: right;\">\n      <th></th>\n      <th>State</th>\n      <th>City</th>\n      <th>Population</th>\n    </tr>\n  </thead>\n  <tbody>\n    <tr>\n      <th>0</th>\n      <td>Alabama</td>\n      <td>Abernant</td>\n      <td>7599</td>\n    </tr>\n    <tr>\n      <th>1</th>\n      <td>Alabama</td>\n      <td>Alabaster</td>\n      <td>31545</td>\n    </tr>\n    <tr>\n      <th>2</th>\n      <td>Alabama</td>\n      <td>Albertville</td>\n      <td>21458</td>\n    </tr>\n    <tr>\n      <th>3</th>\n      <td>Alabama</td>\n      <td>Alexander City</td>\n      <td>14849</td>\n    </tr>\n    <tr>\n      <th>4</th>\n      <td>Alabama</td>\n      <td>Andalusia</td>\n      <td>9081</td>\n    </tr>\n  </tbody>\n</table>\n</div>"
     },
     "metadata": {},
     "execution_count": 37
    }
   ],
   "source": [
    "population = pd.read_excel('https://query.data.world/s/gewikohoj4s2gqv4bowlzpdxeu4jzl', usecols=['State', 'City', 'Population'])\n",
    "population.head()"
   ]
  },
  {
   "cell_type": "code",
   "execution_count": 38,
   "metadata": {},
   "outputs": [
    {
     "output_type": "execute_result",
     "data": {
      "text/plain": [
       "6889"
      ]
     },
     "metadata": {},
     "execution_count": 38
    }
   ],
   "source": [
    "len(population)"
   ]
  },
  {
   "cell_type": "code",
   "execution_count": 39,
   "metadata": {},
   "outputs": [
    {
     "output_type": "execute_result",
     "data": {
      "text/plain": [
       "0             Abernant\n",
       "1            Alabaster\n",
       "2          Albertville\n",
       "3       Alexander City\n",
       "4            Andalusia\n",
       "             ...      \n",
       "6884            Lander\n",
       "6885        Torrington\n",
       "6886           Douglas\n",
       "6887            Powell\n",
       "6888    Bridger Valley\n",
       "Name: City, Length: 6889, dtype: object"
      ]
     },
     "metadata": {},
     "execution_count": 39
    }
   ],
   "source": [
    "population['City']"
   ]
  },
  {
   "cell_type": "code",
   "execution_count": 40,
   "metadata": {},
   "outputs": [
    {
     "output_type": "execute_result",
     "data": {
      "text/plain": [
       "500"
      ]
     },
     "metadata": {},
     "execution_count": 40
    }
   ],
   "source": [
    "cities = population[population['Population'] > 80000]\n",
    "len(cities)"
   ]
  },
  {
   "cell_type": "code",
   "execution_count": 41,
   "metadata": {},
   "outputs": [
    {
     "output_type": "execute_result",
     "data": {
      "text/plain": [
       "47"
      ]
     },
     "metadata": {},
     "execution_count": 41
    }
   ],
   "source": [
    "len(cities['State'].unique())"
   ]
  },
  {
   "cell_type": "code",
   "execution_count": 42,
   "metadata": {},
   "outputs": [
    {
     "output_type": "execute_result",
     "data": {
      "text/plain": [
       "array(['Alabama', 'Alaska', 'Arkansas', 'Arizona', 'California',\n",
       "       'Colorado', 'Connecticut', 'Delaware', 'DC', 'Florida', 'Georgia',\n",
       "       'Hawaii', 'Idaho', 'Illinois', 'Indiana', 'Iowa', 'Kansas',\n",
       "       'Kentucky', 'Louisiana', 'Maryland', 'Massachusetts', 'Michigan',\n",
       "       'Minnesota', 'Mississippi', 'Missouri', 'Montana', 'Nebraska',\n",
       "       'Nevada', 'New Hampshire', 'New Jersey', 'New Mexico', 'New York',\n",
       "       'North Carolina', 'North Dakota', 'Ohio', 'Oklahoma', 'Oregon',\n",
       "       'Pennsylvania', 'Rhode Island', 'South Carolina', 'South Dakota',\n",
       "       'Tennessee', 'Texas', 'Utah', 'Virginia', 'Washington',\n",
       "       'Wisconsin'], dtype=object)"
      ]
     },
     "metadata": {},
     "execution_count": 42
    }
   ],
   "source": [
    "cities['State'].unique()"
   ]
  },
  {
   "cell_type": "code",
   "execution_count": 43,
   "metadata": {},
   "outputs": [],
   "source": [
    "states = ['Alabama', 'Alaska', 'Arizona', 'Arkansas', 'California', 'Colorado', \n",
    "'Connecticut', 'Delaware', 'Florida', 'Georgia', 'Hawaii', 'Idaho', \n",
    "'Illinois', 'Indiana', 'Iowa', 'Kansas', 'Kentucky', 'Louisiana', 'Maine', \n",
    "'Maryland', 'Massachusetts', 'Michigan', 'Minnesota', 'Mississippi', \n",
    "'Missouri', 'Montana', 'Nebraska', 'Nevada', 'New Hampshire','New Jersey', \n",
    "'New Mexico', 'New York', 'North Carolina', 'North Dakota', 'Ohio', \n",
    "'Oklahoma', 'Oregon', 'Pennsylvania', 'Rhode Island', 'South Carolina', \n",
    "'South Dakota', 'Tennessee', 'Texas', 'Utah', 'Vermont', 'Virginia', 'Washington', \n",
    "'West Virginia', 'Wisconsin', 'Wyoming']"
   ]
  },
  {
   "cell_type": "code",
   "execution_count": 44,
   "metadata": {},
   "outputs": [
    {
     "output_type": "stream",
     "name": "stdout",
     "text": [
      "['Maine', 'Vermont', 'West Virginia', 'Wyoming']\n"
     ]
    }
   ],
   "source": [
    "missing = []\n",
    "\n",
    "for state in states:\n",
    "    if state not in list(cities['State'].unique()):\n",
    "        missing.append(state)\n",
    "\n",
    "print(missing)"
   ]
  },
  {
   "source": [
    "# Aggregating Data"
   ],
   "cell_type": "markdown",
   "metadata": {}
  },
  {
   "cell_type": "code",
   "execution_count": 45,
   "metadata": {},
   "outputs": [
    {
     "output_type": "execute_result",
     "data": {
      "text/plain": [
       "True"
      ]
     },
     "metadata": {},
     "execution_count": 45
    }
   ],
   "source": [
    "# Checking if data has all the same sections\n",
    "sorted(data['indicator_id'].unique()) == sorted(indicators['indicator_id'].unique())"
   ]
  },
  {
   "cell_type": "code",
   "execution_count": 46,
   "metadata": {},
   "outputs": [
    {
     "output_type": "stream",
     "name": "stdout",
     "text": [
      "(535891, 4)\n"
     ]
    },
    {
     "output_type": "execute_result",
     "data": {
      "text/plain": [
       "        indicator_id  region_id        date   value\n",
       "7851413         RSNA      58362  2020-09-30  1321.0\n",
       "8747089         RSNA      58362  2020-05-31  1243.0\n",
       "8747088         RSNA      58362  2020-06-30  1220.0\n",
       "8747082         RSNA      58362  2020-07-31  1351.0\n",
       "8753596         RSSA      58362  2020-07-31  1296.0"
      ],
      "text/html": "<div>\n<style scoped>\n    .dataframe tbody tr th:only-of-type {\n        vertical-align: middle;\n    }\n\n    .dataframe tbody tr th {\n        vertical-align: top;\n    }\n\n    .dataframe thead th {\n        text-align: right;\n    }\n</style>\n<table border=\"1\" class=\"dataframe\">\n  <thead>\n    <tr style=\"text-align: right;\">\n      <th></th>\n      <th>indicator_id</th>\n      <th>region_id</th>\n      <th>date</th>\n      <th>value</th>\n    </tr>\n  </thead>\n  <tbody>\n    <tr>\n      <th>7851413</th>\n      <td>RSNA</td>\n      <td>58362</td>\n      <td>2020-09-30</td>\n      <td>1321.0</td>\n    </tr>\n    <tr>\n      <th>8747089</th>\n      <td>RSNA</td>\n      <td>58362</td>\n      <td>2020-05-31</td>\n      <td>1243.0</td>\n    </tr>\n    <tr>\n      <th>8747088</th>\n      <td>RSNA</td>\n      <td>58362</td>\n      <td>2020-06-30</td>\n      <td>1220.0</td>\n    </tr>\n    <tr>\n      <th>8747082</th>\n      <td>RSNA</td>\n      <td>58362</td>\n      <td>2020-07-31</td>\n      <td>1351.0</td>\n    </tr>\n    <tr>\n      <th>8753596</th>\n      <td>RSSA</td>\n      <td>58362</td>\n      <td>2020-07-31</td>\n      <td>1296.0</td>\n    </tr>\n  </tbody>\n</table>\n</div>"
     },
     "metadata": {},
     "execution_count": 46
    }
   ],
   "source": [
    "rental_data = rental_data.sort_values(by=['region_id'])\n",
    "rental_data = rental_data[rental_data['indicator_id'].isin(['RSSA', 'RSNA'])]\n",
    "print(rental_data.shape)\n",
    "rental_data.head()"
   ]
  },
  {
   "cell_type": "code",
   "execution_count": 93,
   "metadata": {},
   "outputs": [
    {
     "output_type": "execute_result",
     "data": {
      "text/plain": [
       "         indicator_id  region_id        date   value\n",
       "7851413          RSNA      58362  2020-09-30  1321.0\n",
       "8753679          RSSA      58362  2020-06-30  1251.0\n",
       "8747088          RSNA      58362  2020-06-30  1220.0\n",
       "8747082          RSNA      58362  2020-07-31  1351.0\n",
       "8747089          RSNA      58362  2020-05-31  1243.0\n",
       "...               ...        ...         ...     ...\n",
       "51008783         RSSA     753924  2019-10-31  2105.0\n",
       "1610766          RSSA     753924  2020-04-30  2093.0\n",
       "51008768         RSSA     753924  2018-07-31  2057.0\n",
       "51008757         RSSA     753924  2017-08-31  2029.0\n",
       "51008753         RSSA     753924  2017-04-30  2023.0\n",
       "\n",
       "[535891 rows x 4 columns]"
      ],
      "text/html": "<div>\n<style scoped>\n    .dataframe tbody tr th:only-of-type {\n        vertical-align: middle;\n    }\n\n    .dataframe tbody tr th {\n        vertical-align: top;\n    }\n\n    .dataframe thead th {\n        text-align: right;\n    }\n</style>\n<table border=\"1\" class=\"dataframe\">\n  <thead>\n    <tr style=\"text-align: right;\">\n      <th></th>\n      <th>indicator_id</th>\n      <th>region_id</th>\n      <th>date</th>\n      <th>value</th>\n    </tr>\n  </thead>\n  <tbody>\n    <tr>\n      <th>7851413</th>\n      <td>RSNA</td>\n      <td>58362</td>\n      <td>2020-09-30</td>\n      <td>1321.0</td>\n    </tr>\n    <tr>\n      <th>8753679</th>\n      <td>RSSA</td>\n      <td>58362</td>\n      <td>2020-06-30</td>\n      <td>1251.0</td>\n    </tr>\n    <tr>\n      <th>8747088</th>\n      <td>RSNA</td>\n      <td>58362</td>\n      <td>2020-06-30</td>\n      <td>1220.0</td>\n    </tr>\n    <tr>\n      <th>8747082</th>\n      <td>RSNA</td>\n      <td>58362</td>\n      <td>2020-07-31</td>\n      <td>1351.0</td>\n    </tr>\n    <tr>\n      <th>8747089</th>\n      <td>RSNA</td>\n      <td>58362</td>\n      <td>2020-05-31</td>\n      <td>1243.0</td>\n    </tr>\n    <tr>\n      <th>...</th>\n      <td>...</td>\n      <td>...</td>\n      <td>...</td>\n      <td>...</td>\n    </tr>\n    <tr>\n      <th>51008783</th>\n      <td>RSSA</td>\n      <td>753924</td>\n      <td>2019-10-31</td>\n      <td>2105.0</td>\n    </tr>\n    <tr>\n      <th>1610766</th>\n      <td>RSSA</td>\n      <td>753924</td>\n      <td>2020-04-30</td>\n      <td>2093.0</td>\n    </tr>\n    <tr>\n      <th>51008768</th>\n      <td>RSSA</td>\n      <td>753924</td>\n      <td>2018-07-31</td>\n      <td>2057.0</td>\n    </tr>\n    <tr>\n      <th>51008757</th>\n      <td>RSSA</td>\n      <td>753924</td>\n      <td>2017-08-31</td>\n      <td>2029.0</td>\n    </tr>\n    <tr>\n      <th>51008753</th>\n      <td>RSSA</td>\n      <td>753924</td>\n      <td>2017-04-30</td>\n      <td>2023.0</td>\n    </tr>\n  </tbody>\n</table>\n<p>535891 rows × 4 columns</p>\n</div>"
     },
     "metadata": {},
     "execution_count": 93
    }
   ],
   "source": []
  },
  {
   "cell_type": "code",
   "execution_count": 47,
   "metadata": {},
   "outputs": [
    {
     "output_type": "execute_result",
     "data": {
      "text/plain": [
       "  indicator_id  region_id        date   value region_type  \\\n",
       "0         RSNA      58362  2020-09-30  1321.0         zip   \n",
       "1         RSNA      58362  2020-05-31  1243.0         zip   \n",
       "2         RSNA      58362  2020-06-30  1220.0         zip   \n",
       "3         RSNA      58362  2020-07-31  1351.0         zip   \n",
       "4         RSSA      58362  2020-07-31  1296.0         zip   \n",
       "\n",
       "                                              region  \n",
       "0  01432; MA; Boston-Cambridge-Newton; Middlesex ...  \n",
       "1  01432; MA; Boston-Cambridge-Newton; Middlesex ...  \n",
       "2  01432; MA; Boston-Cambridge-Newton; Middlesex ...  \n",
       "3  01432; MA; Boston-Cambridge-Newton; Middlesex ...  \n",
       "4  01432; MA; Boston-Cambridge-Newton; Middlesex ...  "
      ],
      "text/html": "<div>\n<style scoped>\n    .dataframe tbody tr th:only-of-type {\n        vertical-align: middle;\n    }\n\n    .dataframe tbody tr th {\n        vertical-align: top;\n    }\n\n    .dataframe thead th {\n        text-align: right;\n    }\n</style>\n<table border=\"1\" class=\"dataframe\">\n  <thead>\n    <tr style=\"text-align: right;\">\n      <th></th>\n      <th>indicator_id</th>\n      <th>region_id</th>\n      <th>date</th>\n      <th>value</th>\n      <th>region_type</th>\n      <th>region</th>\n    </tr>\n  </thead>\n  <tbody>\n    <tr>\n      <th>0</th>\n      <td>RSNA</td>\n      <td>58362</td>\n      <td>2020-09-30</td>\n      <td>1321.0</td>\n      <td>zip</td>\n      <td>01432; MA; Boston-Cambridge-Newton; Middlesex ...</td>\n    </tr>\n    <tr>\n      <th>1</th>\n      <td>RSNA</td>\n      <td>58362</td>\n      <td>2020-05-31</td>\n      <td>1243.0</td>\n      <td>zip</td>\n      <td>01432; MA; Boston-Cambridge-Newton; Middlesex ...</td>\n    </tr>\n    <tr>\n      <th>2</th>\n      <td>RSNA</td>\n      <td>58362</td>\n      <td>2020-06-30</td>\n      <td>1220.0</td>\n      <td>zip</td>\n      <td>01432; MA; Boston-Cambridge-Newton; Middlesex ...</td>\n    </tr>\n    <tr>\n      <th>3</th>\n      <td>RSNA</td>\n      <td>58362</td>\n      <td>2020-07-31</td>\n      <td>1351.0</td>\n      <td>zip</td>\n      <td>01432; MA; Boston-Cambridge-Newton; Middlesex ...</td>\n    </tr>\n    <tr>\n      <th>4</th>\n      <td>RSSA</td>\n      <td>58362</td>\n      <td>2020-07-31</td>\n      <td>1296.0</td>\n      <td>zip</td>\n      <td>01432; MA; Boston-Cambridge-Newton; Middlesex ...</td>\n    </tr>\n  </tbody>\n</table>\n</div>"
     },
     "metadata": {},
     "execution_count": 47
    }
   ],
   "source": [
    "rent_per_region = pd.merge(rental_data, regions, on='region_id')\n",
    "rent_per_region.head()"
   ]
  },
  {
   "cell_type": "code",
   "execution_count": 48,
   "metadata": {},
   "outputs": [
    {
     "output_type": "execute_result",
     "data": {
      "text/plain": [
       "4031"
      ]
     },
     "metadata": {},
     "execution_count": 48
    }
   ],
   "source": [
    "len(rent_per_region['region'].unique())"
   ]
  },
  {
   "cell_type": "code",
   "execution_count": 49,
   "metadata": {},
   "outputs": [],
   "source": [
    "rent_per_region[[\n",
    "    'zip', 'state', 'city', 'county', 'neighborhood'\n",
    "    ]] = rent_per_region['region'].str.split(';', expand=True)"
   ]
  },
  {
   "cell_type": "code",
   "execution_count": 50,
   "metadata": {},
   "outputs": [
    {
     "output_type": "execute_result",
     "data": {
      "text/plain": [
       "       indicator_id  region_id        date   value region_type  \\\n",
       "535890         RSSA     753924  2017-04-30  2023.0       metro   \n",
       "535889         RSSA     753924  2019-12-31  2107.0       metro   \n",
       "535888         RSSA     753924  2020-03-31  2092.0       metro   \n",
       "535887         RSSA     753924  2020-04-30  2093.0       metro   \n",
       "535886         RSSA     753924  2019-10-31  2105.0       metro   \n",
       "535885         RSSA     753924  2019-09-30  2102.0       metro   \n",
       "535884         RSSA     753924  2019-08-31  2100.0       metro   \n",
       "535883         RSSA     753924  2019-07-31  2098.0       metro   \n",
       "535882         RSSA     753924  2019-06-30  2095.0       metro   \n",
       "535881         RSSA     753924  2019-05-31  2092.0       metro   \n",
       "535880         RSSA     753924  2020-05-31  2094.0       metro   \n",
       "535879         RSSA     753924  2019-04-30  2088.0       metro   \n",
       "535878         RSSA     753924  2019-03-31  2085.0       metro   \n",
       "535877         RSSA     753924  2019-02-28  2082.0       metro   \n",
       "535876         RSSA     753924  2019-01-31  2079.0       metro   \n",
       "535875         RSSA     753924  2018-12-31  2075.0       metro   \n",
       "535874         RSSA     753924  2018-11-30  2072.0       metro   \n",
       "535873         RSSA     753924  2018-10-31  2068.0       metro   \n",
       "535872         RSSA     753924  2018-09-30  2065.0       metro   \n",
       "535871         RSNA     753924  2019-04-30  2139.0       metro   \n",
       "\n",
       "                    region                 zip state  city county neighborhood  \n",
       "535890  Urban Honolulu, HI  Urban Honolulu, HI  None  None   None         None  \n",
       "535889  Urban Honolulu, HI  Urban Honolulu, HI  None  None   None         None  \n",
       "535888  Urban Honolulu, HI  Urban Honolulu, HI  None  None   None         None  \n",
       "535887  Urban Honolulu, HI  Urban Honolulu, HI  None  None   None         None  \n",
       "535886  Urban Honolulu, HI  Urban Honolulu, HI  None  None   None         None  \n",
       "535885  Urban Honolulu, HI  Urban Honolulu, HI  None  None   None         None  \n",
       "535884  Urban Honolulu, HI  Urban Honolulu, HI  None  None   None         None  \n",
       "535883  Urban Honolulu, HI  Urban Honolulu, HI  None  None   None         None  \n",
       "535882  Urban Honolulu, HI  Urban Honolulu, HI  None  None   None         None  \n",
       "535881  Urban Honolulu, HI  Urban Honolulu, HI  None  None   None         None  \n",
       "535880  Urban Honolulu, HI  Urban Honolulu, HI  None  None   None         None  \n",
       "535879  Urban Honolulu, HI  Urban Honolulu, HI  None  None   None         None  \n",
       "535878  Urban Honolulu, HI  Urban Honolulu, HI  None  None   None         None  \n",
       "535877  Urban Honolulu, HI  Urban Honolulu, HI  None  None   None         None  \n",
       "535876  Urban Honolulu, HI  Urban Honolulu, HI  None  None   None         None  \n",
       "535875  Urban Honolulu, HI  Urban Honolulu, HI  None  None   None         None  \n",
       "535874  Urban Honolulu, HI  Urban Honolulu, HI  None  None   None         None  \n",
       "535873  Urban Honolulu, HI  Urban Honolulu, HI  None  None   None         None  \n",
       "535872  Urban Honolulu, HI  Urban Honolulu, HI  None  None   None         None  \n",
       "535871  Urban Honolulu, HI  Urban Honolulu, HI  None  None   None         None  "
      ],
      "text/html": "<div>\n<style scoped>\n    .dataframe tbody tr th:only-of-type {\n        vertical-align: middle;\n    }\n\n    .dataframe tbody tr th {\n        vertical-align: top;\n    }\n\n    .dataframe thead th {\n        text-align: right;\n    }\n</style>\n<table border=\"1\" class=\"dataframe\">\n  <thead>\n    <tr style=\"text-align: right;\">\n      <th></th>\n      <th>indicator_id</th>\n      <th>region_id</th>\n      <th>date</th>\n      <th>value</th>\n      <th>region_type</th>\n      <th>region</th>\n      <th>zip</th>\n      <th>state</th>\n      <th>city</th>\n      <th>county</th>\n      <th>neighborhood</th>\n    </tr>\n  </thead>\n  <tbody>\n    <tr>\n      <th>535890</th>\n      <td>RSSA</td>\n      <td>753924</td>\n      <td>2017-04-30</td>\n      <td>2023.0</td>\n      <td>metro</td>\n      <td>Urban Honolulu, HI</td>\n      <td>Urban Honolulu, HI</td>\n      <td>None</td>\n      <td>None</td>\n      <td>None</td>\n      <td>None</td>\n    </tr>\n    <tr>\n      <th>535889</th>\n      <td>RSSA</td>\n      <td>753924</td>\n      <td>2019-12-31</td>\n      <td>2107.0</td>\n      <td>metro</td>\n      <td>Urban Honolulu, HI</td>\n      <td>Urban Honolulu, HI</td>\n      <td>None</td>\n      <td>None</td>\n      <td>None</td>\n      <td>None</td>\n    </tr>\n    <tr>\n      <th>535888</th>\n      <td>RSSA</td>\n      <td>753924</td>\n      <td>2020-03-31</td>\n      <td>2092.0</td>\n      <td>metro</td>\n      <td>Urban Honolulu, HI</td>\n      <td>Urban Honolulu, HI</td>\n      <td>None</td>\n      <td>None</td>\n      <td>None</td>\n      <td>None</td>\n    </tr>\n    <tr>\n      <th>535887</th>\n      <td>RSSA</td>\n      <td>753924</td>\n      <td>2020-04-30</td>\n      <td>2093.0</td>\n      <td>metro</td>\n      <td>Urban Honolulu, HI</td>\n      <td>Urban Honolulu, HI</td>\n      <td>None</td>\n      <td>None</td>\n      <td>None</td>\n      <td>None</td>\n    </tr>\n    <tr>\n      <th>535886</th>\n      <td>RSSA</td>\n      <td>753924</td>\n      <td>2019-10-31</td>\n      <td>2105.0</td>\n      <td>metro</td>\n      <td>Urban Honolulu, HI</td>\n      <td>Urban Honolulu, HI</td>\n      <td>None</td>\n      <td>None</td>\n      <td>None</td>\n      <td>None</td>\n    </tr>\n    <tr>\n      <th>535885</th>\n      <td>RSSA</td>\n      <td>753924</td>\n      <td>2019-09-30</td>\n      <td>2102.0</td>\n      <td>metro</td>\n      <td>Urban Honolulu, HI</td>\n      <td>Urban Honolulu, HI</td>\n      <td>None</td>\n      <td>None</td>\n      <td>None</td>\n      <td>None</td>\n    </tr>\n    <tr>\n      <th>535884</th>\n      <td>RSSA</td>\n      <td>753924</td>\n      <td>2019-08-31</td>\n      <td>2100.0</td>\n      <td>metro</td>\n      <td>Urban Honolulu, HI</td>\n      <td>Urban Honolulu, HI</td>\n      <td>None</td>\n      <td>None</td>\n      <td>None</td>\n      <td>None</td>\n    </tr>\n    <tr>\n      <th>535883</th>\n      <td>RSSA</td>\n      <td>753924</td>\n      <td>2019-07-31</td>\n      <td>2098.0</td>\n      <td>metro</td>\n      <td>Urban Honolulu, HI</td>\n      <td>Urban Honolulu, HI</td>\n      <td>None</td>\n      <td>None</td>\n      <td>None</td>\n      <td>None</td>\n    </tr>\n    <tr>\n      <th>535882</th>\n      <td>RSSA</td>\n      <td>753924</td>\n      <td>2019-06-30</td>\n      <td>2095.0</td>\n      <td>metro</td>\n      <td>Urban Honolulu, HI</td>\n      <td>Urban Honolulu, HI</td>\n      <td>None</td>\n      <td>None</td>\n      <td>None</td>\n      <td>None</td>\n    </tr>\n    <tr>\n      <th>535881</th>\n      <td>RSSA</td>\n      <td>753924</td>\n      <td>2019-05-31</td>\n      <td>2092.0</td>\n      <td>metro</td>\n      <td>Urban Honolulu, HI</td>\n      <td>Urban Honolulu, HI</td>\n      <td>None</td>\n      <td>None</td>\n      <td>None</td>\n      <td>None</td>\n    </tr>\n    <tr>\n      <th>535880</th>\n      <td>RSSA</td>\n      <td>753924</td>\n      <td>2020-05-31</td>\n      <td>2094.0</td>\n      <td>metro</td>\n      <td>Urban Honolulu, HI</td>\n      <td>Urban Honolulu, HI</td>\n      <td>None</td>\n      <td>None</td>\n      <td>None</td>\n      <td>None</td>\n    </tr>\n    <tr>\n      <th>535879</th>\n      <td>RSSA</td>\n      <td>753924</td>\n      <td>2019-04-30</td>\n      <td>2088.0</td>\n      <td>metro</td>\n      <td>Urban Honolulu, HI</td>\n      <td>Urban Honolulu, HI</td>\n      <td>None</td>\n      <td>None</td>\n      <td>None</td>\n      <td>None</td>\n    </tr>\n    <tr>\n      <th>535878</th>\n      <td>RSSA</td>\n      <td>753924</td>\n      <td>2019-03-31</td>\n      <td>2085.0</td>\n      <td>metro</td>\n      <td>Urban Honolulu, HI</td>\n      <td>Urban Honolulu, HI</td>\n      <td>None</td>\n      <td>None</td>\n      <td>None</td>\n      <td>None</td>\n    </tr>\n    <tr>\n      <th>535877</th>\n      <td>RSSA</td>\n      <td>753924</td>\n      <td>2019-02-28</td>\n      <td>2082.0</td>\n      <td>metro</td>\n      <td>Urban Honolulu, HI</td>\n      <td>Urban Honolulu, HI</td>\n      <td>None</td>\n      <td>None</td>\n      <td>None</td>\n      <td>None</td>\n    </tr>\n    <tr>\n      <th>535876</th>\n      <td>RSSA</td>\n      <td>753924</td>\n      <td>2019-01-31</td>\n      <td>2079.0</td>\n      <td>metro</td>\n      <td>Urban Honolulu, HI</td>\n      <td>Urban Honolulu, HI</td>\n      <td>None</td>\n      <td>None</td>\n      <td>None</td>\n      <td>None</td>\n    </tr>\n    <tr>\n      <th>535875</th>\n      <td>RSSA</td>\n      <td>753924</td>\n      <td>2018-12-31</td>\n      <td>2075.0</td>\n      <td>metro</td>\n      <td>Urban Honolulu, HI</td>\n      <td>Urban Honolulu, HI</td>\n      <td>None</td>\n      <td>None</td>\n      <td>None</td>\n      <td>None</td>\n    </tr>\n    <tr>\n      <th>535874</th>\n      <td>RSSA</td>\n      <td>753924</td>\n      <td>2018-11-30</td>\n      <td>2072.0</td>\n      <td>metro</td>\n      <td>Urban Honolulu, HI</td>\n      <td>Urban Honolulu, HI</td>\n      <td>None</td>\n      <td>None</td>\n      <td>None</td>\n      <td>None</td>\n    </tr>\n    <tr>\n      <th>535873</th>\n      <td>RSSA</td>\n      <td>753924</td>\n      <td>2018-10-31</td>\n      <td>2068.0</td>\n      <td>metro</td>\n      <td>Urban Honolulu, HI</td>\n      <td>Urban Honolulu, HI</td>\n      <td>None</td>\n      <td>None</td>\n      <td>None</td>\n      <td>None</td>\n    </tr>\n    <tr>\n      <th>535872</th>\n      <td>RSSA</td>\n      <td>753924</td>\n      <td>2018-09-30</td>\n      <td>2065.0</td>\n      <td>metro</td>\n      <td>Urban Honolulu, HI</td>\n      <td>Urban Honolulu, HI</td>\n      <td>None</td>\n      <td>None</td>\n      <td>None</td>\n      <td>None</td>\n    </tr>\n    <tr>\n      <th>535871</th>\n      <td>RSNA</td>\n      <td>753924</td>\n      <td>2019-04-30</td>\n      <td>2139.0</td>\n      <td>metro</td>\n      <td>Urban Honolulu, HI</td>\n      <td>Urban Honolulu, HI</td>\n      <td>None</td>\n      <td>None</td>\n      <td>None</td>\n      <td>None</td>\n    </tr>\n  </tbody>\n</table>\n</div>"
     },
     "metadata": {},
     "execution_count": 50
    }
   ],
   "source": [
    "test = rent_per_region[::-1]\n",
    "test = test[:100]\n",
    "test.head(20)"
   ]
  },
  {
   "cell_type": "code",
   "execution_count": 51,
   "metadata": {},
   "outputs": [
    {
     "output_type": "execute_result",
     "data": {
      "text/plain": [
       "       indicator_id  region_id        date   value region_type  \\\n",
       "535890         RSSA     753924  2017-04-30  2023.0       metro   \n",
       "535889         RSSA     753924  2019-12-31  2107.0       metro   \n",
       "535888         RSSA     753924  2020-03-31  2092.0       metro   \n",
       "535887         RSSA     753924  2020-04-30  2093.0       metro   \n",
       "535886         RSSA     753924  2019-10-31  2105.0       metro   \n",
       "\n",
       "                    region                 zip state            city county  \\\n",
       "535890  Urban Honolulu, HI  Urban Honolulu, HI    HI  Urban Honolulu   None   \n",
       "535889  Urban Honolulu, HI  Urban Honolulu, HI    HI  Urban Honolulu   None   \n",
       "535888  Urban Honolulu, HI  Urban Honolulu, HI    HI  Urban Honolulu   None   \n",
       "535887  Urban Honolulu, HI  Urban Honolulu, HI    HI  Urban Honolulu   None   \n",
       "535886  Urban Honolulu, HI  Urban Honolulu, HI    HI  Urban Honolulu   None   \n",
       "\n",
       "       neighborhood  \n",
       "535890         None  \n",
       "535889         None  \n",
       "535888         None  \n",
       "535887         None  \n",
       "535886         None  "
      ],
      "text/html": "<div>\n<style scoped>\n    .dataframe tbody tr th:only-of-type {\n        vertical-align: middle;\n    }\n\n    .dataframe tbody tr th {\n        vertical-align: top;\n    }\n\n    .dataframe thead th {\n        text-align: right;\n    }\n</style>\n<table border=\"1\" class=\"dataframe\">\n  <thead>\n    <tr style=\"text-align: right;\">\n      <th></th>\n      <th>indicator_id</th>\n      <th>region_id</th>\n      <th>date</th>\n      <th>value</th>\n      <th>region_type</th>\n      <th>region</th>\n      <th>zip</th>\n      <th>state</th>\n      <th>city</th>\n      <th>county</th>\n      <th>neighborhood</th>\n    </tr>\n  </thead>\n  <tbody>\n    <tr>\n      <th>535890</th>\n      <td>RSSA</td>\n      <td>753924</td>\n      <td>2017-04-30</td>\n      <td>2023.0</td>\n      <td>metro</td>\n      <td>Urban Honolulu, HI</td>\n      <td>Urban Honolulu, HI</td>\n      <td>HI</td>\n      <td>Urban Honolulu</td>\n      <td>None</td>\n      <td>None</td>\n    </tr>\n    <tr>\n      <th>535889</th>\n      <td>RSSA</td>\n      <td>753924</td>\n      <td>2019-12-31</td>\n      <td>2107.0</td>\n      <td>metro</td>\n      <td>Urban Honolulu, HI</td>\n      <td>Urban Honolulu, HI</td>\n      <td>HI</td>\n      <td>Urban Honolulu</td>\n      <td>None</td>\n      <td>None</td>\n    </tr>\n    <tr>\n      <th>535888</th>\n      <td>RSSA</td>\n      <td>753924</td>\n      <td>2020-03-31</td>\n      <td>2092.0</td>\n      <td>metro</td>\n      <td>Urban Honolulu, HI</td>\n      <td>Urban Honolulu, HI</td>\n      <td>HI</td>\n      <td>Urban Honolulu</td>\n      <td>None</td>\n      <td>None</td>\n    </tr>\n    <tr>\n      <th>535887</th>\n      <td>RSSA</td>\n      <td>753924</td>\n      <td>2020-04-30</td>\n      <td>2093.0</td>\n      <td>metro</td>\n      <td>Urban Honolulu, HI</td>\n      <td>Urban Honolulu, HI</td>\n      <td>HI</td>\n      <td>Urban Honolulu</td>\n      <td>None</td>\n      <td>None</td>\n    </tr>\n    <tr>\n      <th>535886</th>\n      <td>RSSA</td>\n      <td>753924</td>\n      <td>2019-10-31</td>\n      <td>2105.0</td>\n      <td>metro</td>\n      <td>Urban Honolulu, HI</td>\n      <td>Urban Honolulu, HI</td>\n      <td>HI</td>\n      <td>Urban Honolulu</td>\n      <td>None</td>\n      <td>None</td>\n    </tr>\n  </tbody>\n</table>\n</div>"
     },
     "metadata": {},
     "execution_count": 51
    }
   ],
   "source": [
    "test[['city', 'state']] = test['region'].str.split(',', expand=True)\n",
    "test.head()"
   ]
  },
  {
   "cell_type": "code",
   "execution_count": 52,
   "metadata": {},
   "outputs": [],
   "source": [
    "rent_per_region[['city', 'state']] = rent_per_region['region'].str.split(',', expand=True)"
   ]
  },
  {
   "cell_type": "code",
   "execution_count": 53,
   "metadata": {},
   "outputs": [
    {
     "output_type": "execute_result",
     "data": {
      "text/plain": [
       "42"
      ]
     },
     "metadata": {},
     "execution_count": 53
    }
   ],
   "source": [
    "len(rent_per_region['state'].unique())"
   ]
  },
  {
   "cell_type": "code",
   "execution_count": 54,
   "metadata": {},
   "outputs": [
    {
     "output_type": "execute_result",
     "data": {
      "text/plain": [
       "indicator_id         0\n",
       "region_id            0\n",
       "date                 0\n",
       "value                0\n",
       "region_type          0\n",
       "region               0\n",
       "zip                  0\n",
       "state           517923\n",
       "city                 0\n",
       "county          380909\n",
       "neighborhood    393657\n",
       "dtype: int64"
      ]
     },
     "metadata": {},
     "execution_count": 54
    }
   ],
   "source": [
    "rent_per_region.isna().sum()"
   ]
  },
  {
   "cell_type": "code",
   "execution_count": 55,
   "metadata": {},
   "outputs": [
    {
     "output_type": "execute_result",
     "data": {
      "text/plain": [
       "(535891, 11)"
      ]
     },
     "metadata": {},
     "execution_count": 55
    }
   ],
   "source": [
    "rent_per_region.shape"
   ]
  },
  {
   "cell_type": "code",
   "execution_count": 56,
   "metadata": {},
   "outputs": [
    {
     "output_type": "execute_result",
     "data": {
      "text/plain": [
       "4031"
      ]
     },
     "metadata": {},
     "execution_count": 56
    }
   ],
   "source": [
    "len(rent_per_region['city'].unique())"
   ]
  },
  {
   "cell_type": "code",
   "execution_count": 57,
   "metadata": {},
   "outputs": [],
   "source": [
    "rent_per_region = rent_per_region[rent_per_region['zip'].str.contains(r\"^\\d+$\")]"
   ]
  },
  {
   "cell_type": "code",
   "execution_count": 58,
   "metadata": {},
   "outputs": [
    {
     "output_type": "execute_result",
     "data": {
      "text/plain": [
       "       indicator_id  region_id        date   value region_type region    zip  \\\n",
       "535370         RSNA     753844  2014-09-30   989.0         zip  29486  29486   \n",
       "535371         RSNA     753844  2014-08-31  1020.0         zip  29486  29486   \n",
       "535372         RSSA     753844  2014-08-31   997.0         zip  29486  29486   \n",
       "535373         RSNA     753844  2014-12-31  1049.0         zip  29486  29486   \n",
       "535374         RSNA     753844  2015-08-31  1093.0         zip  29486  29486   \n",
       "\n",
       "       state   city county neighborhood  \n",
       "535370  None  29486   None         None  \n",
       "535371  None  29486   None         None  \n",
       "535372  None  29486   None         None  \n",
       "535373  None  29486   None         None  \n",
       "535374  None  29486   None         None  "
      ],
      "text/html": "<div>\n<style scoped>\n    .dataframe tbody tr th:only-of-type {\n        vertical-align: middle;\n    }\n\n    .dataframe tbody tr th {\n        vertical-align: top;\n    }\n\n    .dataframe thead th {\n        text-align: right;\n    }\n</style>\n<table border=\"1\" class=\"dataframe\">\n  <thead>\n    <tr style=\"text-align: right;\">\n      <th></th>\n      <th>indicator_id</th>\n      <th>region_id</th>\n      <th>date</th>\n      <th>value</th>\n      <th>region_type</th>\n      <th>region</th>\n      <th>zip</th>\n      <th>state</th>\n      <th>city</th>\n      <th>county</th>\n      <th>neighborhood</th>\n    </tr>\n  </thead>\n  <tbody>\n    <tr>\n      <th>535370</th>\n      <td>RSNA</td>\n      <td>753844</td>\n      <td>2014-09-30</td>\n      <td>989.0</td>\n      <td>zip</td>\n      <td>29486</td>\n      <td>29486</td>\n      <td>None</td>\n      <td>29486</td>\n      <td>None</td>\n      <td>None</td>\n    </tr>\n    <tr>\n      <th>535371</th>\n      <td>RSNA</td>\n      <td>753844</td>\n      <td>2014-08-31</td>\n      <td>1020.0</td>\n      <td>zip</td>\n      <td>29486</td>\n      <td>29486</td>\n      <td>None</td>\n      <td>29486</td>\n      <td>None</td>\n      <td>None</td>\n    </tr>\n    <tr>\n      <th>535372</th>\n      <td>RSSA</td>\n      <td>753844</td>\n      <td>2014-08-31</td>\n      <td>997.0</td>\n      <td>zip</td>\n      <td>29486</td>\n      <td>29486</td>\n      <td>None</td>\n      <td>29486</td>\n      <td>None</td>\n      <td>None</td>\n    </tr>\n    <tr>\n      <th>535373</th>\n      <td>RSNA</td>\n      <td>753844</td>\n      <td>2014-12-31</td>\n      <td>1049.0</td>\n      <td>zip</td>\n      <td>29486</td>\n      <td>29486</td>\n      <td>None</td>\n      <td>29486</td>\n      <td>None</td>\n      <td>None</td>\n    </tr>\n    <tr>\n      <th>535374</th>\n      <td>RSNA</td>\n      <td>753844</td>\n      <td>2015-08-31</td>\n      <td>1093.0</td>\n      <td>zip</td>\n      <td>29486</td>\n      <td>29486</td>\n      <td>None</td>\n      <td>29486</td>\n      <td>None</td>\n      <td>None</td>\n    </tr>\n  </tbody>\n</table>\n</div>"
     },
     "metadata": {},
     "execution_count": 58
    }
   ],
   "source": [
    "rent_per_region.tail()"
   ]
  },
  {
   "cell_type": "code",
   "execution_count": 59,
   "metadata": {},
   "outputs": [
    {
     "output_type": "execute_result",
     "data": {
      "text/plain": [
       "       indicator_id  region_id        date   value region_type region    zip  \\\n",
       "756            RSNA      58449  2020-07-31  1635.0         zip  01610  01610   \n",
       "757            RSNA      58449  2015-08-31  1049.0         zip  01610  01610   \n",
       "758            RSSA      58449  2020-03-31  1338.0         zip  01610  01610   \n",
       "759            RSSA      58449  2020-10-31  1370.0         zip  01610  01610   \n",
       "760            RSNA      58449  2018-10-31  1365.0         zip  01610  01610   \n",
       "...             ...        ...         ...     ...         ...    ...    ...   \n",
       "535370         RSNA     753844  2014-09-30   989.0         zip  29486  29486   \n",
       "535371         RSNA     753844  2014-08-31  1020.0         zip  29486  29486   \n",
       "535372         RSSA     753844  2014-08-31   997.0         zip  29486  29486   \n",
       "535373         RSNA     753844  2014-12-31  1049.0         zip  29486  29486   \n",
       "535374         RSNA     753844  2015-08-31  1093.0         zip  29486  29486   \n",
       "\n",
       "       state   city county neighborhood  \n",
       "756     None  01610   None         None  \n",
       "757     None  01610   None         None  \n",
       "758     None  01610   None         None  \n",
       "759     None  01610   None         None  \n",
       "760     None  01610   None         None  \n",
       "...      ...    ...    ...          ...  \n",
       "535370  None  29486   None         None  \n",
       "535371  None  29486   None         None  \n",
       "535372  None  29486   None         None  \n",
       "535373  None  29486   None         None  \n",
       "535374  None  29486   None         None  \n",
       "\n",
       "[362769 rows x 11 columns]"
      ],
      "text/html": "<div>\n<style scoped>\n    .dataframe tbody tr th:only-of-type {\n        vertical-align: middle;\n    }\n\n    .dataframe tbody tr th {\n        vertical-align: top;\n    }\n\n    .dataframe thead th {\n        text-align: right;\n    }\n</style>\n<table border=\"1\" class=\"dataframe\">\n  <thead>\n    <tr style=\"text-align: right;\">\n      <th></th>\n      <th>indicator_id</th>\n      <th>region_id</th>\n      <th>date</th>\n      <th>value</th>\n      <th>region_type</th>\n      <th>region</th>\n      <th>zip</th>\n      <th>state</th>\n      <th>city</th>\n      <th>county</th>\n      <th>neighborhood</th>\n    </tr>\n  </thead>\n  <tbody>\n    <tr>\n      <th>756</th>\n      <td>RSNA</td>\n      <td>58449</td>\n      <td>2020-07-31</td>\n      <td>1635.0</td>\n      <td>zip</td>\n      <td>01610</td>\n      <td>01610</td>\n      <td>None</td>\n      <td>01610</td>\n      <td>None</td>\n      <td>None</td>\n    </tr>\n    <tr>\n      <th>757</th>\n      <td>RSNA</td>\n      <td>58449</td>\n      <td>2015-08-31</td>\n      <td>1049.0</td>\n      <td>zip</td>\n      <td>01610</td>\n      <td>01610</td>\n      <td>None</td>\n      <td>01610</td>\n      <td>None</td>\n      <td>None</td>\n    </tr>\n    <tr>\n      <th>758</th>\n      <td>RSSA</td>\n      <td>58449</td>\n      <td>2020-03-31</td>\n      <td>1338.0</td>\n      <td>zip</td>\n      <td>01610</td>\n      <td>01610</td>\n      <td>None</td>\n      <td>01610</td>\n      <td>None</td>\n      <td>None</td>\n    </tr>\n    <tr>\n      <th>759</th>\n      <td>RSSA</td>\n      <td>58449</td>\n      <td>2020-10-31</td>\n      <td>1370.0</td>\n      <td>zip</td>\n      <td>01610</td>\n      <td>01610</td>\n      <td>None</td>\n      <td>01610</td>\n      <td>None</td>\n      <td>None</td>\n    </tr>\n    <tr>\n      <th>760</th>\n      <td>RSNA</td>\n      <td>58449</td>\n      <td>2018-10-31</td>\n      <td>1365.0</td>\n      <td>zip</td>\n      <td>01610</td>\n      <td>01610</td>\n      <td>None</td>\n      <td>01610</td>\n      <td>None</td>\n      <td>None</td>\n    </tr>\n    <tr>\n      <th>...</th>\n      <td>...</td>\n      <td>...</td>\n      <td>...</td>\n      <td>...</td>\n      <td>...</td>\n      <td>...</td>\n      <td>...</td>\n      <td>...</td>\n      <td>...</td>\n      <td>...</td>\n      <td>...</td>\n    </tr>\n    <tr>\n      <th>535370</th>\n      <td>RSNA</td>\n      <td>753844</td>\n      <td>2014-09-30</td>\n      <td>989.0</td>\n      <td>zip</td>\n      <td>29486</td>\n      <td>29486</td>\n      <td>None</td>\n      <td>29486</td>\n      <td>None</td>\n      <td>None</td>\n    </tr>\n    <tr>\n      <th>535371</th>\n      <td>RSNA</td>\n      <td>753844</td>\n      <td>2014-08-31</td>\n      <td>1020.0</td>\n      <td>zip</td>\n      <td>29486</td>\n      <td>29486</td>\n      <td>None</td>\n      <td>29486</td>\n      <td>None</td>\n      <td>None</td>\n    </tr>\n    <tr>\n      <th>535372</th>\n      <td>RSSA</td>\n      <td>753844</td>\n      <td>2014-08-31</td>\n      <td>997.0</td>\n      <td>zip</td>\n      <td>29486</td>\n      <td>29486</td>\n      <td>None</td>\n      <td>29486</td>\n      <td>None</td>\n      <td>None</td>\n    </tr>\n    <tr>\n      <th>535373</th>\n      <td>RSNA</td>\n      <td>753844</td>\n      <td>2014-12-31</td>\n      <td>1049.0</td>\n      <td>zip</td>\n      <td>29486</td>\n      <td>29486</td>\n      <td>None</td>\n      <td>29486</td>\n      <td>None</td>\n      <td>None</td>\n    </tr>\n    <tr>\n      <th>535374</th>\n      <td>RSNA</td>\n      <td>753844</td>\n      <td>2015-08-31</td>\n      <td>1093.0</td>\n      <td>zip</td>\n      <td>29486</td>\n      <td>29486</td>\n      <td>None</td>\n      <td>29486</td>\n      <td>None</td>\n      <td>None</td>\n    </tr>\n  </tbody>\n</table>\n<p>362769 rows × 11 columns</p>\n</div>"
     },
     "metadata": {},
     "execution_count": 59
    }
   ],
   "source": [
    "rent_per_region[rent_per_region['city'].str.contains(r\"^\\d+$\")]"
   ]
  },
  {
   "source": [
    "## Zip Code doc"
   ],
   "cell_type": "markdown",
   "metadata": {}
  },
  {
   "cell_type": "code",
   "execution_count": 249,
   "metadata": {},
   "outputs": [
    {
     "output_type": "execute_result",
     "data": {
      "text/plain": [
       "   zip       lat       lng       city state_id   state_name  population  \\\n",
       "0  601  18.18005 -66.75218   Adjuntas       PR  Puerto Rico     17113.0   \n",
       "1  602  18.36074 -67.17519     Aguada       PR  Puerto Rico     37751.0   \n",
       "2  603  18.45440 -67.12201  Aguadilla       PR  Puerto Rico     47081.0   \n",
       "3  606  18.16721 -66.93828    Maricao       PR  Puerto Rico      6392.0   \n",
       "4  610  18.29032 -67.12244     Anasco       PR  Puerto Rico     26686.0   \n",
       "\n",
       "   density county_name  \n",
       "0    102.7    Adjuntas  \n",
       "1    476.0      Aguada  \n",
       "2    574.9   Aguadilla  \n",
       "3     58.3     Maricao  \n",
       "4    286.9      Añasco  "
      ],
      "text/html": "<div>\n<style scoped>\n    .dataframe tbody tr th:only-of-type {\n        vertical-align: middle;\n    }\n\n    .dataframe tbody tr th {\n        vertical-align: top;\n    }\n\n    .dataframe thead th {\n        text-align: right;\n    }\n</style>\n<table border=\"1\" class=\"dataframe\">\n  <thead>\n    <tr style=\"text-align: right;\">\n      <th></th>\n      <th>zip</th>\n      <th>lat</th>\n      <th>lng</th>\n      <th>city</th>\n      <th>state_id</th>\n      <th>state_name</th>\n      <th>population</th>\n      <th>density</th>\n      <th>county_name</th>\n    </tr>\n  </thead>\n  <tbody>\n    <tr>\n      <th>0</th>\n      <td>601</td>\n      <td>18.18005</td>\n      <td>-66.75218</td>\n      <td>Adjuntas</td>\n      <td>PR</td>\n      <td>Puerto Rico</td>\n      <td>17113.0</td>\n      <td>102.7</td>\n      <td>Adjuntas</td>\n    </tr>\n    <tr>\n      <th>1</th>\n      <td>602</td>\n      <td>18.36074</td>\n      <td>-67.17519</td>\n      <td>Aguada</td>\n      <td>PR</td>\n      <td>Puerto Rico</td>\n      <td>37751.0</td>\n      <td>476.0</td>\n      <td>Aguada</td>\n    </tr>\n    <tr>\n      <th>2</th>\n      <td>603</td>\n      <td>18.45440</td>\n      <td>-67.12201</td>\n      <td>Aguadilla</td>\n      <td>PR</td>\n      <td>Puerto Rico</td>\n      <td>47081.0</td>\n      <td>574.9</td>\n      <td>Aguadilla</td>\n    </tr>\n    <tr>\n      <th>3</th>\n      <td>606</td>\n      <td>18.16721</td>\n      <td>-66.93828</td>\n      <td>Maricao</td>\n      <td>PR</td>\n      <td>Puerto Rico</td>\n      <td>6392.0</td>\n      <td>58.3</td>\n      <td>Maricao</td>\n    </tr>\n    <tr>\n      <th>4</th>\n      <td>610</td>\n      <td>18.29032</td>\n      <td>-67.12244</td>\n      <td>Anasco</td>\n      <td>PR</td>\n      <td>Puerto Rico</td>\n      <td>26686.0</td>\n      <td>286.9</td>\n      <td>Añasco</td>\n    </tr>\n  </tbody>\n</table>\n</div>"
     },
     "metadata": {},
     "execution_count": 249
    }
   ],
   "source": [
    "zips = pd.read_csv(\"V:\\\\uszips.csv\")\n",
    "zips = zips[['zip', 'lat', 'lng', 'city', 'state_id', 'state_name', 'population', 'density', 'county_name']]\n",
    "zips.head()"
   ]
  },
  {
   "cell_type": "code",
   "execution_count": 250,
   "metadata": {},
   "outputs": [
    {
     "output_type": "execute_result",
     "data": {
      "text/plain": [
       "array(['PR', 'VI', 'MA', 'RI', 'NH', 'ME', 'VT', 'CT', 'NY', 'NJ', 'PA',\n",
       "       'DE', 'DC', 'VA', 'MD', 'WV', 'NC', 'SC', 'GA', 'FL', 'AL', 'TN',\n",
       "       'MS', 'KY', 'OH', 'IN', 'MI', 'IA', 'WI', 'MN', 'SD', 'ND', 'MT',\n",
       "       'IL', 'MO', 'KS', 'NE', 'LA', 'AR', 'OK', 'TX', 'CO', 'WY', 'ID',\n",
       "       'UT', 'AZ', 'NM', 'NV', 'CA', 'HI', 'AS', 'GU', 'MP', 'OR', 'WA',\n",
       "       'AK'], dtype=object)"
      ]
     },
     "metadata": {},
     "execution_count": 250
    }
   ],
   "source": [
    "zips['state_id'].unique()"
   ]
  },
  {
   "cell_type": "code",
   "execution_count": 251,
   "metadata": {},
   "outputs": [],
   "source": [
    "values = ['PR', 'VI', 'AS', 'GU', 'MP']\n",
    "\n",
    "zips = zips[zips['state_id'].isin(values) == False]"
   ]
  },
  {
   "cell_type": "code",
   "execution_count": 252,
   "metadata": {},
   "outputs": [
    {
     "output_type": "execute_result",
     "data": {
      "text/plain": [
       "17380"
      ]
     },
     "metadata": {},
     "execution_count": 252
    }
   ],
   "source": [
    "len(zips['city'].unique())"
   ]
  },
  {
   "cell_type": "code",
   "execution_count": 253,
   "metadata": {},
   "outputs": [
    {
     "output_type": "execute_result",
     "data": {
      "text/plain": [
       "         zip       lat        lng         city state_id     state_name  \\\n",
       "142     1001  42.06259  -72.62589       Agawam       MA  Massachusetts   \n",
       "143     1002  42.37492  -72.46210      Amherst       MA  Massachusetts   \n",
       "144     1003  42.39192  -72.52479      Amherst       MA  Massachusetts   \n",
       "145     1005  42.42017  -72.10615        Barre       MA  Massachusetts   \n",
       "146     1007  42.27875  -72.40036  Belchertown       MA  Massachusetts   \n",
       "...      ...       ...        ...          ...      ...            ...   \n",
       "33116  99923  55.97796 -130.03671        Hyder       AK         Alaska   \n",
       "33117  99925  55.55796 -132.97482      Klawock       AK         Alaska   \n",
       "33118  99926  55.12617 -131.48928   Metlakatla       AK         Alaska   \n",
       "33119  99927  56.25100 -133.37572  Point Baker       AK         Alaska   \n",
       "33120  99929  56.36950 -131.93648     Wrangell       AK         Alaska   \n",
       "\n",
       "       population  density            county_name  \n",
       "142       17312.0    581.0                Hampden  \n",
       "143       30014.0    210.5              Hampshire  \n",
       "144       11357.0   6164.3              Hampshire  \n",
       "145        5128.0     44.7              Worcester  \n",
       "146       15005.0    110.1              Hampshire  \n",
       "...           ...      ...                    ...  \n",
       "33116        14.0      0.3  Prince of Wales-Hyder  \n",
       "33117       908.0      6.3  Prince of Wales-Hyder  \n",
       "33118      1654.0      4.8  Prince of Wales-Hyder  \n",
       "33119         0.0      0.0  Prince of Wales-Hyder  \n",
       "33120      2502.0      0.4               Wrangell  \n",
       "\n",
       "[32966 rows x 9 columns]"
      ],
      "text/html": "<div>\n<style scoped>\n    .dataframe tbody tr th:only-of-type {\n        vertical-align: middle;\n    }\n\n    .dataframe tbody tr th {\n        vertical-align: top;\n    }\n\n    .dataframe thead th {\n        text-align: right;\n    }\n</style>\n<table border=\"1\" class=\"dataframe\">\n  <thead>\n    <tr style=\"text-align: right;\">\n      <th></th>\n      <th>zip</th>\n      <th>lat</th>\n      <th>lng</th>\n      <th>city</th>\n      <th>state_id</th>\n      <th>state_name</th>\n      <th>population</th>\n      <th>density</th>\n      <th>county_name</th>\n    </tr>\n  </thead>\n  <tbody>\n    <tr>\n      <th>142</th>\n      <td>1001</td>\n      <td>42.06259</td>\n      <td>-72.62589</td>\n      <td>Agawam</td>\n      <td>MA</td>\n      <td>Massachusetts</td>\n      <td>17312.0</td>\n      <td>581.0</td>\n      <td>Hampden</td>\n    </tr>\n    <tr>\n      <th>143</th>\n      <td>1002</td>\n      <td>42.37492</td>\n      <td>-72.46210</td>\n      <td>Amherst</td>\n      <td>MA</td>\n      <td>Massachusetts</td>\n      <td>30014.0</td>\n      <td>210.5</td>\n      <td>Hampshire</td>\n    </tr>\n    <tr>\n      <th>144</th>\n      <td>1003</td>\n      <td>42.39192</td>\n      <td>-72.52479</td>\n      <td>Amherst</td>\n      <td>MA</td>\n      <td>Massachusetts</td>\n      <td>11357.0</td>\n      <td>6164.3</td>\n      <td>Hampshire</td>\n    </tr>\n    <tr>\n      <th>145</th>\n      <td>1005</td>\n      <td>42.42017</td>\n      <td>-72.10615</td>\n      <td>Barre</td>\n      <td>MA</td>\n      <td>Massachusetts</td>\n      <td>5128.0</td>\n      <td>44.7</td>\n      <td>Worcester</td>\n    </tr>\n    <tr>\n      <th>146</th>\n      <td>1007</td>\n      <td>42.27875</td>\n      <td>-72.40036</td>\n      <td>Belchertown</td>\n      <td>MA</td>\n      <td>Massachusetts</td>\n      <td>15005.0</td>\n      <td>110.1</td>\n      <td>Hampshire</td>\n    </tr>\n    <tr>\n      <th>...</th>\n      <td>...</td>\n      <td>...</td>\n      <td>...</td>\n      <td>...</td>\n      <td>...</td>\n      <td>...</td>\n      <td>...</td>\n      <td>...</td>\n      <td>...</td>\n    </tr>\n    <tr>\n      <th>33116</th>\n      <td>99923</td>\n      <td>55.97796</td>\n      <td>-130.03671</td>\n      <td>Hyder</td>\n      <td>AK</td>\n      <td>Alaska</td>\n      <td>14.0</td>\n      <td>0.3</td>\n      <td>Prince of Wales-Hyder</td>\n    </tr>\n    <tr>\n      <th>33117</th>\n      <td>99925</td>\n      <td>55.55796</td>\n      <td>-132.97482</td>\n      <td>Klawock</td>\n      <td>AK</td>\n      <td>Alaska</td>\n      <td>908.0</td>\n      <td>6.3</td>\n      <td>Prince of Wales-Hyder</td>\n    </tr>\n    <tr>\n      <th>33118</th>\n      <td>99926</td>\n      <td>55.12617</td>\n      <td>-131.48928</td>\n      <td>Metlakatla</td>\n      <td>AK</td>\n      <td>Alaska</td>\n      <td>1654.0</td>\n      <td>4.8</td>\n      <td>Prince of Wales-Hyder</td>\n    </tr>\n    <tr>\n      <th>33119</th>\n      <td>99927</td>\n      <td>56.25100</td>\n      <td>-133.37572</td>\n      <td>Point Baker</td>\n      <td>AK</td>\n      <td>Alaska</td>\n      <td>0.0</td>\n      <td>0.0</td>\n      <td>Prince of Wales-Hyder</td>\n    </tr>\n    <tr>\n      <th>33120</th>\n      <td>99929</td>\n      <td>56.36950</td>\n      <td>-131.93648</td>\n      <td>Wrangell</td>\n      <td>AK</td>\n      <td>Alaska</td>\n      <td>2502.0</td>\n      <td>0.4</td>\n      <td>Wrangell</td>\n    </tr>\n  </tbody>\n</table>\n<p>32966 rows × 9 columns</p>\n</div>"
     },
     "metadata": {},
     "execution_count": 253
    }
   ],
   "source": [
    "zips"
   ]
  },
  {
   "cell_type": "code",
   "execution_count": 254,
   "metadata": {},
   "outputs": [
    {
     "output_type": "stream",
     "name": "stdout",
     "text": [
      "362\n"
     ]
    },
    {
     "output_type": "execute_result",
     "data": {
      "text/plain": [
       "       Cities_List\n",
       "0        Akron, OH\n",
       "1       Albany, GA\n",
       "2       Albany, NY\n",
       "3       Albany, OR\n",
       "4  Albuquerque, NM"
      ],
      "text/html": "<div>\n<style scoped>\n    .dataframe tbody tr th:only-of-type {\n        vertical-align: middle;\n    }\n\n    .dataframe tbody tr th {\n        vertical-align: top;\n    }\n\n    .dataframe thead th {\n        text-align: right;\n    }\n</style>\n<table border=\"1\" class=\"dataframe\">\n  <thead>\n    <tr style=\"text-align: right;\">\n      <th></th>\n      <th>Cities_List</th>\n    </tr>\n  </thead>\n  <tbody>\n    <tr>\n      <th>0</th>\n      <td>Akron, OH</td>\n    </tr>\n    <tr>\n      <th>1</th>\n      <td>Albany, GA</td>\n    </tr>\n    <tr>\n      <th>2</th>\n      <td>Albany, NY</td>\n    </tr>\n    <tr>\n      <th>3</th>\n      <td>Albany, OR</td>\n    </tr>\n    <tr>\n      <th>4</th>\n      <td>Albuquerque, NM</td>\n    </tr>\n  </tbody>\n</table>\n</div>"
     },
     "metadata": {},
     "execution_count": 254
    }
   ],
   "source": [
    "city_list = pd.read_csv('V:\\\\cityspire_cities.csv')\n",
    "print(len(city_list))\n",
    "city_list.head()"
   ]
  },
  {
   "cell_type": "code",
   "execution_count": 255,
   "metadata": {},
   "outputs": [
    {
     "output_type": "execute_result",
     "data": {
      "text/plain": [
       "362"
      ]
     },
     "metadata": {},
     "execution_count": 255
    }
   ],
   "source": [
    "len(city_list['Cities_List'].unique())"
   ]
  },
  {
   "cell_type": "code",
   "execution_count": 256,
   "metadata": {},
   "outputs": [],
   "source": [
    "city_names = [city.split(\",\")[0] for city in city_list['Cities_List']]"
   ]
  },
  {
   "cell_type": "code",
   "execution_count": 257,
   "metadata": {},
   "outputs": [
    {
     "output_type": "execute_result",
     "data": {
      "text/plain": [
       "362"
      ]
     },
     "metadata": {},
     "execution_count": 257
    }
   ],
   "source": [
    "len(city_names)"
   ]
  },
  {
   "cell_type": "code",
   "execution_count": 258,
   "metadata": {},
   "outputs": [
    {
     "output_type": "execute_result",
     "data": {
      "text/plain": [
       "         zip       lat        lng         city state_id     state_name  \\\n",
       "176     1062  42.32188  -72.69278     Florence       MA  Massachusetts   \n",
       "192     1083  42.20382  -72.19495       Warren       MA  Massachusetts   \n",
       "205     1103  42.10400  -72.59210  Springfield       MA  Massachusetts   \n",
       "206     1104  42.13404  -72.56679  Springfield       MA  Massachusetts   \n",
       "207     1105  42.09917  -72.57899  Springfield       MA  Massachusetts   \n",
       "...      ...       ...        ...          ...      ...            ...   \n",
       "33028  99712  64.99326 -146.14966    Fairbanks       AK         Alaska   \n",
       "33050  99744  64.30627 -149.18016     Anderson       AK         Alaska   \n",
       "33081  99775  64.85849 -147.82472    Fairbanks       AK         Alaska   \n",
       "33094  99790  65.42127 -148.28799    Fairbanks       AK         Alaska   \n",
       "33098  99824  58.27236 -134.40082      Douglas       AK         Alaska   \n",
       "\n",
       "       population  density           county_name  \n",
       "176       10364.0    220.4             Hampshire  \n",
       "192        3094.0     75.8             Worcester  \n",
       "205        2332.0   1956.6               Hampden  \n",
       "206       23740.0   1757.3               Hampden  \n",
       "207       11841.0   3678.4               Hampden  \n",
       "...           ...      ...                   ...  \n",
       "33028     14837.0      1.6  Fairbanks North Star  \n",
       "33050       120.0      1.4                Denali  \n",
       "33081      1180.0   3907.3  Fairbanks North Star  \n",
       "33094        20.0      0.0         Yukon-Koyukuk  \n",
       "33098      2259.0    504.3                Juneau  \n",
       "\n",
       "[4804 rows x 9 columns]"
      ],
      "text/html": "<div>\n<style scoped>\n    .dataframe tbody tr th:only-of-type {\n        vertical-align: middle;\n    }\n\n    .dataframe tbody tr th {\n        vertical-align: top;\n    }\n\n    .dataframe thead th {\n        text-align: right;\n    }\n</style>\n<table border=\"1\" class=\"dataframe\">\n  <thead>\n    <tr style=\"text-align: right;\">\n      <th></th>\n      <th>zip</th>\n      <th>lat</th>\n      <th>lng</th>\n      <th>city</th>\n      <th>state_id</th>\n      <th>state_name</th>\n      <th>population</th>\n      <th>density</th>\n      <th>county_name</th>\n    </tr>\n  </thead>\n  <tbody>\n    <tr>\n      <th>176</th>\n      <td>1062</td>\n      <td>42.32188</td>\n      <td>-72.69278</td>\n      <td>Florence</td>\n      <td>MA</td>\n      <td>Massachusetts</td>\n      <td>10364.0</td>\n      <td>220.4</td>\n      <td>Hampshire</td>\n    </tr>\n    <tr>\n      <th>192</th>\n      <td>1083</td>\n      <td>42.20382</td>\n      <td>-72.19495</td>\n      <td>Warren</td>\n      <td>MA</td>\n      <td>Massachusetts</td>\n      <td>3094.0</td>\n      <td>75.8</td>\n      <td>Worcester</td>\n    </tr>\n    <tr>\n      <th>205</th>\n      <td>1103</td>\n      <td>42.10400</td>\n      <td>-72.59210</td>\n      <td>Springfield</td>\n      <td>MA</td>\n      <td>Massachusetts</td>\n      <td>2332.0</td>\n      <td>1956.6</td>\n      <td>Hampden</td>\n    </tr>\n    <tr>\n      <th>206</th>\n      <td>1104</td>\n      <td>42.13404</td>\n      <td>-72.56679</td>\n      <td>Springfield</td>\n      <td>MA</td>\n      <td>Massachusetts</td>\n      <td>23740.0</td>\n      <td>1757.3</td>\n      <td>Hampden</td>\n    </tr>\n    <tr>\n      <th>207</th>\n      <td>1105</td>\n      <td>42.09917</td>\n      <td>-72.57899</td>\n      <td>Springfield</td>\n      <td>MA</td>\n      <td>Massachusetts</td>\n      <td>11841.0</td>\n      <td>3678.4</td>\n      <td>Hampden</td>\n    </tr>\n    <tr>\n      <th>...</th>\n      <td>...</td>\n      <td>...</td>\n      <td>...</td>\n      <td>...</td>\n      <td>...</td>\n      <td>...</td>\n      <td>...</td>\n      <td>...</td>\n      <td>...</td>\n    </tr>\n    <tr>\n      <th>33028</th>\n      <td>99712</td>\n      <td>64.99326</td>\n      <td>-146.14966</td>\n      <td>Fairbanks</td>\n      <td>AK</td>\n      <td>Alaska</td>\n      <td>14837.0</td>\n      <td>1.6</td>\n      <td>Fairbanks North Star</td>\n    </tr>\n    <tr>\n      <th>33050</th>\n      <td>99744</td>\n      <td>64.30627</td>\n      <td>-149.18016</td>\n      <td>Anderson</td>\n      <td>AK</td>\n      <td>Alaska</td>\n      <td>120.0</td>\n      <td>1.4</td>\n      <td>Denali</td>\n    </tr>\n    <tr>\n      <th>33081</th>\n      <td>99775</td>\n      <td>64.85849</td>\n      <td>-147.82472</td>\n      <td>Fairbanks</td>\n      <td>AK</td>\n      <td>Alaska</td>\n      <td>1180.0</td>\n      <td>3907.3</td>\n      <td>Fairbanks North Star</td>\n    </tr>\n    <tr>\n      <th>33094</th>\n      <td>99790</td>\n      <td>65.42127</td>\n      <td>-148.28799</td>\n      <td>Fairbanks</td>\n      <td>AK</td>\n      <td>Alaska</td>\n      <td>20.0</td>\n      <td>0.0</td>\n      <td>Yukon-Koyukuk</td>\n    </tr>\n    <tr>\n      <th>33098</th>\n      <td>99824</td>\n      <td>58.27236</td>\n      <td>-134.40082</td>\n      <td>Douglas</td>\n      <td>AK</td>\n      <td>Alaska</td>\n      <td>2259.0</td>\n      <td>504.3</td>\n      <td>Juneau</td>\n    </tr>\n  </tbody>\n</table>\n<p>4804 rows × 9 columns</p>\n</div>"
     },
     "metadata": {},
     "execution_count": 258
    }
   ],
   "source": [
    "zips = zips[zips['city'].isin(city_names) == True]\n",
    "zips"
   ]
  },
  {
   "cell_type": "code",
   "execution_count": 259,
   "metadata": {
    "tags": []
   },
   "outputs": [
    {
     "output_type": "stream",
     "name": "stderr",
     "text": [
      "C:\\Users\\Rob\\AppData\\Local\\Temp/ipykernel_11056/3169711894.py:2: SettingWithCopyWarning: \nA value is trying to be set on a copy of a slice from a DataFrame.\nTry using .loc[row_indexer,col_indexer] = value instead\n\nSee the caveats in the documentation: https://pandas.pydata.org/pandas-docs/stable/user_guide/indexing.html#returning-a-view-versus-a-copy\n  zips['zip'] = zips['zip'].astype(str)\nC:\\Users\\Rob\\AppData\\Local\\Temp/ipykernel_11056/3169711894.py:3: SettingWithCopyWarning: \nA value is trying to be set on a copy of a slice from a DataFrame.\nTry using .loc[row_indexer,col_indexer] = value instead\n\nSee the caveats in the documentation: https://pandas.pydata.org/pandas-docs/stable/user_guide/indexing.html#returning-a-view-versus-a-copy\n  zips['zip'] = zips['zip'].str.zfill(5)\n"
     ]
    }
   ],
   "source": [
    "# Accounting for zip code error with dropped leading 0 (east cost, mostly)\n",
    "zips['zip'] = zips['zip'].astype(str)\n",
    "zips['zip'] = zips['zip'].str.zfill(5)"
   ]
  },
  {
   "cell_type": "code",
   "execution_count": 262,
   "metadata": {},
   "outputs": [
    {
     "output_type": "execute_result",
     "data": {
      "text/plain": [
       "         zip       lat        lng         city state_id     state_name  \\\n",
       "176    01062  42.32188  -72.69278     Florence       MA  Massachusetts   \n",
       "192    01083  42.20382  -72.19495       Warren       MA  Massachusetts   \n",
       "205    01103  42.10400  -72.59210  Springfield       MA  Massachusetts   \n",
       "206    01104  42.13404  -72.56679  Springfield       MA  Massachusetts   \n",
       "207    01105  42.09917  -72.57899  Springfield       MA  Massachusetts   \n",
       "...      ...       ...        ...          ...      ...            ...   \n",
       "33028  99712  64.99326 -146.14966    Fairbanks       AK         Alaska   \n",
       "33050  99744  64.30627 -149.18016     Anderson       AK         Alaska   \n",
       "33081  99775  64.85849 -147.82472    Fairbanks       AK         Alaska   \n",
       "33094  99790  65.42127 -148.28799    Fairbanks       AK         Alaska   \n",
       "33098  99824  58.27236 -134.40082      Douglas       AK         Alaska   \n",
       "\n",
       "       population  density           county_name  \n",
       "176       10364.0    220.4             Hampshire  \n",
       "192        3094.0     75.8             Worcester  \n",
       "205        2332.0   1956.6               Hampden  \n",
       "206       23740.0   1757.3               Hampden  \n",
       "207       11841.0   3678.4               Hampden  \n",
       "...           ...      ...                   ...  \n",
       "33028     14837.0      1.6  Fairbanks North Star  \n",
       "33050       120.0      1.4                Denali  \n",
       "33081      1180.0   3907.3  Fairbanks North Star  \n",
       "33094        20.0      0.0         Yukon-Koyukuk  \n",
       "33098      2259.0    504.3                Juneau  \n",
       "\n",
       "[4804 rows x 9 columns]"
      ],
      "text/html": "<div>\n<style scoped>\n    .dataframe tbody tr th:only-of-type {\n        vertical-align: middle;\n    }\n\n    .dataframe tbody tr th {\n        vertical-align: top;\n    }\n\n    .dataframe thead th {\n        text-align: right;\n    }\n</style>\n<table border=\"1\" class=\"dataframe\">\n  <thead>\n    <tr style=\"text-align: right;\">\n      <th></th>\n      <th>zip</th>\n      <th>lat</th>\n      <th>lng</th>\n      <th>city</th>\n      <th>state_id</th>\n      <th>state_name</th>\n      <th>population</th>\n      <th>density</th>\n      <th>county_name</th>\n    </tr>\n  </thead>\n  <tbody>\n    <tr>\n      <th>176</th>\n      <td>01062</td>\n      <td>42.32188</td>\n      <td>-72.69278</td>\n      <td>Florence</td>\n      <td>MA</td>\n      <td>Massachusetts</td>\n      <td>10364.0</td>\n      <td>220.4</td>\n      <td>Hampshire</td>\n    </tr>\n    <tr>\n      <th>192</th>\n      <td>01083</td>\n      <td>42.20382</td>\n      <td>-72.19495</td>\n      <td>Warren</td>\n      <td>MA</td>\n      <td>Massachusetts</td>\n      <td>3094.0</td>\n      <td>75.8</td>\n      <td>Worcester</td>\n    </tr>\n    <tr>\n      <th>205</th>\n      <td>01103</td>\n      <td>42.10400</td>\n      <td>-72.59210</td>\n      <td>Springfield</td>\n      <td>MA</td>\n      <td>Massachusetts</td>\n      <td>2332.0</td>\n      <td>1956.6</td>\n      <td>Hampden</td>\n    </tr>\n    <tr>\n      <th>206</th>\n      <td>01104</td>\n      <td>42.13404</td>\n      <td>-72.56679</td>\n      <td>Springfield</td>\n      <td>MA</td>\n      <td>Massachusetts</td>\n      <td>23740.0</td>\n      <td>1757.3</td>\n      <td>Hampden</td>\n    </tr>\n    <tr>\n      <th>207</th>\n      <td>01105</td>\n      <td>42.09917</td>\n      <td>-72.57899</td>\n      <td>Springfield</td>\n      <td>MA</td>\n      <td>Massachusetts</td>\n      <td>11841.0</td>\n      <td>3678.4</td>\n      <td>Hampden</td>\n    </tr>\n    <tr>\n      <th>...</th>\n      <td>...</td>\n      <td>...</td>\n      <td>...</td>\n      <td>...</td>\n      <td>...</td>\n      <td>...</td>\n      <td>...</td>\n      <td>...</td>\n      <td>...</td>\n    </tr>\n    <tr>\n      <th>33028</th>\n      <td>99712</td>\n      <td>64.99326</td>\n      <td>-146.14966</td>\n      <td>Fairbanks</td>\n      <td>AK</td>\n      <td>Alaska</td>\n      <td>14837.0</td>\n      <td>1.6</td>\n      <td>Fairbanks North Star</td>\n    </tr>\n    <tr>\n      <th>33050</th>\n      <td>99744</td>\n      <td>64.30627</td>\n      <td>-149.18016</td>\n      <td>Anderson</td>\n      <td>AK</td>\n      <td>Alaska</td>\n      <td>120.0</td>\n      <td>1.4</td>\n      <td>Denali</td>\n    </tr>\n    <tr>\n      <th>33081</th>\n      <td>99775</td>\n      <td>64.85849</td>\n      <td>-147.82472</td>\n      <td>Fairbanks</td>\n      <td>AK</td>\n      <td>Alaska</td>\n      <td>1180.0</td>\n      <td>3907.3</td>\n      <td>Fairbanks North Star</td>\n    </tr>\n    <tr>\n      <th>33094</th>\n      <td>99790</td>\n      <td>65.42127</td>\n      <td>-148.28799</td>\n      <td>Fairbanks</td>\n      <td>AK</td>\n      <td>Alaska</td>\n      <td>20.0</td>\n      <td>0.0</td>\n      <td>Yukon-Koyukuk</td>\n    </tr>\n    <tr>\n      <th>33098</th>\n      <td>99824</td>\n      <td>58.27236</td>\n      <td>-134.40082</td>\n      <td>Douglas</td>\n      <td>AK</td>\n      <td>Alaska</td>\n      <td>2259.0</td>\n      <td>504.3</td>\n      <td>Juneau</td>\n    </tr>\n  </tbody>\n</table>\n<p>4804 rows × 9 columns</p>\n</div>"
     },
     "metadata": {},
     "execution_count": 262
    }
   ],
   "source": [
    "zips"
   ]
  },
  {
   "cell_type": "code",
   "execution_count": 263,
   "metadata": {},
   "outputs": [],
   "source": [
    "zips.to_csv(r'V:\\cities_with_zips.csv', index = False)"
   ]
  },
  {
   "source": [
    "## Combing datasets on zip codes"
   ],
   "cell_type": "markdown",
   "metadata": {}
  },
  {
   "cell_type": "code",
   "execution_count": 264,
   "metadata": {},
   "outputs": [
    {
     "output_type": "execute_result",
     "data": {
      "text/plain": [
       "  indicator_id  region_id        date   value region_type  \\\n",
       "0         RSNA      58362  2020-09-30  1321.0         zip   \n",
       "1         RSNA      58362  2020-05-31  1243.0         zip   \n",
       "2         RSNA      58362  2020-06-30  1220.0         zip   \n",
       "3         RSNA      58362  2020-07-31  1351.0         zip   \n",
       "4         RSSA      58362  2020-07-31  1296.0         zip   \n",
       "\n",
       "                                              region    zip state  \\\n",
       "0  01432; MA; Boston-Cambridge-Newton; Middlesex ...  01432  None   \n",
       "1  01432; MA; Boston-Cambridge-Newton; Middlesex ...  01432  None   \n",
       "2  01432; MA; Boston-Cambridge-Newton; Middlesex ...  01432  None   \n",
       "3  01432; MA; Boston-Cambridge-Newton; Middlesex ...  01432  None   \n",
       "4  01432; MA; Boston-Cambridge-Newton; Middlesex ...  01432  None   \n",
       "\n",
       "                                                city             county  \\\n",
       "0  01432; MA; Boston-Cambridge-Newton; Middlesex ...   Middlesex County   \n",
       "1  01432; MA; Boston-Cambridge-Newton; Middlesex ...   Middlesex County   \n",
       "2  01432; MA; Boston-Cambridge-Newton; Middlesex ...   Middlesex County   \n",
       "3  01432; MA; Boston-Cambridge-Newton; Middlesex ...   Middlesex County   \n",
       "4  01432; MA; Boston-Cambridge-Newton; Middlesex ...   Middlesex County   \n",
       "\n",
       "  neighborhood  \n",
       "0         Ayer  \n",
       "1         Ayer  \n",
       "2         Ayer  \n",
       "3         Ayer  \n",
       "4         Ayer  "
      ],
      "text/html": "<div>\n<style scoped>\n    .dataframe tbody tr th:only-of-type {\n        vertical-align: middle;\n    }\n\n    .dataframe tbody tr th {\n        vertical-align: top;\n    }\n\n    .dataframe thead th {\n        text-align: right;\n    }\n</style>\n<table border=\"1\" class=\"dataframe\">\n  <thead>\n    <tr style=\"text-align: right;\">\n      <th></th>\n      <th>indicator_id</th>\n      <th>region_id</th>\n      <th>date</th>\n      <th>value</th>\n      <th>region_type</th>\n      <th>region</th>\n      <th>zip</th>\n      <th>state</th>\n      <th>city</th>\n      <th>county</th>\n      <th>neighborhood</th>\n    </tr>\n  </thead>\n  <tbody>\n    <tr>\n      <th>0</th>\n      <td>RSNA</td>\n      <td>58362</td>\n      <td>2020-09-30</td>\n      <td>1321.0</td>\n      <td>zip</td>\n      <td>01432; MA; Boston-Cambridge-Newton; Middlesex ...</td>\n      <td>01432</td>\n      <td>None</td>\n      <td>01432; MA; Boston-Cambridge-Newton; Middlesex ...</td>\n      <td>Middlesex County</td>\n      <td>Ayer</td>\n    </tr>\n    <tr>\n      <th>1</th>\n      <td>RSNA</td>\n      <td>58362</td>\n      <td>2020-05-31</td>\n      <td>1243.0</td>\n      <td>zip</td>\n      <td>01432; MA; Boston-Cambridge-Newton; Middlesex ...</td>\n      <td>01432</td>\n      <td>None</td>\n      <td>01432; MA; Boston-Cambridge-Newton; Middlesex ...</td>\n      <td>Middlesex County</td>\n      <td>Ayer</td>\n    </tr>\n    <tr>\n      <th>2</th>\n      <td>RSNA</td>\n      <td>58362</td>\n      <td>2020-06-30</td>\n      <td>1220.0</td>\n      <td>zip</td>\n      <td>01432; MA; Boston-Cambridge-Newton; Middlesex ...</td>\n      <td>01432</td>\n      <td>None</td>\n      <td>01432; MA; Boston-Cambridge-Newton; Middlesex ...</td>\n      <td>Middlesex County</td>\n      <td>Ayer</td>\n    </tr>\n    <tr>\n      <th>3</th>\n      <td>RSNA</td>\n      <td>58362</td>\n      <td>2020-07-31</td>\n      <td>1351.0</td>\n      <td>zip</td>\n      <td>01432; MA; Boston-Cambridge-Newton; Middlesex ...</td>\n      <td>01432</td>\n      <td>None</td>\n      <td>01432; MA; Boston-Cambridge-Newton; Middlesex ...</td>\n      <td>Middlesex County</td>\n      <td>Ayer</td>\n    </tr>\n    <tr>\n      <th>4</th>\n      <td>RSSA</td>\n      <td>58362</td>\n      <td>2020-07-31</td>\n      <td>1296.0</td>\n      <td>zip</td>\n      <td>01432; MA; Boston-Cambridge-Newton; Middlesex ...</td>\n      <td>01432</td>\n      <td>None</td>\n      <td>01432; MA; Boston-Cambridge-Newton; Middlesex ...</td>\n      <td>Middlesex County</td>\n      <td>Ayer</td>\n    </tr>\n  </tbody>\n</table>\n</div>"
     },
     "metadata": {},
     "execution_count": 264
    }
   ],
   "source": [
    "rent_per_region.head()"
   ]
  },
  {
   "cell_type": "code",
   "execution_count": 266,
   "metadata": {},
   "outputs": [
    {
     "output_type": "execute_result",
     "data": {
      "text/plain": [
       "  indicator_id        date   value  \\\n",
       "0         RSNA  2020-09-30  1321.0   \n",
       "1         RSNA  2020-05-31  1243.0   \n",
       "2         RSNA  2020-06-30  1220.0   \n",
       "3         RSNA  2020-07-31  1351.0   \n",
       "4         RSSA  2020-07-31  1296.0   \n",
       "\n",
       "                                              region    zip  \n",
       "0  01432; MA; Boston-Cambridge-Newton; Middlesex ...  01432  \n",
       "1  01432; MA; Boston-Cambridge-Newton; Middlesex ...  01432  \n",
       "2  01432; MA; Boston-Cambridge-Newton; Middlesex ...  01432  \n",
       "3  01432; MA; Boston-Cambridge-Newton; Middlesex ...  01432  \n",
       "4  01432; MA; Boston-Cambridge-Newton; Middlesex ...  01432  "
      ],
      "text/html": "<div>\n<style scoped>\n    .dataframe tbody tr th:only-of-type {\n        vertical-align: middle;\n    }\n\n    .dataframe tbody tr th {\n        vertical-align: top;\n    }\n\n    .dataframe thead th {\n        text-align: right;\n    }\n</style>\n<table border=\"1\" class=\"dataframe\">\n  <thead>\n    <tr style=\"text-align: right;\">\n      <th></th>\n      <th>indicator_id</th>\n      <th>date</th>\n      <th>value</th>\n      <th>region</th>\n      <th>zip</th>\n    </tr>\n  </thead>\n  <tbody>\n    <tr>\n      <th>0</th>\n      <td>RSNA</td>\n      <td>2020-09-30</td>\n      <td>1321.0</td>\n      <td>01432; MA; Boston-Cambridge-Newton; Middlesex ...</td>\n      <td>01432</td>\n    </tr>\n    <tr>\n      <th>1</th>\n      <td>RSNA</td>\n      <td>2020-05-31</td>\n      <td>1243.0</td>\n      <td>01432; MA; Boston-Cambridge-Newton; Middlesex ...</td>\n      <td>01432</td>\n    </tr>\n    <tr>\n      <th>2</th>\n      <td>RSNA</td>\n      <td>2020-06-30</td>\n      <td>1220.0</td>\n      <td>01432; MA; Boston-Cambridge-Newton; Middlesex ...</td>\n      <td>01432</td>\n    </tr>\n    <tr>\n      <th>3</th>\n      <td>RSNA</td>\n      <td>2020-07-31</td>\n      <td>1351.0</td>\n      <td>01432; MA; Boston-Cambridge-Newton; Middlesex ...</td>\n      <td>01432</td>\n    </tr>\n    <tr>\n      <th>4</th>\n      <td>RSSA</td>\n      <td>2020-07-31</td>\n      <td>1296.0</td>\n      <td>01432; MA; Boston-Cambridge-Newton; Middlesex ...</td>\n      <td>01432</td>\n    </tr>\n  </tbody>\n</table>\n</div>"
     },
     "metadata": {},
     "execution_count": 266
    }
   ],
   "source": [
    "rent_per_region = rent_per_region[['indicator_id', 'date', 'value', 'region', 'zip']]\n",
    "rent_per_region.head()"
   ]
  },
  {
   "cell_type": "code",
   "execution_count": 265,
   "metadata": {},
   "outputs": [
    {
     "output_type": "execute_result",
     "data": {
      "text/plain": [
       "       zip       lat       lng         city state_id     state_name  \\\n",
       "176  01062  42.32188 -72.69278     Florence       MA  Massachusetts   \n",
       "192  01083  42.20382 -72.19495       Warren       MA  Massachusetts   \n",
       "205  01103  42.10400 -72.59210  Springfield       MA  Massachusetts   \n",
       "206  01104  42.13404 -72.56679  Springfield       MA  Massachusetts   \n",
       "207  01105  42.09917 -72.57899  Springfield       MA  Massachusetts   \n",
       "\n",
       "     population  density county_name  \n",
       "176     10364.0    220.4   Hampshire  \n",
       "192      3094.0     75.8   Worcester  \n",
       "205      2332.0   1956.6     Hampden  \n",
       "206     23740.0   1757.3     Hampden  \n",
       "207     11841.0   3678.4     Hampden  "
      ],
      "text/html": "<div>\n<style scoped>\n    .dataframe tbody tr th:only-of-type {\n        vertical-align: middle;\n    }\n\n    .dataframe tbody tr th {\n        vertical-align: top;\n    }\n\n    .dataframe thead th {\n        text-align: right;\n    }\n</style>\n<table border=\"1\" class=\"dataframe\">\n  <thead>\n    <tr style=\"text-align: right;\">\n      <th></th>\n      <th>zip</th>\n      <th>lat</th>\n      <th>lng</th>\n      <th>city</th>\n      <th>state_id</th>\n      <th>state_name</th>\n      <th>population</th>\n      <th>density</th>\n      <th>county_name</th>\n    </tr>\n  </thead>\n  <tbody>\n    <tr>\n      <th>176</th>\n      <td>01062</td>\n      <td>42.32188</td>\n      <td>-72.69278</td>\n      <td>Florence</td>\n      <td>MA</td>\n      <td>Massachusetts</td>\n      <td>10364.0</td>\n      <td>220.4</td>\n      <td>Hampshire</td>\n    </tr>\n    <tr>\n      <th>192</th>\n      <td>01083</td>\n      <td>42.20382</td>\n      <td>-72.19495</td>\n      <td>Warren</td>\n      <td>MA</td>\n      <td>Massachusetts</td>\n      <td>3094.0</td>\n      <td>75.8</td>\n      <td>Worcester</td>\n    </tr>\n    <tr>\n      <th>205</th>\n      <td>01103</td>\n      <td>42.10400</td>\n      <td>-72.59210</td>\n      <td>Springfield</td>\n      <td>MA</td>\n      <td>Massachusetts</td>\n      <td>2332.0</td>\n      <td>1956.6</td>\n      <td>Hampden</td>\n    </tr>\n    <tr>\n      <th>206</th>\n      <td>01104</td>\n      <td>42.13404</td>\n      <td>-72.56679</td>\n      <td>Springfield</td>\n      <td>MA</td>\n      <td>Massachusetts</td>\n      <td>23740.0</td>\n      <td>1757.3</td>\n      <td>Hampden</td>\n    </tr>\n    <tr>\n      <th>207</th>\n      <td>01105</td>\n      <td>42.09917</td>\n      <td>-72.57899</td>\n      <td>Springfield</td>\n      <td>MA</td>\n      <td>Massachusetts</td>\n      <td>11841.0</td>\n      <td>3678.4</td>\n      <td>Hampden</td>\n    </tr>\n  </tbody>\n</table>\n</div>"
     },
     "metadata": {},
     "execution_count": 265
    }
   ],
   "source": [
    "zips.head()"
   ]
  },
  {
   "cell_type": "code",
   "execution_count": 267,
   "metadata": {},
   "outputs": [
    {
     "output_type": "execute_result",
     "data": {
      "text/plain": [
       "  indicator_id        date   value                                  region  \\\n",
       "0         RSNA  2020-08-31  1375.0  01603; MA; Worcester; Worcester County   \n",
       "1         RSNA  2020-07-31  1402.0  01603; MA; Worcester; Worcester County   \n",
       "2         RSNA  2020-06-30  1439.0  01603; MA; Worcester; Worcester County   \n",
       "3         RSNA  2020-11-30  1465.0  01603; MA; Worcester; Worcester County   \n",
       "4         RSNA  2020-10-31  1566.0  01603; MA; Worcester; Worcester County   \n",
       "\n",
       "     zip       lat       lng       city state_id     state_name  population  \\\n",
       "0  01603  42.24407 -71.84445  Worcester       MA  Massachusetts     19731.0   \n",
       "1  01603  42.24407 -71.84445  Worcester       MA  Massachusetts     19731.0   \n",
       "2  01603  42.24407 -71.84445  Worcester       MA  Massachusetts     19731.0   \n",
       "3  01603  42.24407 -71.84445  Worcester       MA  Massachusetts     19731.0   \n",
       "4  01603  42.24407 -71.84445  Worcester       MA  Massachusetts     19731.0   \n",
       "\n",
       "   density county_name  \n",
       "0   1688.4   Worcester  \n",
       "1   1688.4   Worcester  \n",
       "2   1688.4   Worcester  \n",
       "3   1688.4   Worcester  \n",
       "4   1688.4   Worcester  "
      ],
      "text/html": "<div>\n<style scoped>\n    .dataframe tbody tr th:only-of-type {\n        vertical-align: middle;\n    }\n\n    .dataframe tbody tr th {\n        vertical-align: top;\n    }\n\n    .dataframe thead th {\n        text-align: right;\n    }\n</style>\n<table border=\"1\" class=\"dataframe\">\n  <thead>\n    <tr style=\"text-align: right;\">\n      <th></th>\n      <th>indicator_id</th>\n      <th>date</th>\n      <th>value</th>\n      <th>region</th>\n      <th>zip</th>\n      <th>lat</th>\n      <th>lng</th>\n      <th>city</th>\n      <th>state_id</th>\n      <th>state_name</th>\n      <th>population</th>\n      <th>density</th>\n      <th>county_name</th>\n    </tr>\n  </thead>\n  <tbody>\n    <tr>\n      <th>0</th>\n      <td>RSNA</td>\n      <td>2020-08-31</td>\n      <td>1375.0</td>\n      <td>01603; MA; Worcester; Worcester County</td>\n      <td>01603</td>\n      <td>42.24407</td>\n      <td>-71.84445</td>\n      <td>Worcester</td>\n      <td>MA</td>\n      <td>Massachusetts</td>\n      <td>19731.0</td>\n      <td>1688.4</td>\n      <td>Worcester</td>\n    </tr>\n    <tr>\n      <th>1</th>\n      <td>RSNA</td>\n      <td>2020-07-31</td>\n      <td>1402.0</td>\n      <td>01603; MA; Worcester; Worcester County</td>\n      <td>01603</td>\n      <td>42.24407</td>\n      <td>-71.84445</td>\n      <td>Worcester</td>\n      <td>MA</td>\n      <td>Massachusetts</td>\n      <td>19731.0</td>\n      <td>1688.4</td>\n      <td>Worcester</td>\n    </tr>\n    <tr>\n      <th>2</th>\n      <td>RSNA</td>\n      <td>2020-06-30</td>\n      <td>1439.0</td>\n      <td>01603; MA; Worcester; Worcester County</td>\n      <td>01603</td>\n      <td>42.24407</td>\n      <td>-71.84445</td>\n      <td>Worcester</td>\n      <td>MA</td>\n      <td>Massachusetts</td>\n      <td>19731.0</td>\n      <td>1688.4</td>\n      <td>Worcester</td>\n    </tr>\n    <tr>\n      <th>3</th>\n      <td>RSNA</td>\n      <td>2020-11-30</td>\n      <td>1465.0</td>\n      <td>01603; MA; Worcester; Worcester County</td>\n      <td>01603</td>\n      <td>42.24407</td>\n      <td>-71.84445</td>\n      <td>Worcester</td>\n      <td>MA</td>\n      <td>Massachusetts</td>\n      <td>19731.0</td>\n      <td>1688.4</td>\n      <td>Worcester</td>\n    </tr>\n    <tr>\n      <th>4</th>\n      <td>RSNA</td>\n      <td>2020-10-31</td>\n      <td>1566.0</td>\n      <td>01603; MA; Worcester; Worcester County</td>\n      <td>01603</td>\n      <td>42.24407</td>\n      <td>-71.84445</td>\n      <td>Worcester</td>\n      <td>MA</td>\n      <td>Massachusetts</td>\n      <td>19731.0</td>\n      <td>1688.4</td>\n      <td>Worcester</td>\n    </tr>\n  </tbody>\n</table>\n</div>"
     },
     "metadata": {},
     "execution_count": 267
    }
   ],
   "source": [
    "rent_data = rent_per_region.merge(zips, on=\"zip\", how = 'inner')\n",
    "rent_data.head()"
   ]
  },
  {
   "cell_type": "code",
   "execution_count": 268,
   "metadata": {},
   "outputs": [
    {
     "output_type": "execute_result",
     "data": {
      "text/plain": [
       "(213209, 13)"
      ]
     },
     "metadata": {},
     "execution_count": 268
    }
   ],
   "source": [
    "rent_data.shape"
   ]
  },
  {
   "cell_type": "code",
   "execution_count": null,
   "metadata": {},
   "outputs": [],
   "source": []
  }
 ]
}