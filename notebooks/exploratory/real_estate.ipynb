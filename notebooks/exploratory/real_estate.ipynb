{
 "metadata": {
  "language_info": {
   "codemirror_mode": {
    "name": "ipython",
    "version": 3
   },
   "file_extension": ".py",
   "mimetype": "text/x-python",
   "name": "python",
   "nbconvert_exporter": "python",
   "pygments_lexer": "ipython3",
   "version": "3.9.1-final"
  },
  "orig_nbformat": 2,
  "kernelspec": {
   "name": "python391jvsc74a57bd0082af1650e730c5df6538c415e19acdbd1534014daa300d1a88acc9c3c5bfca9",
   "display_name": "Python 3.9.1 64-bit ('labspt15-cityspire-g-ds': pipenv)"
  }
 },
 "nbformat": 4,
 "nbformat_minor": 2,
 "cells": [
  {
   "source": [
    "# Zillow Data via Quandl"
   ],
   "cell_type": "markdown",
   "metadata": {}
  },
  {
   "cell_type": "code",
   "execution_count": 148,
   "metadata": {},
   "outputs": [],
   "source": [
    "import os\n",
    "import sys\n",
    "import quandl\n",
    "import seaborn as sns\n",
    "import pandas as pd\n",
    "import numpy as np\n",
    "import matplotlib.pyplot as plt\n",
    "from uszipcode import SearchEngine\n",
    "\n",
    "# sys.path.append('C:Users/Rob/repos/labspt15-cityspire-g-ds')\n",
    "# sys.path\n",
    "\n",
    "# path = r'C:\\Users\\Rob\\repos\\\\'\n",
    "# path == r'V:\\\\'"
   ]
  },
  {
   "source": [
    "### ALTERNATE IMPORTS\n"
   ],
   "cell_type": "markdown",
   "metadata": {}
  },
  {
   "cell_type": "code",
   "execution_count": 224,
   "metadata": {},
   "outputs": [],
   "source": [
    "# libraries and math functions\n",
    "import os\n",
    "import sys\n",
    "import quandl\n",
    "import random\n",
    "import pandas_profiling\n",
    "import pandas as pd\n",
    "import numpy as np\n",
    "from scipy.io import arff # for loading .arff file\n",
    "from scipy.stats import randint, uniform\n",
    "\n",
    "\n",
    "# imports for pipeline and regression\n",
    "import category_encoders as ce\n",
    "from sklearn.model_selection import train_test_split, cross_val_score\n",
    "from sklearn.model_selection import GridSearchCV, RandomizedSearchCV\n",
    "from sklearn.model_selection import validation_curve\n",
    "from sklearn.pipeline import make_pipeline, Pipeline\n",
    "from sklearn.experimental import enable_iterative_imputer\n",
    "from sklearn.impute import IterativeImputer, SimpleImputer\n",
    "from sklearn.linear_model import LogisticRegression, Ridge\n",
    "from sklearn.preprocessing import StandardScaler\n",
    "from sklearn.tree import DecisionTreeClassifier, DecisionTreeRegressor\n",
    "from sklearn.ensemble import RandomForestClassifier, RandomForestRegressor\n",
    "from sklearn.feature_selection import f_regression, SelectKBest\n",
    "from sklearn.cluster import KMeans\n",
    "from sklearn.metrics import confusion_matrix, accuracy_score, r2_score\n",
    "from sklearn.metrics import classification_report, roc_auc_score, roc_curve\n",
    "from sklearn.utils.multiclass import unique_labels\n",
    "\n",
    "# plotting\n",
    "%matplotlib inline\n",
    "import matplotlib.pyplot as plt\n",
    "import seaborn as sns\n",
    "import plotly.express as px"
   ]
  },
  {
   "cell_type": "code",
   "execution_count": 149,
   "metadata": {},
   "outputs": [],
   "source": [
    "# quandl.ApiConfig.api_key = 'rfzykh-NDsw72dmc4Ms4'"
   ]
  },
  {
   "cell_type": "code",
   "execution_count": 150,
   "metadata": {},
   "outputs": [],
   "source": [
    "# data = quandl.get_table('MER/F1', compnumber=\"39102\", paginate=True)"
   ]
  },
  {
   "cell_type": "code",
   "execution_count": 151,
   "metadata": {},
   "outputs": [],
   "source": [
    "# quandl.ApiConfig.api_key = 'rfzykh-NDsw72dmc4Ms4'\n",
    "# quandl.get_table('ZILLOW/DATA', indicator_id='ZSFH', region_id='99999')"
   ]
  },
  {
   "source": [
    "## Data"
   ],
   "cell_type": "markdown",
   "metadata": {}
  },
  {
   "cell_type": "code",
   "execution_count": 152,
   "metadata": {},
   "outputs": [
    {
     "output_type": "execute_result",
     "data": {
      "text/plain": [
       "  indicator_id  region_id        date     value\n",
       "0         ZATT       3101  1998-01-31  338849.0\n",
       "1         ZATT       3101  1998-02-28  342993.0\n",
       "2         ZATT       3101  1998-03-31  346763.0\n",
       "3         ZATT       3101  1998-04-30  349356.0\n",
       "4         ZATT       3101  1998-05-31  351981.0"
      ],
      "text/html": "<div>\n<style scoped>\n    .dataframe tbody tr th:only-of-type {\n        vertical-align: middle;\n    }\n\n    .dataframe tbody tr th {\n        vertical-align: top;\n    }\n\n    .dataframe thead th {\n        text-align: right;\n    }\n</style>\n<table border=\"1\" class=\"dataframe\">\n  <thead>\n    <tr style=\"text-align: right;\">\n      <th></th>\n      <th>indicator_id</th>\n      <th>region_id</th>\n      <th>date</th>\n      <th>value</th>\n    </tr>\n  </thead>\n  <tbody>\n    <tr>\n      <th>0</th>\n      <td>ZATT</td>\n      <td>3101</td>\n      <td>1998-01-31</td>\n      <td>338849.0</td>\n    </tr>\n    <tr>\n      <th>1</th>\n      <td>ZATT</td>\n      <td>3101</td>\n      <td>1998-02-28</td>\n      <td>342993.0</td>\n    </tr>\n    <tr>\n      <th>2</th>\n      <td>ZATT</td>\n      <td>3101</td>\n      <td>1998-03-31</td>\n      <td>346763.0</td>\n    </tr>\n    <tr>\n      <th>3</th>\n      <td>ZATT</td>\n      <td>3101</td>\n      <td>1998-04-30</td>\n      <td>349356.0</td>\n    </tr>\n    <tr>\n      <th>4</th>\n      <td>ZATT</td>\n      <td>3101</td>\n      <td>1998-05-31</td>\n      <td>351981.0</td>\n    </tr>\n  </tbody>\n</table>\n</div>"
     },
     "metadata": {},
     "execution_count": 152
    }
   ],
   "source": [
    "data = pd.read_csv(\"V:\\ZILLOW_DATA.csv\")\n",
    "data.head()"
   ]
  },
  {
   "cell_type": "code",
   "execution_count": 153,
   "metadata": {},
   "outputs": [
    {
     "output_type": "execute_result",
     "data": {
      "text/plain": [
       "125528409"
      ]
     },
     "metadata": {},
     "execution_count": 153
    }
   ],
   "source": [
    "len(data) #125.5 million lines!!"
   ]
  },
  {
   "cell_type": "code",
   "execution_count": 154,
   "metadata": {},
   "outputs": [
    {
     "output_type": "execute_result",
     "data": {
      "text/plain": [
       "array(['ZATT', 'ZSFH', 'ZALL', 'ZCON', 'ZABT', 'Z5BR', 'Z2BR', 'Z3BR',\n",
       "       'Z1BR', 'Z4BR', 'ISAW', 'SSAW', 'IRAM', 'CRSM', 'CSSM', 'MSAM',\n",
       "       'IRAW', 'MRAM', 'SSSW', 'LSSM', 'CSAW', 'ISSM', 'SASW', 'MRAW',\n",
       "       'LRAM', 'ISSW', 'MSAW', 'LSAM', 'CRAM', 'ISAM', 'IRSM', 'SRSW',\n",
       "       'LSAW', 'NRAW', 'NSAW', 'CRSW', 'SSAM', 'IRSW', 'NRAM', 'CRAW',\n",
       "       'LRSM', 'SASM', 'SSSM', 'SAAM', 'LRAW', 'CSAM', 'SRAW', 'CSSW',\n",
       "       'LRSW', 'SRSM', 'SAAW', 'LSSW', 'SRAM', 'NSAM', 'RSNA', 'RSSA'],\n",
       "      dtype=object)"
      ]
     },
     "metadata": {},
     "execution_count": 154
    }
   ],
   "source": [
    "data['indicator_id'].unique()"
   ]
  },
  {
   "cell_type": "code",
   "execution_count": 155,
   "metadata": {},
   "outputs": [],
   "source": [
    "rental_data = data[data['indicator_id'].isin(['RSSA', 'RSNA'])] # Just rent\n",
    "# rental_data = data[data['indicator_id'].isin(['RSSA', 'RSNA', 'Z1BR', 'Z2BR', 'Z3BR'])] # rent and 1-3 bed home values"
   ]
  },
  {
   "cell_type": "code",
   "execution_count": 156,
   "metadata": {},
   "outputs": [
    {
     "output_type": "stream",
     "name": "stdout",
     "text": [
      "535891\n(535891, 4)\n"
     ]
    },
    {
     "output_type": "execute_result",
     "data": {
      "text/plain": [
       "        indicator_id  region_id        date   value\n",
       "1586389         RSNA     102001  2020-06-30  1777.0\n",
       "1586392         RSNA     394913  2020-06-30  2811.0\n",
       "1586396         RSNA     753899  2020-06-30  2625.0\n",
       "1586400         RSNA     394463  2020-06-30  1804.0\n",
       "1586403         RSNA     394514  2020-06-30  1611.0"
      ],
      "text/html": "<div>\n<style scoped>\n    .dataframe tbody tr th:only-of-type {\n        vertical-align: middle;\n    }\n\n    .dataframe tbody tr th {\n        vertical-align: top;\n    }\n\n    .dataframe thead th {\n        text-align: right;\n    }\n</style>\n<table border=\"1\" class=\"dataframe\">\n  <thead>\n    <tr style=\"text-align: right;\">\n      <th></th>\n      <th>indicator_id</th>\n      <th>region_id</th>\n      <th>date</th>\n      <th>value</th>\n    </tr>\n  </thead>\n  <tbody>\n    <tr>\n      <th>1586389</th>\n      <td>RSNA</td>\n      <td>102001</td>\n      <td>2020-06-30</td>\n      <td>1777.0</td>\n    </tr>\n    <tr>\n      <th>1586392</th>\n      <td>RSNA</td>\n      <td>394913</td>\n      <td>2020-06-30</td>\n      <td>2811.0</td>\n    </tr>\n    <tr>\n      <th>1586396</th>\n      <td>RSNA</td>\n      <td>753899</td>\n      <td>2020-06-30</td>\n      <td>2625.0</td>\n    </tr>\n    <tr>\n      <th>1586400</th>\n      <td>RSNA</td>\n      <td>394463</td>\n      <td>2020-06-30</td>\n      <td>1804.0</td>\n    </tr>\n    <tr>\n      <th>1586403</th>\n      <td>RSNA</td>\n      <td>394514</td>\n      <td>2020-06-30</td>\n      <td>1611.0</td>\n    </tr>\n  </tbody>\n</table>\n</div>"
     },
     "metadata": {},
     "execution_count": 156
    }
   ],
   "source": [
    "print(len(rental_data))\n",
    "print(rental_data.shape)\n",
    "rental_data.head()"
   ]
  },
  {
   "cell_type": "code",
   "execution_count": 157,
   "metadata": {},
   "outputs": [
    {
     "output_type": "stream",
     "name": "stdout",
     "text": [
      "average rent:  1686\n"
     ]
    }
   ],
   "source": [
    "print('average rent: ', round(sum(rental_data['value']) / len(rental_data)))"
   ]
  },
  {
   "source": [
    "## Indicators"
   ],
   "cell_type": "markdown",
   "metadata": {}
  },
  {
   "cell_type": "code",
   "execution_count": 158,
   "metadata": {},
   "outputs": [
    {
     "output_type": "execute_result",
     "data": {
      "text/plain": [
       "  indicator_id                                          indicator     category\n",
       "0         ZATT           ZHVI All Homes- Top Tier Time Series ($)  Home values\n",
       "1         ZSFH           ZHVI Single-Family Homes Time Series ($)  Home values\n",
       "2         ZALL  ZHVI All Homes (SFR, Condo/Co-op) Time Series ($)  Home values\n",
       "3         ZCON                   ZHVI Condo/Co-op Time Series ($)  Home values\n",
       "4         ZABT        ZHVI All Homes- Bottom Tier Time Series ($)  Home values"
      ],
      "text/html": "<div>\n<style scoped>\n    .dataframe tbody tr th:only-of-type {\n        vertical-align: middle;\n    }\n\n    .dataframe tbody tr th {\n        vertical-align: top;\n    }\n\n    .dataframe thead th {\n        text-align: right;\n    }\n</style>\n<table border=\"1\" class=\"dataframe\">\n  <thead>\n    <tr style=\"text-align: right;\">\n      <th></th>\n      <th>indicator_id</th>\n      <th>indicator</th>\n      <th>category</th>\n    </tr>\n  </thead>\n  <tbody>\n    <tr>\n      <th>0</th>\n      <td>ZATT</td>\n      <td>ZHVI All Homes- Top Tier Time Series ($)</td>\n      <td>Home values</td>\n    </tr>\n    <tr>\n      <th>1</th>\n      <td>ZSFH</td>\n      <td>ZHVI Single-Family Homes Time Series ($)</td>\n      <td>Home values</td>\n    </tr>\n    <tr>\n      <th>2</th>\n      <td>ZALL</td>\n      <td>ZHVI All Homes (SFR, Condo/Co-op) Time Series ($)</td>\n      <td>Home values</td>\n    </tr>\n    <tr>\n      <th>3</th>\n      <td>ZCON</td>\n      <td>ZHVI Condo/Co-op Time Series ($)</td>\n      <td>Home values</td>\n    </tr>\n    <tr>\n      <th>4</th>\n      <td>ZABT</td>\n      <td>ZHVI All Homes- Bottom Tier Time Series ($)</td>\n      <td>Home values</td>\n    </tr>\n  </tbody>\n</table>\n</div>"
     },
     "metadata": {},
     "execution_count": 158
    }
   ],
   "source": [
    "indicators = pd.read_csv('V:\\ZILLOW_INDICATORS.csv')\n",
    "indicators.head()"
   ]
  },
  {
   "cell_type": "code",
   "execution_count": 159,
   "metadata": {},
   "outputs": [
    {
     "output_type": "execute_result",
     "data": {
      "text/plain": [
       "array(['ZATT', 'ZSFH', 'ZALL', 'ZCON', 'ZABT', 'Z5BR', 'Z2BR', 'Z3BR',\n",
       "       'Z1BR', 'LSAW', 'NRAW', 'NSAW', 'CRSW', 'SSAM', 'IRSW', 'NRAM',\n",
       "       'CRAW', 'LRSM', 'SASM', 'SSSM', 'SAAM', 'LRAW', 'CSAM', 'SRAW',\n",
       "       'CSSW', 'LRSW', 'SRSM', 'SAAW', 'LSSW', 'SRAM', 'NSAM', 'RSNA',\n",
       "       'RSSA', 'Z4BR', 'ISAW', 'SSAW', 'IRAM', 'CRSM', 'CSSM', 'MSAM',\n",
       "       'IRAW', 'MRAM', 'SSSW', 'LSSM', 'CSAW', 'ISSM', 'SASW', 'MRAW',\n",
       "       'LRAM', 'ISSW', 'MSAW', 'LSAM', 'CRAM', 'ISAM', 'IRSM', 'SRSW'],\n",
       "      dtype=object)"
      ]
     },
     "metadata": {},
     "execution_count": 159
    }
   ],
   "source": [
    "indicators['indicator_id'].unique()"
   ]
  },
  {
   "cell_type": "code",
   "execution_count": 160,
   "metadata": {},
   "outputs": [
    {
     "output_type": "execute_result",
     "data": {
      "text/plain": [
       "   indicator_id                                          indicator  \\\n",
       "0          ZATT           ZHVI All Homes- Top Tier Time Series ($)   \n",
       "1          ZSFH           ZHVI Single-Family Homes Time Series ($)   \n",
       "2          ZALL  ZHVI All Homes (SFR, Condo/Co-op) Time Series ($)   \n",
       "3          ZCON                   ZHVI Condo/Co-op Time Series ($)   \n",
       "4          ZABT        ZHVI All Homes- Bottom Tier Time Series ($)   \n",
       "5          Z5BR                    ZHVI 5+ Bedroom Time Series ($)   \n",
       "6          Z2BR                     ZHVI 2-Bedroom Time Series ($)   \n",
       "7          Z3BR                     ZHVI 3-Bedroom Time Series ($)   \n",
       "8          Z1BR                     ZHVI 1-Bedroom Time Series ($)   \n",
       "9          LSAW  Median List Price (Smooth, All Homes, Weekly V...   \n",
       "10         NRAW  Median Days to Pending (Raw, All Homes, Weekly...   \n",
       "11         NSAW  Median Days to Pending (Smooth, All Homes, Wee...   \n",
       "12         CRSW  Share of Listings With a Price Cut (Raw, SFR O...   \n",
       "13         SSAM     Median Sale Price (Smooth, All Homes, Monthly)   \n",
       "14         IRSW    For-sale Inventory (Raw, SFR only, Weekly View)   \n",
       "15         NRAM   Median Days to Pending (Raw, All Homes, Monthly)   \n",
       "16         CRAW  Share of Listings With a Price Cut (Raw, All H...   \n",
       "17         LRSM         Median List Price (Raw, SFR Only, Monthly)   \n",
       "18         SASM  Median Sale Price (Smooth & Seasonally Adjuste...   \n",
       "19         SSSM      Median Sale Price (Smooth, SFR only, Monthly)   \n",
       "20         SAAM  Median Sale Price (Smooth & Seasonally Adjuste...   \n",
       "21         LRAW    Median List Price (Raw, All Homes, Weekly View)   \n",
       "22         CSAM  Share of Listings With a Price Cut (Smooth, Al...   \n",
       "23         SRAW    Median Sale Price (Raw, All Homes, Weekly View)   \n",
       "24         CSSW  Share of Listings With a Price Cut (Smooth, SF...   \n",
       "25         LRSW     Median List Price (Raw, SFR Only, Weekly View)   \n",
       "26         SRSM         Median Sale Price (Raw, SFR only, Monthly)   \n",
       "27         SAAW  Median Sale Price (Smooth & Seasonally Adjuste...   \n",
       "28         LSSW  Median List Price (Smooth, SFR Only, Weekly View)   \n",
       "29         SRAM        Median Sale Price (Raw, All Homes, Monthly)   \n",
       "30         NSAM  Median Days to Pending (Smooth, All Homes, Mon...   \n",
       "31         RSNA  ZORI (Smoothed): All Homes Plus Multifamily Ti...   \n",
       "32         RSSA  ZORI (Smoothed, Seasonally Adjusted): All Home...   \n",
       "33         Z4BR                     ZHVI 4-Bedroom Time Series ($)   \n",
       "34         ISAW  For-Sale Inventory (Smooth, All Homes, Weekly ...   \n",
       "35         SSAW  Median Sale Price (Smooth, All Homes, Weekly V...   \n",
       "36         IRAM       For-Sale Inventory (Raw, All Homes, Monthly)   \n",
       "37         CRSM  Share of Listings With a Price Cut (Raw, SFR O...   \n",
       "38         CSSM  Share of Listings With a Price Cut (Smooth, SF...   \n",
       "39         MSAM  Mean Days to Pending (Smooth, All Homes, Monthly)   \n",
       "40         IRAW   For-Sale Inventory (Raw, All Homes, Weekly View)   \n",
       "41         MRAM     Mean Days to Pending (Raw, All Homes, Monthly)   \n",
       "42         SSSW  Median Sale Price (Smooth, SFR only, Weekly View)   \n",
       "43         LSSM      Median List Price (Smooth, SFR Only, Monthly)   \n",
       "44         CSAW  Share of Listings With a Price Cut (Smooth, Al...   \n",
       "45         ISSM     For-Sale Inventory (Smooth, SFR only, Monthly)   \n",
       "46         SASW  Median Sale Price (Smooth & Seasonally Adjuste...   \n",
       "47         MRAW  Mean Days to Pending (Raw, All Homes, Weekly V...   \n",
       "48         LRAM        Median List Price (Raw, All Homes, Monthly)   \n",
       "49         ISSW  For-Sale Inventory (Smooth, SFR only, Weekly V...   \n",
       "50         MSAW  Mean Days to Pending (Smooth, All Homes, Weekl...   \n",
       "51         LSAM     Median List Price (Smooth, All Homes, Monthly)   \n",
       "52         CRAM  Share of Listings With a Price Cut (Raw, All H...   \n",
       "53         ISAM    For-Sale Inventory (Smooth, All Homes, Monthly)   \n",
       "54         IRSM        For-sale Inventory (Raw, SFR only, Monthly)   \n",
       "55         SRSW     Median Sale Price (Raw, SFR only, Weekly View)   \n",
       "\n",
       "               category  \n",
       "0           Home values  \n",
       "1           Home values  \n",
       "2           Home values  \n",
       "3           Home values  \n",
       "4           Home values  \n",
       "5           Home values  \n",
       "6           Home values  \n",
       "7           Home values  \n",
       "8           Home values  \n",
       "9   Inventory and sales  \n",
       "10  Inventory and sales  \n",
       "11  Inventory and sales  \n",
       "12  Inventory and sales  \n",
       "13  Inventory and sales  \n",
       "14  Inventory and sales  \n",
       "15  Inventory and sales  \n",
       "16  Inventory and sales  \n",
       "17  Inventory and sales  \n",
       "18  Inventory and sales  \n",
       "19  Inventory and sales  \n",
       "20  Inventory and sales  \n",
       "21  Inventory and sales  \n",
       "22  Inventory and sales  \n",
       "23  Inventory and sales  \n",
       "24  Inventory and sales  \n",
       "25  Inventory and sales  \n",
       "26  Inventory and sales  \n",
       "27  Inventory and sales  \n",
       "28  Inventory and sales  \n",
       "29  Inventory and sales  \n",
       "30  Inventory and sales  \n",
       "31              Rentals  \n",
       "32              Rentals  \n",
       "33          Home values  \n",
       "34  Inventory and sales  \n",
       "35  Inventory and sales  \n",
       "36  Inventory and sales  \n",
       "37  Inventory and sales  \n",
       "38  Inventory and sales  \n",
       "39  Inventory and sales  \n",
       "40  Inventory and sales  \n",
       "41  Inventory and sales  \n",
       "42  Inventory and sales  \n",
       "43  Inventory and sales  \n",
       "44  Inventory and sales  \n",
       "45  Inventory and sales  \n",
       "46  Inventory and sales  \n",
       "47  Inventory and sales  \n",
       "48  Inventory and sales  \n",
       "49  Inventory and sales  \n",
       "50  Inventory and sales  \n",
       "51  Inventory and sales  \n",
       "52  Inventory and sales  \n",
       "53  Inventory and sales  \n",
       "54  Inventory and sales  \n",
       "55  Inventory and sales  "
      ],
      "text/html": "<div>\n<style scoped>\n    .dataframe tbody tr th:only-of-type {\n        vertical-align: middle;\n    }\n\n    .dataframe tbody tr th {\n        vertical-align: top;\n    }\n\n    .dataframe thead th {\n        text-align: right;\n    }\n</style>\n<table border=\"1\" class=\"dataframe\">\n  <thead>\n    <tr style=\"text-align: right;\">\n      <th></th>\n      <th>indicator_id</th>\n      <th>indicator</th>\n      <th>category</th>\n    </tr>\n  </thead>\n  <tbody>\n    <tr>\n      <th>0</th>\n      <td>ZATT</td>\n      <td>ZHVI All Homes- Top Tier Time Series ($)</td>\n      <td>Home values</td>\n    </tr>\n    <tr>\n      <th>1</th>\n      <td>ZSFH</td>\n      <td>ZHVI Single-Family Homes Time Series ($)</td>\n      <td>Home values</td>\n    </tr>\n    <tr>\n      <th>2</th>\n      <td>ZALL</td>\n      <td>ZHVI All Homes (SFR, Condo/Co-op) Time Series ($)</td>\n      <td>Home values</td>\n    </tr>\n    <tr>\n      <th>3</th>\n      <td>ZCON</td>\n      <td>ZHVI Condo/Co-op Time Series ($)</td>\n      <td>Home values</td>\n    </tr>\n    <tr>\n      <th>4</th>\n      <td>ZABT</td>\n      <td>ZHVI All Homes- Bottom Tier Time Series ($)</td>\n      <td>Home values</td>\n    </tr>\n    <tr>\n      <th>5</th>\n      <td>Z5BR</td>\n      <td>ZHVI 5+ Bedroom Time Series ($)</td>\n      <td>Home values</td>\n    </tr>\n    <tr>\n      <th>6</th>\n      <td>Z2BR</td>\n      <td>ZHVI 2-Bedroom Time Series ($)</td>\n      <td>Home values</td>\n    </tr>\n    <tr>\n      <th>7</th>\n      <td>Z3BR</td>\n      <td>ZHVI 3-Bedroom Time Series ($)</td>\n      <td>Home values</td>\n    </tr>\n    <tr>\n      <th>8</th>\n      <td>Z1BR</td>\n      <td>ZHVI 1-Bedroom Time Series ($)</td>\n      <td>Home values</td>\n    </tr>\n    <tr>\n      <th>9</th>\n      <td>LSAW</td>\n      <td>Median List Price (Smooth, All Homes, Weekly V...</td>\n      <td>Inventory and sales</td>\n    </tr>\n    <tr>\n      <th>10</th>\n      <td>NRAW</td>\n      <td>Median Days to Pending (Raw, All Homes, Weekly...</td>\n      <td>Inventory and sales</td>\n    </tr>\n    <tr>\n      <th>11</th>\n      <td>NSAW</td>\n      <td>Median Days to Pending (Smooth, All Homes, Wee...</td>\n      <td>Inventory and sales</td>\n    </tr>\n    <tr>\n      <th>12</th>\n      <td>CRSW</td>\n      <td>Share of Listings With a Price Cut (Raw, SFR O...</td>\n      <td>Inventory and sales</td>\n    </tr>\n    <tr>\n      <th>13</th>\n      <td>SSAM</td>\n      <td>Median Sale Price (Smooth, All Homes, Monthly)</td>\n      <td>Inventory and sales</td>\n    </tr>\n    <tr>\n      <th>14</th>\n      <td>IRSW</td>\n      <td>For-sale Inventory (Raw, SFR only, Weekly View)</td>\n      <td>Inventory and sales</td>\n    </tr>\n    <tr>\n      <th>15</th>\n      <td>NRAM</td>\n      <td>Median Days to Pending (Raw, All Homes, Monthly)</td>\n      <td>Inventory and sales</td>\n    </tr>\n    <tr>\n      <th>16</th>\n      <td>CRAW</td>\n      <td>Share of Listings With a Price Cut (Raw, All H...</td>\n      <td>Inventory and sales</td>\n    </tr>\n    <tr>\n      <th>17</th>\n      <td>LRSM</td>\n      <td>Median List Price (Raw, SFR Only, Monthly)</td>\n      <td>Inventory and sales</td>\n    </tr>\n    <tr>\n      <th>18</th>\n      <td>SASM</td>\n      <td>Median Sale Price (Smooth &amp; Seasonally Adjuste...</td>\n      <td>Inventory and sales</td>\n    </tr>\n    <tr>\n      <th>19</th>\n      <td>SSSM</td>\n      <td>Median Sale Price (Smooth, SFR only, Monthly)</td>\n      <td>Inventory and sales</td>\n    </tr>\n    <tr>\n      <th>20</th>\n      <td>SAAM</td>\n      <td>Median Sale Price (Smooth &amp; Seasonally Adjuste...</td>\n      <td>Inventory and sales</td>\n    </tr>\n    <tr>\n      <th>21</th>\n      <td>LRAW</td>\n      <td>Median List Price (Raw, All Homes, Weekly View)</td>\n      <td>Inventory and sales</td>\n    </tr>\n    <tr>\n      <th>22</th>\n      <td>CSAM</td>\n      <td>Share of Listings With a Price Cut (Smooth, Al...</td>\n      <td>Inventory and sales</td>\n    </tr>\n    <tr>\n      <th>23</th>\n      <td>SRAW</td>\n      <td>Median Sale Price (Raw, All Homes, Weekly View)</td>\n      <td>Inventory and sales</td>\n    </tr>\n    <tr>\n      <th>24</th>\n      <td>CSSW</td>\n      <td>Share of Listings With a Price Cut (Smooth, SF...</td>\n      <td>Inventory and sales</td>\n    </tr>\n    <tr>\n      <th>25</th>\n      <td>LRSW</td>\n      <td>Median List Price (Raw, SFR Only, Weekly View)</td>\n      <td>Inventory and sales</td>\n    </tr>\n    <tr>\n      <th>26</th>\n      <td>SRSM</td>\n      <td>Median Sale Price (Raw, SFR only, Monthly)</td>\n      <td>Inventory and sales</td>\n    </tr>\n    <tr>\n      <th>27</th>\n      <td>SAAW</td>\n      <td>Median Sale Price (Smooth &amp; Seasonally Adjuste...</td>\n      <td>Inventory and sales</td>\n    </tr>\n    <tr>\n      <th>28</th>\n      <td>LSSW</td>\n      <td>Median List Price (Smooth, SFR Only, Weekly View)</td>\n      <td>Inventory and sales</td>\n    </tr>\n    <tr>\n      <th>29</th>\n      <td>SRAM</td>\n      <td>Median Sale Price (Raw, All Homes, Monthly)</td>\n      <td>Inventory and sales</td>\n    </tr>\n    <tr>\n      <th>30</th>\n      <td>NSAM</td>\n      <td>Median Days to Pending (Smooth, All Homes, Mon...</td>\n      <td>Inventory and sales</td>\n    </tr>\n    <tr>\n      <th>31</th>\n      <td>RSNA</td>\n      <td>ZORI (Smoothed): All Homes Plus Multifamily Ti...</td>\n      <td>Rentals</td>\n    </tr>\n    <tr>\n      <th>32</th>\n      <td>RSSA</td>\n      <td>ZORI (Smoothed, Seasonally Adjusted): All Home...</td>\n      <td>Rentals</td>\n    </tr>\n    <tr>\n      <th>33</th>\n      <td>Z4BR</td>\n      <td>ZHVI 4-Bedroom Time Series ($)</td>\n      <td>Home values</td>\n    </tr>\n    <tr>\n      <th>34</th>\n      <td>ISAW</td>\n      <td>For-Sale Inventory (Smooth, All Homes, Weekly ...</td>\n      <td>Inventory and sales</td>\n    </tr>\n    <tr>\n      <th>35</th>\n      <td>SSAW</td>\n      <td>Median Sale Price (Smooth, All Homes, Weekly V...</td>\n      <td>Inventory and sales</td>\n    </tr>\n    <tr>\n      <th>36</th>\n      <td>IRAM</td>\n      <td>For-Sale Inventory (Raw, All Homes, Monthly)</td>\n      <td>Inventory and sales</td>\n    </tr>\n    <tr>\n      <th>37</th>\n      <td>CRSM</td>\n      <td>Share of Listings With a Price Cut (Raw, SFR O...</td>\n      <td>Inventory and sales</td>\n    </tr>\n    <tr>\n      <th>38</th>\n      <td>CSSM</td>\n      <td>Share of Listings With a Price Cut (Smooth, SF...</td>\n      <td>Inventory and sales</td>\n    </tr>\n    <tr>\n      <th>39</th>\n      <td>MSAM</td>\n      <td>Mean Days to Pending (Smooth, All Homes, Monthly)</td>\n      <td>Inventory and sales</td>\n    </tr>\n    <tr>\n      <th>40</th>\n      <td>IRAW</td>\n      <td>For-Sale Inventory (Raw, All Homes, Weekly View)</td>\n      <td>Inventory and sales</td>\n    </tr>\n    <tr>\n      <th>41</th>\n      <td>MRAM</td>\n      <td>Mean Days to Pending (Raw, All Homes, Monthly)</td>\n      <td>Inventory and sales</td>\n    </tr>\n    <tr>\n      <th>42</th>\n      <td>SSSW</td>\n      <td>Median Sale Price (Smooth, SFR only, Weekly View)</td>\n      <td>Inventory and sales</td>\n    </tr>\n    <tr>\n      <th>43</th>\n      <td>LSSM</td>\n      <td>Median List Price (Smooth, SFR Only, Monthly)</td>\n      <td>Inventory and sales</td>\n    </tr>\n    <tr>\n      <th>44</th>\n      <td>CSAW</td>\n      <td>Share of Listings With a Price Cut (Smooth, Al...</td>\n      <td>Inventory and sales</td>\n    </tr>\n    <tr>\n      <th>45</th>\n      <td>ISSM</td>\n      <td>For-Sale Inventory (Smooth, SFR only, Monthly)</td>\n      <td>Inventory and sales</td>\n    </tr>\n    <tr>\n      <th>46</th>\n      <td>SASW</td>\n      <td>Median Sale Price (Smooth &amp; Seasonally Adjuste...</td>\n      <td>Inventory and sales</td>\n    </tr>\n    <tr>\n      <th>47</th>\n      <td>MRAW</td>\n      <td>Mean Days to Pending (Raw, All Homes, Weekly V...</td>\n      <td>Inventory and sales</td>\n    </tr>\n    <tr>\n      <th>48</th>\n      <td>LRAM</td>\n      <td>Median List Price (Raw, All Homes, Monthly)</td>\n      <td>Inventory and sales</td>\n    </tr>\n    <tr>\n      <th>49</th>\n      <td>ISSW</td>\n      <td>For-Sale Inventory (Smooth, SFR only, Weekly V...</td>\n      <td>Inventory and sales</td>\n    </tr>\n    <tr>\n      <th>50</th>\n      <td>MSAW</td>\n      <td>Mean Days to Pending (Smooth, All Homes, Weekl...</td>\n      <td>Inventory and sales</td>\n    </tr>\n    <tr>\n      <th>51</th>\n      <td>LSAM</td>\n      <td>Median List Price (Smooth, All Homes, Monthly)</td>\n      <td>Inventory and sales</td>\n    </tr>\n    <tr>\n      <th>52</th>\n      <td>CRAM</td>\n      <td>Share of Listings With a Price Cut (Raw, All H...</td>\n      <td>Inventory and sales</td>\n    </tr>\n    <tr>\n      <th>53</th>\n      <td>ISAM</td>\n      <td>For-Sale Inventory (Smooth, All Homes, Monthly)</td>\n      <td>Inventory and sales</td>\n    </tr>\n    <tr>\n      <th>54</th>\n      <td>IRSM</td>\n      <td>For-sale Inventory (Raw, SFR only, Monthly)</td>\n      <td>Inventory and sales</td>\n    </tr>\n    <tr>\n      <th>55</th>\n      <td>SRSW</td>\n      <td>Median Sale Price (Raw, SFR only, Weekly View)</td>\n      <td>Inventory and sales</td>\n    </tr>\n  </tbody>\n</table>\n</div>"
     },
     "metadata": {},
     "execution_count": 160
    }
   ],
   "source": [
    "indicators"
   ]
  },
  {
   "cell_type": "code",
   "execution_count": 161,
   "metadata": {},
   "outputs": [
    {
     "output_type": "execute_result",
     "data": {
      "text/plain": [
       "array(['Home values', 'Inventory and sales', 'Rentals'], dtype=object)"
      ]
     },
     "metadata": {},
     "execution_count": 161
    }
   ],
   "source": [
    "indicators['category'].unique()"
   ]
  },
  {
   "cell_type": "code",
   "execution_count": 162,
   "metadata": {},
   "outputs": [
    {
     "output_type": "execute_result",
     "data": {
      "text/plain": [
       "   indicator_id                                          indicator category\n",
       "31         RSNA  ZORI (Smoothed): All Homes Plus Multifamily Ti...  Rentals\n",
       "32         RSSA  ZORI (Smoothed, Seasonally Adjusted): All Home...  Rentals"
      ],
      "text/html": "<div>\n<style scoped>\n    .dataframe tbody tr th:only-of-type {\n        vertical-align: middle;\n    }\n\n    .dataframe tbody tr th {\n        vertical-align: top;\n    }\n\n    .dataframe thead th {\n        text-align: right;\n    }\n</style>\n<table border=\"1\" class=\"dataframe\">\n  <thead>\n    <tr style=\"text-align: right;\">\n      <th></th>\n      <th>indicator_id</th>\n      <th>indicator</th>\n      <th>category</th>\n    </tr>\n  </thead>\n  <tbody>\n    <tr>\n      <th>31</th>\n      <td>RSNA</td>\n      <td>ZORI (Smoothed): All Homes Plus Multifamily Ti...</td>\n      <td>Rentals</td>\n    </tr>\n    <tr>\n      <th>32</th>\n      <td>RSSA</td>\n      <td>ZORI (Smoothed, Seasonally Adjusted): All Home...</td>\n      <td>Rentals</td>\n    </tr>\n  </tbody>\n</table>\n</div>"
     },
     "metadata": {},
     "execution_count": 162
    }
   ],
   "source": [
    "# rentals = indicators[indicators['indicator_id'].isin(['RSSA', 'RSNA', 'Z1BR', 'Z2BR', 'Z3BR', 'Z4BR', 'Z5BR'])]\n",
    "rentals = indicators[indicators['indicator_id'].isin(['RSSA', 'RSNA'])]\n",
    "rentals.head()"
   ]
  },
  {
   "cell_type": "code",
   "execution_count": 163,
   "metadata": {},
   "outputs": [
    {
     "output_type": "stream",
     "name": "stdout",
     "text": [
      "RSNA\nRSSA\n"
     ]
    }
   ],
   "source": [
    "for item in rentals['indicator_id']:\n",
    "    print(item)"
   ]
  },
  {
   "cell_type": "code",
   "execution_count": 164,
   "metadata": {},
   "outputs": [
    {
     "output_type": "stream",
     "name": "stdout",
     "text": [
      "31    ZORI (Smoothed): All Homes Plus Multifamily Ti...\n32    ZORI (Smoothed, Seasonally Adjusted): All Home...\nName: indicator, dtype: object\n"
     ]
    }
   ],
   "source": [
    "print(rentals['indicator'])"
   ]
  },
  {
   "source": [
    "## Regions"
   ],
   "cell_type": "markdown",
   "metadata": {}
  },
  {
   "cell_type": "code",
   "execution_count": 165,
   "metadata": {},
   "outputs": [
    {
     "output_type": "execute_result",
     "data": {
      "text/plain": [
       "      region_id region_type                    region\n",
       "1150          3       state                Alaska; AK\n",
       "453           4       state               Alabama; AL\n",
       "515           6       state              Arkansas; AR\n",
       "30            8       state               Arizona; AZ\n",
       "10            9       state            California; CA\n",
       "2555         10       state              Colorado; CO\n",
       "349          11       state           Connecticut; CT\n",
       "1243         12       state  District of Columbia; DC\n",
       "1149         13       state              Delaware; DE\n",
       "11           14       state               Florida; FL\n",
       "2539         16       state               Georgia; GA\n",
       "76           18       state                Hawaii; HI\n",
       "454          19       state                  Iowa; IA\n",
       "75           20       state                 Idaho; ID\n",
       "14           21       state              Illinois; IL\n",
       "2030         22       state               Indiana; IN\n",
       "65           23       state                Kansas; KS\n",
       "5855         24       state              Kentucky; KY\n",
       "52           25       state             Louisiana; LA\n",
       "88           26       state         Massachusetts; MA"
      ],
      "text/html": "<div>\n<style scoped>\n    .dataframe tbody tr th:only-of-type {\n        vertical-align: middle;\n    }\n\n    .dataframe tbody tr th {\n        vertical-align: top;\n    }\n\n    .dataframe thead th {\n        text-align: right;\n    }\n</style>\n<table border=\"1\" class=\"dataframe\">\n  <thead>\n    <tr style=\"text-align: right;\">\n      <th></th>\n      <th>region_id</th>\n      <th>region_type</th>\n      <th>region</th>\n    </tr>\n  </thead>\n  <tbody>\n    <tr>\n      <th>1150</th>\n      <td>3</td>\n      <td>state</td>\n      <td>Alaska; AK</td>\n    </tr>\n    <tr>\n      <th>453</th>\n      <td>4</td>\n      <td>state</td>\n      <td>Alabama; AL</td>\n    </tr>\n    <tr>\n      <th>515</th>\n      <td>6</td>\n      <td>state</td>\n      <td>Arkansas; AR</td>\n    </tr>\n    <tr>\n      <th>30</th>\n      <td>8</td>\n      <td>state</td>\n      <td>Arizona; AZ</td>\n    </tr>\n    <tr>\n      <th>10</th>\n      <td>9</td>\n      <td>state</td>\n      <td>California; CA</td>\n    </tr>\n    <tr>\n      <th>2555</th>\n      <td>10</td>\n      <td>state</td>\n      <td>Colorado; CO</td>\n    </tr>\n    <tr>\n      <th>349</th>\n      <td>11</td>\n      <td>state</td>\n      <td>Connecticut; CT</td>\n    </tr>\n    <tr>\n      <th>1243</th>\n      <td>12</td>\n      <td>state</td>\n      <td>District of Columbia; DC</td>\n    </tr>\n    <tr>\n      <th>1149</th>\n      <td>13</td>\n      <td>state</td>\n      <td>Delaware; DE</td>\n    </tr>\n    <tr>\n      <th>11</th>\n      <td>14</td>\n      <td>state</td>\n      <td>Florida; FL</td>\n    </tr>\n    <tr>\n      <th>2539</th>\n      <td>16</td>\n      <td>state</td>\n      <td>Georgia; GA</td>\n    </tr>\n    <tr>\n      <th>76</th>\n      <td>18</td>\n      <td>state</td>\n      <td>Hawaii; HI</td>\n    </tr>\n    <tr>\n      <th>454</th>\n      <td>19</td>\n      <td>state</td>\n      <td>Iowa; IA</td>\n    </tr>\n    <tr>\n      <th>75</th>\n      <td>20</td>\n      <td>state</td>\n      <td>Idaho; ID</td>\n    </tr>\n    <tr>\n      <th>14</th>\n      <td>21</td>\n      <td>state</td>\n      <td>Illinois; IL</td>\n    </tr>\n    <tr>\n      <th>2030</th>\n      <td>22</td>\n      <td>state</td>\n      <td>Indiana; IN</td>\n    </tr>\n    <tr>\n      <th>65</th>\n      <td>23</td>\n      <td>state</td>\n      <td>Kansas; KS</td>\n    </tr>\n    <tr>\n      <th>5855</th>\n      <td>24</td>\n      <td>state</td>\n      <td>Kentucky; KY</td>\n    </tr>\n    <tr>\n      <th>52</th>\n      <td>25</td>\n      <td>state</td>\n      <td>Louisiana; LA</td>\n    </tr>\n    <tr>\n      <th>88</th>\n      <td>26</td>\n      <td>state</td>\n      <td>Massachusetts; MA</td>\n    </tr>\n  </tbody>\n</table>\n</div>"
     },
     "metadata": {},
     "execution_count": 165
    }
   ],
   "source": [
    "\n",
    "regions = pd.read_csv('V:\\ZILLOW_REGIONS.csv')\n",
    "regions = regions.sort_values(by=['region_id'])\n",
    "regions.head(20)"
   ]
  },
  {
   "cell_type": "code",
   "execution_count": 166,
   "metadata": {},
   "outputs": [
    {
     "output_type": "execute_result",
     "data": {
      "text/plain": [
       "78730"
      ]
     },
     "metadata": {},
     "execution_count": 166
    }
   ],
   "source": [
    "len(regions)"
   ]
  },
  {
   "cell_type": "code",
   "execution_count": 167,
   "metadata": {},
   "outputs": [
    {
     "output_type": "execute_result",
     "data": {
      "text/plain": [
       "array(['state', 'county', 'city', 'neigh', 'zip', 'metro'], dtype=object)"
      ]
     },
     "metadata": {},
     "execution_count": 167
    }
   ],
   "source": [
    "regions['region_type'].unique()"
   ]
  },
  {
   "cell_type": "code",
   "execution_count": 168,
   "metadata": {},
   "outputs": [
    {
     "output_type": "execute_result",
     "data": {
      "text/plain": [
       "78730"
      ]
     },
     "metadata": {},
     "execution_count": 168
    }
   ],
   "source": [
    "len(regions['region_type'] == 'metro')\n"
   ]
  },
  {
   "cell_type": "code",
   "execution_count": 169,
   "metadata": {},
   "outputs": [
    {
     "output_type": "execute_result",
     "data": {
      "text/plain": [
       "       region_id region_type                 region\n",
       "5176      102001       metro          United States\n",
       "13277     394297       metro       Aberdeen, SD; SD\n",
       "13668     394298       metro       Aberdeen, WA; WA\n",
       "1213      394299       metro        Abilene, TX; TX\n",
       "4449      394300       metro            Ada, OK; OK\n",
       "3469      394302       metro         Adrian, MI; MI\n",
       "1237      394304       metro              Akron, OH\n",
       "5831      394305       metro     Alamogordo, NM; NM\n",
       "2423      394306       metro         Albany, GA; GA\n",
       "2899      394307       metro         Albany, OR; OR\n",
       "595       394308       metro             Albany, NY\n",
       "3822      394309       metro      Albemarle, NC; NC\n",
       "4733      394310       metro     Albert Lea, MN; MN\n",
       "4193      394311       metro    Albertville, AL; AL\n",
       "571       394312       metro        Albuquerque, NM\n",
       "6304      394314       metro     Alexandria, LA; LA\n",
       "7409      394315       metro     Alexandria, MN; MN\n",
       "15618     394316       metro          Alice, TX; TX\n",
       "27753     394318       metro          Allentown, PA\n",
       "6538      394319       metro           Alma, MI; MI\n",
       "4739      394320       metro         Alpena, MI; MI\n",
       "2619      394321       metro        Altoona, PA; PA\n",
       "8366      394322       metro          Altus, OK; OK\n",
       "1917      394323       metro       Amarillo, TX; TX\n",
       "17871     394324       metro       Americus, GA; GA\n",
       "8132      394325       metro           Ames, IA; IA\n",
       "9409      394326       metro      Amsterdam, NY; NY\n",
       "1124      394327       metro      Anchorage, AK; AK\n",
       "26329     394330       metro        Andrews, TX; TX\n",
       "7742      394331       metro         Angola, IN; IN\n",
       "1619      394332       metro      Ann Arbor, MI; MI\n",
       "2839      394333       metro       Anniston, AL; AL\n",
       "584       394334       metro       Appleton, WI; WI\n",
       "7490      394335       metro        Arcadia, FL; FL\n",
       "31251     394336       metro        Ardmore, OK; OK\n",
       "4886      394337       metro    Arkadelphia, AR; AR\n",
       "581       394338       metro      Asheville, NC; NC\n",
       "30241     394339       metro        Ashland, OH; OH\n",
       "3243      394340       metro      Ashtabula, OH; OH\n",
       "7201      394341       metro        Astoria, OR; OR\n",
       "10888     394342       metro       Atchison, KS; KS\n",
       "5810      394343       metro         Athens, OH; OH\n",
       "30464     394344       metro         Athens, TN; TN\n",
       "11524     394345       metro         Athens, TX; TX\n",
       "1199      394346       metro         Athens, GA; GA\n",
       "99        394347       metro            Atlanta, GA\n",
       "1875      394348       metro  Atlantic City, NJ; NJ\n",
       "13911     394349       metro         Auburn, IN; IN\n",
       "3482      394350       metro         Auburn, NY; NY\n",
       "2278      394351       metro         Auburn, AL; AL"
      ],
      "text/html": "<div>\n<style scoped>\n    .dataframe tbody tr th:only-of-type {\n        vertical-align: middle;\n    }\n\n    .dataframe tbody tr th {\n        vertical-align: top;\n    }\n\n    .dataframe thead th {\n        text-align: right;\n    }\n</style>\n<table border=\"1\" class=\"dataframe\">\n  <thead>\n    <tr style=\"text-align: right;\">\n      <th></th>\n      <th>region_id</th>\n      <th>region_type</th>\n      <th>region</th>\n    </tr>\n  </thead>\n  <tbody>\n    <tr>\n      <th>5176</th>\n      <td>102001</td>\n      <td>metro</td>\n      <td>United States</td>\n    </tr>\n    <tr>\n      <th>13277</th>\n      <td>394297</td>\n      <td>metro</td>\n      <td>Aberdeen, SD; SD</td>\n    </tr>\n    <tr>\n      <th>13668</th>\n      <td>394298</td>\n      <td>metro</td>\n      <td>Aberdeen, WA; WA</td>\n    </tr>\n    <tr>\n      <th>1213</th>\n      <td>394299</td>\n      <td>metro</td>\n      <td>Abilene, TX; TX</td>\n    </tr>\n    <tr>\n      <th>4449</th>\n      <td>394300</td>\n      <td>metro</td>\n      <td>Ada, OK; OK</td>\n    </tr>\n    <tr>\n      <th>3469</th>\n      <td>394302</td>\n      <td>metro</td>\n      <td>Adrian, MI; MI</td>\n    </tr>\n    <tr>\n      <th>1237</th>\n      <td>394304</td>\n      <td>metro</td>\n      <td>Akron, OH</td>\n    </tr>\n    <tr>\n      <th>5831</th>\n      <td>394305</td>\n      <td>metro</td>\n      <td>Alamogordo, NM; NM</td>\n    </tr>\n    <tr>\n      <th>2423</th>\n      <td>394306</td>\n      <td>metro</td>\n      <td>Albany, GA; GA</td>\n    </tr>\n    <tr>\n      <th>2899</th>\n      <td>394307</td>\n      <td>metro</td>\n      <td>Albany, OR; OR</td>\n    </tr>\n    <tr>\n      <th>595</th>\n      <td>394308</td>\n      <td>metro</td>\n      <td>Albany, NY</td>\n    </tr>\n    <tr>\n      <th>3822</th>\n      <td>394309</td>\n      <td>metro</td>\n      <td>Albemarle, NC; NC</td>\n    </tr>\n    <tr>\n      <th>4733</th>\n      <td>394310</td>\n      <td>metro</td>\n      <td>Albert Lea, MN; MN</td>\n    </tr>\n    <tr>\n      <th>4193</th>\n      <td>394311</td>\n      <td>metro</td>\n      <td>Albertville, AL; AL</td>\n    </tr>\n    <tr>\n      <th>571</th>\n      <td>394312</td>\n      <td>metro</td>\n      <td>Albuquerque, NM</td>\n    </tr>\n    <tr>\n      <th>6304</th>\n      <td>394314</td>\n      <td>metro</td>\n      <td>Alexandria, LA; LA</td>\n    </tr>\n    <tr>\n      <th>7409</th>\n      <td>394315</td>\n      <td>metro</td>\n      <td>Alexandria, MN; MN</td>\n    </tr>\n    <tr>\n      <th>15618</th>\n      <td>394316</td>\n      <td>metro</td>\n      <td>Alice, TX; TX</td>\n    </tr>\n    <tr>\n      <th>27753</th>\n      <td>394318</td>\n      <td>metro</td>\n      <td>Allentown, PA</td>\n    </tr>\n    <tr>\n      <th>6538</th>\n      <td>394319</td>\n      <td>metro</td>\n      <td>Alma, MI; MI</td>\n    </tr>\n    <tr>\n      <th>4739</th>\n      <td>394320</td>\n      <td>metro</td>\n      <td>Alpena, MI; MI</td>\n    </tr>\n    <tr>\n      <th>2619</th>\n      <td>394321</td>\n      <td>metro</td>\n      <td>Altoona, PA; PA</td>\n    </tr>\n    <tr>\n      <th>8366</th>\n      <td>394322</td>\n      <td>metro</td>\n      <td>Altus, OK; OK</td>\n    </tr>\n    <tr>\n      <th>1917</th>\n      <td>394323</td>\n      <td>metro</td>\n      <td>Amarillo, TX; TX</td>\n    </tr>\n    <tr>\n      <th>17871</th>\n      <td>394324</td>\n      <td>metro</td>\n      <td>Americus, GA; GA</td>\n    </tr>\n    <tr>\n      <th>8132</th>\n      <td>394325</td>\n      <td>metro</td>\n      <td>Ames, IA; IA</td>\n    </tr>\n    <tr>\n      <th>9409</th>\n      <td>394326</td>\n      <td>metro</td>\n      <td>Amsterdam, NY; NY</td>\n    </tr>\n    <tr>\n      <th>1124</th>\n      <td>394327</td>\n      <td>metro</td>\n      <td>Anchorage, AK; AK</td>\n    </tr>\n    <tr>\n      <th>26329</th>\n      <td>394330</td>\n      <td>metro</td>\n      <td>Andrews, TX; TX</td>\n    </tr>\n    <tr>\n      <th>7742</th>\n      <td>394331</td>\n      <td>metro</td>\n      <td>Angola, IN; IN</td>\n    </tr>\n    <tr>\n      <th>1619</th>\n      <td>394332</td>\n      <td>metro</td>\n      <td>Ann Arbor, MI; MI</td>\n    </tr>\n    <tr>\n      <th>2839</th>\n      <td>394333</td>\n      <td>metro</td>\n      <td>Anniston, AL; AL</td>\n    </tr>\n    <tr>\n      <th>584</th>\n      <td>394334</td>\n      <td>metro</td>\n      <td>Appleton, WI; WI</td>\n    </tr>\n    <tr>\n      <th>7490</th>\n      <td>394335</td>\n      <td>metro</td>\n      <td>Arcadia, FL; FL</td>\n    </tr>\n    <tr>\n      <th>31251</th>\n      <td>394336</td>\n      <td>metro</td>\n      <td>Ardmore, OK; OK</td>\n    </tr>\n    <tr>\n      <th>4886</th>\n      <td>394337</td>\n      <td>metro</td>\n      <td>Arkadelphia, AR; AR</td>\n    </tr>\n    <tr>\n      <th>581</th>\n      <td>394338</td>\n      <td>metro</td>\n      <td>Asheville, NC; NC</td>\n    </tr>\n    <tr>\n      <th>30241</th>\n      <td>394339</td>\n      <td>metro</td>\n      <td>Ashland, OH; OH</td>\n    </tr>\n    <tr>\n      <th>3243</th>\n      <td>394340</td>\n      <td>metro</td>\n      <td>Ashtabula, OH; OH</td>\n    </tr>\n    <tr>\n      <th>7201</th>\n      <td>394341</td>\n      <td>metro</td>\n      <td>Astoria, OR; OR</td>\n    </tr>\n    <tr>\n      <th>10888</th>\n      <td>394342</td>\n      <td>metro</td>\n      <td>Atchison, KS; KS</td>\n    </tr>\n    <tr>\n      <th>5810</th>\n      <td>394343</td>\n      <td>metro</td>\n      <td>Athens, OH; OH</td>\n    </tr>\n    <tr>\n      <th>30464</th>\n      <td>394344</td>\n      <td>metro</td>\n      <td>Athens, TN; TN</td>\n    </tr>\n    <tr>\n      <th>11524</th>\n      <td>394345</td>\n      <td>metro</td>\n      <td>Athens, TX; TX</td>\n    </tr>\n    <tr>\n      <th>1199</th>\n      <td>394346</td>\n      <td>metro</td>\n      <td>Athens, GA; GA</td>\n    </tr>\n    <tr>\n      <th>99</th>\n      <td>394347</td>\n      <td>metro</td>\n      <td>Atlanta, GA</td>\n    </tr>\n    <tr>\n      <th>1875</th>\n      <td>394348</td>\n      <td>metro</td>\n      <td>Atlantic City, NJ; NJ</td>\n    </tr>\n    <tr>\n      <th>13911</th>\n      <td>394349</td>\n      <td>metro</td>\n      <td>Auburn, IN; IN</td>\n    </tr>\n    <tr>\n      <th>3482</th>\n      <td>394350</td>\n      <td>metro</td>\n      <td>Auburn, NY; NY</td>\n    </tr>\n    <tr>\n      <th>2278</th>\n      <td>394351</td>\n      <td>metro</td>\n      <td>Auburn, AL; AL</td>\n    </tr>\n  </tbody>\n</table>\n</div>"
     },
     "metadata": {},
     "execution_count": 169
    }
   ],
   "source": [
    "metro = regions[regions['region_type'] == 'metro']\n",
    "metro[:50]"
   ]
  },
  {
   "cell_type": "code",
   "execution_count": null,
   "metadata": {},
   "outputs": [],
   "source": []
  },
  {
   "source": [
    "# Aggregating Data"
   ],
   "cell_type": "markdown",
   "metadata": {}
  },
  {
   "cell_type": "code",
   "execution_count": 170,
   "metadata": {},
   "outputs": [
    {
     "output_type": "execute_result",
     "data": {
      "text/plain": [
       "True"
      ]
     },
     "metadata": {},
     "execution_count": 170
    }
   ],
   "source": [
    "# Checking if data has all the same sections\n",
    "sorted(data['indicator_id'].unique()) == sorted(indicators['indicator_id'].unique())"
   ]
  },
  {
   "cell_type": "code",
   "execution_count": 171,
   "metadata": {},
   "outputs": [
    {
     "output_type": "stream",
     "name": "stdout",
     "text": [
      "(535891, 4)\n"
     ]
    },
    {
     "output_type": "execute_result",
     "data": {
      "text/plain": [
       "        indicator_id  region_id        date   value\n",
       "7851413         RSNA      58362  2020-09-30  1321.0\n",
       "8747089         RSNA      58362  2020-05-31  1243.0\n",
       "8747088         RSNA      58362  2020-06-30  1220.0\n",
       "8747082         RSNA      58362  2020-07-31  1351.0\n",
       "8753596         RSSA      58362  2020-07-31  1296.0"
      ],
      "text/html": "<div>\n<style scoped>\n    .dataframe tbody tr th:only-of-type {\n        vertical-align: middle;\n    }\n\n    .dataframe tbody tr th {\n        vertical-align: top;\n    }\n\n    .dataframe thead th {\n        text-align: right;\n    }\n</style>\n<table border=\"1\" class=\"dataframe\">\n  <thead>\n    <tr style=\"text-align: right;\">\n      <th></th>\n      <th>indicator_id</th>\n      <th>region_id</th>\n      <th>date</th>\n      <th>value</th>\n    </tr>\n  </thead>\n  <tbody>\n    <tr>\n      <th>7851413</th>\n      <td>RSNA</td>\n      <td>58362</td>\n      <td>2020-09-30</td>\n      <td>1321.0</td>\n    </tr>\n    <tr>\n      <th>8747089</th>\n      <td>RSNA</td>\n      <td>58362</td>\n      <td>2020-05-31</td>\n      <td>1243.0</td>\n    </tr>\n    <tr>\n      <th>8747088</th>\n      <td>RSNA</td>\n      <td>58362</td>\n      <td>2020-06-30</td>\n      <td>1220.0</td>\n    </tr>\n    <tr>\n      <th>8747082</th>\n      <td>RSNA</td>\n      <td>58362</td>\n      <td>2020-07-31</td>\n      <td>1351.0</td>\n    </tr>\n    <tr>\n      <th>8753596</th>\n      <td>RSSA</td>\n      <td>58362</td>\n      <td>2020-07-31</td>\n      <td>1296.0</td>\n    </tr>\n  </tbody>\n</table>\n</div>"
     },
     "metadata": {},
     "execution_count": 171
    }
   ],
   "source": [
    "rental_data = rental_data.sort_values(by=['region_id'])\n",
    "rental_data = rental_data[rental_data['indicator_id'].isin(['RSSA', 'RSNA', 'Z1BR', 'Z2BR', 'Z3BR', 'Z4BR', 'Z5BR', ])]\n",
    "print(rental_data.shape)\n",
    "rental_data.head()"
   ]
  },
  {
   "cell_type": "code",
   "execution_count": 172,
   "metadata": {},
   "outputs": [
    {
     "output_type": "execute_result",
     "data": {
      "text/plain": [
       "  indicator_id  region_id        date   value region_type  \\\n",
       "0         RSNA      58362  2020-09-30  1321.0         zip   \n",
       "1         RSNA      58362  2020-05-31  1243.0         zip   \n",
       "2         RSNA      58362  2020-06-30  1220.0         zip   \n",
       "3         RSNA      58362  2020-07-31  1351.0         zip   \n",
       "4         RSSA      58362  2020-07-31  1296.0         zip   \n",
       "\n",
       "                                              region  \n",
       "0  01432; MA; Boston-Cambridge-Newton; Middlesex ...  \n",
       "1  01432; MA; Boston-Cambridge-Newton; Middlesex ...  \n",
       "2  01432; MA; Boston-Cambridge-Newton; Middlesex ...  \n",
       "3  01432; MA; Boston-Cambridge-Newton; Middlesex ...  \n",
       "4  01432; MA; Boston-Cambridge-Newton; Middlesex ...  "
      ],
      "text/html": "<div>\n<style scoped>\n    .dataframe tbody tr th:only-of-type {\n        vertical-align: middle;\n    }\n\n    .dataframe tbody tr th {\n        vertical-align: top;\n    }\n\n    .dataframe thead th {\n        text-align: right;\n    }\n</style>\n<table border=\"1\" class=\"dataframe\">\n  <thead>\n    <tr style=\"text-align: right;\">\n      <th></th>\n      <th>indicator_id</th>\n      <th>region_id</th>\n      <th>date</th>\n      <th>value</th>\n      <th>region_type</th>\n      <th>region</th>\n    </tr>\n  </thead>\n  <tbody>\n    <tr>\n      <th>0</th>\n      <td>RSNA</td>\n      <td>58362</td>\n      <td>2020-09-30</td>\n      <td>1321.0</td>\n      <td>zip</td>\n      <td>01432; MA; Boston-Cambridge-Newton; Middlesex ...</td>\n    </tr>\n    <tr>\n      <th>1</th>\n      <td>RSNA</td>\n      <td>58362</td>\n      <td>2020-05-31</td>\n      <td>1243.0</td>\n      <td>zip</td>\n      <td>01432; MA; Boston-Cambridge-Newton; Middlesex ...</td>\n    </tr>\n    <tr>\n      <th>2</th>\n      <td>RSNA</td>\n      <td>58362</td>\n      <td>2020-06-30</td>\n      <td>1220.0</td>\n      <td>zip</td>\n      <td>01432; MA; Boston-Cambridge-Newton; Middlesex ...</td>\n    </tr>\n    <tr>\n      <th>3</th>\n      <td>RSNA</td>\n      <td>58362</td>\n      <td>2020-07-31</td>\n      <td>1351.0</td>\n      <td>zip</td>\n      <td>01432; MA; Boston-Cambridge-Newton; Middlesex ...</td>\n    </tr>\n    <tr>\n      <th>4</th>\n      <td>RSSA</td>\n      <td>58362</td>\n      <td>2020-07-31</td>\n      <td>1296.0</td>\n      <td>zip</td>\n      <td>01432; MA; Boston-Cambridge-Newton; Middlesex ...</td>\n    </tr>\n  </tbody>\n</table>\n</div>"
     },
     "metadata": {},
     "execution_count": 172
    }
   ],
   "source": [
    "rent_per_region = pd.merge(rental_data, regions, on='region_id')\n",
    "rent_per_region.head()"
   ]
  },
  {
   "cell_type": "code",
   "execution_count": 173,
   "metadata": {},
   "outputs": [
    {
     "output_type": "execute_result",
     "data": {
      "text/plain": [
       "2"
      ]
     },
     "metadata": {},
     "execution_count": 173
    }
   ],
   "source": [
    "len(rent_per_region['indicator_id'].unique())"
   ]
  },
  {
   "cell_type": "code",
   "execution_count": 174,
   "metadata": {},
   "outputs": [],
   "source": [
    "rent_per_region[[\n",
    "    'zip', 'state', 'city', 'county', 'neighborhood'\n",
    "    ]] = rent_per_region['region'].str.split(';', expand=True)"
   ]
  },
  {
   "cell_type": "code",
   "execution_count": 175,
   "metadata": {},
   "outputs": [],
   "source": [
    "# test = rent_per_region[::-1]\n",
    "# test = test[:100]\n",
    "# test.head(20)"
   ]
  },
  {
   "cell_type": "code",
   "execution_count": 176,
   "metadata": {},
   "outputs": [],
   "source": [
    "# test[['city', 'state']] = test['region'].str.split(',', expand=True)\n",
    "# test.head()"
   ]
  },
  {
   "cell_type": "code",
   "execution_count": 177,
   "metadata": {},
   "outputs": [],
   "source": [
    "rent_per_region[['city', 'state']] = rent_per_region['region'].str.split(',', expand=True)"
   ]
  },
  {
   "cell_type": "code",
   "execution_count": 178,
   "metadata": {},
   "outputs": [
    {
     "output_type": "execute_result",
     "data": {
      "text/plain": [
       "42"
      ]
     },
     "metadata": {},
     "execution_count": 178
    }
   ],
   "source": [
    "len(rent_per_region['state'].unique())"
   ]
  },
  {
   "cell_type": "code",
   "execution_count": 179,
   "metadata": {},
   "outputs": [
    {
     "output_type": "execute_result",
     "data": {
      "text/plain": [
       "indicator_id         0\n",
       "region_id            0\n",
       "date                 0\n",
       "value                0\n",
       "region_type          0\n",
       "region               0\n",
       "zip                  0\n",
       "state           517923\n",
       "city                 0\n",
       "county          380909\n",
       "neighborhood    393657\n",
       "dtype: int64"
      ]
     },
     "metadata": {},
     "execution_count": 179
    }
   ],
   "source": [
    "rent_per_region.isna().sum()"
   ]
  },
  {
   "cell_type": "code",
   "execution_count": 180,
   "metadata": {},
   "outputs": [
    {
     "output_type": "execute_result",
     "data": {
      "text/plain": [
       "(535891, 11)"
      ]
     },
     "metadata": {},
     "execution_count": 180
    }
   ],
   "source": [
    "rent_per_region.shape"
   ]
  },
  {
   "cell_type": "code",
   "execution_count": 181,
   "metadata": {},
   "outputs": [
    {
     "output_type": "execute_result",
     "data": {
      "text/plain": [
       "4031"
      ]
     },
     "metadata": {},
     "execution_count": 181
    }
   ],
   "source": [
    "len(rent_per_region['city'].unique())"
   ]
  },
  {
   "cell_type": "code",
   "execution_count": 182,
   "metadata": {},
   "outputs": [],
   "source": [
    "rent_per_region = rent_per_region[rent_per_region['zip'].str.contains(r\"^\\d+$\")]"
   ]
  },
  {
   "cell_type": "code",
   "execution_count": 183,
   "metadata": {},
   "outputs": [
    {
     "output_type": "execute_result",
     "data": {
      "text/plain": [
       "       indicator_id  region_id        date   value region_type region    zip  \\\n",
       "535370         RSNA     753844  2014-09-30   989.0         zip  29486  29486   \n",
       "535371         RSNA     753844  2014-08-31  1020.0         zip  29486  29486   \n",
       "535372         RSSA     753844  2014-08-31   997.0         zip  29486  29486   \n",
       "535373         RSNA     753844  2014-12-31  1049.0         zip  29486  29486   \n",
       "535374         RSNA     753844  2015-08-31  1093.0         zip  29486  29486   \n",
       "\n",
       "       state   city county neighborhood  \n",
       "535370  None  29486   None         None  \n",
       "535371  None  29486   None         None  \n",
       "535372  None  29486   None         None  \n",
       "535373  None  29486   None         None  \n",
       "535374  None  29486   None         None  "
      ],
      "text/html": "<div>\n<style scoped>\n    .dataframe tbody tr th:only-of-type {\n        vertical-align: middle;\n    }\n\n    .dataframe tbody tr th {\n        vertical-align: top;\n    }\n\n    .dataframe thead th {\n        text-align: right;\n    }\n</style>\n<table border=\"1\" class=\"dataframe\">\n  <thead>\n    <tr style=\"text-align: right;\">\n      <th></th>\n      <th>indicator_id</th>\n      <th>region_id</th>\n      <th>date</th>\n      <th>value</th>\n      <th>region_type</th>\n      <th>region</th>\n      <th>zip</th>\n      <th>state</th>\n      <th>city</th>\n      <th>county</th>\n      <th>neighborhood</th>\n    </tr>\n  </thead>\n  <tbody>\n    <tr>\n      <th>535370</th>\n      <td>RSNA</td>\n      <td>753844</td>\n      <td>2014-09-30</td>\n      <td>989.0</td>\n      <td>zip</td>\n      <td>29486</td>\n      <td>29486</td>\n      <td>None</td>\n      <td>29486</td>\n      <td>None</td>\n      <td>None</td>\n    </tr>\n    <tr>\n      <th>535371</th>\n      <td>RSNA</td>\n      <td>753844</td>\n      <td>2014-08-31</td>\n      <td>1020.0</td>\n      <td>zip</td>\n      <td>29486</td>\n      <td>29486</td>\n      <td>None</td>\n      <td>29486</td>\n      <td>None</td>\n      <td>None</td>\n    </tr>\n    <tr>\n      <th>535372</th>\n      <td>RSSA</td>\n      <td>753844</td>\n      <td>2014-08-31</td>\n      <td>997.0</td>\n      <td>zip</td>\n      <td>29486</td>\n      <td>29486</td>\n      <td>None</td>\n      <td>29486</td>\n      <td>None</td>\n      <td>None</td>\n    </tr>\n    <tr>\n      <th>535373</th>\n      <td>RSNA</td>\n      <td>753844</td>\n      <td>2014-12-31</td>\n      <td>1049.0</td>\n      <td>zip</td>\n      <td>29486</td>\n      <td>29486</td>\n      <td>None</td>\n      <td>29486</td>\n      <td>None</td>\n      <td>None</td>\n    </tr>\n    <tr>\n      <th>535374</th>\n      <td>RSNA</td>\n      <td>753844</td>\n      <td>2015-08-31</td>\n      <td>1093.0</td>\n      <td>zip</td>\n      <td>29486</td>\n      <td>29486</td>\n      <td>None</td>\n      <td>29486</td>\n      <td>None</td>\n      <td>None</td>\n    </tr>\n  </tbody>\n</table>\n</div>"
     },
     "metadata": {},
     "execution_count": 183
    }
   ],
   "source": [
    "rent_per_region.tail()"
   ]
  },
  {
   "cell_type": "code",
   "execution_count": 184,
   "metadata": {},
   "outputs": [
    {
     "output_type": "execute_result",
     "data": {
      "text/plain": [
       "       indicator_id  region_id        date   value region_type region    zip  \\\n",
       "756            RSNA      58449  2020-07-31  1635.0         zip  01610  01610   \n",
       "757            RSNA      58449  2015-08-31  1049.0         zip  01610  01610   \n",
       "758            RSSA      58449  2020-03-31  1338.0         zip  01610  01610   \n",
       "759            RSSA      58449  2020-10-31  1370.0         zip  01610  01610   \n",
       "760            RSNA      58449  2018-10-31  1365.0         zip  01610  01610   \n",
       "...             ...        ...         ...     ...         ...    ...    ...   \n",
       "535370         RSNA     753844  2014-09-30   989.0         zip  29486  29486   \n",
       "535371         RSNA     753844  2014-08-31  1020.0         zip  29486  29486   \n",
       "535372         RSSA     753844  2014-08-31   997.0         zip  29486  29486   \n",
       "535373         RSNA     753844  2014-12-31  1049.0         zip  29486  29486   \n",
       "535374         RSNA     753844  2015-08-31  1093.0         zip  29486  29486   \n",
       "\n",
       "       state   city county neighborhood  \n",
       "756     None  01610   None         None  \n",
       "757     None  01610   None         None  \n",
       "758     None  01610   None         None  \n",
       "759     None  01610   None         None  \n",
       "760     None  01610   None         None  \n",
       "...      ...    ...    ...          ...  \n",
       "535370  None  29486   None         None  \n",
       "535371  None  29486   None         None  \n",
       "535372  None  29486   None         None  \n",
       "535373  None  29486   None         None  \n",
       "535374  None  29486   None         None  \n",
       "\n",
       "[362769 rows x 11 columns]"
      ],
      "text/html": "<div>\n<style scoped>\n    .dataframe tbody tr th:only-of-type {\n        vertical-align: middle;\n    }\n\n    .dataframe tbody tr th {\n        vertical-align: top;\n    }\n\n    .dataframe thead th {\n        text-align: right;\n    }\n</style>\n<table border=\"1\" class=\"dataframe\">\n  <thead>\n    <tr style=\"text-align: right;\">\n      <th></th>\n      <th>indicator_id</th>\n      <th>region_id</th>\n      <th>date</th>\n      <th>value</th>\n      <th>region_type</th>\n      <th>region</th>\n      <th>zip</th>\n      <th>state</th>\n      <th>city</th>\n      <th>county</th>\n      <th>neighborhood</th>\n    </tr>\n  </thead>\n  <tbody>\n    <tr>\n      <th>756</th>\n      <td>RSNA</td>\n      <td>58449</td>\n      <td>2020-07-31</td>\n      <td>1635.0</td>\n      <td>zip</td>\n      <td>01610</td>\n      <td>01610</td>\n      <td>None</td>\n      <td>01610</td>\n      <td>None</td>\n      <td>None</td>\n    </tr>\n    <tr>\n      <th>757</th>\n      <td>RSNA</td>\n      <td>58449</td>\n      <td>2015-08-31</td>\n      <td>1049.0</td>\n      <td>zip</td>\n      <td>01610</td>\n      <td>01610</td>\n      <td>None</td>\n      <td>01610</td>\n      <td>None</td>\n      <td>None</td>\n    </tr>\n    <tr>\n      <th>758</th>\n      <td>RSSA</td>\n      <td>58449</td>\n      <td>2020-03-31</td>\n      <td>1338.0</td>\n      <td>zip</td>\n      <td>01610</td>\n      <td>01610</td>\n      <td>None</td>\n      <td>01610</td>\n      <td>None</td>\n      <td>None</td>\n    </tr>\n    <tr>\n      <th>759</th>\n      <td>RSSA</td>\n      <td>58449</td>\n      <td>2020-10-31</td>\n      <td>1370.0</td>\n      <td>zip</td>\n      <td>01610</td>\n      <td>01610</td>\n      <td>None</td>\n      <td>01610</td>\n      <td>None</td>\n      <td>None</td>\n    </tr>\n    <tr>\n      <th>760</th>\n      <td>RSNA</td>\n      <td>58449</td>\n      <td>2018-10-31</td>\n      <td>1365.0</td>\n      <td>zip</td>\n      <td>01610</td>\n      <td>01610</td>\n      <td>None</td>\n      <td>01610</td>\n      <td>None</td>\n      <td>None</td>\n    </tr>\n    <tr>\n      <th>...</th>\n      <td>...</td>\n      <td>...</td>\n      <td>...</td>\n      <td>...</td>\n      <td>...</td>\n      <td>...</td>\n      <td>...</td>\n      <td>...</td>\n      <td>...</td>\n      <td>...</td>\n      <td>...</td>\n    </tr>\n    <tr>\n      <th>535370</th>\n      <td>RSNA</td>\n      <td>753844</td>\n      <td>2014-09-30</td>\n      <td>989.0</td>\n      <td>zip</td>\n      <td>29486</td>\n      <td>29486</td>\n      <td>None</td>\n      <td>29486</td>\n      <td>None</td>\n      <td>None</td>\n    </tr>\n    <tr>\n      <th>535371</th>\n      <td>RSNA</td>\n      <td>753844</td>\n      <td>2014-08-31</td>\n      <td>1020.0</td>\n      <td>zip</td>\n      <td>29486</td>\n      <td>29486</td>\n      <td>None</td>\n      <td>29486</td>\n      <td>None</td>\n      <td>None</td>\n    </tr>\n    <tr>\n      <th>535372</th>\n      <td>RSSA</td>\n      <td>753844</td>\n      <td>2014-08-31</td>\n      <td>997.0</td>\n      <td>zip</td>\n      <td>29486</td>\n      <td>29486</td>\n      <td>None</td>\n      <td>29486</td>\n      <td>None</td>\n      <td>None</td>\n    </tr>\n    <tr>\n      <th>535373</th>\n      <td>RSNA</td>\n      <td>753844</td>\n      <td>2014-12-31</td>\n      <td>1049.0</td>\n      <td>zip</td>\n      <td>29486</td>\n      <td>29486</td>\n      <td>None</td>\n      <td>29486</td>\n      <td>None</td>\n      <td>None</td>\n    </tr>\n    <tr>\n      <th>535374</th>\n      <td>RSNA</td>\n      <td>753844</td>\n      <td>2015-08-31</td>\n      <td>1093.0</td>\n      <td>zip</td>\n      <td>29486</td>\n      <td>29486</td>\n      <td>None</td>\n      <td>29486</td>\n      <td>None</td>\n      <td>None</td>\n    </tr>\n  </tbody>\n</table>\n<p>362769 rows × 11 columns</p>\n</div>"
     },
     "metadata": {},
     "execution_count": 184
    }
   ],
   "source": [
    "rent_per_region[rent_per_region['city'].str.contains(r\"^\\d+$\")]"
   ]
  },
  {
   "source": [
    "## Zip Code doc"
   ],
   "cell_type": "markdown",
   "metadata": {}
  },
  {
   "cell_type": "code",
   "execution_count": 185,
   "metadata": {},
   "outputs": [
    {
     "output_type": "execute_result",
     "data": {
      "text/plain": [
       "   zip       lat       lng       city state_id   state_name  population  \\\n",
       "0  601  18.18005 -66.75218   Adjuntas       PR  Puerto Rico     17113.0   \n",
       "1  602  18.36074 -67.17519     Aguada       PR  Puerto Rico     37751.0   \n",
       "2  603  18.45440 -67.12201  Aguadilla       PR  Puerto Rico     47081.0   \n",
       "3  606  18.16721 -66.93828    Maricao       PR  Puerto Rico      6392.0   \n",
       "4  610  18.29032 -67.12244     Anasco       PR  Puerto Rico     26686.0   \n",
       "\n",
       "   density county_name  \n",
       "0    102.7    Adjuntas  \n",
       "1    476.0      Aguada  \n",
       "2    574.9   Aguadilla  \n",
       "3     58.3     Maricao  \n",
       "4    286.9      Añasco  "
      ],
      "text/html": "<div>\n<style scoped>\n    .dataframe tbody tr th:only-of-type {\n        vertical-align: middle;\n    }\n\n    .dataframe tbody tr th {\n        vertical-align: top;\n    }\n\n    .dataframe thead th {\n        text-align: right;\n    }\n</style>\n<table border=\"1\" class=\"dataframe\">\n  <thead>\n    <tr style=\"text-align: right;\">\n      <th></th>\n      <th>zip</th>\n      <th>lat</th>\n      <th>lng</th>\n      <th>city</th>\n      <th>state_id</th>\n      <th>state_name</th>\n      <th>population</th>\n      <th>density</th>\n      <th>county_name</th>\n    </tr>\n  </thead>\n  <tbody>\n    <tr>\n      <th>0</th>\n      <td>601</td>\n      <td>18.18005</td>\n      <td>-66.75218</td>\n      <td>Adjuntas</td>\n      <td>PR</td>\n      <td>Puerto Rico</td>\n      <td>17113.0</td>\n      <td>102.7</td>\n      <td>Adjuntas</td>\n    </tr>\n    <tr>\n      <th>1</th>\n      <td>602</td>\n      <td>18.36074</td>\n      <td>-67.17519</td>\n      <td>Aguada</td>\n      <td>PR</td>\n      <td>Puerto Rico</td>\n      <td>37751.0</td>\n      <td>476.0</td>\n      <td>Aguada</td>\n    </tr>\n    <tr>\n      <th>2</th>\n      <td>603</td>\n      <td>18.45440</td>\n      <td>-67.12201</td>\n      <td>Aguadilla</td>\n      <td>PR</td>\n      <td>Puerto Rico</td>\n      <td>47081.0</td>\n      <td>574.9</td>\n      <td>Aguadilla</td>\n    </tr>\n    <tr>\n      <th>3</th>\n      <td>606</td>\n      <td>18.16721</td>\n      <td>-66.93828</td>\n      <td>Maricao</td>\n      <td>PR</td>\n      <td>Puerto Rico</td>\n      <td>6392.0</td>\n      <td>58.3</td>\n      <td>Maricao</td>\n    </tr>\n    <tr>\n      <th>4</th>\n      <td>610</td>\n      <td>18.29032</td>\n      <td>-67.12244</td>\n      <td>Anasco</td>\n      <td>PR</td>\n      <td>Puerto Rico</td>\n      <td>26686.0</td>\n      <td>286.9</td>\n      <td>Añasco</td>\n    </tr>\n  </tbody>\n</table>\n</div>"
     },
     "metadata": {},
     "execution_count": 185
    }
   ],
   "source": [
    "zips = pd.read_csv(\"V:\\\\uszips.csv\")\n",
    "zips = zips[['zip', 'lat', 'lng', 'city', 'state_id', 'state_name', 'population', 'density', 'county_name']]\n",
    "zips.head()"
   ]
  },
  {
   "cell_type": "code",
   "execution_count": 186,
   "metadata": {},
   "outputs": [
    {
     "output_type": "execute_result",
     "data": {
      "text/plain": [
       "array(['PR', 'VI', 'MA', 'RI', 'NH', 'ME', 'VT', 'CT', 'NY', 'NJ', 'PA',\n",
       "       'DE', 'DC', 'VA', 'MD', 'WV', 'NC', 'SC', 'GA', 'FL', 'AL', 'TN',\n",
       "       'MS', 'KY', 'OH', 'IN', 'MI', 'IA', 'WI', 'MN', 'SD', 'ND', 'MT',\n",
       "       'IL', 'MO', 'KS', 'NE', 'LA', 'AR', 'OK', 'TX', 'CO', 'WY', 'ID',\n",
       "       'UT', 'AZ', 'NM', 'NV', 'CA', 'HI', 'AS', 'GU', 'MP', 'OR', 'WA',\n",
       "       'AK'], dtype=object)"
      ]
     },
     "metadata": {},
     "execution_count": 186
    }
   ],
   "source": [
    "zips['state_id'].unique()"
   ]
  },
  {
   "cell_type": "code",
   "execution_count": 187,
   "metadata": {},
   "outputs": [],
   "source": [
    "values = ['PR', 'VI', 'AS', 'GU', 'MP']\n",
    "\n",
    "zips = zips[zips['state_id'].isin(values) == False]"
   ]
  },
  {
   "cell_type": "code",
   "execution_count": 188,
   "metadata": {},
   "outputs": [
    {
     "output_type": "execute_result",
     "data": {
      "text/plain": [
       "17380"
      ]
     },
     "metadata": {},
     "execution_count": 188
    }
   ],
   "source": [
    "len(zips['city'].unique())"
   ]
  },
  {
   "cell_type": "code",
   "execution_count": 189,
   "metadata": {},
   "outputs": [
    {
     "output_type": "execute_result",
     "data": {
      "text/plain": [
       "         zip       lat        lng         city state_id     state_name  \\\n",
       "142     1001  42.06259  -72.62589       Agawam       MA  Massachusetts   \n",
       "143     1002  42.37492  -72.46210      Amherst       MA  Massachusetts   \n",
       "144     1003  42.39192  -72.52479      Amherst       MA  Massachusetts   \n",
       "145     1005  42.42017  -72.10615        Barre       MA  Massachusetts   \n",
       "146     1007  42.27875  -72.40036  Belchertown       MA  Massachusetts   \n",
       "...      ...       ...        ...          ...      ...            ...   \n",
       "33116  99923  55.97796 -130.03671        Hyder       AK         Alaska   \n",
       "33117  99925  55.55796 -132.97482      Klawock       AK         Alaska   \n",
       "33118  99926  55.12617 -131.48928   Metlakatla       AK         Alaska   \n",
       "33119  99927  56.25100 -133.37572  Point Baker       AK         Alaska   \n",
       "33120  99929  56.36950 -131.93648     Wrangell       AK         Alaska   \n",
       "\n",
       "       population  density            county_name  \n",
       "142       17312.0    581.0                Hampden  \n",
       "143       30014.0    210.5              Hampshire  \n",
       "144       11357.0   6164.3              Hampshire  \n",
       "145        5128.0     44.7              Worcester  \n",
       "146       15005.0    110.1              Hampshire  \n",
       "...           ...      ...                    ...  \n",
       "33116        14.0      0.3  Prince of Wales-Hyder  \n",
       "33117       908.0      6.3  Prince of Wales-Hyder  \n",
       "33118      1654.0      4.8  Prince of Wales-Hyder  \n",
       "33119         0.0      0.0  Prince of Wales-Hyder  \n",
       "33120      2502.0      0.4               Wrangell  \n",
       "\n",
       "[32966 rows x 9 columns]"
      ],
      "text/html": "<div>\n<style scoped>\n    .dataframe tbody tr th:only-of-type {\n        vertical-align: middle;\n    }\n\n    .dataframe tbody tr th {\n        vertical-align: top;\n    }\n\n    .dataframe thead th {\n        text-align: right;\n    }\n</style>\n<table border=\"1\" class=\"dataframe\">\n  <thead>\n    <tr style=\"text-align: right;\">\n      <th></th>\n      <th>zip</th>\n      <th>lat</th>\n      <th>lng</th>\n      <th>city</th>\n      <th>state_id</th>\n      <th>state_name</th>\n      <th>population</th>\n      <th>density</th>\n      <th>county_name</th>\n    </tr>\n  </thead>\n  <tbody>\n    <tr>\n      <th>142</th>\n      <td>1001</td>\n      <td>42.06259</td>\n      <td>-72.62589</td>\n      <td>Agawam</td>\n      <td>MA</td>\n      <td>Massachusetts</td>\n      <td>17312.0</td>\n      <td>581.0</td>\n      <td>Hampden</td>\n    </tr>\n    <tr>\n      <th>143</th>\n      <td>1002</td>\n      <td>42.37492</td>\n      <td>-72.46210</td>\n      <td>Amherst</td>\n      <td>MA</td>\n      <td>Massachusetts</td>\n      <td>30014.0</td>\n      <td>210.5</td>\n      <td>Hampshire</td>\n    </tr>\n    <tr>\n      <th>144</th>\n      <td>1003</td>\n      <td>42.39192</td>\n      <td>-72.52479</td>\n      <td>Amherst</td>\n      <td>MA</td>\n      <td>Massachusetts</td>\n      <td>11357.0</td>\n      <td>6164.3</td>\n      <td>Hampshire</td>\n    </tr>\n    <tr>\n      <th>145</th>\n      <td>1005</td>\n      <td>42.42017</td>\n      <td>-72.10615</td>\n      <td>Barre</td>\n      <td>MA</td>\n      <td>Massachusetts</td>\n      <td>5128.0</td>\n      <td>44.7</td>\n      <td>Worcester</td>\n    </tr>\n    <tr>\n      <th>146</th>\n      <td>1007</td>\n      <td>42.27875</td>\n      <td>-72.40036</td>\n      <td>Belchertown</td>\n      <td>MA</td>\n      <td>Massachusetts</td>\n      <td>15005.0</td>\n      <td>110.1</td>\n      <td>Hampshire</td>\n    </tr>\n    <tr>\n      <th>...</th>\n      <td>...</td>\n      <td>...</td>\n      <td>...</td>\n      <td>...</td>\n      <td>...</td>\n      <td>...</td>\n      <td>...</td>\n      <td>...</td>\n      <td>...</td>\n    </tr>\n    <tr>\n      <th>33116</th>\n      <td>99923</td>\n      <td>55.97796</td>\n      <td>-130.03671</td>\n      <td>Hyder</td>\n      <td>AK</td>\n      <td>Alaska</td>\n      <td>14.0</td>\n      <td>0.3</td>\n      <td>Prince of Wales-Hyder</td>\n    </tr>\n    <tr>\n      <th>33117</th>\n      <td>99925</td>\n      <td>55.55796</td>\n      <td>-132.97482</td>\n      <td>Klawock</td>\n      <td>AK</td>\n      <td>Alaska</td>\n      <td>908.0</td>\n      <td>6.3</td>\n      <td>Prince of Wales-Hyder</td>\n    </tr>\n    <tr>\n      <th>33118</th>\n      <td>99926</td>\n      <td>55.12617</td>\n      <td>-131.48928</td>\n      <td>Metlakatla</td>\n      <td>AK</td>\n      <td>Alaska</td>\n      <td>1654.0</td>\n      <td>4.8</td>\n      <td>Prince of Wales-Hyder</td>\n    </tr>\n    <tr>\n      <th>33119</th>\n      <td>99927</td>\n      <td>56.25100</td>\n      <td>-133.37572</td>\n      <td>Point Baker</td>\n      <td>AK</td>\n      <td>Alaska</td>\n      <td>0.0</td>\n      <td>0.0</td>\n      <td>Prince of Wales-Hyder</td>\n    </tr>\n    <tr>\n      <th>33120</th>\n      <td>99929</td>\n      <td>56.36950</td>\n      <td>-131.93648</td>\n      <td>Wrangell</td>\n      <td>AK</td>\n      <td>Alaska</td>\n      <td>2502.0</td>\n      <td>0.4</td>\n      <td>Wrangell</td>\n    </tr>\n  </tbody>\n</table>\n<p>32966 rows × 9 columns</p>\n</div>"
     },
     "metadata": {},
     "execution_count": 189
    }
   ],
   "source": [
    "zips"
   ]
  },
  {
   "cell_type": "code",
   "execution_count": 190,
   "metadata": {},
   "outputs": [
    {
     "output_type": "stream",
     "name": "stdout",
     "text": [
      "362\n"
     ]
    },
    {
     "output_type": "execute_result",
     "data": {
      "text/plain": [
       "       Cities_List\n",
       "0        Akron, OH\n",
       "1       Albany, GA\n",
       "2       Albany, NY\n",
       "3       Albany, OR\n",
       "4  Albuquerque, NM"
      ],
      "text/html": "<div>\n<style scoped>\n    .dataframe tbody tr th:only-of-type {\n        vertical-align: middle;\n    }\n\n    .dataframe tbody tr th {\n        vertical-align: top;\n    }\n\n    .dataframe thead th {\n        text-align: right;\n    }\n</style>\n<table border=\"1\" class=\"dataframe\">\n  <thead>\n    <tr style=\"text-align: right;\">\n      <th></th>\n      <th>Cities_List</th>\n    </tr>\n  </thead>\n  <tbody>\n    <tr>\n      <th>0</th>\n      <td>Akron, OH</td>\n    </tr>\n    <tr>\n      <th>1</th>\n      <td>Albany, GA</td>\n    </tr>\n    <tr>\n      <th>2</th>\n      <td>Albany, NY</td>\n    </tr>\n    <tr>\n      <th>3</th>\n      <td>Albany, OR</td>\n    </tr>\n    <tr>\n      <th>4</th>\n      <td>Albuquerque, NM</td>\n    </tr>\n  </tbody>\n</table>\n</div>"
     },
     "metadata": {},
     "execution_count": 190
    }
   ],
   "source": [
    "city_list = pd.read_csv('V:\\\\cityspire_cities.csv')\n",
    "print(len(city_list))\n",
    "city_list.head()"
   ]
  },
  {
   "cell_type": "code",
   "execution_count": 191,
   "metadata": {},
   "outputs": [
    {
     "output_type": "execute_result",
     "data": {
      "text/plain": [
       "362"
      ]
     },
     "metadata": {},
     "execution_count": 191
    }
   ],
   "source": [
    "len(city_list['Cities_List'].unique())"
   ]
  },
  {
   "cell_type": "code",
   "execution_count": 192,
   "metadata": {},
   "outputs": [],
   "source": [
    "city_names = [city.split(\",\")[0] for city in city_list['Cities_List']]"
   ]
  },
  {
   "cell_type": "code",
   "execution_count": 193,
   "metadata": {},
   "outputs": [
    {
     "output_type": "execute_result",
     "data": {
      "text/plain": [
       "362"
      ]
     },
     "metadata": {},
     "execution_count": 193
    }
   ],
   "source": [
    "len(city_names)"
   ]
  },
  {
   "cell_type": "code",
   "execution_count": 194,
   "metadata": {},
   "outputs": [
    {
     "output_type": "execute_result",
     "data": {
      "text/plain": [
       "         zip       lat        lng         city state_id     state_name  \\\n",
       "176     1062  42.32188  -72.69278     Florence       MA  Massachusetts   \n",
       "192     1083  42.20382  -72.19495       Warren       MA  Massachusetts   \n",
       "205     1103  42.10400  -72.59210  Springfield       MA  Massachusetts   \n",
       "206     1104  42.13404  -72.56679  Springfield       MA  Massachusetts   \n",
       "207     1105  42.09917  -72.57899  Springfield       MA  Massachusetts   \n",
       "...      ...       ...        ...          ...      ...            ...   \n",
       "33028  99712  64.99326 -146.14966    Fairbanks       AK         Alaska   \n",
       "33050  99744  64.30627 -149.18016     Anderson       AK         Alaska   \n",
       "33081  99775  64.85849 -147.82472    Fairbanks       AK         Alaska   \n",
       "33094  99790  65.42127 -148.28799    Fairbanks       AK         Alaska   \n",
       "33098  99824  58.27236 -134.40082      Douglas       AK         Alaska   \n",
       "\n",
       "       population  density           county_name  \n",
       "176       10364.0    220.4             Hampshire  \n",
       "192        3094.0     75.8             Worcester  \n",
       "205        2332.0   1956.6               Hampden  \n",
       "206       23740.0   1757.3               Hampden  \n",
       "207       11841.0   3678.4               Hampden  \n",
       "...           ...      ...                   ...  \n",
       "33028     14837.0      1.6  Fairbanks North Star  \n",
       "33050       120.0      1.4                Denali  \n",
       "33081      1180.0   3907.3  Fairbanks North Star  \n",
       "33094        20.0      0.0         Yukon-Koyukuk  \n",
       "33098      2259.0    504.3                Juneau  \n",
       "\n",
       "[4804 rows x 9 columns]"
      ],
      "text/html": "<div>\n<style scoped>\n    .dataframe tbody tr th:only-of-type {\n        vertical-align: middle;\n    }\n\n    .dataframe tbody tr th {\n        vertical-align: top;\n    }\n\n    .dataframe thead th {\n        text-align: right;\n    }\n</style>\n<table border=\"1\" class=\"dataframe\">\n  <thead>\n    <tr style=\"text-align: right;\">\n      <th></th>\n      <th>zip</th>\n      <th>lat</th>\n      <th>lng</th>\n      <th>city</th>\n      <th>state_id</th>\n      <th>state_name</th>\n      <th>population</th>\n      <th>density</th>\n      <th>county_name</th>\n    </tr>\n  </thead>\n  <tbody>\n    <tr>\n      <th>176</th>\n      <td>1062</td>\n      <td>42.32188</td>\n      <td>-72.69278</td>\n      <td>Florence</td>\n      <td>MA</td>\n      <td>Massachusetts</td>\n      <td>10364.0</td>\n      <td>220.4</td>\n      <td>Hampshire</td>\n    </tr>\n    <tr>\n      <th>192</th>\n      <td>1083</td>\n      <td>42.20382</td>\n      <td>-72.19495</td>\n      <td>Warren</td>\n      <td>MA</td>\n      <td>Massachusetts</td>\n      <td>3094.0</td>\n      <td>75.8</td>\n      <td>Worcester</td>\n    </tr>\n    <tr>\n      <th>205</th>\n      <td>1103</td>\n      <td>42.10400</td>\n      <td>-72.59210</td>\n      <td>Springfield</td>\n      <td>MA</td>\n      <td>Massachusetts</td>\n      <td>2332.0</td>\n      <td>1956.6</td>\n      <td>Hampden</td>\n    </tr>\n    <tr>\n      <th>206</th>\n      <td>1104</td>\n      <td>42.13404</td>\n      <td>-72.56679</td>\n      <td>Springfield</td>\n      <td>MA</td>\n      <td>Massachusetts</td>\n      <td>23740.0</td>\n      <td>1757.3</td>\n      <td>Hampden</td>\n    </tr>\n    <tr>\n      <th>207</th>\n      <td>1105</td>\n      <td>42.09917</td>\n      <td>-72.57899</td>\n      <td>Springfield</td>\n      <td>MA</td>\n      <td>Massachusetts</td>\n      <td>11841.0</td>\n      <td>3678.4</td>\n      <td>Hampden</td>\n    </tr>\n    <tr>\n      <th>...</th>\n      <td>...</td>\n      <td>...</td>\n      <td>...</td>\n      <td>...</td>\n      <td>...</td>\n      <td>...</td>\n      <td>...</td>\n      <td>...</td>\n      <td>...</td>\n    </tr>\n    <tr>\n      <th>33028</th>\n      <td>99712</td>\n      <td>64.99326</td>\n      <td>-146.14966</td>\n      <td>Fairbanks</td>\n      <td>AK</td>\n      <td>Alaska</td>\n      <td>14837.0</td>\n      <td>1.6</td>\n      <td>Fairbanks North Star</td>\n    </tr>\n    <tr>\n      <th>33050</th>\n      <td>99744</td>\n      <td>64.30627</td>\n      <td>-149.18016</td>\n      <td>Anderson</td>\n      <td>AK</td>\n      <td>Alaska</td>\n      <td>120.0</td>\n      <td>1.4</td>\n      <td>Denali</td>\n    </tr>\n    <tr>\n      <th>33081</th>\n      <td>99775</td>\n      <td>64.85849</td>\n      <td>-147.82472</td>\n      <td>Fairbanks</td>\n      <td>AK</td>\n      <td>Alaska</td>\n      <td>1180.0</td>\n      <td>3907.3</td>\n      <td>Fairbanks North Star</td>\n    </tr>\n    <tr>\n      <th>33094</th>\n      <td>99790</td>\n      <td>65.42127</td>\n      <td>-148.28799</td>\n      <td>Fairbanks</td>\n      <td>AK</td>\n      <td>Alaska</td>\n      <td>20.0</td>\n      <td>0.0</td>\n      <td>Yukon-Koyukuk</td>\n    </tr>\n    <tr>\n      <th>33098</th>\n      <td>99824</td>\n      <td>58.27236</td>\n      <td>-134.40082</td>\n      <td>Douglas</td>\n      <td>AK</td>\n      <td>Alaska</td>\n      <td>2259.0</td>\n      <td>504.3</td>\n      <td>Juneau</td>\n    </tr>\n  </tbody>\n</table>\n<p>4804 rows × 9 columns</p>\n</div>"
     },
     "metadata": {},
     "execution_count": 194
    }
   ],
   "source": [
    "zips = zips[zips['city'].isin(city_names) == True]\n",
    "zips"
   ]
  },
  {
   "cell_type": "code",
   "execution_count": 195,
   "metadata": {
    "tags": []
   },
   "outputs": [
    {
     "output_type": "stream",
     "name": "stderr",
     "text": [
      "C:\\Users\\Rob\\AppData\\Local\\Temp/ipykernel_11416/3169711894.py:2: SettingWithCopyWarning: \nA value is trying to be set on a copy of a slice from a DataFrame.\nTry using .loc[row_indexer,col_indexer] = value instead\n\nSee the caveats in the documentation: https://pandas.pydata.org/pandas-docs/stable/user_guide/indexing.html#returning-a-view-versus-a-copy\n  zips['zip'] = zips['zip'].astype(str)\nC:\\Users\\Rob\\AppData\\Local\\Temp/ipykernel_11416/3169711894.py:3: SettingWithCopyWarning: \nA value is trying to be set on a copy of a slice from a DataFrame.\nTry using .loc[row_indexer,col_indexer] = value instead\n\nSee the caveats in the documentation: https://pandas.pydata.org/pandas-docs/stable/user_guide/indexing.html#returning-a-view-versus-a-copy\n  zips['zip'] = zips['zip'].str.zfill(5)\n"
     ]
    }
   ],
   "source": [
    "# Accounting for zip code error with dropped leading 0 (east cost, mostly)\n",
    "zips['zip'] = zips['zip'].astype(str)\n",
    "zips['zip'] = zips['zip'].str.zfill(5)"
   ]
  },
  {
   "cell_type": "code",
   "execution_count": 196,
   "metadata": {},
   "outputs": [
    {
     "output_type": "execute_result",
     "data": {
      "text/plain": [
       "         zip       lat        lng         city state_id     state_name  \\\n",
       "176    01062  42.32188  -72.69278     Florence       MA  Massachusetts   \n",
       "192    01083  42.20382  -72.19495       Warren       MA  Massachusetts   \n",
       "205    01103  42.10400  -72.59210  Springfield       MA  Massachusetts   \n",
       "206    01104  42.13404  -72.56679  Springfield       MA  Massachusetts   \n",
       "207    01105  42.09917  -72.57899  Springfield       MA  Massachusetts   \n",
       "...      ...       ...        ...          ...      ...            ...   \n",
       "33028  99712  64.99326 -146.14966    Fairbanks       AK         Alaska   \n",
       "33050  99744  64.30627 -149.18016     Anderson       AK         Alaska   \n",
       "33081  99775  64.85849 -147.82472    Fairbanks       AK         Alaska   \n",
       "33094  99790  65.42127 -148.28799    Fairbanks       AK         Alaska   \n",
       "33098  99824  58.27236 -134.40082      Douglas       AK         Alaska   \n",
       "\n",
       "       population  density           county_name  \n",
       "176       10364.0    220.4             Hampshire  \n",
       "192        3094.0     75.8             Worcester  \n",
       "205        2332.0   1956.6               Hampden  \n",
       "206       23740.0   1757.3               Hampden  \n",
       "207       11841.0   3678.4               Hampden  \n",
       "...           ...      ...                   ...  \n",
       "33028     14837.0      1.6  Fairbanks North Star  \n",
       "33050       120.0      1.4                Denali  \n",
       "33081      1180.0   3907.3  Fairbanks North Star  \n",
       "33094        20.0      0.0         Yukon-Koyukuk  \n",
       "33098      2259.0    504.3                Juneau  \n",
       "\n",
       "[4804 rows x 9 columns]"
      ],
      "text/html": "<div>\n<style scoped>\n    .dataframe tbody tr th:only-of-type {\n        vertical-align: middle;\n    }\n\n    .dataframe tbody tr th {\n        vertical-align: top;\n    }\n\n    .dataframe thead th {\n        text-align: right;\n    }\n</style>\n<table border=\"1\" class=\"dataframe\">\n  <thead>\n    <tr style=\"text-align: right;\">\n      <th></th>\n      <th>zip</th>\n      <th>lat</th>\n      <th>lng</th>\n      <th>city</th>\n      <th>state_id</th>\n      <th>state_name</th>\n      <th>population</th>\n      <th>density</th>\n      <th>county_name</th>\n    </tr>\n  </thead>\n  <tbody>\n    <tr>\n      <th>176</th>\n      <td>01062</td>\n      <td>42.32188</td>\n      <td>-72.69278</td>\n      <td>Florence</td>\n      <td>MA</td>\n      <td>Massachusetts</td>\n      <td>10364.0</td>\n      <td>220.4</td>\n      <td>Hampshire</td>\n    </tr>\n    <tr>\n      <th>192</th>\n      <td>01083</td>\n      <td>42.20382</td>\n      <td>-72.19495</td>\n      <td>Warren</td>\n      <td>MA</td>\n      <td>Massachusetts</td>\n      <td>3094.0</td>\n      <td>75.8</td>\n      <td>Worcester</td>\n    </tr>\n    <tr>\n      <th>205</th>\n      <td>01103</td>\n      <td>42.10400</td>\n      <td>-72.59210</td>\n      <td>Springfield</td>\n      <td>MA</td>\n      <td>Massachusetts</td>\n      <td>2332.0</td>\n      <td>1956.6</td>\n      <td>Hampden</td>\n    </tr>\n    <tr>\n      <th>206</th>\n      <td>01104</td>\n      <td>42.13404</td>\n      <td>-72.56679</td>\n      <td>Springfield</td>\n      <td>MA</td>\n      <td>Massachusetts</td>\n      <td>23740.0</td>\n      <td>1757.3</td>\n      <td>Hampden</td>\n    </tr>\n    <tr>\n      <th>207</th>\n      <td>01105</td>\n      <td>42.09917</td>\n      <td>-72.57899</td>\n      <td>Springfield</td>\n      <td>MA</td>\n      <td>Massachusetts</td>\n      <td>11841.0</td>\n      <td>3678.4</td>\n      <td>Hampden</td>\n    </tr>\n    <tr>\n      <th>...</th>\n      <td>...</td>\n      <td>...</td>\n      <td>...</td>\n      <td>...</td>\n      <td>...</td>\n      <td>...</td>\n      <td>...</td>\n      <td>...</td>\n      <td>...</td>\n    </tr>\n    <tr>\n      <th>33028</th>\n      <td>99712</td>\n      <td>64.99326</td>\n      <td>-146.14966</td>\n      <td>Fairbanks</td>\n      <td>AK</td>\n      <td>Alaska</td>\n      <td>14837.0</td>\n      <td>1.6</td>\n      <td>Fairbanks North Star</td>\n    </tr>\n    <tr>\n      <th>33050</th>\n      <td>99744</td>\n      <td>64.30627</td>\n      <td>-149.18016</td>\n      <td>Anderson</td>\n      <td>AK</td>\n      <td>Alaska</td>\n      <td>120.0</td>\n      <td>1.4</td>\n      <td>Denali</td>\n    </tr>\n    <tr>\n      <th>33081</th>\n      <td>99775</td>\n      <td>64.85849</td>\n      <td>-147.82472</td>\n      <td>Fairbanks</td>\n      <td>AK</td>\n      <td>Alaska</td>\n      <td>1180.0</td>\n      <td>3907.3</td>\n      <td>Fairbanks North Star</td>\n    </tr>\n    <tr>\n      <th>33094</th>\n      <td>99790</td>\n      <td>65.42127</td>\n      <td>-148.28799</td>\n      <td>Fairbanks</td>\n      <td>AK</td>\n      <td>Alaska</td>\n      <td>20.0</td>\n      <td>0.0</td>\n      <td>Yukon-Koyukuk</td>\n    </tr>\n    <tr>\n      <th>33098</th>\n      <td>99824</td>\n      <td>58.27236</td>\n      <td>-134.40082</td>\n      <td>Douglas</td>\n      <td>AK</td>\n      <td>Alaska</td>\n      <td>2259.0</td>\n      <td>504.3</td>\n      <td>Juneau</td>\n    </tr>\n  </tbody>\n</table>\n<p>4804 rows × 9 columns</p>\n</div>"
     },
     "metadata": {},
     "execution_count": 196
    }
   ],
   "source": [
    "zips"
   ]
  },
  {
   "cell_type": "code",
   "execution_count": 197,
   "metadata": {},
   "outputs": [],
   "source": [
    "zips.to_csv(r'V:\\cities_with_zips.csv', index = False)"
   ]
  },
  {
   "source": [
    "## Combing datasets on zip codes"
   ],
   "cell_type": "markdown",
   "metadata": {}
  },
  {
   "cell_type": "code",
   "execution_count": 198,
   "metadata": {},
   "outputs": [
    {
     "output_type": "execute_result",
     "data": {
      "text/plain": [
       "  indicator_id  region_id        date   value region_type  \\\n",
       "0         RSNA      58362  2020-09-30  1321.0         zip   \n",
       "1         RSNA      58362  2020-05-31  1243.0         zip   \n",
       "2         RSNA      58362  2020-06-30  1220.0         zip   \n",
       "3         RSNA      58362  2020-07-31  1351.0         zip   \n",
       "4         RSSA      58362  2020-07-31  1296.0         zip   \n",
       "\n",
       "                                              region    zip state  \\\n",
       "0  01432; MA; Boston-Cambridge-Newton; Middlesex ...  01432  None   \n",
       "1  01432; MA; Boston-Cambridge-Newton; Middlesex ...  01432  None   \n",
       "2  01432; MA; Boston-Cambridge-Newton; Middlesex ...  01432  None   \n",
       "3  01432; MA; Boston-Cambridge-Newton; Middlesex ...  01432  None   \n",
       "4  01432; MA; Boston-Cambridge-Newton; Middlesex ...  01432  None   \n",
       "\n",
       "                                                city             county  \\\n",
       "0  01432; MA; Boston-Cambridge-Newton; Middlesex ...   Middlesex County   \n",
       "1  01432; MA; Boston-Cambridge-Newton; Middlesex ...   Middlesex County   \n",
       "2  01432; MA; Boston-Cambridge-Newton; Middlesex ...   Middlesex County   \n",
       "3  01432; MA; Boston-Cambridge-Newton; Middlesex ...   Middlesex County   \n",
       "4  01432; MA; Boston-Cambridge-Newton; Middlesex ...   Middlesex County   \n",
       "\n",
       "  neighborhood  \n",
       "0         Ayer  \n",
       "1         Ayer  \n",
       "2         Ayer  \n",
       "3         Ayer  \n",
       "4         Ayer  "
      ],
      "text/html": "<div>\n<style scoped>\n    .dataframe tbody tr th:only-of-type {\n        vertical-align: middle;\n    }\n\n    .dataframe tbody tr th {\n        vertical-align: top;\n    }\n\n    .dataframe thead th {\n        text-align: right;\n    }\n</style>\n<table border=\"1\" class=\"dataframe\">\n  <thead>\n    <tr style=\"text-align: right;\">\n      <th></th>\n      <th>indicator_id</th>\n      <th>region_id</th>\n      <th>date</th>\n      <th>value</th>\n      <th>region_type</th>\n      <th>region</th>\n      <th>zip</th>\n      <th>state</th>\n      <th>city</th>\n      <th>county</th>\n      <th>neighborhood</th>\n    </tr>\n  </thead>\n  <tbody>\n    <tr>\n      <th>0</th>\n      <td>RSNA</td>\n      <td>58362</td>\n      <td>2020-09-30</td>\n      <td>1321.0</td>\n      <td>zip</td>\n      <td>01432; MA; Boston-Cambridge-Newton; Middlesex ...</td>\n      <td>01432</td>\n      <td>None</td>\n      <td>01432; MA; Boston-Cambridge-Newton; Middlesex ...</td>\n      <td>Middlesex County</td>\n      <td>Ayer</td>\n    </tr>\n    <tr>\n      <th>1</th>\n      <td>RSNA</td>\n      <td>58362</td>\n      <td>2020-05-31</td>\n      <td>1243.0</td>\n      <td>zip</td>\n      <td>01432; MA; Boston-Cambridge-Newton; Middlesex ...</td>\n      <td>01432</td>\n      <td>None</td>\n      <td>01432; MA; Boston-Cambridge-Newton; Middlesex ...</td>\n      <td>Middlesex County</td>\n      <td>Ayer</td>\n    </tr>\n    <tr>\n      <th>2</th>\n      <td>RSNA</td>\n      <td>58362</td>\n      <td>2020-06-30</td>\n      <td>1220.0</td>\n      <td>zip</td>\n      <td>01432; MA; Boston-Cambridge-Newton; Middlesex ...</td>\n      <td>01432</td>\n      <td>None</td>\n      <td>01432; MA; Boston-Cambridge-Newton; Middlesex ...</td>\n      <td>Middlesex County</td>\n      <td>Ayer</td>\n    </tr>\n    <tr>\n      <th>3</th>\n      <td>RSNA</td>\n      <td>58362</td>\n      <td>2020-07-31</td>\n      <td>1351.0</td>\n      <td>zip</td>\n      <td>01432; MA; Boston-Cambridge-Newton; Middlesex ...</td>\n      <td>01432</td>\n      <td>None</td>\n      <td>01432; MA; Boston-Cambridge-Newton; Middlesex ...</td>\n      <td>Middlesex County</td>\n      <td>Ayer</td>\n    </tr>\n    <tr>\n      <th>4</th>\n      <td>RSSA</td>\n      <td>58362</td>\n      <td>2020-07-31</td>\n      <td>1296.0</td>\n      <td>zip</td>\n      <td>01432; MA; Boston-Cambridge-Newton; Middlesex ...</td>\n      <td>01432</td>\n      <td>None</td>\n      <td>01432; MA; Boston-Cambridge-Newton; Middlesex ...</td>\n      <td>Middlesex County</td>\n      <td>Ayer</td>\n    </tr>\n  </tbody>\n</table>\n</div>"
     },
     "metadata": {},
     "execution_count": 198
    }
   ],
   "source": [
    "rent_per_region.head()"
   ]
  },
  {
   "cell_type": "code",
   "execution_count": 199,
   "metadata": {},
   "outputs": [
    {
     "output_type": "execute_result",
     "data": {
      "text/plain": [
       "  indicator_id        date   value  \\\n",
       "0         RSNA  2020-09-30  1321.0   \n",
       "1         RSNA  2020-05-31  1243.0   \n",
       "2         RSNA  2020-06-30  1220.0   \n",
       "3         RSNA  2020-07-31  1351.0   \n",
       "4         RSSA  2020-07-31  1296.0   \n",
       "\n",
       "                                              region    zip  \n",
       "0  01432; MA; Boston-Cambridge-Newton; Middlesex ...  01432  \n",
       "1  01432; MA; Boston-Cambridge-Newton; Middlesex ...  01432  \n",
       "2  01432; MA; Boston-Cambridge-Newton; Middlesex ...  01432  \n",
       "3  01432; MA; Boston-Cambridge-Newton; Middlesex ...  01432  \n",
       "4  01432; MA; Boston-Cambridge-Newton; Middlesex ...  01432  "
      ],
      "text/html": "<div>\n<style scoped>\n    .dataframe tbody tr th:only-of-type {\n        vertical-align: middle;\n    }\n\n    .dataframe tbody tr th {\n        vertical-align: top;\n    }\n\n    .dataframe thead th {\n        text-align: right;\n    }\n</style>\n<table border=\"1\" class=\"dataframe\">\n  <thead>\n    <tr style=\"text-align: right;\">\n      <th></th>\n      <th>indicator_id</th>\n      <th>date</th>\n      <th>value</th>\n      <th>region</th>\n      <th>zip</th>\n    </tr>\n  </thead>\n  <tbody>\n    <tr>\n      <th>0</th>\n      <td>RSNA</td>\n      <td>2020-09-30</td>\n      <td>1321.0</td>\n      <td>01432; MA; Boston-Cambridge-Newton; Middlesex ...</td>\n      <td>01432</td>\n    </tr>\n    <tr>\n      <th>1</th>\n      <td>RSNA</td>\n      <td>2020-05-31</td>\n      <td>1243.0</td>\n      <td>01432; MA; Boston-Cambridge-Newton; Middlesex ...</td>\n      <td>01432</td>\n    </tr>\n    <tr>\n      <th>2</th>\n      <td>RSNA</td>\n      <td>2020-06-30</td>\n      <td>1220.0</td>\n      <td>01432; MA; Boston-Cambridge-Newton; Middlesex ...</td>\n      <td>01432</td>\n    </tr>\n    <tr>\n      <th>3</th>\n      <td>RSNA</td>\n      <td>2020-07-31</td>\n      <td>1351.0</td>\n      <td>01432; MA; Boston-Cambridge-Newton; Middlesex ...</td>\n      <td>01432</td>\n    </tr>\n    <tr>\n      <th>4</th>\n      <td>RSSA</td>\n      <td>2020-07-31</td>\n      <td>1296.0</td>\n      <td>01432; MA; Boston-Cambridge-Newton; Middlesex ...</td>\n      <td>01432</td>\n    </tr>\n  </tbody>\n</table>\n</div>"
     },
     "metadata": {},
     "execution_count": 199
    }
   ],
   "source": [
    "rent_per_region = rent_per_region[['indicator_id', 'date', 'value', 'region', 'zip']]\n",
    "rent_per_region.head()"
   ]
  },
  {
   "cell_type": "code",
   "execution_count": 200,
   "metadata": {},
   "outputs": [
    {
     "output_type": "execute_result",
     "data": {
      "text/plain": [
       "       zip       lat       lng         city state_id     state_name  \\\n",
       "176  01062  42.32188 -72.69278     Florence       MA  Massachusetts   \n",
       "192  01083  42.20382 -72.19495       Warren       MA  Massachusetts   \n",
       "205  01103  42.10400 -72.59210  Springfield       MA  Massachusetts   \n",
       "206  01104  42.13404 -72.56679  Springfield       MA  Massachusetts   \n",
       "207  01105  42.09917 -72.57899  Springfield       MA  Massachusetts   \n",
       "\n",
       "     population  density county_name  \n",
       "176     10364.0    220.4   Hampshire  \n",
       "192      3094.0     75.8   Worcester  \n",
       "205      2332.0   1956.6     Hampden  \n",
       "206     23740.0   1757.3     Hampden  \n",
       "207     11841.0   3678.4     Hampden  "
      ],
      "text/html": "<div>\n<style scoped>\n    .dataframe tbody tr th:only-of-type {\n        vertical-align: middle;\n    }\n\n    .dataframe tbody tr th {\n        vertical-align: top;\n    }\n\n    .dataframe thead th {\n        text-align: right;\n    }\n</style>\n<table border=\"1\" class=\"dataframe\">\n  <thead>\n    <tr style=\"text-align: right;\">\n      <th></th>\n      <th>zip</th>\n      <th>lat</th>\n      <th>lng</th>\n      <th>city</th>\n      <th>state_id</th>\n      <th>state_name</th>\n      <th>population</th>\n      <th>density</th>\n      <th>county_name</th>\n    </tr>\n  </thead>\n  <tbody>\n    <tr>\n      <th>176</th>\n      <td>01062</td>\n      <td>42.32188</td>\n      <td>-72.69278</td>\n      <td>Florence</td>\n      <td>MA</td>\n      <td>Massachusetts</td>\n      <td>10364.0</td>\n      <td>220.4</td>\n      <td>Hampshire</td>\n    </tr>\n    <tr>\n      <th>192</th>\n      <td>01083</td>\n      <td>42.20382</td>\n      <td>-72.19495</td>\n      <td>Warren</td>\n      <td>MA</td>\n      <td>Massachusetts</td>\n      <td>3094.0</td>\n      <td>75.8</td>\n      <td>Worcester</td>\n    </tr>\n    <tr>\n      <th>205</th>\n      <td>01103</td>\n      <td>42.10400</td>\n      <td>-72.59210</td>\n      <td>Springfield</td>\n      <td>MA</td>\n      <td>Massachusetts</td>\n      <td>2332.0</td>\n      <td>1956.6</td>\n      <td>Hampden</td>\n    </tr>\n    <tr>\n      <th>206</th>\n      <td>01104</td>\n      <td>42.13404</td>\n      <td>-72.56679</td>\n      <td>Springfield</td>\n      <td>MA</td>\n      <td>Massachusetts</td>\n      <td>23740.0</td>\n      <td>1757.3</td>\n      <td>Hampden</td>\n    </tr>\n    <tr>\n      <th>207</th>\n      <td>01105</td>\n      <td>42.09917</td>\n      <td>-72.57899</td>\n      <td>Springfield</td>\n      <td>MA</td>\n      <td>Massachusetts</td>\n      <td>11841.0</td>\n      <td>3678.4</td>\n      <td>Hampden</td>\n    </tr>\n  </tbody>\n</table>\n</div>"
     },
     "metadata": {},
     "execution_count": 200
    }
   ],
   "source": [
    "zips.head()"
   ]
  },
  {
   "cell_type": "code",
   "execution_count": 201,
   "metadata": {},
   "outputs": [
    {
     "output_type": "execute_result",
     "data": {
      "text/plain": [
       "  indicator_id        date   value                                  region  \\\n",
       "0         RSNA  2020-08-31  1375.0  01603; MA; Worcester; Worcester County   \n",
       "1         RSNA  2020-07-31  1402.0  01603; MA; Worcester; Worcester County   \n",
       "2         RSNA  2020-06-30  1439.0  01603; MA; Worcester; Worcester County   \n",
       "3         RSNA  2020-11-30  1465.0  01603; MA; Worcester; Worcester County   \n",
       "4         RSNA  2020-10-31  1566.0  01603; MA; Worcester; Worcester County   \n",
       "\n",
       "     zip       lat       lng       city state_id     state_name  population  \\\n",
       "0  01603  42.24407 -71.84445  Worcester       MA  Massachusetts     19731.0   \n",
       "1  01603  42.24407 -71.84445  Worcester       MA  Massachusetts     19731.0   \n",
       "2  01603  42.24407 -71.84445  Worcester       MA  Massachusetts     19731.0   \n",
       "3  01603  42.24407 -71.84445  Worcester       MA  Massachusetts     19731.0   \n",
       "4  01603  42.24407 -71.84445  Worcester       MA  Massachusetts     19731.0   \n",
       "\n",
       "   density county_name  \n",
       "0   1688.4   Worcester  \n",
       "1   1688.4   Worcester  \n",
       "2   1688.4   Worcester  \n",
       "3   1688.4   Worcester  \n",
       "4   1688.4   Worcester  "
      ],
      "text/html": "<div>\n<style scoped>\n    .dataframe tbody tr th:only-of-type {\n        vertical-align: middle;\n    }\n\n    .dataframe tbody tr th {\n        vertical-align: top;\n    }\n\n    .dataframe thead th {\n        text-align: right;\n    }\n</style>\n<table border=\"1\" class=\"dataframe\">\n  <thead>\n    <tr style=\"text-align: right;\">\n      <th></th>\n      <th>indicator_id</th>\n      <th>date</th>\n      <th>value</th>\n      <th>region</th>\n      <th>zip</th>\n      <th>lat</th>\n      <th>lng</th>\n      <th>city</th>\n      <th>state_id</th>\n      <th>state_name</th>\n      <th>population</th>\n      <th>density</th>\n      <th>county_name</th>\n    </tr>\n  </thead>\n  <tbody>\n    <tr>\n      <th>0</th>\n      <td>RSNA</td>\n      <td>2020-08-31</td>\n      <td>1375.0</td>\n      <td>01603; MA; Worcester; Worcester County</td>\n      <td>01603</td>\n      <td>42.24407</td>\n      <td>-71.84445</td>\n      <td>Worcester</td>\n      <td>MA</td>\n      <td>Massachusetts</td>\n      <td>19731.0</td>\n      <td>1688.4</td>\n      <td>Worcester</td>\n    </tr>\n    <tr>\n      <th>1</th>\n      <td>RSNA</td>\n      <td>2020-07-31</td>\n      <td>1402.0</td>\n      <td>01603; MA; Worcester; Worcester County</td>\n      <td>01603</td>\n      <td>42.24407</td>\n      <td>-71.84445</td>\n      <td>Worcester</td>\n      <td>MA</td>\n      <td>Massachusetts</td>\n      <td>19731.0</td>\n      <td>1688.4</td>\n      <td>Worcester</td>\n    </tr>\n    <tr>\n      <th>2</th>\n      <td>RSNA</td>\n      <td>2020-06-30</td>\n      <td>1439.0</td>\n      <td>01603; MA; Worcester; Worcester County</td>\n      <td>01603</td>\n      <td>42.24407</td>\n      <td>-71.84445</td>\n      <td>Worcester</td>\n      <td>MA</td>\n      <td>Massachusetts</td>\n      <td>19731.0</td>\n      <td>1688.4</td>\n      <td>Worcester</td>\n    </tr>\n    <tr>\n      <th>3</th>\n      <td>RSNA</td>\n      <td>2020-11-30</td>\n      <td>1465.0</td>\n      <td>01603; MA; Worcester; Worcester County</td>\n      <td>01603</td>\n      <td>42.24407</td>\n      <td>-71.84445</td>\n      <td>Worcester</td>\n      <td>MA</td>\n      <td>Massachusetts</td>\n      <td>19731.0</td>\n      <td>1688.4</td>\n      <td>Worcester</td>\n    </tr>\n    <tr>\n      <th>4</th>\n      <td>RSNA</td>\n      <td>2020-10-31</td>\n      <td>1566.0</td>\n      <td>01603; MA; Worcester; Worcester County</td>\n      <td>01603</td>\n      <td>42.24407</td>\n      <td>-71.84445</td>\n      <td>Worcester</td>\n      <td>MA</td>\n      <td>Massachusetts</td>\n      <td>19731.0</td>\n      <td>1688.4</td>\n      <td>Worcester</td>\n    </tr>\n  </tbody>\n</table>\n</div>"
     },
     "metadata": {},
     "execution_count": 201
    }
   ],
   "source": [
    "rent_data = rent_per_region.merge(zips, on=\"zip\", how = 'inner')\n",
    "rent_data.head()"
   ]
  },
  {
   "cell_type": "code",
   "execution_count": 202,
   "metadata": {},
   "outputs": [
    {
     "output_type": "execute_result",
     "data": {
      "text/plain": [
       "(213209, 13)"
      ]
     },
     "metadata": {},
     "execution_count": 202
    }
   ],
   "source": [
    "rent_data.shape"
   ]
  },
  {
   "cell_type": "code",
   "execution_count": 203,
   "metadata": {},
   "outputs": [
    {
     "output_type": "execute_result",
     "data": {
      "text/plain": [
       "'2014-01-31'"
      ]
     },
     "metadata": {},
     "execution_count": 203
    }
   ],
   "source": [
    "min(rent_data[rent_data['city'] == \"Worcester\"]['date'])"
   ]
  },
  {
   "cell_type": "code",
   "execution_count": 204,
   "metadata": {},
   "outputs": [
    {
     "output_type": "stream",
     "name": "stdout",
     "text": [
      "<class 'pandas.core.frame.DataFrame'>\nInt64Index: 213209 entries, 0 to 213208\nData columns (total 13 columns):\n #   Column        Non-Null Count   Dtype         \n---  ------        --------------   -----         \n 0   indicator_id  213209 non-null  object        \n 1   date          213209 non-null  datetime64[ns]\n 2   value         213209 non-null  float64       \n 3   region        213209 non-null  object        \n 4   zip           213209 non-null  object        \n 5   lat           213209 non-null  float64       \n 6   lng           213209 non-null  float64       \n 7   city          213209 non-null  object        \n 8   state_id      213209 non-null  object        \n 9   state_name    213209 non-null  object        \n 10  population    213209 non-null  float64       \n 11  density       213209 non-null  float64       \n 12  county_name   213209 non-null  object        \ndtypes: datetime64[ns](1), float64(5), object(7)\nmemory usage: 22.8+ MB\n"
     ]
    }
   ],
   "source": [
    "rent_data['date'] = pd.to_datetime(rent_data['date'])\n",
    "rent_data.info()"
   ]
  },
  {
   "cell_type": "code",
   "execution_count": 205,
   "metadata": {},
   "outputs": [
    {
     "output_type": "execute_result",
     "data": {
      "text/plain": [
       "  indicator_id       date   value                                  region  \\\n",
       "0         RSNA 2020-08-31  1375.0  01603; MA; Worcester; Worcester County   \n",
       "1         RSNA 2020-07-31  1402.0  01603; MA; Worcester; Worcester County   \n",
       "2         RSNA 2020-06-30  1439.0  01603; MA; Worcester; Worcester County   \n",
       "3         RSNA 2020-11-30  1465.0  01603; MA; Worcester; Worcester County   \n",
       "4         RSNA 2020-10-31  1566.0  01603; MA; Worcester; Worcester County   \n",
       "\n",
       "     zip       lat       lng       city state_id     state_name  population  \\\n",
       "0  01603  42.24407 -71.84445  Worcester       MA  Massachusetts     19731.0   \n",
       "1  01603  42.24407 -71.84445  Worcester       MA  Massachusetts     19731.0   \n",
       "2  01603  42.24407 -71.84445  Worcester       MA  Massachusetts     19731.0   \n",
       "3  01603  42.24407 -71.84445  Worcester       MA  Massachusetts     19731.0   \n",
       "4  01603  42.24407 -71.84445  Worcester       MA  Massachusetts     19731.0   \n",
       "\n",
       "   density county_name  year  \n",
       "0   1688.4   Worcester  2020  \n",
       "1   1688.4   Worcester  2020  \n",
       "2   1688.4   Worcester  2020  \n",
       "3   1688.4   Worcester  2020  \n",
       "4   1688.4   Worcester  2020  "
      ],
      "text/html": "<div>\n<style scoped>\n    .dataframe tbody tr th:only-of-type {\n        vertical-align: middle;\n    }\n\n    .dataframe tbody tr th {\n        vertical-align: top;\n    }\n\n    .dataframe thead th {\n        text-align: right;\n    }\n</style>\n<table border=\"1\" class=\"dataframe\">\n  <thead>\n    <tr style=\"text-align: right;\">\n      <th></th>\n      <th>indicator_id</th>\n      <th>date</th>\n      <th>value</th>\n      <th>region</th>\n      <th>zip</th>\n      <th>lat</th>\n      <th>lng</th>\n      <th>city</th>\n      <th>state_id</th>\n      <th>state_name</th>\n      <th>population</th>\n      <th>density</th>\n      <th>county_name</th>\n      <th>year</th>\n    </tr>\n  </thead>\n  <tbody>\n    <tr>\n      <th>0</th>\n      <td>RSNA</td>\n      <td>2020-08-31</td>\n      <td>1375.0</td>\n      <td>01603; MA; Worcester; Worcester County</td>\n      <td>01603</td>\n      <td>42.24407</td>\n      <td>-71.84445</td>\n      <td>Worcester</td>\n      <td>MA</td>\n      <td>Massachusetts</td>\n      <td>19731.0</td>\n      <td>1688.4</td>\n      <td>Worcester</td>\n      <td>2020</td>\n    </tr>\n    <tr>\n      <th>1</th>\n      <td>RSNA</td>\n      <td>2020-07-31</td>\n      <td>1402.0</td>\n      <td>01603; MA; Worcester; Worcester County</td>\n      <td>01603</td>\n      <td>42.24407</td>\n      <td>-71.84445</td>\n      <td>Worcester</td>\n      <td>MA</td>\n      <td>Massachusetts</td>\n      <td>19731.0</td>\n      <td>1688.4</td>\n      <td>Worcester</td>\n      <td>2020</td>\n    </tr>\n    <tr>\n      <th>2</th>\n      <td>RSNA</td>\n      <td>2020-06-30</td>\n      <td>1439.0</td>\n      <td>01603; MA; Worcester; Worcester County</td>\n      <td>01603</td>\n      <td>42.24407</td>\n      <td>-71.84445</td>\n      <td>Worcester</td>\n      <td>MA</td>\n      <td>Massachusetts</td>\n      <td>19731.0</td>\n      <td>1688.4</td>\n      <td>Worcester</td>\n      <td>2020</td>\n    </tr>\n    <tr>\n      <th>3</th>\n      <td>RSNA</td>\n      <td>2020-11-30</td>\n      <td>1465.0</td>\n      <td>01603; MA; Worcester; Worcester County</td>\n      <td>01603</td>\n      <td>42.24407</td>\n      <td>-71.84445</td>\n      <td>Worcester</td>\n      <td>MA</td>\n      <td>Massachusetts</td>\n      <td>19731.0</td>\n      <td>1688.4</td>\n      <td>Worcester</td>\n      <td>2020</td>\n    </tr>\n    <tr>\n      <th>4</th>\n      <td>RSNA</td>\n      <td>2020-10-31</td>\n      <td>1566.0</td>\n      <td>01603; MA; Worcester; Worcester County</td>\n      <td>01603</td>\n      <td>42.24407</td>\n      <td>-71.84445</td>\n      <td>Worcester</td>\n      <td>MA</td>\n      <td>Massachusetts</td>\n      <td>19731.0</td>\n      <td>1688.4</td>\n      <td>Worcester</td>\n      <td>2020</td>\n    </tr>\n  </tbody>\n</table>\n</div>"
     },
     "metadata": {},
     "execution_count": 205
    }
   ],
   "source": [
    "rent_data['year'] = pd.DatetimeIndex(rent_data['date']).year\n",
    "rent_data.head()"
   ]
  },
  {
   "cell_type": "code",
   "execution_count": 218,
   "metadata": {},
   "outputs": [
    {
     "output_type": "execute_result",
     "data": {
      "text/plain": [
       "(213209, 14)"
      ]
     },
     "metadata": {},
     "execution_count": 218
    }
   ],
   "source": [
    "rent_data.shape"
   ]
  },
  {
   "source": [
    "# Preliminary visualizations"
   ],
   "cell_type": "markdown",
   "metadata": {}
  },
  {
   "cell_type": "code",
   "execution_count": 206,
   "metadata": {},
   "outputs": [
    {
     "output_type": "display_data",
     "data": {
      "text/plain": "<Figure size 432x288 with 1 Axes>",
      "image/svg+xml": "<?xml version=\"1.0\" encoding=\"utf-8\" standalone=\"no\"?>\r\n<!DOCTYPE svg PUBLIC \"-//W3C//DTD SVG 1.1//EN\"\r\n  \"http://www.w3.org/Graphics/SVG/1.1/DTD/svg11.dtd\">\r\n<svg height=\"248.518125pt\" version=\"1.1\" viewBox=\"0 0 381.65 248.518125\" width=\"381.65pt\" xmlns=\"http://www.w3.org/2000/svg\" xmlns:xlink=\"http://www.w3.org/1999/xlink\">\r\n <metadata>\r\n  <rdf:RDF xmlns:cc=\"http://creativecommons.org/ns#\" xmlns:dc=\"http://purl.org/dc/elements/1.1/\" xmlns:rdf=\"http://www.w3.org/1999/02/22-rdf-syntax-ns#\">\r\n   <cc:Work>\r\n    <dc:type rdf:resource=\"http://purl.org/dc/dcmitype/StillImage\"/>\r\n    <dc:date>2021-04-12T20:32:41.623529</dc:date>\r\n    <dc:format>image/svg+xml</dc:format>\r\n    <dc:creator>\r\n     <cc:Agent>\r\n      <dc:title>Matplotlib v3.4.1, https://matplotlib.org/</dc:title>\r\n     </cc:Agent>\r\n    </dc:creator>\r\n   </cc:Work>\r\n  </rdf:RDF>\r\n </metadata>\r\n <defs>\r\n  <style type=\"text/css\">*{stroke-linecap:butt;stroke-linejoin:round;}</style>\r\n </defs>\r\n <g id=\"figure_1\">\r\n  <g id=\"patch_1\">\r\n   <path d=\"M -0 248.518125 \r\nL 381.65 248.518125 \r\nL 381.65 0 \r\nL -0 0 \r\nz\r\n\" style=\"fill:none;\"/>\r\n  </g>\r\n  <g id=\"axes_1\">\r\n   <g id=\"patch_2\">\r\n    <path d=\"M 39.65 224.64 \r\nL 374.45 224.64 \r\nL 374.45 7.2 \r\nL 39.65 7.2 \r\nz\r\n\" style=\"fill:#ffffff;\"/>\r\n   </g>\r\n   <g id=\"PathCollection_1\">\r\n    <defs>\r\n     <path d=\"M 0 3 \r\nC 0.795609 3 1.55874 2.683901 2.12132 2.12132 \r\nC 2.683901 1.55874 3 0.795609 3 0 \r\nC 3 -0.795609 2.683901 -1.55874 2.12132 -2.12132 \r\nC 1.55874 -2.683901 0.795609 -3 0 -3 \r\nC -0.795609 -3 -1.55874 -2.683901 -2.12132 -2.12132 \r\nC -2.683901 -1.55874 -3 -0.795609 -3 0 \r\nC -3 0.795609 -2.683901 1.55874 -2.12132 2.12132 \r\nC -1.55874 2.683901 -0.795609 3 0 3 \r\nz\r\n\" id=\"m7f28ed29eb\" style=\"stroke:#1f77b4;\"/>\r\n    </defs>\r\n    <g clip-path=\"url(#p8dbddab044)\">\r\n     <use style=\"fill:#1f77b4;stroke:#1f77b4;\" x=\"337.920477\" xlink:href=\"#m7f28ed29eb\" y=\"98.294554\"/>\r\n     <use style=\"fill:#1f77b4;stroke:#1f77b4;\" x=\"334.270468\" xlink:href=\"#m7f28ed29eb\" y=\"92.270667\"/>\r\n     <use style=\"fill:#1f77b4;stroke:#1f77b4;\" x=\"330.620459\" xlink:href=\"#m7f28ed29eb\" y=\"84.015711\"/>\r\n     <use style=\"fill:#1f77b4;stroke:#1f77b4;\" x=\"348.635018\" xlink:href=\"#m7f28ed29eb\" y=\"78.214931\"/>\r\n     <use style=\"fill:#1f77b4;stroke:#1f77b4;\" x=\"345.102752\" xlink:href=\"#m7f28ed29eb\" y=\"55.681133\"/>\r\n     <use style=\"fill:#1f77b4;stroke:#1f77b4;\" x=\"337.920477\" xlink:href=\"#m7f28ed29eb\" y=\"76.653183\"/>\r\n     <use style=\"fill:#1f77b4;stroke:#1f77b4;\" x=\"341.452743\" xlink:href=\"#m7f28ed29eb\" y=\"69.067548\"/>\r\n     <use style=\"fill:#1f77b4;stroke:#1f77b4;\" x=\"327.088192\" xlink:href=\"#m7f28ed29eb\" y=\"89.370277\"/>\r\n     <use style=\"fill:#1f77b4;stroke:#1f77b4;\" x=\"330.620459\" xlink:href=\"#m7f28ed29eb\" y=\"71.521724\"/>\r\n     <use style=\"fill:#1f77b4;stroke:#1f77b4;\" x=\"334.270468\" xlink:href=\"#m7f28ed29eb\" y=\"72.860365\"/>\r\n     <use style=\"fill:#1f77b4;stroke:#1f77b4;\" x=\"345.102752\" xlink:href=\"#m7f28ed29eb\" y=\"74.645221\"/>\r\n     <use style=\"fill:#1f77b4;stroke:#1f77b4;\" x=\"341.452743\" xlink:href=\"#m7f28ed29eb\" y=\"75.983862\"/>\r\n     <use style=\"fill:#1f77b4;stroke:#1f77b4;\" x=\"327.088192\" xlink:href=\"#m7f28ed29eb\" y=\"73.083472\"/>\r\n     <use style=\"fill:#1f77b4;stroke:#1f77b4;\" x=\"348.635018\" xlink:href=\"#m7f28ed29eb\" y=\"73.529686\"/>\r\n     <use style=\"fill:#1f77b4;stroke:#1f77b4;\" x=\"108.323149\" xlink:href=\"#m7f28ed29eb\" y=\"160.318276\"/>\r\n     <use style=\"fill:#1f77b4;stroke:#1f77b4;\" x=\"111.973158\" xlink:href=\"#m7f28ed29eb\" y=\"159.648955\"/>\r\n     <use style=\"fill:#1f77b4;stroke:#1f77b4;\" x=\"115.505425\" xlink:href=\"#m7f28ed29eb\" y=\"156.302352\"/>\r\n     <use style=\"fill:#1f77b4;stroke:#1f77b4;\" x=\"119.155433\" xlink:href=\"#m7f28ed29eb\" y=\"155.186817\"/>\r\n     <use style=\"fill:#1f77b4;stroke:#1f77b4;\" x=\"101.140874\" xlink:href=\"#m7f28ed29eb\" y=\"171.250515\"/>\r\n     <use style=\"fill:#1f77b4;stroke:#1f77b4;\" x=\"122.805442\" xlink:href=\"#m7f28ed29eb\" y=\"153.848176\"/>\r\n     <use style=\"fill:#1f77b4;stroke:#1f77b4;\" x=\"126.337709\" xlink:href=\"#m7f28ed29eb\" y=\"151.617107\"/>\r\n     <use style=\"fill:#1f77b4;stroke:#1f77b4;\" x=\"129.987718\" xlink:href=\"#m7f28ed29eb\" y=\"151.840213\"/>\r\n     <use style=\"fill:#1f77b4;stroke:#1f77b4;\" x=\"133.519984\" xlink:href=\"#m7f28ed29eb\" y=\"156.525459\"/>\r\n     <use style=\"fill:#1f77b4;stroke:#1f77b4;\" x=\"137.169993\" xlink:href=\"#m7f28ed29eb\" y=\"158.756528\"/>\r\n     <use style=\"fill:#1f77b4;stroke:#1f77b4;\" x=\"140.820002\" xlink:href=\"#m7f28ed29eb\" y=\"152.955748\"/>\r\n     <use style=\"fill:#1f77b4;stroke:#1f77b4;\" x=\"104.790883\" xlink:href=\"#m7f28ed29eb\" y=\"163.218666\"/>\r\n     <use style=\"fill:#1f77b4;stroke:#1f77b4;\" x=\"334.270468\" xlink:href=\"#m7f28ed29eb\" y=\"73.752793\"/>\r\n     <use style=\"fill:#1f77b4;stroke:#1f77b4;\" x=\"144.234526\" xlink:href=\"#m7f28ed29eb\" y=\"149.386037\"/>\r\n     <use style=\"fill:#1f77b4;stroke:#1f77b4;\" x=\"151.416801\" xlink:href=\"#m7f28ed29eb\" y=\"146.708754\"/>\r\n     <use style=\"fill:#1f77b4;stroke:#1f77b4;\" x=\"155.06681\" xlink:href=\"#m7f28ed29eb\" y=\"138.900012\"/>\r\n     <use style=\"fill:#1f77b4;stroke:#1f77b4;\" x=\"158.599077\" xlink:href=\"#m7f28ed29eb\" y=\"137.338264\"/>\r\n     <use style=\"fill:#1f77b4;stroke:#1f77b4;\" x=\"162.249086\" xlink:href=\"#m7f28ed29eb\" y=\"136.222729\"/>\r\n     <use style=\"fill:#1f77b4;stroke:#1f77b4;\" x=\"341.452743\" xlink:href=\"#m7f28ed29eb\" y=\"66.836479\"/>\r\n     <use style=\"fill:#1f77b4;stroke:#1f77b4;\" x=\"273.162256\" xlink:href=\"#m7f28ed29eb\" y=\"103.202906\"/>\r\n     <use style=\"fill:#1f77b4;stroke:#1f77b4;\" x=\"276.812265\" xlink:href=\"#m7f28ed29eb\" y=\"103.872227\"/>\r\n     <use style=\"fill:#1f77b4;stroke:#1f77b4;\" x=\"280.344531\" xlink:href=\"#m7f28ed29eb\" y=\"100.079409\"/>\r\n     <use style=\"fill:#1f77b4;stroke:#1f77b4;\" x=\"283.99454\" xlink:href=\"#m7f28ed29eb\" y=\"99.186981\"/>\r\n     <use style=\"fill:#1f77b4;stroke:#1f77b4;\" x=\"165.899094\" xlink:href=\"#m7f28ed29eb\" y=\"140.238654\"/>\r\n     <use style=\"fill:#1f77b4;stroke:#1f77b4;\" x=\"54.868182\" xlink:href=\"#m7f28ed29eb\" y=\"172.36605\"/>\r\n     <use style=\"fill:#1f77b4;stroke:#1f77b4;\" x=\"147.884535\" xlink:href=\"#m7f28ed29eb\" y=\"150.501572\"/>\r\n     <use style=\"fill:#1f77b4;stroke:#1f77b4;\" x=\"97.844092\" xlink:href=\"#m7f28ed29eb\" y=\"169.019446\"/>\r\n     <use style=\"fill:#1f77b4;stroke:#1f77b4;\" x=\"94.194083\" xlink:href=\"#m7f28ed29eb\" y=\"168.127018\"/>\r\n     <use style=\"fill:#1f77b4;stroke:#1f77b4;\" x=\"345.102752\" xlink:href=\"#m7f28ed29eb\" y=\"65.720944\"/>\r\n     <use style=\"fill:#1f77b4;stroke:#1f77b4;\" x=\"330.620459\" xlink:href=\"#m7f28ed29eb\" y=\"71.07551\"/>\r\n     <use style=\"fill:#1f77b4;stroke:#1f77b4;\" x=\"334.270468\" xlink:href=\"#m7f28ed29eb\" y=\"71.07551\"/>\r\n     <use style=\"fill:#1f77b4;stroke:#1f77b4;\" x=\"330.620459\" xlink:href=\"#m7f28ed29eb\" y=\"73.752793\"/>\r\n     <use style=\"fill:#1f77b4;stroke:#1f77b4;\" x=\"312.841384\" xlink:href=\"#m7f28ed29eb\" y=\"78.661145\"/>\r\n     <use style=\"fill:#1f77b4;stroke:#1f77b4;\" x=\"327.088192\" xlink:href=\"#m7f28ed29eb\" y=\"76.206969\"/>\r\n     <use style=\"fill:#1f77b4;stroke:#1f77b4;\" x=\"309.191375\" xlink:href=\"#m7f28ed29eb\" y=\"84.908139\"/>\r\n     <use style=\"fill:#1f77b4;stroke:#1f77b4;\" x=\"305.541366\" xlink:href=\"#m7f28ed29eb\" y=\"85.800566\"/>\r\n     <use style=\"fill:#1f77b4;stroke:#1f77b4;\" x=\"54.868182\" xlink:href=\"#m7f28ed29eb\" y=\"169.688767\"/>\r\n     <use style=\"fill:#1f77b4;stroke:#1f77b4;\" x=\"58.164964\" xlink:href=\"#m7f28ed29eb\" y=\"179.951685\"/>\r\n     <use style=\"fill:#1f77b4;stroke:#1f77b4;\" x=\"61.814973\" xlink:href=\"#m7f28ed29eb\" y=\"175.93576\"/>\r\n     <use style=\"fill:#1f77b4;stroke:#1f77b4;\" x=\"302.0091\" xlink:href=\"#m7f28ed29eb\" y=\"84.015711\"/>\r\n     <use style=\"fill:#1f77b4;stroke:#1f77b4;\" x=\"298.359091\" xlink:href=\"#m7f28ed29eb\" y=\"95.617271\"/>\r\n     <use style=\"fill:#1f77b4;stroke:#1f77b4;\" x=\"327.088192\" xlink:href=\"#m7f28ed29eb\" y=\"72.414151\"/>\r\n     <use style=\"fill:#1f77b4;stroke:#1f77b4;\" x=\"294.826824\" xlink:href=\"#m7f28ed29eb\" y=\"93.163095\"/>\r\n     <use style=\"fill:#1f77b4;stroke:#1f77b4;\" x=\"65.347239\" xlink:href=\"#m7f28ed29eb\" y=\"178.389936\"/>\r\n     <use style=\"fill:#1f77b4;stroke:#1f77b4;\" x=\"287.526807\" xlink:href=\"#m7f28ed29eb\" y=\"91.824453\"/>\r\n     <use style=\"fill:#1f77b4;stroke:#1f77b4;\" x=\"68.997248\" xlink:href=\"#m7f28ed29eb\" y=\"174.597119\"/>\r\n     <use style=\"fill:#1f77b4;stroke:#1f77b4;\" x=\"72.529515\" xlink:href=\"#m7f28ed29eb\" y=\"174.150905\"/>\r\n     <use style=\"fill:#1f77b4;stroke:#1f77b4;\" x=\"76.179523\" xlink:href=\"#m7f28ed29eb\" y=\"173.927798\"/>\r\n     <use style=\"fill:#1f77b4;stroke:#1f77b4;\" x=\"79.829532\" xlink:href=\"#m7f28ed29eb\" y=\"170.804301\"/>\r\n     <use style=\"fill:#1f77b4;stroke:#1f77b4;\" x=\"337.920477\" xlink:href=\"#m7f28ed29eb\" y=\"69.290655\"/>\r\n     <use style=\"fill:#1f77b4;stroke:#1f77b4;\" x=\"83.361799\" xlink:href=\"#m7f28ed29eb\" y=\"166.119056\"/>\r\n     <use style=\"fill:#1f77b4;stroke:#1f77b4;\" x=\"316.255908\" xlink:href=\"#m7f28ed29eb\" y=\"76.653183\"/>\r\n     <use style=\"fill:#1f77b4;stroke:#1f77b4;\" x=\"87.011808\" xlink:href=\"#m7f28ed29eb\" y=\"158.533421\"/>\r\n     <use style=\"fill:#1f77b4;stroke:#1f77b4;\" x=\"58.164964\" xlink:href=\"#m7f28ed29eb\" y=\"171.250515\"/>\r\n     <use style=\"fill:#1f77b4;stroke:#1f77b4;\" x=\"90.544074\" xlink:href=\"#m7f28ed29eb\" y=\"163.218666\"/>\r\n     <use style=\"fill:#1f77b4;stroke:#1f77b4;\" x=\"291.176816\" xlink:href=\"#m7f28ed29eb\" y=\"89.14717\"/>\r\n     <use style=\"fill:#1f77b4;stroke:#1f77b4;\" x=\"61.814973\" xlink:href=\"#m7f28ed29eb\" y=\"170.134981\"/>\r\n     <use style=\"fill:#1f77b4;stroke:#1f77b4;\" x=\"237.368621\" xlink:href=\"#m7f28ed29eb\" y=\"109.896113\"/>\r\n     <use style=\"fill:#1f77b4;stroke:#1f77b4;\" x=\"68.997248\" xlink:href=\"#m7f28ed29eb\" y=\"167.903911\"/>\r\n     <use style=\"fill:#1f77b4;stroke:#1f77b4;\" x=\"176.613636\" xlink:href=\"#m7f28ed29eb\" y=\"137.561371\"/>\r\n     <use style=\"fill:#1f77b4;stroke:#1f77b4;\" x=\"348.635018\" xlink:href=\"#m7f28ed29eb\" y=\"76.430076\"/>\r\n     <use style=\"fill:#1f77b4;stroke:#1f77b4;\" x=\"345.102752\" xlink:href=\"#m7f28ed29eb\" y=\"84.461925\"/>\r\n     <use style=\"fill:#1f77b4;stroke:#1f77b4;\" x=\"341.452743\" xlink:href=\"#m7f28ed29eb\" y=\"75.091434\"/>\r\n     <use style=\"fill:#1f77b4;stroke:#1f77b4;\" x=\"173.08137\" xlink:href=\"#m7f28ed29eb\" y=\"138.676905\"/>\r\n     <use style=\"fill:#1f77b4;stroke:#1f77b4;\" x=\"169.431361\" xlink:href=\"#m7f28ed29eb\" y=\"140.907975\"/>\r\n     <use style=\"fill:#1f77b4;stroke:#1f77b4;\" x=\"337.920477\" xlink:href=\"#m7f28ed29eb\" y=\"61.928126\"/>\r\n     <use style=\"fill:#1f77b4;stroke:#1f77b4;\" x=\"348.635018\" xlink:href=\"#m7f28ed29eb\" y=\"64.605409\"/>\r\n     <use style=\"fill:#1f77b4;stroke:#1f77b4;\" x=\"323.438184\" xlink:href=\"#m7f28ed29eb\" y=\"71.298617\"/>\r\n     <use style=\"fill:#1f77b4;stroke:#1f77b4;\" x=\"319.905917\" xlink:href=\"#m7f28ed29eb\" y=\"72.860365\"/>\r\n     <use style=\"fill:#1f77b4;stroke:#1f77b4;\" x=\"316.255908\" xlink:href=\"#m7f28ed29eb\" y=\"74.422114\"/>\r\n     <use style=\"fill:#1f77b4;stroke:#1f77b4;\" x=\"312.841384\" xlink:href=\"#m7f28ed29eb\" y=\"76.206969\"/>\r\n     <use style=\"fill:#1f77b4;stroke:#1f77b4;\" x=\"309.191375\" xlink:href=\"#m7f28ed29eb\" y=\"77.768717\"/>\r\n     <use style=\"fill:#1f77b4;stroke:#1f77b4;\" x=\"305.541366\" xlink:href=\"#m7f28ed29eb\" y=\"79.330466\"/>\r\n     <use style=\"fill:#1f77b4;stroke:#1f77b4;\" x=\"302.0091\" xlink:href=\"#m7f28ed29eb\" y=\"81.115321\"/>\r\n     <use style=\"fill:#1f77b4;stroke:#1f77b4;\" x=\"298.359091\" xlink:href=\"#m7f28ed29eb\" y=\"82.900176\"/>\r\n     <use style=\"fill:#1f77b4;stroke:#1f77b4;\" x=\"294.826824\" xlink:href=\"#m7f28ed29eb\" y=\"84.685032\"/>\r\n     <use style=\"fill:#1f77b4;stroke:#1f77b4;\" x=\"291.176816\" xlink:href=\"#m7f28ed29eb\" y=\"86.692994\"/>\r\n     <use style=\"fill:#1f77b4;stroke:#1f77b4;\" x=\"287.526807\" xlink:href=\"#m7f28ed29eb\" y=\"88.924063\"/>\r\n     <use style=\"fill:#1f77b4;stroke:#1f77b4;\" x=\"283.99454\" xlink:href=\"#m7f28ed29eb\" y=\"91.155132\"/>\r\n     <use style=\"fill:#1f77b4;stroke:#1f77b4;\" x=\"280.344531\" xlink:href=\"#m7f28ed29eb\" y=\"93.386202\"/>\r\n     <use style=\"fill:#1f77b4;stroke:#1f77b4;\" x=\"276.812265\" xlink:href=\"#m7f28ed29eb\" y=\"95.171057\"/>\r\n     <use style=\"fill:#1f77b4;stroke:#1f77b4;\" x=\"269.865474\" xlink:href=\"#m7f28ed29eb\" y=\"98.740767\"/>\r\n     <use style=\"fill:#1f77b4;stroke:#1f77b4;\" x=\"180.263645\" xlink:href=\"#m7f28ed29eb\" y=\"135.999622\"/>\r\n     <use style=\"fill:#1f77b4;stroke:#1f77b4;\" x=\"65.347239\" xlink:href=\"#m7f28ed29eb\" y=\"169.019446\"/>\r\n     <use style=\"fill:#1f77b4;stroke:#1f77b4;\" x=\"183.913654\" xlink:href=\"#m7f28ed29eb\" y=\"137.338264\"/>\r\n     <use style=\"fill:#1f77b4;stroke:#1f77b4;\" x=\"190.860445\" xlink:href=\"#m7f28ed29eb\" y=\"129.752629\"/>\r\n     <use style=\"fill:#1f77b4;stroke:#1f77b4;\" x=\"269.865474\" xlink:href=\"#m7f28ed29eb\" y=\"109.449899\"/>\r\n     <use style=\"fill:#1f77b4;stroke:#1f77b4;\" x=\"266.215465\" xlink:href=\"#m7f28ed29eb\" y=\"110.342327\"/>\r\n     <use style=\"fill:#1f77b4;stroke:#1f77b4;\" x=\"262.565456\" xlink:href=\"#m7f28ed29eb\" y=\"117.035535\"/>\r\n     <use style=\"fill:#1f77b4;stroke:#1f77b4;\" x=\"323.438184\" xlink:href=\"#m7f28ed29eb\" y=\"84.685032\"/>\r\n     <use style=\"fill:#1f77b4;stroke:#1f77b4;\" x=\"259.03319\" xlink:href=\"#m7f28ed29eb\" y=\"112.127182\"/>\r\n     <use style=\"fill:#1f77b4;stroke:#1f77b4;\" x=\"255.383181\" xlink:href=\"#m7f28ed29eb\" y=\"111.457862\"/>\r\n     <use style=\"fill:#1f77b4;stroke:#1f77b4;\" x=\"251.850914\" xlink:href=\"#m7f28ed29eb\" y=\"109.896113\"/>\r\n     <use style=\"fill:#1f77b4;stroke:#1f77b4;\" x=\"248.200906\" xlink:href=\"#m7f28ed29eb\" y=\"111.011648\"/>\r\n     <use style=\"fill:#1f77b4;stroke:#1f77b4;\" x=\"244.550897\" xlink:href=\"#m7f28ed29eb\" y=\"111.011648\"/>\r\n     <use style=\"fill:#1f77b4;stroke:#1f77b4;\" x=\"241.01863\" xlink:href=\"#m7f28ed29eb\" y=\"110.11922\"/>\r\n     <use style=\"fill:#1f77b4;stroke:#1f77b4;\" x=\"237.368621\" xlink:href=\"#m7f28ed29eb\" y=\"112.127182\"/>\r\n     <use style=\"fill:#1f77b4;stroke:#1f77b4;\" x=\"233.836355\" xlink:href=\"#m7f28ed29eb\" y=\"115.696893\"/>\r\n     <use style=\"fill:#1f77b4;stroke:#1f77b4;\" x=\"230.186346\" xlink:href=\"#m7f28ed29eb\" y=\"116.812428\"/>\r\n     <use style=\"fill:#1f77b4;stroke:#1f77b4;\" x=\"226.889564\" xlink:href=\"#m7f28ed29eb\" y=\"120.828352\"/>\r\n     <use style=\"fill:#1f77b4;stroke:#1f77b4;\" x=\"223.239555\" xlink:href=\"#m7f28ed29eb\" y=\"122.390101\"/>\r\n     <use style=\"fill:#1f77b4;stroke:#1f77b4;\" x=\"219.589546\" xlink:href=\"#m7f28ed29eb\" y=\"126.852239\"/>\r\n     <use style=\"fill:#1f77b4;stroke:#1f77b4;\" x=\"216.05728\" xlink:href=\"#m7f28ed29eb\" y=\"133.099233\"/>\r\n     <use style=\"fill:#1f77b4;stroke:#1f77b4;\" x=\"212.407271\" xlink:href=\"#m7f28ed29eb\" y=\"142.469723\"/>\r\n     <use style=\"fill:#1f77b4;stroke:#1f77b4;\" x=\"208.875004\" xlink:href=\"#m7f28ed29eb\" y=\"143.808364\"/>\r\n     <use style=\"fill:#1f77b4;stroke:#1f77b4;\" x=\"205.224996\" xlink:href=\"#m7f28ed29eb\" y=\"128.413987\"/>\r\n     <use style=\"fill:#1f77b4;stroke:#1f77b4;\" x=\"201.574987\" xlink:href=\"#m7f28ed29eb\" y=\"128.413987\"/>\r\n     <use style=\"fill:#1f77b4;stroke:#1f77b4;\" x=\"198.04272\" xlink:href=\"#m7f28ed29eb\" y=\"135.553409\"/>\r\n     <use style=\"fill:#1f77b4;stroke:#1f77b4;\" x=\"194.392711\" xlink:href=\"#m7f28ed29eb\" y=\"134.884088\"/>\r\n     <use style=\"fill:#1f77b4;stroke:#1f77b4;\" x=\"187.210436\" xlink:href=\"#m7f28ed29eb\" y=\"129.529522\"/>\r\n     <use style=\"fill:#1f77b4;stroke:#1f77b4;\" x=\"262.565456\" xlink:href=\"#m7f28ed29eb\" y=\"101.41805\"/>\r\n     <use style=\"fill:#1f77b4;stroke:#1f77b4;\" x=\"266.215465\" xlink:href=\"#m7f28ed29eb\" y=\"100.079409\"/>\r\n     <use style=\"fill:#1f77b4;stroke:#1f77b4;\" x=\"255.383181\" xlink:href=\"#m7f28ed29eb\" y=\"103.64912\"/>\r\n     <use style=\"fill:#1f77b4;stroke:#1f77b4;\" x=\"155.06681\" xlink:href=\"#m7f28ed29eb\" y=\"138.230692\"/>\r\n     <use style=\"fill:#1f77b4;stroke:#1f77b4;\" x=\"151.416801\" xlink:href=\"#m7f28ed29eb\" y=\"139.79244\"/>\r\n     <use style=\"fill:#1f77b4;stroke:#1f77b4;\" x=\"147.884535\" xlink:href=\"#m7f28ed29eb\" y=\"141.131081\"/>\r\n     <use style=\"fill:#1f77b4;stroke:#1f77b4;\" x=\"144.234526\" xlink:href=\"#m7f28ed29eb\" y=\"142.469723\"/>\r\n     <use style=\"fill:#1f77b4;stroke:#1f77b4;\" x=\"140.820002\" xlink:href=\"#m7f28ed29eb\" y=\"143.808364\"/>\r\n     <use style=\"fill:#1f77b4;stroke:#1f77b4;\" x=\"137.169993\" xlink:href=\"#m7f28ed29eb\" y=\"145.370113\"/>\r\n     <use style=\"fill:#1f77b4;stroke:#1f77b4;\" x=\"133.519984\" xlink:href=\"#m7f28ed29eb\" y=\"146.708754\"/>\r\n     <use style=\"fill:#1f77b4;stroke:#1f77b4;\" x=\"129.987718\" xlink:href=\"#m7f28ed29eb\" y=\"148.047396\"/>\r\n     <use style=\"fill:#1f77b4;stroke:#1f77b4;\" x=\"126.337709\" xlink:href=\"#m7f28ed29eb\" y=\"149.386037\"/>\r\n     <use style=\"fill:#1f77b4;stroke:#1f77b4;\" x=\"122.805442\" xlink:href=\"#m7f28ed29eb\" y=\"150.724679\"/>\r\n     <use style=\"fill:#1f77b4;stroke:#1f77b4;\" x=\"119.155433\" xlink:href=\"#m7f28ed29eb\" y=\"152.06332\"/>\r\n     <use style=\"fill:#1f77b4;stroke:#1f77b4;\" x=\"158.599077\" xlink:href=\"#m7f28ed29eb\" y=\"136.89205\"/>\r\n     <use style=\"fill:#1f77b4;stroke:#1f77b4;\" x=\"115.505425\" xlink:href=\"#m7f28ed29eb\" y=\"153.178855\"/>\r\n     <use style=\"fill:#1f77b4;stroke:#1f77b4;\" x=\"108.323149\" xlink:href=\"#m7f28ed29eb\" y=\"155.186817\"/>\r\n     <use style=\"fill:#1f77b4;stroke:#1f77b4;\" x=\"104.790883\" xlink:href=\"#m7f28ed29eb\" y=\"156.302352\"/>\r\n     <use style=\"fill:#1f77b4;stroke:#1f77b4;\" x=\"101.140874\" xlink:href=\"#m7f28ed29eb\" y=\"157.640993\"/>\r\n     <use style=\"fill:#1f77b4;stroke:#1f77b4;\" x=\"97.844092\" xlink:href=\"#m7f28ed29eb\" y=\"158.756528\"/>\r\n     <use style=\"fill:#1f77b4;stroke:#1f77b4;\" x=\"94.194083\" xlink:href=\"#m7f28ed29eb\" y=\"160.095169\"/>\r\n     <use style=\"fill:#1f77b4;stroke:#1f77b4;\" x=\"90.544074\" xlink:href=\"#m7f28ed29eb\" y=\"161.433811\"/>\r\n     <use style=\"fill:#1f77b4;stroke:#1f77b4;\" x=\"87.011808\" xlink:href=\"#m7f28ed29eb\" y=\"162.772452\"/>\r\n     <use style=\"fill:#1f77b4;stroke:#1f77b4;\" x=\"83.361799\" xlink:href=\"#m7f28ed29eb\" y=\"163.887987\"/>\r\n     <use style=\"fill:#1f77b4;stroke:#1f77b4;\" x=\"79.829532\" xlink:href=\"#m7f28ed29eb\" y=\"164.780415\"/>\r\n     <use style=\"fill:#1f77b4;stroke:#1f77b4;\" x=\"76.179523\" xlink:href=\"#m7f28ed29eb\" y=\"165.895949\"/>\r\n     <use style=\"fill:#1f77b4;stroke:#1f77b4;\" x=\"72.529515\" xlink:href=\"#m7f28ed29eb\" y=\"167.011484\"/>\r\n     <use style=\"fill:#1f77b4;stroke:#1f77b4;\" x=\"111.973158\" xlink:href=\"#m7f28ed29eb\" y=\"154.071283\"/>\r\n     <use style=\"fill:#1f77b4;stroke:#1f77b4;\" x=\"259.03319\" xlink:href=\"#m7f28ed29eb\" y=\"102.756692\"/>\r\n     <use style=\"fill:#1f77b4;stroke:#1f77b4;\" x=\"162.249086\" xlink:href=\"#m7f28ed29eb\" y=\"135.330302\"/>\r\n     <use style=\"fill:#1f77b4;stroke:#1f77b4;\" x=\"169.431361\" xlink:href=\"#m7f28ed29eb\" y=\"132.653019\"/>\r\n     <use style=\"fill:#1f77b4;stroke:#1f77b4;\" x=\"251.850914\" xlink:href=\"#m7f28ed29eb\" y=\"104.764654\"/>\r\n     <use style=\"fill:#1f77b4;stroke:#1f77b4;\" x=\"248.200906\" xlink:href=\"#m7f28ed29eb\" y=\"105.880189\"/>\r\n     <use style=\"fill:#1f77b4;stroke:#1f77b4;\" x=\"244.550897\" xlink:href=\"#m7f28ed29eb\" y=\"107.21883\"/>\r\n     <use style=\"fill:#1f77b4;stroke:#1f77b4;\" x=\"241.01863\" xlink:href=\"#m7f28ed29eb\" y=\"108.557472\"/>\r\n     <use style=\"fill:#1f77b4;stroke:#1f77b4;\" x=\"319.905917\" xlink:href=\"#m7f28ed29eb\" y=\"85.354353\"/>\r\n     <use style=\"fill:#1f77b4;stroke:#1f77b4;\" x=\"233.836355\" xlink:href=\"#m7f28ed29eb\" y=\"111.904076\"/>\r\n     <use style=\"fill:#1f77b4;stroke:#1f77b4;\" x=\"230.186346\" xlink:href=\"#m7f28ed29eb\" y=\"113.912038\"/>\r\n     <use style=\"fill:#1f77b4;stroke:#1f77b4;\" x=\"226.889564\" xlink:href=\"#m7f28ed29eb\" y=\"115.92\"/>\r\n     <use style=\"fill:#1f77b4;stroke:#1f77b4;\" x=\"223.239555\" xlink:href=\"#m7f28ed29eb\" y=\"117.704855\"/>\r\n     <use style=\"fill:#1f77b4;stroke:#1f77b4;\" x=\"219.589546\" xlink:href=\"#m7f28ed29eb\" y=\"119.489711\"/>\r\n     <use style=\"fill:#1f77b4;stroke:#1f77b4;\" x=\"216.05728\" xlink:href=\"#m7f28ed29eb\" y=\"121.497673\"/>\r\n     <use style=\"fill:#1f77b4;stroke:#1f77b4;\" x=\"165.899094\" xlink:href=\"#m7f28ed29eb\" y=\"133.99166\"/>\r\n     <use style=\"fill:#1f77b4;stroke:#1f77b4;\" x=\"273.162256\" xlink:href=\"#m7f28ed29eb\" y=\"96.955912\"/>\r\n     <use style=\"fill:#1f77b4;stroke:#1f77b4;\" x=\"208.875004\" xlink:href=\"#m7f28ed29eb\" y=\"124.174956\"/>\r\n     <use style=\"fill:#1f77b4;stroke:#1f77b4;\" x=\"205.224996\" xlink:href=\"#m7f28ed29eb\" y=\"125.736704\"/>\r\n     <use style=\"fill:#1f77b4;stroke:#1f77b4;\" x=\"201.574987\" xlink:href=\"#m7f28ed29eb\" y=\"126.406025\"/>\r\n     <use style=\"fill:#1f77b4;stroke:#1f77b4;\" x=\"198.04272\" xlink:href=\"#m7f28ed29eb\" y=\"127.298453\"/>\r\n     <use style=\"fill:#1f77b4;stroke:#1f77b4;\" x=\"194.392711\" xlink:href=\"#m7f28ed29eb\" y=\"128.19088\"/>\r\n     <use style=\"fill:#1f77b4;stroke:#1f77b4;\" x=\"190.860445\" xlink:href=\"#m7f28ed29eb\" y=\"128.413987\"/>\r\n     <use style=\"fill:#1f77b4;stroke:#1f77b4;\" x=\"187.210436\" xlink:href=\"#m7f28ed29eb\" y=\"128.860201\"/>\r\n     <use style=\"fill:#1f77b4;stroke:#1f77b4;\" x=\"183.913654\" xlink:href=\"#m7f28ed29eb\" y=\"129.083308\"/>\r\n     <use style=\"fill:#1f77b4;stroke:#1f77b4;\" x=\"180.263645\" xlink:href=\"#m7f28ed29eb\" y=\"129.975736\"/>\r\n     <use style=\"fill:#1f77b4;stroke:#1f77b4;\" x=\"176.613636\" xlink:href=\"#m7f28ed29eb\" y=\"130.645056\"/>\r\n     <use style=\"fill:#1f77b4;stroke:#1f77b4;\" x=\"173.08137\" xlink:href=\"#m7f28ed29eb\" y=\"131.314377\"/>\r\n     <use style=\"fill:#1f77b4;stroke:#1f77b4;\" x=\"212.407271\" xlink:href=\"#m7f28ed29eb\" y=\"122.836314\"/>\r\n     <use style=\"fill:#1f77b4;stroke:#1f77b4;\" x=\"276.812265\" xlink:href=\"#m7f28ed29eb\" y=\"96.063485\"/>\r\n     <use style=\"fill:#1f77b4;stroke:#1f77b4;\" x=\"269.865474\" xlink:href=\"#m7f28ed29eb\" y=\"98.963874\"/>\r\n     <use style=\"fill:#1f77b4;stroke:#1f77b4;\" x=\"273.162256\" xlink:href=\"#m7f28ed29eb\" y=\"97.402126\"/>\r\n     <use style=\"fill:#1f77b4;stroke:#1f77b4;\" x=\"176.613636\" xlink:href=\"#m7f28ed29eb\" y=\"142.023509\"/>\r\n     <use style=\"fill:#1f77b4;stroke:#1f77b4;\" x=\"323.438184\" xlink:href=\"#m7f28ed29eb\" y=\"82.007749\"/>\r\n     <use style=\"fill:#1f77b4;stroke:#1f77b4;\" x=\"280.344531\" xlink:href=\"#m7f28ed29eb\" y=\"94.501736\"/>\r\n     <use style=\"fill:#1f77b4;stroke:#1f77b4;\" x=\"283.99454\" xlink:href=\"#m7f28ed29eb\" y=\"93.386202\"/>\r\n     <use style=\"fill:#1f77b4;stroke:#1f77b4;\" x=\"266.215465\" xlink:href=\"#m7f28ed29eb\" y=\"100.525623\"/>\r\n     <use style=\"fill:#1f77b4;stroke:#1f77b4;\" x=\"337.920477\" xlink:href=\"#m7f28ed29eb\" y=\"65.27473\"/>\r\n     <use style=\"fill:#1f77b4;stroke:#1f77b4;\" x=\"334.270468\" xlink:href=\"#m7f28ed29eb\" y=\"79.999787\"/>\r\n     <use style=\"fill:#1f77b4;stroke:#1f77b4;\" x=\"330.620459\" xlink:href=\"#m7f28ed29eb\" y=\"64.382302\"/>\r\n     <use style=\"fill:#1f77b4;stroke:#1f77b4;\" x=\"327.088192\" xlink:href=\"#m7f28ed29eb\" y=\"71.07551\"/>\r\n     <use style=\"fill:#1f77b4;stroke:#1f77b4;\" x=\"287.526807\" xlink:href=\"#m7f28ed29eb\" y=\"92.04756\"/>\r\n     <use style=\"fill:#1f77b4;stroke:#1f77b4;\" x=\"291.176816\" xlink:href=\"#m7f28ed29eb\" y=\"90.932025\"/>\r\n     <use style=\"fill:#1f77b4;stroke:#1f77b4;\" x=\"294.826824\" xlink:href=\"#m7f28ed29eb\" y=\"89.816491\"/>\r\n     <use style=\"fill:#1f77b4;stroke:#1f77b4;\" x=\"298.359091\" xlink:href=\"#m7f28ed29eb\" y=\"88.924063\"/>\r\n     <use style=\"fill:#1f77b4;stroke:#1f77b4;\" x=\"302.0091\" xlink:href=\"#m7f28ed29eb\" y=\"87.808529\"/>\r\n     <use style=\"fill:#1f77b4;stroke:#1f77b4;\" x=\"305.541366\" xlink:href=\"#m7f28ed29eb\" y=\"86.916101\"/>\r\n     <use style=\"fill:#1f77b4;stroke:#1f77b4;\" x=\"309.191375\" xlink:href=\"#m7f28ed29eb\" y=\"85.800566\"/>\r\n     <use style=\"fill:#1f77b4;stroke:#1f77b4;\" x=\"312.841384\" xlink:href=\"#m7f28ed29eb\" y=\"84.908139\"/>\r\n     <use style=\"fill:#1f77b4;stroke:#1f77b4;\" x=\"316.255908\" xlink:href=\"#m7f28ed29eb\" y=\"84.015711\"/>\r\n     <use style=\"fill:#1f77b4;stroke:#1f77b4;\" x=\"319.905917\" xlink:href=\"#m7f28ed29eb\" y=\"82.900176\"/>\r\n     <use style=\"fill:#1f77b4;stroke:#1f77b4;\" x=\"173.08137\" xlink:href=\"#m7f28ed29eb\" y=\"143.362151\"/>\r\n     <use style=\"fill:#1f77b4;stroke:#1f77b4;\" x=\"262.565456\" xlink:href=\"#m7f28ed29eb\" y=\"102.310478\"/>\r\n     <use style=\"fill:#1f77b4;stroke:#1f77b4;\" x=\"198.04272\" xlink:href=\"#m7f28ed29eb\" y=\"112.573396\"/>\r\n     <use style=\"fill:#1f77b4;stroke:#1f77b4;\" x=\"255.383181\" xlink:href=\"#m7f28ed29eb\" y=\"106.103296\"/>\r\n     <use style=\"fill:#1f77b4;stroke:#1f77b4;\" x=\"155.06681\" xlink:href=\"#m7f28ed29eb\" y=\"133.099233\"/>\r\n     <use style=\"fill:#1f77b4;stroke:#1f77b4;\" x=\"151.416801\" xlink:href=\"#m7f28ed29eb\" y=\"137.784478\"/>\r\n     <use style=\"fill:#1f77b4;stroke:#1f77b4;\" x=\"147.884535\" xlink:href=\"#m7f28ed29eb\" y=\"137.561371\"/>\r\n     <use style=\"fill:#1f77b4;stroke:#1f77b4;\" x=\"144.234526\" xlink:href=\"#m7f28ed29eb\" y=\"132.429912\"/>\r\n     <use style=\"fill:#1f77b4;stroke:#1f77b4;\" x=\"140.820002\" xlink:href=\"#m7f28ed29eb\" y=\"131.983698\"/>\r\n     <use style=\"fill:#1f77b4;stroke:#1f77b4;\" x=\"137.169993\" xlink:href=\"#m7f28ed29eb\" y=\"132.206805\"/>\r\n     <use style=\"fill:#1f77b4;stroke:#1f77b4;\" x=\"158.599077\" xlink:href=\"#m7f28ed29eb\" y=\"126.852239\"/>\r\n     <use style=\"fill:#1f77b4;stroke:#1f77b4;\" x=\"133.519984\" xlink:href=\"#m7f28ed29eb\" y=\"131.09127\"/>\r\n     <use style=\"fill:#1f77b4;stroke:#1f77b4;\" x=\"126.337709\" xlink:href=\"#m7f28ed29eb\" y=\"146.262541\"/>\r\n     <use style=\"fill:#1f77b4;stroke:#1f77b4;\" x=\"122.805442\" xlink:href=\"#m7f28ed29eb\" y=\"137.115157\"/>\r\n     <use style=\"fill:#1f77b4;stroke:#1f77b4;\" x=\"111.973158\" xlink:href=\"#m7f28ed29eb\" y=\"145.370113\"/>\r\n     <use style=\"fill:#1f77b4;stroke:#1f77b4;\" x=\"108.323149\" xlink:href=\"#m7f28ed29eb\" y=\"144.700792\"/>\r\n     <use style=\"fill:#1f77b4;stroke:#1f77b4;\" x=\"104.790883\" xlink:href=\"#m7f28ed29eb\" y=\"142.915937\"/>\r\n     <use style=\"fill:#1f77b4;stroke:#1f77b4;\" x=\"101.140874\" xlink:href=\"#m7f28ed29eb\" y=\"160.095169\"/>\r\n     <use style=\"fill:#1f77b4;stroke:#1f77b4;\" x=\"129.987718\" xlink:href=\"#m7f28ed29eb\" y=\"137.338264\"/>\r\n     <use style=\"fill:#1f77b4;stroke:#1f77b4;\" x=\"94.194083\" xlink:href=\"#m7f28ed29eb\" y=\"168.573232\"/>\r\n     <use style=\"fill:#1f77b4;stroke:#1f77b4;\" x=\"165.899094\" xlink:href=\"#m7f28ed29eb\" y=\"125.736704\"/>\r\n     <use style=\"fill:#1f77b4;stroke:#1f77b4;\" x=\"173.08137\" xlink:href=\"#m7f28ed29eb\" y=\"129.529522\"/>\r\n     <use style=\"fill:#1f77b4;stroke:#1f77b4;\" x=\"233.836355\" xlink:href=\"#m7f28ed29eb\" y=\"102.756692\"/>\r\n     <use style=\"fill:#1f77b4;stroke:#1f77b4;\" x=\"230.186346\" xlink:href=\"#m7f28ed29eb\" y=\"106.326403\"/>\r\n     <use style=\"fill:#1f77b4;stroke:#1f77b4;\" x=\"226.889564\" xlink:href=\"#m7f28ed29eb\" y=\"104.764654\"/>\r\n     <use style=\"fill:#1f77b4;stroke:#1f77b4;\" x=\"223.239555\" xlink:href=\"#m7f28ed29eb\" y=\"118.597283\"/>\r\n     <use style=\"fill:#1f77b4;stroke:#1f77b4;\" x=\"219.589546\" xlink:href=\"#m7f28ed29eb\" y=\"115.027572\"/>\r\n     <use style=\"fill:#1f77b4;stroke:#1f77b4;\" x=\"216.05728\" xlink:href=\"#m7f28ed29eb\" y=\"115.92\"/>\r\n     <use style=\"fill:#1f77b4;stroke:#1f77b4;\" x=\"169.431361\" xlink:href=\"#m7f28ed29eb\" y=\"124.844277\"/>\r\n     <use style=\"fill:#1f77b4;stroke:#1f77b4;\" x=\"212.407271\" xlink:href=\"#m7f28ed29eb\" y=\"117.704855\"/>\r\n     <use style=\"fill:#1f77b4;stroke:#1f77b4;\" x=\"201.574987\" xlink:href=\"#m7f28ed29eb\" y=\"107.888151\"/>\r\n     <use style=\"fill:#1f77b4;stroke:#1f77b4;\" x=\"194.392711\" xlink:href=\"#m7f28ed29eb\" y=\"117.927962\"/>\r\n     <use style=\"fill:#1f77b4;stroke:#1f77b4;\" x=\"190.860445\" xlink:href=\"#m7f28ed29eb\" y=\"125.29049\"/>\r\n     <use style=\"fill:#1f77b4;stroke:#1f77b4;\" x=\"259.03319\" xlink:href=\"#m7f28ed29eb\" y=\"104.095333\"/>\r\n     <use style=\"fill:#1f77b4;stroke:#1f77b4;\" x=\"183.913654\" xlink:href=\"#m7f28ed29eb\" y=\"130.868163\"/>\r\n     <use style=\"fill:#1f77b4;stroke:#1f77b4;\" x=\"176.613636\" xlink:href=\"#m7f28ed29eb\" y=\"127.967773\"/>\r\n     <use style=\"fill:#1f77b4;stroke:#1f77b4;\" x=\"208.875004\" xlink:href=\"#m7f28ed29eb\" y=\"108.111258\"/>\r\n     <use style=\"fill:#1f77b4;stroke:#1f77b4;\" x=\"237.368621\" xlink:href=\"#m7f28ed29eb\" y=\"92.716881\"/>\r\n     <use style=\"fill:#1f77b4;stroke:#1f77b4;\" x=\"83.361799\" xlink:href=\"#m7f28ed29eb\" y=\"157.194779\"/>\r\n     <use style=\"fill:#1f77b4;stroke:#1f77b4;\" x=\"72.529515\" xlink:href=\"#m7f28ed29eb\" y=\"161.880025\"/>\r\n     <use style=\"fill:#1f77b4;stroke:#1f77b4;\" x=\"126.337709\" xlink:href=\"#m7f28ed29eb\" y=\"154.071283\"/>\r\n     <use style=\"fill:#1f77b4;stroke:#1f77b4;\" x=\"129.987718\" xlink:href=\"#m7f28ed29eb\" y=\"152.732641\"/>\r\n     <use style=\"fill:#1f77b4;stroke:#1f77b4;\" x=\"133.519984\" xlink:href=\"#m7f28ed29eb\" y=\"151.617107\"/>\r\n     <use style=\"fill:#1f77b4;stroke:#1f77b4;\" x=\"137.169993\" xlink:href=\"#m7f28ed29eb\" y=\"150.724679\"/>\r\n     <use style=\"fill:#1f77b4;stroke:#1f77b4;\" x=\"140.820002\" xlink:href=\"#m7f28ed29eb\" y=\"149.609144\"/>\r\n     <use style=\"fill:#1f77b4;stroke:#1f77b4;\" x=\"144.234526\" xlink:href=\"#m7f28ed29eb\" y=\"148.716717\"/>\r\n     <use style=\"fill:#1f77b4;stroke:#1f77b4;\" x=\"122.805442\" xlink:href=\"#m7f28ed29eb\" y=\"155.633031\"/>\r\n     <use style=\"fill:#1f77b4;stroke:#1f77b4;\" x=\"147.884535\" xlink:href=\"#m7f28ed29eb\" y=\"147.824289\"/>\r\n     <use style=\"fill:#1f77b4;stroke:#1f77b4;\" x=\"155.06681\" xlink:href=\"#m7f28ed29eb\" y=\"146.485647\"/>\r\n     <use style=\"fill:#1f77b4;stroke:#1f77b4;\" x=\"158.599077\" xlink:href=\"#m7f28ed29eb\" y=\"146.039434\"/>\r\n     <use style=\"fill:#1f77b4;stroke:#1f77b4;\" x=\"165.899094\" xlink:href=\"#m7f28ed29eb\" y=\"144.923899\"/>\r\n     <use style=\"fill:#1f77b4;stroke:#1f77b4;\" x=\"169.431361\" xlink:href=\"#m7f28ed29eb\" y=\"144.031471\"/>\r\n     <use style=\"fill:#1f77b4;stroke:#1f77b4;\" x=\"352.285027\" xlink:href=\"#m7f28ed29eb\" y=\"70.629296\"/>\r\n     <use style=\"fill:#1f77b4;stroke:#1f77b4;\" x=\"355.935036\" xlink:href=\"#m7f28ed29eb\" y=\"68.398227\"/>\r\n     <use style=\"fill:#1f77b4;stroke:#1f77b4;\" x=\"151.416801\" xlink:href=\"#m7f28ed29eb\" y=\"146.931861\"/>\r\n     <use style=\"fill:#1f77b4;stroke:#1f77b4;\" x=\"79.829532\" xlink:href=\"#m7f28ed29eb\" y=\"155.633031\"/>\r\n     <use style=\"fill:#1f77b4;stroke:#1f77b4;\" x=\"111.973158\" xlink:href=\"#m7f28ed29eb\" y=\"161.210704\"/>\r\n     <use style=\"fill:#1f77b4;stroke:#1f77b4;\" x=\"104.790883\" xlink:href=\"#m7f28ed29eb\" y=\"164.780415\"/>\r\n     <use style=\"fill:#1f77b4;stroke:#1f77b4;\" x=\"65.347239\" xlink:href=\"#m7f28ed29eb\" y=\"171.696729\"/>\r\n     <use style=\"fill:#1f77b4;stroke:#1f77b4;\" x=\"58.164964\" xlink:href=\"#m7f28ed29eb\" y=\"163.887987\"/>\r\n     <use style=\"fill:#1f77b4;stroke:#1f77b4;\" x=\"337.920477\" xlink:href=\"#m7f28ed29eb\" y=\"77.545611\"/>\r\n     <use style=\"fill:#1f77b4;stroke:#1f77b4;\" x=\"187.210436\" xlink:href=\"#m7f28ed29eb\" y=\"138.676905\"/>\r\n     <use style=\"fill:#1f77b4;stroke:#1f77b4;\" x=\"183.913654\" xlink:href=\"#m7f28ed29eb\" y=\"139.569333\"/>\r\n     <use style=\"fill:#1f77b4;stroke:#1f77b4;\" x=\"355.935036\" xlink:href=\"#m7f28ed29eb\" y=\"84.015711\"/>\r\n     <use style=\"fill:#1f77b4;stroke:#1f77b4;\" x=\"108.323149\" xlink:href=\"#m7f28ed29eb\" y=\"163.218666\"/>\r\n     <use style=\"fill:#1f77b4;stroke:#1f77b4;\" x=\"352.285027\" xlink:href=\"#m7f28ed29eb\" y=\"96.955912\"/>\r\n     <use style=\"fill:#1f77b4;stroke:#1f77b4;\" x=\"65.347239\" xlink:href=\"#m7f28ed29eb\" y=\"177.943723\"/>\r\n     <use style=\"fill:#1f77b4;stroke:#1f77b4;\" x=\"72.529515\" xlink:href=\"#m7f28ed29eb\" y=\"176.158867\"/>\r\n     <use style=\"fill:#1f77b4;stroke:#1f77b4;\" x=\"79.829532\" xlink:href=\"#m7f28ed29eb\" y=\"174.374012\"/>\r\n     <use style=\"fill:#1f77b4;stroke:#1f77b4;\" x=\"83.361799\" xlink:href=\"#m7f28ed29eb\" y=\"173.481584\"/>\r\n     <use style=\"fill:#1f77b4;stroke:#1f77b4;\" x=\"94.194083\" xlink:href=\"#m7f28ed29eb\" y=\"169.46566\"/>\r\n     <use style=\"fill:#1f77b4;stroke:#1f77b4;\" x=\"101.140874\" xlink:href=\"#m7f28ed29eb\" y=\"166.342163\"/>\r\n     <use style=\"fill:#1f77b4;stroke:#1f77b4;\" x=\"58.164964\" xlink:href=\"#m7f28ed29eb\" y=\"179.728578\"/>\r\n     <use style=\"fill:#1f77b4;stroke:#1f77b4;\" x=\"241.01863\" xlink:href=\"#m7f28ed29eb\" y=\"93.163095\"/>\r\n     <use style=\"fill:#1f77b4;stroke:#1f77b4;\" x=\"187.210436\" xlink:href=\"#m7f28ed29eb\" y=\"124.62117\"/>\r\n     <use style=\"fill:#1f77b4;stroke:#1f77b4;\" x=\"248.200906\" xlink:href=\"#m7f28ed29eb\" y=\"101.194944\"/>\r\n     <use style=\"fill:#1f77b4;stroke:#1f77b4;\" x=\"298.359091\" xlink:href=\"#m7f28ed29eb\" y=\"66.613372\"/>\r\n     <use style=\"fill:#1f77b4;stroke:#1f77b4;\" x=\"302.0091\" xlink:href=\"#m7f28ed29eb\" y=\"71.967938\"/>\r\n     <use style=\"fill:#1f77b4;stroke:#1f77b4;\" x=\"305.541366\" xlink:href=\"#m7f28ed29eb\" y=\"65.051623\"/>\r\n     <use style=\"fill:#1f77b4;stroke:#1f77b4;\" x=\"309.191375\" xlink:href=\"#m7f28ed29eb\" y=\"67.952013\"/>\r\n     <use style=\"fill:#1f77b4;stroke:#1f77b4;\" x=\"312.841384\" xlink:href=\"#m7f28ed29eb\" y=\"59.697057\"/>\r\n     <use style=\"fill:#1f77b4;stroke:#1f77b4;\" x=\"316.255908\" xlink:href=\"#m7f28ed29eb\" y=\"75.760755\"/>\r\n     <use style=\"fill:#1f77b4;stroke:#1f77b4;\" x=\"319.905917\" xlink:href=\"#m7f28ed29eb\" y=\"62.597447\"/>\r\n     <use style=\"fill:#1f77b4;stroke:#1f77b4;\" x=\"323.438184\" xlink:href=\"#m7f28ed29eb\" y=\"57.242881\"/>\r\n     <use style=\"fill:#1f77b4;stroke:#1f77b4;\" x=\"230.186346\" xlink:href=\"#m7f28ed29eb\" y=\"121.051459\"/>\r\n     <use style=\"fill:#1f77b4;stroke:#1f77b4;\" x=\"327.088192\" xlink:href=\"#m7f28ed29eb\" y=\"71.07551\"/>\r\n     <use style=\"fill:#1f77b4;stroke:#1f77b4;\" x=\"226.889564\" xlink:href=\"#m7f28ed29eb\" y=\"122.836314\"/>\r\n     <use style=\"fill:#1f77b4;stroke:#1f77b4;\" x=\"223.239555\" xlink:href=\"#m7f28ed29eb\" y=\"124.398063\"/>\r\n     <use style=\"fill:#1f77b4;stroke:#1f77b4;\" x=\"348.635018\" xlink:href=\"#m7f28ed29eb\" y=\"72.860365\"/>\r\n     <use style=\"fill:#1f77b4;stroke:#1f77b4;\" x=\"244.550897\" xlink:href=\"#m7f28ed29eb\" y=\"92.04756\"/>\r\n     <use style=\"fill:#1f77b4;stroke:#1f77b4;\" x=\"341.452743\" xlink:href=\"#m7f28ed29eb\" y=\"62.37434\"/>\r\n     <use style=\"fill:#1f77b4;stroke:#1f77b4;\" x=\"330.620459\" xlink:href=\"#m7f28ed29eb\" y=\"69.959975\"/>\r\n     <use style=\"fill:#1f77b4;stroke:#1f77b4;\" x=\"345.102752\" xlink:href=\"#m7f28ed29eb\" y=\"57.465988\"/>\r\n     <use style=\"fill:#1f77b4;stroke:#1f77b4;\" x=\"345.102752\" xlink:href=\"#m7f28ed29eb\" y=\"61.035699\"/>\r\n     <use style=\"fill:#1f77b4;stroke:#1f77b4;\" x=\"219.589546\" xlink:href=\"#m7f28ed29eb\" y=\"125.959811\"/>\r\n     <use style=\"fill:#1f77b4;stroke:#1f77b4;\" x=\"341.452743\" xlink:href=\"#m7f28ed29eb\" y=\"59.250843\"/>\r\n     <use style=\"fill:#1f77b4;stroke:#1f77b4;\" x=\"348.635018\" xlink:href=\"#m7f28ed29eb\" y=\"119.935924\"/>\r\n     <use style=\"fill:#1f77b4;stroke:#1f77b4;\" x=\"334.270468\" xlink:href=\"#m7f28ed29eb\" y=\"73.529686\"/>\r\n     <use style=\"fill:#1f77b4;stroke:#1f77b4;\" x=\"190.860445\" xlink:href=\"#m7f28ed29eb\" y=\"137.561371\"/>\r\n     <use style=\"fill:#1f77b4;stroke:#1f77b4;\" x=\"194.392711\" xlink:href=\"#m7f28ed29eb\" y=\"136.445836\"/>\r\n     <use style=\"fill:#1f77b4;stroke:#1f77b4;\" x=\"198.04272\" xlink:href=\"#m7f28ed29eb\" y=\"135.107195\"/>\r\n     <use style=\"fill:#1f77b4;stroke:#1f77b4;\" x=\"201.574987\" xlink:href=\"#m7f28ed29eb\" y=\"133.768553\"/>\r\n     <use style=\"fill:#1f77b4;stroke:#1f77b4;\" x=\"216.05728\" xlink:href=\"#m7f28ed29eb\" y=\"127.52156\"/>\r\n     <use style=\"fill:#1f77b4;stroke:#1f77b4;\" x=\"294.826824\" xlink:href=\"#m7f28ed29eb\" y=\"71.744831\"/>\r\n     <use style=\"fill:#1f77b4;stroke:#1f77b4;\" x=\"208.875004\" xlink:href=\"#m7f28ed29eb\" y=\"130.868163\"/>\r\n     <use style=\"fill:#1f77b4;stroke:#1f77b4;\" x=\"291.176816\" xlink:href=\"#m7f28ed29eb\" y=\"72.637258\"/>\r\n     <use style=\"fill:#1f77b4;stroke:#1f77b4;\" x=\"241.01863\" xlink:href=\"#m7f28ed29eb\" y=\"114.804465\"/>\r\n     <use style=\"fill:#1f77b4;stroke:#1f77b4;\" x=\"251.850914\" xlink:href=\"#m7f28ed29eb\" y=\"95.840378\"/>\r\n     <use style=\"fill:#1f77b4;stroke:#1f77b4;\" x=\"255.383181\" xlink:href=\"#m7f28ed29eb\" y=\"79.330466\"/>\r\n     <use style=\"fill:#1f77b4;stroke:#1f77b4;\" x=\"259.03319\" xlink:href=\"#m7f28ed29eb\" y=\"87.585422\"/>\r\n     <use style=\"fill:#1f77b4;stroke:#1f77b4;\" x=\"262.565456\" xlink:href=\"#m7f28ed29eb\" y=\"77.545611\"/>\r\n     <use style=\"fill:#1f77b4;stroke:#1f77b4;\" x=\"266.215465\" xlink:href=\"#m7f28ed29eb\" y=\"79.999787\"/>\r\n     <use style=\"fill:#1f77b4;stroke:#1f77b4;\" x=\"251.850914\" xlink:href=\"#m7f28ed29eb\" y=\"108.111258\"/>\r\n     <use style=\"fill:#1f77b4;stroke:#1f77b4;\" x=\"269.865474\" xlink:href=\"#m7f28ed29eb\" y=\"86.24678\"/>\r\n     <use style=\"fill:#1f77b4;stroke:#1f77b4;\" x=\"248.200906\" xlink:href=\"#m7f28ed29eb\" y=\"110.11922\"/>\r\n     <use style=\"fill:#1f77b4;stroke:#1f77b4;\" x=\"244.550897\" xlink:href=\"#m7f28ed29eb\" y=\"112.350289\"/>\r\n     <use style=\"fill:#1f77b4;stroke:#1f77b4;\" x=\"287.526807\" xlink:href=\"#m7f28ed29eb\" y=\"86.24678\"/>\r\n     <use style=\"fill:#1f77b4;stroke:#1f77b4;\" x=\"273.162256\" xlink:href=\"#m7f28ed29eb\" y=\"87.362315\"/>\r\n     <use style=\"fill:#1f77b4;stroke:#1f77b4;\" x=\"237.368621\" xlink:href=\"#m7f28ed29eb\" y=\"117.035535\"/>\r\n     <use style=\"fill:#1f77b4;stroke:#1f77b4;\" x=\"212.407271\" xlink:href=\"#m7f28ed29eb\" y=\"129.083308\"/>\r\n     <use style=\"fill:#1f77b4;stroke:#1f77b4;\" x=\"283.99454\" xlink:href=\"#m7f28ed29eb\" y=\"62.151233\"/>\r\n     <use style=\"fill:#1f77b4;stroke:#1f77b4;\" x=\"280.344531\" xlink:href=\"#m7f28ed29eb\" y=\"65.497837\"/>\r\n     <use style=\"fill:#1f77b4;stroke:#1f77b4;\" x=\"233.836355\" xlink:href=\"#m7f28ed29eb\" y=\"119.043497\"/>\r\n     <use style=\"fill:#1f77b4;stroke:#1f77b4;\" x=\"276.812265\" xlink:href=\"#m7f28ed29eb\" y=\"76.87629\"/>\r\n     <use style=\"fill:#1f77b4;stroke:#1f77b4;\" x=\"194.392711\" xlink:href=\"#m7f28ed29eb\" y=\"108.334365\"/>\r\n     <use style=\"fill:#1f77b4;stroke:#1f77b4;\" x=\"108.323149\" xlink:href=\"#m7f28ed29eb\" y=\"144.254578\"/>\r\n     <use style=\"fill:#1f77b4;stroke:#1f77b4;\" x=\"183.913654\" xlink:href=\"#m7f28ed29eb\" y=\"111.680969\"/>\r\n     <use style=\"fill:#1f77b4;stroke:#1f77b4;\" x=\"111.973158\" xlink:href=\"#m7f28ed29eb\" y=\"143.139044\"/>\r\n     <use style=\"fill:#1f77b4;stroke:#1f77b4;\" x=\"115.505425\" xlink:href=\"#m7f28ed29eb\" y=\"142.023509\"/>\r\n     <use style=\"fill:#1f77b4;stroke:#1f77b4;\" x=\"119.155433\" xlink:href=\"#m7f28ed29eb\" y=\"141.131081\"/>\r\n     <use style=\"fill:#1f77b4;stroke:#1f77b4;\" x=\"126.337709\" xlink:href=\"#m7f28ed29eb\" y=\"139.346226\"/>\r\n     <use style=\"fill:#1f77b4;stroke:#1f77b4;\" x=\"133.519984\" xlink:href=\"#m7f28ed29eb\" y=\"137.338264\"/>\r\n     <use style=\"fill:#1f77b4;stroke:#1f77b4;\" x=\"137.169993\" xlink:href=\"#m7f28ed29eb\" y=\"136.445836\"/>\r\n     <use style=\"fill:#1f77b4;stroke:#1f77b4;\" x=\"173.08137\" xlink:href=\"#m7f28ed29eb\" y=\"118.597283\"/>\r\n     <use style=\"fill:#1f77b4;stroke:#1f77b4;\" x=\"187.210436\" xlink:href=\"#m7f28ed29eb\" y=\"110.565434\"/>\r\n     <use style=\"fill:#1f77b4;stroke:#1f77b4;\" x=\"162.249086\" xlink:href=\"#m7f28ed29eb\" y=\"125.067384\"/>\r\n     <use style=\"fill:#1f77b4;stroke:#1f77b4;\" x=\"190.860445\" xlink:href=\"#m7f28ed29eb\" y=\"109.449899\"/>\r\n     <use style=\"fill:#1f77b4;stroke:#1f77b4;\" x=\"158.599077\" xlink:href=\"#m7f28ed29eb\" y=\"126.852239\"/>\r\n     <use style=\"fill:#1f77b4;stroke:#1f77b4;\" x=\"147.884535\" xlink:href=\"#m7f28ed29eb\" y=\"132.206805\"/>\r\n     <use style=\"fill:#1f77b4;stroke:#1f77b4;\" x=\"198.04272\" xlink:href=\"#m7f28ed29eb\" y=\"107.665044\"/>\r\n     <use style=\"fill:#1f77b4;stroke:#1f77b4;\" x=\"140.820002\" xlink:href=\"#m7f28ed29eb\" y=\"135.553409\"/>\r\n     <use style=\"fill:#1f77b4;stroke:#1f77b4;\" x=\"176.613636\" xlink:href=\"#m7f28ed29eb\" y=\"116.366214\"/>\r\n     <use style=\"fill:#1f77b4;stroke:#1f77b4;\" x=\"180.263645\" xlink:href=\"#m7f28ed29eb\" y=\"114.135145\"/>\r\n     <use style=\"fill:#1f77b4;stroke:#1f77b4;\" x=\"323.438184\" xlink:href=\"#m7f28ed29eb\" y=\"62.597447\"/>\r\n     <use style=\"fill:#1f77b4;stroke:#1f77b4;\" x=\"341.452743\" xlink:href=\"#m7f28ed29eb\" y=\"70.852403\"/>\r\n     <use style=\"fill:#1f77b4;stroke:#1f77b4;\" x=\"233.836355\" xlink:href=\"#m7f28ed29eb\" y=\"98.740767\"/>\r\n     <use style=\"fill:#1f77b4;stroke:#1f77b4;\" x=\"283.99454\" xlink:href=\"#m7f28ed29eb\" y=\"75.537648\"/>\r\n     <use style=\"fill:#1f77b4;stroke:#1f77b4;\" x=\"280.344531\" xlink:href=\"#m7f28ed29eb\" y=\"78.214931\"/>\r\n     <use style=\"fill:#1f77b4;stroke:#1f77b4;\" x=\"237.368621\" xlink:href=\"#m7f28ed29eb\" y=\"97.625233\"/>\r\n     <use style=\"fill:#1f77b4;stroke:#1f77b4;\" x=\"276.812265\" xlink:href=\"#m7f28ed29eb\" y=\"80.446\"/>\r\n     <use style=\"fill:#1f77b4;stroke:#1f77b4;\" x=\"273.162256\" xlink:href=\"#m7f28ed29eb\" y=\"82.453963\"/>\r\n     <use style=\"fill:#1f77b4;stroke:#1f77b4;\" x=\"230.186346\" xlink:href=\"#m7f28ed29eb\" y=\"100.079409\"/>\r\n     <use style=\"fill:#1f77b4;stroke:#1f77b4;\" x=\"104.790883\" xlink:href=\"#m7f28ed29eb\" y=\"145.147006\"/>\r\n     <use style=\"fill:#1f77b4;stroke:#1f77b4;\" x=\"244.550897\" xlink:href=\"#m7f28ed29eb\" y=\"94.94795\"/>\r\n     <use style=\"fill:#1f77b4;stroke:#1f77b4;\" x=\"269.865474\" xlink:href=\"#m7f28ed29eb\" y=\"84.685032\"/>\r\n     <use style=\"fill:#1f77b4;stroke:#1f77b4;\" x=\"262.565456\" xlink:href=\"#m7f28ed29eb\" y=\"88.031636\"/>\r\n     <use style=\"fill:#1f77b4;stroke:#1f77b4;\" x=\"259.03319\" xlink:href=\"#m7f28ed29eb\" y=\"89.593384\"/>\r\n     <use style=\"fill:#1f77b4;stroke:#1f77b4;\" x=\"255.383181\" xlink:href=\"#m7f28ed29eb\" y=\"90.932025\"/>\r\n     <use style=\"fill:#1f77b4;stroke:#1f77b4;\" x=\"248.200906\" xlink:href=\"#m7f28ed29eb\" y=\"93.832415\"/>\r\n     <use style=\"fill:#1f77b4;stroke:#1f77b4;\" x=\"241.01863\" xlink:href=\"#m7f28ed29eb\" y=\"96.286591\"/>\r\n     <use style=\"fill:#1f77b4;stroke:#1f77b4;\" x=\"226.889564\" xlink:href=\"#m7f28ed29eb\" y=\"101.41805\"/>\r\n     <use style=\"fill:#1f77b4;stroke:#1f77b4;\" x=\"287.526807\" xlink:href=\"#m7f28ed29eb\" y=\"73.083472\"/>\r\n     <use style=\"fill:#1f77b4;stroke:#1f77b4;\" x=\"291.176816\" xlink:href=\"#m7f28ed29eb\" y=\"70.406189\"/>\r\n     <use style=\"fill:#1f77b4;stroke:#1f77b4;\" x=\"334.270468\" xlink:href=\"#m7f28ed29eb\" y=\"72.637258\"/>\r\n     <use style=\"fill:#1f77b4;stroke:#1f77b4;\" x=\"330.620459\" xlink:href=\"#m7f28ed29eb\" y=\"61.928126\"/>\r\n     <use style=\"fill:#1f77b4;stroke:#1f77b4;\" x=\"327.088192\" xlink:href=\"#m7f28ed29eb\" y=\"62.151233\"/>\r\n     <use style=\"fill:#1f77b4;stroke:#1f77b4;\" x=\"319.905917\" xlink:href=\"#m7f28ed29eb\" y=\"63.266768\"/>\r\n     <use style=\"fill:#1f77b4;stroke:#1f77b4;\" x=\"316.255908\" xlink:href=\"#m7f28ed29eb\" y=\"63.712982\"/>\r\n     <use style=\"fill:#1f77b4;stroke:#1f77b4;\" x=\"208.875004\" xlink:href=\"#m7f28ed29eb\" y=\"105.657082\"/>\r\n     <use style=\"fill:#1f77b4;stroke:#1f77b4;\" x=\"212.407271\" xlink:href=\"#m7f28ed29eb\" y=\"104.764654\"/>\r\n     <use style=\"fill:#1f77b4;stroke:#1f77b4;\" x=\"312.841384\" xlink:href=\"#m7f28ed29eb\" y=\"64.382302\"/>\r\n     <use style=\"fill:#1f77b4;stroke:#1f77b4;\" x=\"216.05728\" xlink:href=\"#m7f28ed29eb\" y=\"104.095333\"/>\r\n     <use style=\"fill:#1f77b4;stroke:#1f77b4;\" x=\"309.191375\" xlink:href=\"#m7f28ed29eb\" y=\"65.051623\"/>\r\n     <use style=\"fill:#1f77b4;stroke:#1f77b4;\" x=\"305.541366\" xlink:href=\"#m7f28ed29eb\" y=\"65.720944\"/>\r\n     <use style=\"fill:#1f77b4;stroke:#1f77b4;\" x=\"302.0091\" xlink:href=\"#m7f28ed29eb\" y=\"66.390265\"/>\r\n     <use style=\"fill:#1f77b4;stroke:#1f77b4;\" x=\"298.359091\" xlink:href=\"#m7f28ed29eb\" y=\"67.728906\"/>\r\n     <use style=\"fill:#1f77b4;stroke:#1f77b4;\" x=\"294.826824\" xlink:href=\"#m7f28ed29eb\" y=\"69.067548\"/>\r\n     <use style=\"fill:#1f77b4;stroke:#1f77b4;\" x=\"219.589546\" xlink:href=\"#m7f28ed29eb\" y=\"103.202906\"/>\r\n     <use style=\"fill:#1f77b4;stroke:#1f77b4;\" x=\"205.224996\" xlink:href=\"#m7f28ed29eb\" y=\"106.326403\"/>\r\n     <use style=\"fill:#1f77b4;stroke:#1f77b4;\" x=\"101.140874\" xlink:href=\"#m7f28ed29eb\" y=\"146.039434\"/>\r\n     <use style=\"fill:#1f77b4;stroke:#1f77b4;\" x=\"276.812265\" xlink:href=\"#m7f28ed29eb\" y=\"47.872391\"/>\r\n     <use style=\"fill:#1f77b4;stroke:#1f77b4;\" x=\"94.194083\" xlink:href=\"#m7f28ed29eb\" y=\"147.378075\"/>\r\n     <use style=\"fill:#1f77b4;stroke:#1f77b4;\" x=\"298.359091\" xlink:href=\"#m7f28ed29eb\" y=\"27.346554\"/>\r\n     <use style=\"fill:#1f77b4;stroke:#1f77b4;\" x=\"302.0091\" xlink:href=\"#m7f28ed29eb\" y=\"39.840542\"/>\r\n     <use style=\"fill:#1f77b4;stroke:#1f77b4;\" x=\"305.541366\" xlink:href=\"#m7f28ed29eb\" y=\"37.609473\"/>\r\n     <use style=\"fill:#1f77b4;stroke:#1f77b4;\" x=\"208.875004\" xlink:href=\"#m7f28ed29eb\" y=\"80.446\"/>\r\n     <use style=\"fill:#1f77b4;stroke:#1f77b4;\" x=\"309.191375\" xlink:href=\"#m7f28ed29eb\" y=\"17.083636\"/>\r\n     <use style=\"fill:#1f77b4;stroke:#1f77b4;\" x=\"205.224996\" xlink:href=\"#m7f28ed29eb\" y=\"78.884252\"/>\r\n     <use style=\"fill:#1f77b4;stroke:#1f77b4;\" x=\"198.04272\" xlink:href=\"#m7f28ed29eb\" y=\"51.665208\"/>\r\n     <use style=\"fill:#1f77b4;stroke:#1f77b4;\" x=\"294.826824\" xlink:href=\"#m7f28ed29eb\" y=\"29.354517\"/>\r\n     <use style=\"fill:#1f77b4;stroke:#1f77b4;\" x=\"194.392711\" xlink:href=\"#m7f28ed29eb\" y=\"81.784642\"/>\r\n     <use style=\"fill:#1f77b4;stroke:#1f77b4;\" x=\"187.210436\" xlink:href=\"#m7f28ed29eb\" y=\"88.031636\"/>\r\n     <use style=\"fill:#1f77b4;stroke:#1f77b4;\" x=\"183.913654\" xlink:href=\"#m7f28ed29eb\" y=\"81.115321\"/>\r\n     <use style=\"fill:#1f77b4;stroke:#1f77b4;\" x=\"312.841384\" xlink:href=\"#m7f28ed29eb\" y=\"19.984026\"/>\r\n     <use style=\"fill:#1f77b4;stroke:#1f77b4;\" x=\"316.255908\" xlink:href=\"#m7f28ed29eb\" y=\"29.13141\"/>\r\n     <use style=\"fill:#1f77b4;stroke:#1f77b4;\" x=\"180.263645\" xlink:href=\"#m7f28ed29eb\" y=\"88.924063\"/>\r\n     <use style=\"fill:#1f77b4;stroke:#1f77b4;\" x=\"319.905917\" xlink:href=\"#m7f28ed29eb\" y=\"30.916265\"/>\r\n     <use style=\"fill:#1f77b4;stroke:#1f77b4;\" x=\"323.438184\" xlink:href=\"#m7f28ed29eb\" y=\"34.709083\"/>\r\n     <use style=\"fill:#1f77b4;stroke:#1f77b4;\" x=\"190.860445\" xlink:href=\"#m7f28ed29eb\" y=\"85.131246\"/>\r\n     <use style=\"fill:#1f77b4;stroke:#1f77b4;\" x=\"327.088192\" xlink:href=\"#m7f28ed29eb\" y=\"38.278793\"/>\r\n     <use style=\"fill:#1f77b4;stroke:#1f77b4;\" x=\"291.176816\" xlink:href=\"#m7f28ed29eb\" y=\"38.948114\"/>\r\n     <use style=\"fill:#1f77b4;stroke:#1f77b4;\" x=\"283.99454\" xlink:href=\"#m7f28ed29eb\" y=\"33.370441\"/>\r\n     <use style=\"fill:#1f77b4;stroke:#1f77b4;\" x=\"97.844092\" xlink:href=\"#m7f28ed29eb\" y=\"146.708754\"/>\r\n     <use style=\"fill:#1f77b4;stroke:#1f77b4;\" x=\"273.162256\" xlink:href=\"#m7f28ed29eb\" y=\"54.788705\"/>\r\n     <use style=\"fill:#1f77b4;stroke:#1f77b4;\" x=\"269.865474\" xlink:href=\"#m7f28ed29eb\" y=\"60.589485\"/>\r\n     <use style=\"fill:#1f77b4;stroke:#1f77b4;\" x=\"262.565456\" xlink:href=\"#m7f28ed29eb\" y=\"66.167158\"/>\r\n     <use style=\"fill:#1f77b4;stroke:#1f77b4;\" x=\"259.03319\" xlink:href=\"#m7f28ed29eb\" y=\"67.728906\"/>\r\n     <use style=\"fill:#1f77b4;stroke:#1f77b4;\" x=\"255.383181\" xlink:href=\"#m7f28ed29eb\" y=\"68.398227\"/>\r\n     <use style=\"fill:#1f77b4;stroke:#1f77b4;\" x=\"248.200906\" xlink:href=\"#m7f28ed29eb\" y=\"58.80463\"/>\r\n     <use style=\"fill:#1f77b4;stroke:#1f77b4;\" x=\"287.526807\" xlink:href=\"#m7f28ed29eb\" y=\"40.063649\"/>\r\n     <use style=\"fill:#1f77b4;stroke:#1f77b4;\" x=\"244.550897\" xlink:href=\"#m7f28ed29eb\" y=\"55.234919\"/>\r\n     <use style=\"fill:#1f77b4;stroke:#1f77b4;\" x=\"237.368621\" xlink:href=\"#m7f28ed29eb\" y=\"70.629296\"/>\r\n     <use style=\"fill:#1f77b4;stroke:#1f77b4;\" x=\"233.836355\" xlink:href=\"#m7f28ed29eb\" y=\"64.605409\"/>\r\n     <use style=\"fill:#1f77b4;stroke:#1f77b4;\" x=\"230.186346\" xlink:href=\"#m7f28ed29eb\" y=\"67.505799\"/>\r\n     <use style=\"fill:#1f77b4;stroke:#1f77b4;\" x=\"226.889564\" xlink:href=\"#m7f28ed29eb\" y=\"81.338428\"/>\r\n     <use style=\"fill:#1f77b4;stroke:#1f77b4;\" x=\"219.589546\" xlink:href=\"#m7f28ed29eb\" y=\"87.585422\"/>\r\n     <use style=\"fill:#1f77b4;stroke:#1f77b4;\" x=\"216.05728\" xlink:href=\"#m7f28ed29eb\" y=\"78.438038\"/>\r\n     <use style=\"fill:#1f77b4;stroke:#1f77b4;\" x=\"280.344531\" xlink:href=\"#m7f28ed29eb\" y=\"50.995888\"/>\r\n     <use style=\"fill:#1f77b4;stroke:#1f77b4;\" x=\"241.01863\" xlink:href=\"#m7f28ed29eb\" y=\"66.390265\"/>\r\n     <use style=\"fill:#1f77b4;stroke:#1f77b4;\" x=\"330.620459\" xlink:href=\"#m7f28ed29eb\" y=\"34.709083\"/>\r\n     <use style=\"fill:#1f77b4;stroke:#1f77b4;\" x=\"212.407271\" xlink:href=\"#m7f28ed29eb\" y=\"77.991824\"/>\r\n     <use style=\"fill:#1f77b4;stroke:#1f77b4;\" x=\"334.270468\" xlink:href=\"#m7f28ed29eb\" y=\"67.952013\"/>\r\n     <use style=\"fill:#1f77b4;stroke:#1f77b4;\" x=\"90.544074\" xlink:href=\"#m7f28ed29eb\" y=\"147.824289\"/>\r\n     <use style=\"fill:#1f77b4;stroke:#1f77b4;\" x=\"65.347239\" xlink:href=\"#m7f28ed29eb\" y=\"146.931861\"/>\r\n     <use style=\"fill:#1f77b4;stroke:#1f77b4;\" x=\"68.997248\" xlink:href=\"#m7f28ed29eb\" y=\"147.154968\"/>\r\n     <use style=\"fill:#1f77b4;stroke:#1f77b4;\" x=\"76.179523\" xlink:href=\"#m7f28ed29eb\" y=\"147.824289\"/>\r\n     <use style=\"fill:#1f77b4;stroke:#1f77b4;\" x=\"79.829532\" xlink:href=\"#m7f28ed29eb\" y=\"148.047396\"/>\r\n     <use style=\"fill:#1f77b4;stroke:#1f77b4;\" x=\"83.361799\" xlink:href=\"#m7f28ed29eb\" y=\"148.270503\"/>\r\n     <use style=\"fill:#1f77b4;stroke:#1f77b4;\" x=\"65.347239\" xlink:href=\"#m7f28ed29eb\" y=\"121.497673\"/>\r\n     <use style=\"fill:#1f77b4;stroke:#1f77b4;\" x=\"68.997248\" xlink:href=\"#m7f28ed29eb\" y=\"119.489711\"/>\r\n     <use style=\"fill:#1f77b4;stroke:#1f77b4;\" x=\"76.179523\" xlink:href=\"#m7f28ed29eb\" y=\"131.983698\"/>\r\n     <use style=\"fill:#1f77b4;stroke:#1f77b4;\" x=\"79.829532\" xlink:href=\"#m7f28ed29eb\" y=\"119.489711\"/>\r\n     <use style=\"fill:#1f77b4;stroke:#1f77b4;\" x=\"83.361799\" xlink:href=\"#m7f28ed29eb\" y=\"128.860201\"/>\r\n     <use style=\"fill:#1f77b4;stroke:#1f77b4;\" x=\"87.011808\" xlink:href=\"#m7f28ed29eb\" y=\"148.49361\"/>\r\n     <use style=\"fill:#1f77b4;stroke:#1f77b4;\" x=\"90.544074\" xlink:href=\"#m7f28ed29eb\" y=\"125.736704\"/>\r\n     <use style=\"fill:#1f77b4;stroke:#1f77b4;\" x=\"94.194083\" xlink:href=\"#m7f28ed29eb\" y=\"128.637094\"/>\r\n     <use style=\"fill:#1f77b4;stroke:#1f77b4;\" x=\"97.844092\" xlink:href=\"#m7f28ed29eb\" y=\"117.258641\"/>\r\n     <use style=\"fill:#1f77b4;stroke:#1f77b4;\" x=\"87.011808\" xlink:href=\"#m7f28ed29eb\" y=\"123.282528\"/>\r\n     <use style=\"fill:#1f77b4;stroke:#1f77b4;\" x=\"104.790883\" xlink:href=\"#m7f28ed29eb\" y=\"127.744667\"/>\r\n     <use style=\"fill:#1f77b4;stroke:#1f77b4;\" x=\"176.613636\" xlink:href=\"#m7f28ed29eb\" y=\"90.932025\"/>\r\n     <use style=\"fill:#1f77b4;stroke:#1f77b4;\" x=\"173.08137\" xlink:href=\"#m7f28ed29eb\" y=\"91.155132\"/>\r\n     <use style=\"fill:#1f77b4;stroke:#1f77b4;\" x=\"162.249086\" xlink:href=\"#m7f28ed29eb\" y=\"96.732805\"/>\r\n     <use style=\"fill:#1f77b4;stroke:#1f77b4;\" x=\"158.599077\" xlink:href=\"#m7f28ed29eb\" y=\"107.665044\"/>\r\n     <use style=\"fill:#1f77b4;stroke:#1f77b4;\" x=\"101.140874\" xlink:href=\"#m7f28ed29eb\" y=\"127.298453\"/>\r\n     <use style=\"fill:#1f77b4;stroke:#1f77b4;\" x=\"140.820002\" xlink:href=\"#m7f28ed29eb\" y=\"97.402126\"/>\r\n     <use style=\"fill:#1f77b4;stroke:#1f77b4;\" x=\"137.169993\" xlink:href=\"#m7f28ed29eb\" y=\"100.302516\"/>\r\n     <use style=\"fill:#1f77b4;stroke:#1f77b4;\" x=\"147.884535\" xlink:href=\"#m7f28ed29eb\" y=\"116.812428\"/>\r\n     <use style=\"fill:#1f77b4;stroke:#1f77b4;\" x=\"126.337709\" xlink:href=\"#m7f28ed29eb\" y=\"122.836314\"/>\r\n     <use style=\"fill:#1f77b4;stroke:#1f77b4;\" x=\"119.155433\" xlink:href=\"#m7f28ed29eb\" y=\"117.258641\"/>\r\n     <use style=\"fill:#1f77b4;stroke:#1f77b4;\" x=\"115.505425\" xlink:href=\"#m7f28ed29eb\" y=\"110.11922\"/>\r\n     <use style=\"fill:#1f77b4;stroke:#1f77b4;\" x=\"111.973158\" xlink:href=\"#m7f28ed29eb\" y=\"113.01961\"/>\r\n     <use style=\"fill:#1f77b4;stroke:#1f77b4;\" x=\"108.323149\" xlink:href=\"#m7f28ed29eb\" y=\"112.573396\"/>\r\n     <use style=\"fill:#1f77b4;stroke:#1f77b4;\" x=\"133.519984\" xlink:href=\"#m7f28ed29eb\" y=\"109.003686\"/>\r\n     <use style=\"fill:#1f77b4;stroke:#1f77b4;\" x=\"341.452743\" xlink:href=\"#m7f28ed29eb\" y=\"61.928126\"/>\r\n     <use style=\"fill:#1f77b4;stroke:#1f77b4;\" x=\"309.191375\" xlink:href=\"#m7f28ed29eb\" y=\"143.139044\"/>\r\n     <use style=\"fill:#1f77b4;stroke:#1f77b4;\" x=\"244.550897\" xlink:href=\"#m7f28ed29eb\" y=\"154.071283\"/>\r\n     <use style=\"fill:#1f77b4;stroke:#1f77b4;\" x=\"345.102752\" xlink:href=\"#m7f28ed29eb\" y=\"87.362315\"/>\r\n     <use style=\"fill:#1f77b4;stroke:#1f77b4;\" x=\"302.0091\" xlink:href=\"#m7f28ed29eb\" y=\"157.640993\"/>\r\n     <use style=\"fill:#1f77b4;stroke:#1f77b4;\" x=\"341.452743\" xlink:href=\"#m7f28ed29eb\" y=\"58.80463\"/>\r\n     <use style=\"fill:#1f77b4;stroke:#1f77b4;\" x=\"337.920477\" xlink:href=\"#m7f28ed29eb\" y=\"48.095498\"/>\r\n     <use style=\"fill:#1f77b4;stroke:#1f77b4;\" x=\"305.541366\" xlink:href=\"#m7f28ed29eb\" y=\"146.262541\"/>\r\n     <use style=\"fill:#1f77b4;stroke:#1f77b4;\" x=\"259.03319\" xlink:href=\"#m7f28ed29eb\" y=\"161.210704\"/>\r\n     <use style=\"fill:#1f77b4;stroke:#1f77b4;\" x=\"291.176816\" xlink:href=\"#m7f28ed29eb\" y=\"172.589157\"/>\r\n     <use style=\"fill:#1f77b4;stroke:#1f77b4;\" x=\"287.526807\" xlink:href=\"#m7f28ed29eb\" y=\"142.69283\"/>\r\n     <use style=\"fill:#1f77b4;stroke:#1f77b4;\" x=\"283.99454\" xlink:href=\"#m7f28ed29eb\" y=\"133.768553\"/>\r\n     <use style=\"fill:#1f77b4;stroke:#1f77b4;\" x=\"280.344531\" xlink:href=\"#m7f28ed29eb\" y=\"141.800402\"/>\r\n     <use style=\"fill:#1f77b4;stroke:#1f77b4;\" x=\"276.812265\" xlink:href=\"#m7f28ed29eb\" y=\"150.947786\"/>\r\n     <use style=\"fill:#1f77b4;stroke:#1f77b4;\" x=\"273.162256\" xlink:href=\"#m7f28ed29eb\" y=\"150.501572\"/>\r\n     <use style=\"fill:#1f77b4;stroke:#1f77b4;\" x=\"269.865474\" xlink:href=\"#m7f28ed29eb\" y=\"158.756528\"/>\r\n     <use style=\"fill:#1f77b4;stroke:#1f77b4;\" x=\"266.215465\" xlink:href=\"#m7f28ed29eb\" y=\"161.880025\"/>\r\n     <use style=\"fill:#1f77b4;stroke:#1f77b4;\" x=\"262.565456\" xlink:href=\"#m7f28ed29eb\" y=\"168.573232\"/>\r\n     <use style=\"fill:#1f77b4;stroke:#1f77b4;\" x=\"312.841384\" xlink:href=\"#m7f28ed29eb\" y=\"137.115157\"/>\r\n     <use style=\"fill:#1f77b4;stroke:#1f77b4;\" x=\"255.383181\" xlink:href=\"#m7f28ed29eb\" y=\"171.250515\"/>\r\n     <use style=\"fill:#1f77b4;stroke:#1f77b4;\" x=\"251.850914\" xlink:href=\"#m7f28ed29eb\" y=\"160.095169\"/>\r\n     <use style=\"fill:#1f77b4;stroke:#1f77b4;\" x=\"298.359091\" xlink:href=\"#m7f28ed29eb\" y=\"149.16293\"/>\r\n     <use style=\"fill:#1f77b4;stroke:#1f77b4;\" x=\"316.255908\" xlink:href=\"#m7f28ed29eb\" y=\"141.577295\"/>\r\n     <use style=\"fill:#1f77b4;stroke:#1f77b4;\" x=\"201.574987\" xlink:href=\"#m7f28ed29eb\" y=\"167.903911\"/>\r\n     <use style=\"fill:#1f77b4;stroke:#1f77b4;\" x=\"323.438184\" xlink:href=\"#m7f28ed29eb\" y=\"127.744667\"/>\r\n     <use style=\"fill:#1f77b4;stroke:#1f77b4;\" x=\"248.200906\" xlink:href=\"#m7f28ed29eb\" y=\"155.186817\"/>\r\n     <use style=\"fill:#1f77b4;stroke:#1f77b4;\" x=\"183.913654\" xlink:href=\"#m7f28ed29eb\" y=\"177.720616\"/>\r\n     <use style=\"fill:#1f77b4;stroke:#1f77b4;\" x=\"180.263645\" xlink:href=\"#m7f28ed29eb\" y=\"179.059257\"/>\r\n     <use style=\"fill:#1f77b4;stroke:#1f77b4;\" x=\"348.635018\" xlink:href=\"#m7f28ed29eb\" y=\"99.410088\"/>\r\n     <use style=\"fill:#1f77b4;stroke:#1f77b4;\" x=\"352.285027\" xlink:href=\"#m7f28ed29eb\" y=\"98.071447\"/>\r\n     <use style=\"fill:#1f77b4;stroke:#1f77b4;\" x=\"355.935036\" xlink:href=\"#m7f28ed29eb\" y=\"96.732805\"/>\r\n     <use style=\"fill:#1f77b4;stroke:#1f77b4;\" x=\"334.270468\" xlink:href=\"#m7f28ed29eb\" y=\"94.278629\"/>\r\n     <use style=\"fill:#1f77b4;stroke:#1f77b4;\" x=\"187.210436\" xlink:href=\"#m7f28ed29eb\" y=\"175.93576\"/>\r\n     <use style=\"fill:#1f77b4;stroke:#1f77b4;\" x=\"348.635018\" xlink:href=\"#m7f28ed29eb\" y=\"90.262705\"/>\r\n     <use style=\"fill:#1f77b4;stroke:#1f77b4;\" x=\"352.285027\" xlink:href=\"#m7f28ed29eb\" y=\"106.772616\"/>\r\n     <use style=\"fill:#1f77b4;stroke:#1f77b4;\" x=\"319.905917\" xlink:href=\"#m7f28ed29eb\" y=\"132.653019\"/>\r\n     <use style=\"fill:#1f77b4;stroke:#1f77b4;\" x=\"355.935036\" xlink:href=\"#m7f28ed29eb\" y=\"95.394164\"/>\r\n     <use style=\"fill:#1f77b4;stroke:#1f77b4;\" x=\"194.392711\" xlink:href=\"#m7f28ed29eb\" y=\"172.589157\"/>\r\n     <use style=\"fill:#1f77b4;stroke:#1f77b4;\" x=\"198.04272\" xlink:href=\"#m7f28ed29eb\" y=\"170.134981\"/>\r\n     <use style=\"fill:#1f77b4;stroke:#1f77b4;\" x=\"205.224996\" xlink:href=\"#m7f28ed29eb\" y=\"165.449735\"/>\r\n     <use style=\"fill:#1f77b4;stroke:#1f77b4;\" x=\"208.875004\" xlink:href=\"#m7f28ed29eb\" y=\"163.441773\"/>\r\n     <use style=\"fill:#1f77b4;stroke:#1f77b4;\" x=\"212.407271\" xlink:href=\"#m7f28ed29eb\" y=\"161.433811\"/>\r\n     <use style=\"fill:#1f77b4;stroke:#1f77b4;\" x=\"216.05728\" xlink:href=\"#m7f28ed29eb\" y=\"159.425849\"/>\r\n     <use style=\"fill:#1f77b4;stroke:#1f77b4;\" x=\"58.164964\" xlink:href=\"#m7f28ed29eb\" y=\"208.955584\"/>\r\n     <use style=\"fill:#1f77b4;stroke:#1f77b4;\" x=\"226.889564\" xlink:href=\"#m7f28ed29eb\" y=\"155.186817\"/>\r\n     <use style=\"fill:#1f77b4;stroke:#1f77b4;\" x=\"237.368621\" xlink:href=\"#m7f28ed29eb\" y=\"153.625069\"/>\r\n     <use style=\"fill:#1f77b4;stroke:#1f77b4;\" x=\"241.01863\" xlink:href=\"#m7f28ed29eb\" y=\"153.848176\"/>\r\n     <use style=\"fill:#1f77b4;stroke:#1f77b4;\" x=\"190.860445\" xlink:href=\"#m7f28ed29eb\" y=\"174.150905\"/>\r\n     <use style=\"fill:#1f77b4;stroke:#1f77b4;\" x=\"244.550897\" xlink:href=\"#m7f28ed29eb\" y=\"161.210704\"/>\r\n     <use style=\"fill:#1f77b4;stroke:#1f77b4;\" x=\"183.913654\" xlink:href=\"#m7f28ed29eb\" y=\"177.274402\"/>\r\n     <use style=\"fill:#1f77b4;stroke:#1f77b4;\" x=\"237.368621\" xlink:href=\"#m7f28ed29eb\" y=\"164.780415\"/>\r\n     <use style=\"fill:#1f77b4;stroke:#1f77b4;\" x=\"330.620459\" xlink:href=\"#m7f28ed29eb\" y=\"115.250679\"/>\r\n     <use style=\"fill:#1f77b4;stroke:#1f77b4;\" x=\"72.529515\" xlink:href=\"#m7f28ed29eb\" y=\"208.50937\"/>\r\n     <use style=\"fill:#1f77b4;stroke:#1f77b4;\" x=\"65.347239\" xlink:href=\"#m7f28ed29eb\" y=\"208.732477\"/>\r\n     <use style=\"fill:#1f77b4;stroke:#1f77b4;\" x=\"61.814973\" xlink:href=\"#m7f28ed29eb\" y=\"208.955584\"/>\r\n     <use style=\"fill:#1f77b4;stroke:#1f77b4;\" x=\"334.270468\" xlink:href=\"#m7f28ed29eb\" y=\"38.278793\"/>\r\n     <use style=\"fill:#1f77b4;stroke:#1f77b4;\" x=\"165.899094\" xlink:href=\"#m7f28ed29eb\" y=\"183.967609\"/>\r\n     <use style=\"fill:#1f77b4;stroke:#1f77b4;\" x=\"169.431361\" xlink:href=\"#m7f28ed29eb\" y=\"182.628968\"/>\r\n     <use style=\"fill:#1f77b4;stroke:#1f77b4;\" x=\"323.438184\" xlink:href=\"#m7f28ed29eb\" y=\"127.967773\"/>\r\n     <use style=\"fill:#1f77b4;stroke:#1f77b4;\" x=\"319.905917\" xlink:href=\"#m7f28ed29eb\" y=\"129.752629\"/>\r\n     <use style=\"fill:#1f77b4;stroke:#1f77b4;\" x=\"327.088192\" xlink:href=\"#m7f28ed29eb\" y=\"117.704855\"/>\r\n     <use style=\"fill:#1f77b4;stroke:#1f77b4;\" x=\"316.255908\" xlink:href=\"#m7f28ed29eb\" y=\"131.537484\"/>\r\n     <use style=\"fill:#1f77b4;stroke:#1f77b4;\" x=\"309.191375\" xlink:href=\"#m7f28ed29eb\" y=\"135.107195\"/>\r\n     <use style=\"fill:#1f77b4;stroke:#1f77b4;\" x=\"305.541366\" xlink:href=\"#m7f28ed29eb\" y=\"136.668943\"/>\r\n     <use style=\"fill:#1f77b4;stroke:#1f77b4;\" x=\"327.088192\" xlink:href=\"#m7f28ed29eb\" y=\"122.836314\"/>\r\n     <use style=\"fill:#1f77b4;stroke:#1f77b4;\" x=\"302.0091\" xlink:href=\"#m7f28ed29eb\" y=\"138.453798\"/>\r\n     <use style=\"fill:#1f77b4;stroke:#1f77b4;\" x=\"298.359091\" xlink:href=\"#m7f28ed29eb\" y=\"140.015547\"/>\r\n     <use style=\"fill:#1f77b4;stroke:#1f77b4;\" x=\"291.176816\" xlink:href=\"#m7f28ed29eb\" y=\"142.915937\"/>\r\n     <use style=\"fill:#1f77b4;stroke:#1f77b4;\" x=\"287.526807\" xlink:href=\"#m7f28ed29eb\" y=\"144.254578\"/>\r\n     <use style=\"fill:#1f77b4;stroke:#1f77b4;\" x=\"283.99454\" xlink:href=\"#m7f28ed29eb\" y=\"145.59322\"/>\r\n     <use style=\"fill:#1f77b4;stroke:#1f77b4;\" x=\"280.344531\" xlink:href=\"#m7f28ed29eb\" y=\"146.931861\"/>\r\n     <use style=\"fill:#1f77b4;stroke:#1f77b4;\" x=\"312.841384\" xlink:href=\"#m7f28ed29eb\" y=\"133.322339\"/>\r\n     <use style=\"fill:#1f77b4;stroke:#1f77b4;\" x=\"276.812265\" xlink:href=\"#m7f28ed29eb\" y=\"147.824289\"/>\r\n     <use style=\"fill:#1f77b4;stroke:#1f77b4;\" x=\"83.361799\" xlink:href=\"#m7f28ed29eb\" y=\"208.286263\"/>\r\n     <use style=\"fill:#1f77b4;stroke:#1f77b4;\" x=\"104.790883\" xlink:href=\"#m7f28ed29eb\" y=\"203.824125\"/>\r\n     <use style=\"fill:#1f77b4;stroke:#1f77b4;\" x=\"162.249086\" xlink:href=\"#m7f28ed29eb\" y=\"185.306251\"/>\r\n     <use style=\"fill:#1f77b4;stroke:#1f77b4;\" x=\"158.599077\" xlink:href=\"#m7f28ed29eb\" y=\"186.421785\"/>\r\n     <use style=\"fill:#1f77b4;stroke:#1f77b4;\" x=\"155.06681\" xlink:href=\"#m7f28ed29eb\" y=\"187.760427\"/>\r\n     <use style=\"fill:#1f77b4;stroke:#1f77b4;\" x=\"151.416801\" xlink:href=\"#m7f28ed29eb\" y=\"188.875961\"/>\r\n     <use style=\"fill:#1f77b4;stroke:#1f77b4;\" x=\"147.884535\" xlink:href=\"#m7f28ed29eb\" y=\"189.991496\"/>\r\n     <use style=\"fill:#1f77b4;stroke:#1f77b4;\" x=\"144.234526\" xlink:href=\"#m7f28ed29eb\" y=\"191.107031\"/>\r\n     <use style=\"fill:#1f77b4;stroke:#1f77b4;\" x=\"140.820002\" xlink:href=\"#m7f28ed29eb\" y=\"192.222565\"/>\r\n     <use style=\"fill:#1f77b4;stroke:#1f77b4;\" x=\"137.169993\" xlink:href=\"#m7f28ed29eb\" y=\"193.3381\"/>\r\n     <use style=\"fill:#1f77b4;stroke:#1f77b4;\" x=\"133.519984\" xlink:href=\"#m7f28ed29eb\" y=\"194.676741\"/>\r\n     <use style=\"fill:#1f77b4;stroke:#1f77b4;\" x=\"97.844092\" xlink:href=\"#m7f28ed29eb\" y=\"206.278301\"/>\r\n     <use style=\"fill:#1f77b4;stroke:#1f77b4;\" x=\"129.987718\" xlink:href=\"#m7f28ed29eb\" y=\"195.792276\"/>\r\n     <use style=\"fill:#1f77b4;stroke:#1f77b4;\" x=\"122.805442\" xlink:href=\"#m7f28ed29eb\" y=\"198.246452\"/>\r\n     <use style=\"fill:#1f77b4;stroke:#1f77b4;\" x=\"119.155433\" xlink:href=\"#m7f28ed29eb\" y=\"199.361986\"/>\r\n     <use style=\"fill:#1f77b4;stroke:#1f77b4;\" x=\"115.505425\" xlink:href=\"#m7f28ed29eb\" y=\"200.477521\"/>\r\n     <use style=\"fill:#1f77b4;stroke:#1f77b4;\" x=\"111.973158\" xlink:href=\"#m7f28ed29eb\" y=\"201.593056\"/>\r\n     <use style=\"fill:#1f77b4;stroke:#1f77b4;\" x=\"108.323149\" xlink:href=\"#m7f28ed29eb\" y=\"202.70859\"/>\r\n     <use style=\"fill:#1f77b4;stroke:#1f77b4;\" x=\"176.613636\" xlink:href=\"#m7f28ed29eb\" y=\"180.174792\"/>\r\n     <use style=\"fill:#1f77b4;stroke:#1f77b4;\" x=\"337.920477\" xlink:href=\"#m7f28ed29eb\" y=\"94.055522\"/>\r\n     <use style=\"fill:#1f77b4;stroke:#1f77b4;\" x=\"341.452743\" xlink:href=\"#m7f28ed29eb\" y=\"92.939988\"/>\r\n     <use style=\"fill:#1f77b4;stroke:#1f77b4;\" x=\"345.102752\" xlink:href=\"#m7f28ed29eb\" y=\"91.824453\"/>\r\n     <use style=\"fill:#1f77b4;stroke:#1f77b4;\" x=\"126.337709\" xlink:href=\"#m7f28ed29eb\" y=\"197.130917\"/>\r\n     <use style=\"fill:#1f77b4;stroke:#1f77b4;\" x=\"273.162256\" xlink:href=\"#m7f28ed29eb\" y=\"148.716717\"/>\r\n     <use style=\"fill:#1f77b4;stroke:#1f77b4;\" x=\"269.865474\" xlink:href=\"#m7f28ed29eb\" y=\"149.609144\"/>\r\n     <use style=\"fill:#1f77b4;stroke:#1f77b4;\" x=\"266.215465\" xlink:href=\"#m7f28ed29eb\" y=\"150.501572\"/>\r\n     <use style=\"fill:#1f77b4;stroke:#1f77b4;\" x=\"151.416801\" xlink:href=\"#m7f28ed29eb\" y=\"191.999458\"/>\r\n     <use style=\"fill:#1f77b4;stroke:#1f77b4;\" x=\"155.06681\" xlink:href=\"#m7f28ed29eb\" y=\"189.545282\"/>\r\n     <use style=\"fill:#1f77b4;stroke:#1f77b4;\" x=\"158.599077\" xlink:href=\"#m7f28ed29eb\" y=\"191.553244\"/>\r\n     <use style=\"fill:#1f77b4;stroke:#1f77b4;\" x=\"330.620459\" xlink:href=\"#m7f28ed29eb\" y=\"100.525623\"/>\r\n     <use style=\"fill:#1f77b4;stroke:#1f77b4;\" x=\"162.249086\" xlink:href=\"#m7f28ed29eb\" y=\"189.991496\"/>\r\n     <use style=\"fill:#1f77b4;stroke:#1f77b4;\" x=\"165.899094\" xlink:href=\"#m7f28ed29eb\" y=\"193.561207\"/>\r\n     <use style=\"fill:#1f77b4;stroke:#1f77b4;\" x=\"169.431361\" xlink:href=\"#m7f28ed29eb\" y=\"190.883924\"/>\r\n     <use style=\"fill:#1f77b4;stroke:#1f77b4;\" x=\"173.08137\" xlink:href=\"#m7f28ed29eb\" y=\"190.660817\"/>\r\n     <use style=\"fill:#1f77b4;stroke:#1f77b4;\" x=\"176.613636\" xlink:href=\"#m7f28ed29eb\" y=\"186.644892\"/>\r\n     <use style=\"fill:#1f77b4;stroke:#1f77b4;\" x=\"147.884535\" xlink:href=\"#m7f28ed29eb\" y=\"192.222565\"/>\r\n     <use style=\"fill:#1f77b4;stroke:#1f77b4;\" x=\"180.263645\" xlink:href=\"#m7f28ed29eb\" y=\"191.330137\"/>\r\n     <use style=\"fill:#1f77b4;stroke:#1f77b4;\" x=\"190.860445\" xlink:href=\"#m7f28ed29eb\" y=\"181.513433\"/>\r\n     <use style=\"fill:#1f77b4;stroke:#1f77b4;\" x=\"194.392711\" xlink:href=\"#m7f28ed29eb\" y=\"183.298289\"/>\r\n     <use style=\"fill:#1f77b4;stroke:#1f77b4;\" x=\"198.04272\" xlink:href=\"#m7f28ed29eb\" y=\"178.83615\"/>\r\n     <use style=\"fill:#1f77b4;stroke:#1f77b4;\" x=\"201.574987\" xlink:href=\"#m7f28ed29eb\" y=\"178.166829\"/>\r\n     <use style=\"fill:#1f77b4;stroke:#1f77b4;\" x=\"205.224996\" xlink:href=\"#m7f28ed29eb\" y=\"174.374012\"/>\r\n     <use style=\"fill:#1f77b4;stroke:#1f77b4;\" x=\"208.875004\" xlink:href=\"#m7f28ed29eb\" y=\"174.374012\"/>\r\n     <use style=\"fill:#1f77b4;stroke:#1f77b4;\" x=\"212.407271\" xlink:href=\"#m7f28ed29eb\" y=\"166.342163\"/>\r\n     <use style=\"fill:#1f77b4;stroke:#1f77b4;\" x=\"216.05728\" xlink:href=\"#m7f28ed29eb\" y=\"174.597119\"/>\r\n     <use style=\"fill:#1f77b4;stroke:#1f77b4;\" x=\"226.889564\" xlink:href=\"#m7f28ed29eb\" y=\"167.011484\"/>\r\n     <use style=\"fill:#1f77b4;stroke:#1f77b4;\" x=\"187.210436\" xlink:href=\"#m7f28ed29eb\" y=\"172.589157\"/>\r\n     <use style=\"fill:#1f77b4;stroke:#1f77b4;\" x=\"241.01863\" xlink:href=\"#m7f28ed29eb\" y=\"168.350125\"/>\r\n     <use style=\"fill:#1f77b4;stroke:#1f77b4;\" x=\"144.234526\" xlink:href=\"#m7f28ed29eb\" y=\"196.90781\"/>\r\n     <use style=\"fill:#1f77b4;stroke:#1f77b4;\" x=\"137.169993\" xlink:href=\"#m7f28ed29eb\" y=\"200.477521\"/>\r\n     <use style=\"fill:#1f77b4;stroke:#1f77b4;\" x=\"262.565456\" xlink:href=\"#m7f28ed29eb\" y=\"151.617107\"/>\r\n     <use style=\"fill:#1f77b4;stroke:#1f77b4;\" x=\"259.03319\" xlink:href=\"#m7f28ed29eb\" y=\"152.732641\"/>\r\n     <use style=\"fill:#1f77b4;stroke:#1f77b4;\" x=\"255.383181\" xlink:href=\"#m7f28ed29eb\" y=\"153.178855\"/>\r\n     <use style=\"fill:#1f77b4;stroke:#1f77b4;\" x=\"251.850914\" xlink:href=\"#m7f28ed29eb\" y=\"153.848176\"/>\r\n     <use style=\"fill:#1f77b4;stroke:#1f77b4;\" x=\"248.200906\" xlink:href=\"#m7f28ed29eb\" y=\"154.294389\"/>\r\n     <use style=\"fill:#1f77b4;stroke:#1f77b4;\" x=\"58.164964\" xlink:href=\"#m7f28ed29eb\" y=\"201.593056\"/>\r\n     <use style=\"fill:#1f77b4;stroke:#1f77b4;\" x=\"61.814973\" xlink:href=\"#m7f28ed29eb\" y=\"210.517332\"/>\r\n     <use style=\"fill:#1f77b4;stroke:#1f77b4;\" x=\"65.347239\" xlink:href=\"#m7f28ed29eb\" y=\"214.31015\"/>\r\n     <use style=\"fill:#1f77b4;stroke:#1f77b4;\" x=\"72.529515\" xlink:href=\"#m7f28ed29eb\" y=\"214.756364\"/>\r\n     <use style=\"fill:#1f77b4;stroke:#1f77b4;\" x=\"83.361799\" xlink:href=\"#m7f28ed29eb\" y=\"213.194615\"/>\r\n     <use style=\"fill:#1f77b4;stroke:#1f77b4;\" x=\"97.844092\" xlink:href=\"#m7f28ed29eb\" y=\"211.40976\"/>\r\n     <use style=\"fill:#1f77b4;stroke:#1f77b4;\" x=\"104.790883\" xlink:href=\"#m7f28ed29eb\" y=\"205.385873\"/>\r\n     <use style=\"fill:#1f77b4;stroke:#1f77b4;\" x=\"108.323149\" xlink:href=\"#m7f28ed29eb\" y=\"205.385873\"/>\r\n     <use style=\"fill:#1f77b4;stroke:#1f77b4;\" x=\"111.973158\" xlink:href=\"#m7f28ed29eb\" y=\"207.616942\"/>\r\n     <use style=\"fill:#1f77b4;stroke:#1f77b4;\" x=\"115.505425\" xlink:href=\"#m7f28ed29eb\" y=\"209.848011\"/>\r\n     <use style=\"fill:#1f77b4;stroke:#1f77b4;\" x=\"119.155433\" xlink:href=\"#m7f28ed29eb\" y=\"205.60898\"/>\r\n     <use style=\"fill:#1f77b4;stroke:#1f77b4;\" x=\"122.805442\" xlink:href=\"#m7f28ed29eb\" y=\"208.063156\"/>\r\n     <use style=\"fill:#1f77b4;stroke:#1f77b4;\" x=\"126.337709\" xlink:href=\"#m7f28ed29eb\" y=\"192.222565\"/>\r\n     <use style=\"fill:#1f77b4;stroke:#1f77b4;\" x=\"129.987718\" xlink:href=\"#m7f28ed29eb\" y=\"201.593056\"/>\r\n     <use style=\"fill:#1f77b4;stroke:#1f77b4;\" x=\"133.519984\" xlink:href=\"#m7f28ed29eb\" y=\"202.485483\"/>\r\n     <use style=\"fill:#1f77b4;stroke:#1f77b4;\" x=\"140.820002\" xlink:href=\"#m7f28ed29eb\" y=\"201.816163\"/>\r\n     <use style=\"fill:#1f77b4;stroke:#1f77b4;\" x=\"173.08137\" xlink:href=\"#m7f28ed29eb\" y=\"181.290326\"/>\r\n     <use style=\"fill:#1f77b4;stroke:#1f77b4;\" x=\"334.270468\" xlink:href=\"#m7f28ed29eb\" y=\"40.286756\"/>\r\n     <use style=\"fill:#1f77b4;stroke:#1f77b4;\" x=\"122.805442\" xlink:href=\"#m7f28ed29eb\" y=\"171.027408\"/>\r\n     <use style=\"fill:#1f77b4;stroke:#1f77b4;\" x=\"319.905917\" xlink:href=\"#m7f28ed29eb\" y=\"106.54951\"/>\r\n     <use style=\"fill:#1f77b4;stroke:#1f77b4;\" x=\"345.102752\" xlink:href=\"#m7f28ed29eb\" y=\"99.410088\"/>\r\n     <use style=\"fill:#1f77b4;stroke:#1f77b4;\" x=\"259.03319\" xlink:href=\"#m7f28ed29eb\" y=\"100.525623\"/>\r\n     <use style=\"fill:#1f77b4;stroke:#1f77b4;\" x=\"255.383181\" xlink:href=\"#m7f28ed29eb\" y=\"104.541547\"/>\r\n     <use style=\"fill:#1f77b4;stroke:#1f77b4;\" x=\"251.850914\" xlink:href=\"#m7f28ed29eb\" y=\"109.449899\"/>\r\n     <use style=\"fill:#1f77b4;stroke:#1f77b4;\" x=\"248.200906\" xlink:href=\"#m7f28ed29eb\" y=\"115.473786\"/>\r\n     <use style=\"fill:#1f77b4;stroke:#1f77b4;\" x=\"244.550897\" xlink:href=\"#m7f28ed29eb\" y=\"127.075346\"/>\r\n     <use style=\"fill:#1f77b4;stroke:#1f77b4;\" x=\"241.01863\" xlink:href=\"#m7f28ed29eb\" y=\"125.29049\"/>\r\n     <use style=\"fill:#1f77b4;stroke:#1f77b4;\" x=\"237.368621\" xlink:href=\"#m7f28ed29eb\" y=\"126.406025\"/>\r\n     <use style=\"fill:#1f77b4;stroke:#1f77b4;\" x=\"233.836355\" xlink:href=\"#m7f28ed29eb\" y=\"121.72078\"/>\r\n     <use style=\"fill:#1f77b4;stroke:#1f77b4;\" x=\"230.186346\" xlink:href=\"#m7f28ed29eb\" y=\"137.561371\"/>\r\n     <use style=\"fill:#1f77b4;stroke:#1f77b4;\" x=\"226.889564\" xlink:href=\"#m7f28ed29eb\" y=\"132.206805\"/>\r\n     <use style=\"fill:#1f77b4;stroke:#1f77b4;\" x=\"223.239555\" xlink:href=\"#m7f28ed29eb\" y=\"128.860201\"/>\r\n     <use style=\"fill:#1f77b4;stroke:#1f77b4;\" x=\"219.589546\" xlink:href=\"#m7f28ed29eb\" y=\"129.975736\"/>\r\n     <use style=\"fill:#1f77b4;stroke:#1f77b4;\" x=\"216.05728\" xlink:href=\"#m7f28ed29eb\" y=\"124.62117\"/>\r\n     <use style=\"fill:#1f77b4;stroke:#1f77b4;\" x=\"266.215465\" xlink:href=\"#m7f28ed29eb\" y=\"112.796503\"/>\r\n     <use style=\"fill:#1f77b4;stroke:#1f77b4;\" x=\"212.407271\" xlink:href=\"#m7f28ed29eb\" y=\"133.768553\"/>\r\n     <use style=\"fill:#1f77b4;stroke:#1f77b4;\" x=\"205.224996\" xlink:href=\"#m7f28ed29eb\" y=\"135.999622\"/>\r\n     <use style=\"fill:#1f77b4;stroke:#1f77b4;\" x=\"323.438184\" xlink:href=\"#m7f28ed29eb\" y=\"104.764654\"/>\r\n     <use style=\"fill:#1f77b4;stroke:#1f77b4;\" x=\"198.04272\" xlink:href=\"#m7f28ed29eb\" y=\"134.214767\"/>\r\n     <use style=\"fill:#1f77b4;stroke:#1f77b4;\" x=\"194.392711\" xlink:href=\"#m7f28ed29eb\" y=\"130.198843\"/>\r\n     <use style=\"fill:#1f77b4;stroke:#1f77b4;\" x=\"190.860445\" xlink:href=\"#m7f28ed29eb\" y=\"124.174956\"/>\r\n     <use style=\"fill:#1f77b4;stroke:#1f77b4;\" x=\"187.210436\" xlink:href=\"#m7f28ed29eb\" y=\"137.115157\"/>\r\n     <use style=\"fill:#1f77b4;stroke:#1f77b4;\" x=\"183.913654\" xlink:href=\"#m7f28ed29eb\" y=\"139.346226\"/>\r\n     <use style=\"fill:#1f77b4;stroke:#1f77b4;\" x=\"180.263645\" xlink:href=\"#m7f28ed29eb\" y=\"139.346226\"/>\r\n     <use style=\"fill:#1f77b4;stroke:#1f77b4;\" x=\"176.613636\" xlink:href=\"#m7f28ed29eb\" y=\"139.569333\"/>\r\n     <use style=\"fill:#1f77b4;stroke:#1f77b4;\" x=\"173.08137\" xlink:href=\"#m7f28ed29eb\" y=\"152.509534\"/>\r\n     <use style=\"fill:#1f77b4;stroke:#1f77b4;\" x=\"169.431361\" xlink:href=\"#m7f28ed29eb\" y=\"150.724679\"/>\r\n     <use style=\"fill:#1f77b4;stroke:#1f77b4;\" x=\"165.899094\" xlink:href=\"#m7f28ed29eb\" y=\"157.640993\"/>\r\n     <use style=\"fill:#1f77b4;stroke:#1f77b4;\" x=\"162.249086\" xlink:href=\"#m7f28ed29eb\" y=\"164.780415\"/>\r\n     <use style=\"fill:#1f77b4;stroke:#1f77b4;\" x=\"158.599077\" xlink:href=\"#m7f28ed29eb\" y=\"169.019446\"/>\r\n     <use style=\"fill:#1f77b4;stroke:#1f77b4;\" x=\"208.875004\" xlink:href=\"#m7f28ed29eb\" y=\"136.222729\"/>\r\n     <use style=\"fill:#1f77b4;stroke:#1f77b4;\" x=\"155.06681\" xlink:href=\"#m7f28ed29eb\" y=\"154.740603\"/>\r\n     <use style=\"fill:#1f77b4;stroke:#1f77b4;\" x=\"269.865474\" xlink:href=\"#m7f28ed29eb\" y=\"116.589321\"/>\r\n     <use style=\"fill:#1f77b4;stroke:#1f77b4;\" x=\"115.505425\" xlink:href=\"#m7f28ed29eb\" y=\"190.660817\"/>\r\n     <use style=\"fill:#1f77b4;stroke:#1f77b4;\" x=\"352.285027\" xlink:href=\"#m7f28ed29eb\" y=\"79.553573\"/>\r\n     <use style=\"fill:#1f77b4;stroke:#1f77b4;\" x=\"352.285027\" xlink:href=\"#m7f28ed29eb\" y=\"73.9759\"/>\r\n     <use style=\"fill:#1f77b4;stroke:#1f77b4;\" x=\"359.231818\" xlink:href=\"#m7f28ed29eb\" y=\"74.868328\"/>\r\n     <use style=\"fill:#1f77b4;stroke:#1f77b4;\" x=\"355.935036\" xlink:href=\"#m7f28ed29eb\" y=\"77.545611\"/>\r\n     <use style=\"fill:#1f77b4;stroke:#1f77b4;\" x=\"345.102752\" xlink:href=\"#m7f28ed29eb\" y=\"91.824453\"/>\r\n     <use style=\"fill:#1f77b4;stroke:#1f77b4;\" x=\"327.088192\" xlink:href=\"#m7f28ed29eb\" y=\"88.924063\"/>\r\n     <use style=\"fill:#1f77b4;stroke:#1f77b4;\" x=\"323.438184\" xlink:href=\"#m7f28ed29eb\" y=\"78.214931\"/>\r\n     <use style=\"fill:#1f77b4;stroke:#1f77b4;\" x=\"319.905917\" xlink:href=\"#m7f28ed29eb\" y=\"86.916101\"/>\r\n     <use style=\"fill:#1f77b4;stroke:#1f77b4;\" x=\"316.255908\" xlink:href=\"#m7f28ed29eb\" y=\"89.370277\"/>\r\n     <use style=\"fill:#1f77b4;stroke:#1f77b4;\" x=\"312.841384\" xlink:href=\"#m7f28ed29eb\" y=\"84.238818\"/>\r\n     <use style=\"fill:#1f77b4;stroke:#1f77b4;\" x=\"309.191375\" xlink:href=\"#m7f28ed29eb\" y=\"84.461925\"/>\r\n     <use style=\"fill:#1f77b4;stroke:#1f77b4;\" x=\"305.541366\" xlink:href=\"#m7f28ed29eb\" y=\"92.04756\"/>\r\n     <use style=\"fill:#1f77b4;stroke:#1f77b4;\" x=\"302.0091\" xlink:href=\"#m7f28ed29eb\" y=\"92.493774\"/>\r\n     <use style=\"fill:#1f77b4;stroke:#1f77b4;\" x=\"298.359091\" xlink:href=\"#m7f28ed29eb\" y=\"86.469887\"/>\r\n     <use style=\"fill:#1f77b4;stroke:#1f77b4;\" x=\"273.162256\" xlink:href=\"#m7f28ed29eb\" y=\"112.350289\"/>\r\n     <use style=\"fill:#1f77b4;stroke:#1f77b4;\" x=\"294.826824\" xlink:href=\"#m7f28ed29eb\" y=\"89.593384\"/>\r\n     <use style=\"fill:#1f77b4;stroke:#1f77b4;\" x=\"287.526807\" xlink:href=\"#m7f28ed29eb\" y=\"116.366214\"/>\r\n     <use style=\"fill:#1f77b4;stroke:#1f77b4;\" x=\"283.99454\" xlink:href=\"#m7f28ed29eb\" y=\"113.465824\"/>\r\n     <use style=\"fill:#1f77b4;stroke:#1f77b4;\" x=\"280.344531\" xlink:href=\"#m7f28ed29eb\" y=\"110.11922\"/>\r\n     <use style=\"fill:#1f77b4;stroke:#1f77b4;\" x=\"276.812265\" xlink:href=\"#m7f28ed29eb\" y=\"100.525623\"/>\r\n     <use style=\"fill:#1f77b4;stroke:#1f77b4;\" x=\"359.231818\" xlink:href=\"#m7f28ed29eb\" y=\"52.557636\"/>\r\n     <use style=\"fill:#1f77b4;stroke:#1f77b4;\" x=\"355.935036\" xlink:href=\"#m7f28ed29eb\" y=\"42.740932\"/>\r\n     <use style=\"fill:#1f77b4;stroke:#1f77b4;\" x=\"330.620459\" xlink:href=\"#m7f28ed29eb\" y=\"98.294554\"/>\r\n     <use style=\"fill:#1f77b4;stroke:#1f77b4;\" x=\"334.270468\" xlink:href=\"#m7f28ed29eb\" y=\"98.294554\"/>\r\n     <use style=\"fill:#1f77b4;stroke:#1f77b4;\" x=\"72.529515\" xlink:href=\"#m7f28ed29eb\" y=\"209.848011\"/>\r\n     <use style=\"fill:#1f77b4;stroke:#1f77b4;\" x=\"76.179523\" xlink:href=\"#m7f28ed29eb\" y=\"207.840049\"/>\r\n     <use style=\"fill:#1f77b4;stroke:#1f77b4;\" x=\"87.011808\" xlink:href=\"#m7f28ed29eb\" y=\"201.593056\"/>\r\n     <use style=\"fill:#1f77b4;stroke:#1f77b4;\" x=\"90.544074\" xlink:href=\"#m7f28ed29eb\" y=\"199.361986\"/>\r\n     <use style=\"fill:#1f77b4;stroke:#1f77b4;\" x=\"108.323149\" xlink:href=\"#m7f28ed29eb\" y=\"192.222565\"/>\r\n     <use style=\"fill:#1f77b4;stroke:#1f77b4;\" x=\"111.973158\" xlink:href=\"#m7f28ed29eb\" y=\"191.553244\"/>\r\n     <use style=\"fill:#1f77b4;stroke:#1f77b4;\" x=\"291.176816\" xlink:href=\"#m7f28ed29eb\" y=\"100.525623\"/>\r\n     <use style=\"fill:#1f77b4;stroke:#1f77b4;\" x=\"151.416801\" xlink:href=\"#m7f28ed29eb\" y=\"153.401962\"/>\r\n     <use style=\"fill:#1f77b4;stroke:#1f77b4;\" x=\"201.574987\" xlink:href=\"#m7f28ed29eb\" y=\"137.338264\"/>\r\n     <use style=\"fill:#1f77b4;stroke:#1f77b4;\" x=\"137.169993\" xlink:href=\"#m7f28ed29eb\" y=\"172.142943\"/>\r\n     <use style=\"fill:#1f77b4;stroke:#1f77b4;\" x=\"216.05728\" xlink:href=\"#m7f28ed29eb\" y=\"150.055358\"/>\r\n     <use style=\"fill:#1f77b4;stroke:#1f77b4;\" x=\"219.589546\" xlink:href=\"#m7f28ed29eb\" y=\"149.16293\"/>\r\n     <use style=\"fill:#1f77b4;stroke:#1f77b4;\" x=\"223.239555\" xlink:href=\"#m7f28ed29eb\" y=\"148.270503\"/>\r\n     <use style=\"fill:#1f77b4;stroke:#1f77b4;\" x=\"226.889564\" xlink:href=\"#m7f28ed29eb\" y=\"147.378075\"/>\r\n     <use style=\"fill:#1f77b4;stroke:#1f77b4;\" x=\"230.186346\" xlink:href=\"#m7f28ed29eb\" y=\"145.59322\"/>\r\n     <use style=\"fill:#1f77b4;stroke:#1f77b4;\" x=\"233.836355\" xlink:href=\"#m7f28ed29eb\" y=\"143.808364\"/>\r\n     <use style=\"fill:#1f77b4;stroke:#1f77b4;\" x=\"237.368621\" xlink:href=\"#m7f28ed29eb\" y=\"142.246616\"/>\r\n     <use style=\"fill:#1f77b4;stroke:#1f77b4;\" x=\"144.234526\" xlink:href=\"#m7f28ed29eb\" y=\"140.907975\"/>\r\n     <use style=\"fill:#1f77b4;stroke:#1f77b4;\" x=\"241.01863\" xlink:href=\"#m7f28ed29eb\" y=\"140.461761\"/>\r\n     <use style=\"fill:#1f77b4;stroke:#1f77b4;\" x=\"244.550897\" xlink:href=\"#m7f28ed29eb\" y=\"138.900012\"/>\r\n     <use style=\"fill:#1f77b4;stroke:#1f77b4;\" x=\"248.200906\" xlink:href=\"#m7f28ed29eb\" y=\"137.115157\"/>\r\n     <use style=\"fill:#1f77b4;stroke:#1f77b4;\" x=\"251.850914\" xlink:href=\"#m7f28ed29eb\" y=\"135.776515\"/>\r\n     <use style=\"fill:#1f77b4;stroke:#1f77b4;\" x=\"255.383181\" xlink:href=\"#m7f28ed29eb\" y=\"134.214767\"/>\r\n     <use style=\"fill:#1f77b4;stroke:#1f77b4;\" x=\"259.03319\" xlink:href=\"#m7f28ed29eb\" y=\"132.876126\"/>\r\n     <use style=\"fill:#1f77b4;stroke:#1f77b4;\" x=\"212.407271\" xlink:href=\"#m7f28ed29eb\" y=\"150.501572\"/>\r\n     <use style=\"fill:#1f77b4;stroke:#1f77b4;\" x=\"262.565456\" xlink:href=\"#m7f28ed29eb\" y=\"131.537484\"/>\r\n     <use style=\"fill:#1f77b4;stroke:#1f77b4;\" x=\"269.865474\" xlink:href=\"#m7f28ed29eb\" y=\"129.306415\"/>\r\n     <use style=\"fill:#1f77b4;stroke:#1f77b4;\" x=\"273.162256\" xlink:href=\"#m7f28ed29eb\" y=\"128.19088\"/>\r\n     <use style=\"fill:#1f77b4;stroke:#1f77b4;\" x=\"276.812265\" xlink:href=\"#m7f28ed29eb\" y=\"126.852239\"/>\r\n     <use style=\"fill:#1f77b4;stroke:#1f77b4;\" x=\"280.344531\" xlink:href=\"#m7f28ed29eb\" y=\"125.736704\"/>\r\n     <use style=\"fill:#1f77b4;stroke:#1f77b4;\" x=\"283.99454\" xlink:href=\"#m7f28ed29eb\" y=\"124.174956\"/>\r\n     <use style=\"fill:#1f77b4;stroke:#1f77b4;\" x=\"287.526807\" xlink:href=\"#m7f28ed29eb\" y=\"122.390101\"/>\r\n     <use style=\"fill:#1f77b4;stroke:#1f77b4;\" x=\"291.176816\" xlink:href=\"#m7f28ed29eb\" y=\"120.828352\"/>\r\n     <use style=\"fill:#1f77b4;stroke:#1f77b4;\" x=\"294.826824\" xlink:href=\"#m7f28ed29eb\" y=\"119.043497\"/>\r\n     <use style=\"fill:#1f77b4;stroke:#1f77b4;\" x=\"298.359091\" xlink:href=\"#m7f28ed29eb\" y=\"117.258641\"/>\r\n     <use style=\"fill:#1f77b4;stroke:#1f77b4;\" x=\"302.0091\" xlink:href=\"#m7f28ed29eb\" y=\"115.250679\"/>\r\n     <use style=\"fill:#1f77b4;stroke:#1f77b4;\" x=\"305.541366\" xlink:href=\"#m7f28ed29eb\" y=\"113.465824\"/>\r\n     <use style=\"fill:#1f77b4;stroke:#1f77b4;\" x=\"309.191375\" xlink:href=\"#m7f28ed29eb\" y=\"111.680969\"/>\r\n     <use style=\"fill:#1f77b4;stroke:#1f77b4;\" x=\"312.841384\" xlink:href=\"#m7f28ed29eb\" y=\"109.896113\"/>\r\n     <use style=\"fill:#1f77b4;stroke:#1f77b4;\" x=\"316.255908\" xlink:href=\"#m7f28ed29eb\" y=\"108.334365\"/>\r\n     <use style=\"fill:#1f77b4;stroke:#1f77b4;\" x=\"266.215465\" xlink:href=\"#m7f28ed29eb\" y=\"130.42195\"/>\r\n     <use style=\"fill:#1f77b4;stroke:#1f77b4;\" x=\"208.875004\" xlink:href=\"#m7f28ed29eb\" y=\"150.947786\"/>\r\n     <use style=\"fill:#1f77b4;stroke:#1f77b4;\" x=\"262.565456\" xlink:href=\"#m7f28ed29eb\" y=\"108.111258\"/>\r\n     <use style=\"fill:#1f77b4;stroke:#1f77b4;\" x=\"201.574987\" xlink:href=\"#m7f28ed29eb\" y=\"152.286427\"/>\r\n     <use style=\"fill:#1f77b4;stroke:#1f77b4;\" x=\"205.224996\" xlink:href=\"#m7f28ed29eb\" y=\"151.394\"/>\r\n     <use style=\"fill:#1f77b4;stroke:#1f77b4;\" x=\"155.06681\" xlink:href=\"#m7f28ed29eb\" y=\"174.150905\"/>\r\n     <use style=\"fill:#1f77b4;stroke:#1f77b4;\" x=\"151.416801\" xlink:href=\"#m7f28ed29eb\" y=\"176.158867\"/>\r\n     <use style=\"fill:#1f77b4;stroke:#1f77b4;\" x=\"144.234526\" xlink:href=\"#m7f28ed29eb\" y=\"179.505471\"/>\r\n     <use style=\"fill:#1f77b4;stroke:#1f77b4;\" x=\"137.169993\" xlink:href=\"#m7f28ed29eb\" y=\"182.628968\"/>\r\n     <use style=\"fill:#1f77b4;stroke:#1f77b4;\" x=\"126.337709\" xlink:href=\"#m7f28ed29eb\" y=\"187.091106\"/>\r\n     <use style=\"fill:#1f77b4;stroke:#1f77b4;\" x=\"122.805442\" xlink:href=\"#m7f28ed29eb\" y=\"188.429748\"/>\r\n     <use style=\"fill:#1f77b4;stroke:#1f77b4;\" x=\"119.155433\" xlink:href=\"#m7f28ed29eb\" y=\"189.991496\"/>\r\n     <use style=\"fill:#1f77b4;stroke:#1f77b4;\" x=\"327.088192\" xlink:href=\"#m7f28ed29eb\" y=\"103.202906\"/>\r\n     <use style=\"fill:#1f77b4;stroke:#1f77b4;\" x=\"330.620459\" xlink:href=\"#m7f28ed29eb\" y=\"44.30268\"/>\r\n     <use style=\"fill:#1f77b4;stroke:#1f77b4;\" x=\"72.529515\" xlink:href=\"#m7f28ed29eb\" y=\"211.186653\"/>\r\n     <use style=\"fill:#1f77b4;stroke:#1f77b4;\" x=\"76.179523\" xlink:href=\"#m7f28ed29eb\" y=\"196.90781\"/>\r\n     <use style=\"fill:#1f77b4;stroke:#1f77b4;\" x=\"87.011808\" xlink:href=\"#m7f28ed29eb\" y=\"174.374012\"/>\r\n     <use style=\"fill:#1f77b4;stroke:#1f77b4;\" x=\"90.544074\" xlink:href=\"#m7f28ed29eb\" y=\"193.784314\"/>\r\n     <use style=\"fill:#1f77b4;stroke:#1f77b4;\" x=\"108.323149\" xlink:href=\"#m7f28ed29eb\" y=\"175.26644\"/>\r\n     <use style=\"fill:#1f77b4;stroke:#1f77b4;\" x=\"111.973158\" xlink:href=\"#m7f28ed29eb\" y=\"183.967609\"/>\r\n     <use style=\"fill:#1f77b4;stroke:#1f77b4;\" x=\"115.505425\" xlink:href=\"#m7f28ed29eb\" y=\"177.720616\"/>\r\n     <use style=\"fill:#1f77b4;stroke:#1f77b4;\" x=\"119.155433\" xlink:href=\"#m7f28ed29eb\" y=\"177.943723\"/>\r\n     <use style=\"fill:#1f77b4;stroke:#1f77b4;\" x=\"126.337709\" xlink:href=\"#m7f28ed29eb\" y=\"175.93576\"/>\r\n     <use style=\"fill:#1f77b4;stroke:#1f77b4;\" x=\"162.249086\" xlink:href=\"#m7f28ed29eb\" y=\"170.134981\"/>\r\n     <use style=\"fill:#1f77b4;stroke:#1f77b4;\" x=\"165.899094\" xlink:href=\"#m7f28ed29eb\" y=\"168.573232\"/>\r\n     <use style=\"fill:#1f77b4;stroke:#1f77b4;\" x=\"158.599077\" xlink:href=\"#m7f28ed29eb\" y=\"172.142943\"/>\r\n     <use style=\"fill:#1f77b4;stroke:#1f77b4;\" x=\"173.08137\" xlink:href=\"#m7f28ed29eb\" y=\"165.003521\"/>\r\n     <use style=\"fill:#1f77b4;stroke:#1f77b4;\" x=\"183.913654\" xlink:href=\"#m7f28ed29eb\" y=\"159.425849\"/>\r\n     <use style=\"fill:#1f77b4;stroke:#1f77b4;\" x=\"187.210436\" xlink:href=\"#m7f28ed29eb\" y=\"157.640993\"/>\r\n     <use style=\"fill:#1f77b4;stroke:#1f77b4;\" x=\"190.860445\" xlink:href=\"#m7f28ed29eb\" y=\"155.856138\"/>\r\n     <use style=\"fill:#1f77b4;stroke:#1f77b4;\" x=\"169.431361\" xlink:href=\"#m7f28ed29eb\" y=\"166.788377\"/>\r\n     <use style=\"fill:#1f77b4;stroke:#1f77b4;\" x=\"180.263645\" xlink:href=\"#m7f28ed29eb\" y=\"161.210704\"/>\r\n     <use style=\"fill:#1f77b4;stroke:#1f77b4;\" x=\"176.613636\" xlink:href=\"#m7f28ed29eb\" y=\"163.218666\"/>\r\n     <use style=\"fill:#1f77b4;stroke:#1f77b4;\" x=\"194.392711\" xlink:href=\"#m7f28ed29eb\" y=\"154.071283\"/>\r\n     <use style=\"fill:#1f77b4;stroke:#1f77b4;\" x=\"198.04272\" xlink:href=\"#m7f28ed29eb\" y=\"153.178855\"/>\r\n    </g>\r\n   </g>\r\n   <g id=\"matplotlib.axis_1\">\r\n    <g id=\"xtick_1\">\r\n     <g id=\"line2d_1\">\r\n      <defs>\r\n       <path d=\"M 0 0 \r\nL 0 3.5 \r\n\" id=\"m7d1a2eb822\" style=\"stroke:#000000;stroke-width:0.8;\"/>\r\n      </defs>\r\n      <g>\r\n       <use style=\"stroke:#000000;stroke-width:0.8;\" x=\"51.335915\" xlink:href=\"#m7d1a2eb822\" y=\"224.64\"/>\r\n      </g>\r\n     </g>\r\n     <g id=\"text_1\">\r\n      <!-- 2014 -->\r\n      <g transform=\"translate(38.610915 239.238438)scale(0.1 -0.1)\">\r\n       <defs>\r\n        <path d=\"M 1228 531 \r\nL 3431 531 \r\nL 3431 0 \r\nL 469 0 \r\nL 469 531 \r\nQ 828 903 1448 1529 \r\nQ 2069 2156 2228 2338 \r\nQ 2531 2678 2651 2914 \r\nQ 2772 3150 2772 3378 \r\nQ 2772 3750 2511 3984 \r\nQ 2250 4219 1831 4219 \r\nQ 1534 4219 1204 4116 \r\nQ 875 4013 500 3803 \r\nL 500 4441 \r\nQ 881 4594 1212 4672 \r\nQ 1544 4750 1819 4750 \r\nQ 2544 4750 2975 4387 \r\nQ 3406 4025 3406 3419 \r\nQ 3406 3131 3298 2873 \r\nQ 3191 2616 2906 2266 \r\nQ 2828 2175 2409 1742 \r\nQ 1991 1309 1228 531 \r\nz\r\n\" id=\"DejaVuSans-32\" transform=\"scale(0.015625)\"/>\r\n        <path d=\"M 2034 4250 \r\nQ 1547 4250 1301 3770 \r\nQ 1056 3291 1056 2328 \r\nQ 1056 1369 1301 889 \r\nQ 1547 409 2034 409 \r\nQ 2525 409 2770 889 \r\nQ 3016 1369 3016 2328 \r\nQ 3016 3291 2770 3770 \r\nQ 2525 4250 2034 4250 \r\nz\r\nM 2034 4750 \r\nQ 2819 4750 3233 4129 \r\nQ 3647 3509 3647 2328 \r\nQ 3647 1150 3233 529 \r\nQ 2819 -91 2034 -91 \r\nQ 1250 -91 836 529 \r\nQ 422 1150 422 2328 \r\nQ 422 3509 836 4129 \r\nQ 1250 4750 2034 4750 \r\nz\r\n\" id=\"DejaVuSans-30\" transform=\"scale(0.015625)\"/>\r\n        <path d=\"M 794 531 \r\nL 1825 531 \r\nL 1825 4091 \r\nL 703 3866 \r\nL 703 4441 \r\nL 1819 4666 \r\nL 2450 4666 \r\nL 2450 531 \r\nL 3481 531 \r\nL 3481 0 \r\nL 794 0 \r\nL 794 531 \r\nz\r\n\" id=\"DejaVuSans-31\" transform=\"scale(0.015625)\"/>\r\n        <path d=\"M 2419 4116 \r\nL 825 1625 \r\nL 2419 1625 \r\nL 2419 4116 \r\nz\r\nM 2253 4666 \r\nL 3047 4666 \r\nL 3047 1625 \r\nL 3713 1625 \r\nL 3713 1100 \r\nL 3047 1100 \r\nL 3047 0 \r\nL 2419 0 \r\nL 2419 1100 \r\nL 313 1100 \r\nL 313 1709 \r\nL 2253 4666 \r\nz\r\n\" id=\"DejaVuSans-34\" transform=\"scale(0.015625)\"/>\r\n       </defs>\r\n       <use xlink:href=\"#DejaVuSans-32\"/>\r\n       <use x=\"63.623047\" xlink:href=\"#DejaVuSans-30\"/>\r\n       <use x=\"127.246094\" xlink:href=\"#DejaVuSans-31\"/>\r\n       <use x=\"190.869141\" xlink:href=\"#DejaVuSans-34\"/>\r\n      </g>\r\n     </g>\r\n    </g>\r\n    <g id=\"xtick_2\">\r\n     <g id=\"line2d_2\">\r\n      <g>\r\n       <use style=\"stroke:#000000;stroke-width:0.8;\" x=\"94.311825\" xlink:href=\"#m7d1a2eb822\" y=\"224.64\"/>\r\n      </g>\r\n     </g>\r\n     <g id=\"text_2\">\r\n      <!-- 2015 -->\r\n      <g transform=\"translate(81.586825 239.238438)scale(0.1 -0.1)\">\r\n       <defs>\r\n        <path d=\"M 691 4666 \r\nL 3169 4666 \r\nL 3169 4134 \r\nL 1269 4134 \r\nL 1269 2991 \r\nQ 1406 3038 1543 3061 \r\nQ 1681 3084 1819 3084 \r\nQ 2600 3084 3056 2656 \r\nQ 3513 2228 3513 1497 \r\nQ 3513 744 3044 326 \r\nQ 2575 -91 1722 -91 \r\nQ 1428 -91 1123 -41 \r\nQ 819 9 494 109 \r\nL 494 744 \r\nQ 775 591 1075 516 \r\nQ 1375 441 1709 441 \r\nQ 2250 441 2565 725 \r\nQ 2881 1009 2881 1497 \r\nQ 2881 1984 2565 2268 \r\nQ 2250 2553 1709 2553 \r\nQ 1456 2553 1204 2497 \r\nQ 953 2441 691 2322 \r\nL 691 4666 \r\nz\r\n\" id=\"DejaVuSans-35\" transform=\"scale(0.015625)\"/>\r\n       </defs>\r\n       <use xlink:href=\"#DejaVuSans-32\"/>\r\n       <use x=\"63.623047\" xlink:href=\"#DejaVuSans-30\"/>\r\n       <use x=\"127.246094\" xlink:href=\"#DejaVuSans-31\"/>\r\n       <use x=\"190.869141\" xlink:href=\"#DejaVuSans-35\"/>\r\n      </g>\r\n     </g>\r\n    </g>\r\n    <g id=\"xtick_3\">\r\n     <g id=\"line2d_3\">\r\n      <g>\r\n       <use style=\"stroke:#000000;stroke-width:0.8;\" x=\"137.287735\" xlink:href=\"#m7d1a2eb822\" y=\"224.64\"/>\r\n      </g>\r\n     </g>\r\n     <g id=\"text_3\">\r\n      <!-- 2016 -->\r\n      <g transform=\"translate(124.562735 239.238438)scale(0.1 -0.1)\">\r\n       <defs>\r\n        <path d=\"M 2113 2584 \r\nQ 1688 2584 1439 2293 \r\nQ 1191 2003 1191 1497 \r\nQ 1191 994 1439 701 \r\nQ 1688 409 2113 409 \r\nQ 2538 409 2786 701 \r\nQ 3034 994 3034 1497 \r\nQ 3034 2003 2786 2293 \r\nQ 2538 2584 2113 2584 \r\nz\r\nM 3366 4563 \r\nL 3366 3988 \r\nQ 3128 4100 2886 4159 \r\nQ 2644 4219 2406 4219 \r\nQ 1781 4219 1451 3797 \r\nQ 1122 3375 1075 2522 \r\nQ 1259 2794 1537 2939 \r\nQ 1816 3084 2150 3084 \r\nQ 2853 3084 3261 2657 \r\nQ 3669 2231 3669 1497 \r\nQ 3669 778 3244 343 \r\nQ 2819 -91 2113 -91 \r\nQ 1303 -91 875 529 \r\nQ 447 1150 447 2328 \r\nQ 447 3434 972 4092 \r\nQ 1497 4750 2381 4750 \r\nQ 2619 4750 2861 4703 \r\nQ 3103 4656 3366 4563 \r\nz\r\n\" id=\"DejaVuSans-36\" transform=\"scale(0.015625)\"/>\r\n       </defs>\r\n       <use xlink:href=\"#DejaVuSans-32\"/>\r\n       <use x=\"63.623047\" xlink:href=\"#DejaVuSans-30\"/>\r\n       <use x=\"127.246094\" xlink:href=\"#DejaVuSans-31\"/>\r\n       <use x=\"190.869141\" xlink:href=\"#DejaVuSans-36\"/>\r\n      </g>\r\n     </g>\r\n    </g>\r\n    <g id=\"xtick_4\">\r\n     <g id=\"line2d_4\">\r\n      <g>\r\n       <use style=\"stroke:#000000;stroke-width:0.8;\" x=\"180.381387\" xlink:href=\"#m7d1a2eb822\" y=\"224.64\"/>\r\n      </g>\r\n     </g>\r\n     <g id=\"text_4\">\r\n      <!-- 2017 -->\r\n      <g transform=\"translate(167.656387 239.238438)scale(0.1 -0.1)\">\r\n       <defs>\r\n        <path d=\"M 525 4666 \r\nL 3525 4666 \r\nL 3525 4397 \r\nL 1831 0 \r\nL 1172 0 \r\nL 2766 4134 \r\nL 525 4134 \r\nL 525 4666 \r\nz\r\n\" id=\"DejaVuSans-37\" transform=\"scale(0.015625)\"/>\r\n       </defs>\r\n       <use xlink:href=\"#DejaVuSans-32\"/>\r\n       <use x=\"63.623047\" xlink:href=\"#DejaVuSans-30\"/>\r\n       <use x=\"127.246094\" xlink:href=\"#DejaVuSans-31\"/>\r\n       <use x=\"190.869141\" xlink:href=\"#DejaVuSans-37\"/>\r\n      </g>\r\n     </g>\r\n    </g>\r\n    <g id=\"xtick_5\">\r\n     <g id=\"line2d_5\">\r\n      <g>\r\n       <use style=\"stroke:#000000;stroke-width:0.8;\" x=\"223.357297\" xlink:href=\"#m7d1a2eb822\" y=\"224.64\"/>\r\n      </g>\r\n     </g>\r\n     <g id=\"text_5\">\r\n      <!-- 2018 -->\r\n      <g transform=\"translate(210.632297 239.238438)scale(0.1 -0.1)\">\r\n       <defs>\r\n        <path d=\"M 2034 2216 \r\nQ 1584 2216 1326 1975 \r\nQ 1069 1734 1069 1313 \r\nQ 1069 891 1326 650 \r\nQ 1584 409 2034 409 \r\nQ 2484 409 2743 651 \r\nQ 3003 894 3003 1313 \r\nQ 3003 1734 2745 1975 \r\nQ 2488 2216 2034 2216 \r\nz\r\nM 1403 2484 \r\nQ 997 2584 770 2862 \r\nQ 544 3141 544 3541 \r\nQ 544 4100 942 4425 \r\nQ 1341 4750 2034 4750 \r\nQ 2731 4750 3128 4425 \r\nQ 3525 4100 3525 3541 \r\nQ 3525 3141 3298 2862 \r\nQ 3072 2584 2669 2484 \r\nQ 3125 2378 3379 2068 \r\nQ 3634 1759 3634 1313 \r\nQ 3634 634 3220 271 \r\nQ 2806 -91 2034 -91 \r\nQ 1263 -91 848 271 \r\nQ 434 634 434 1313 \r\nQ 434 1759 690 2068 \r\nQ 947 2378 1403 2484 \r\nz\r\nM 1172 3481 \r\nQ 1172 3119 1398 2916 \r\nQ 1625 2713 2034 2713 \r\nQ 2441 2713 2670 2916 \r\nQ 2900 3119 2900 3481 \r\nQ 2900 3844 2670 4047 \r\nQ 2441 4250 2034 4250 \r\nQ 1625 4250 1398 4047 \r\nQ 1172 3844 1172 3481 \r\nz\r\n\" id=\"DejaVuSans-38\" transform=\"scale(0.015625)\"/>\r\n       </defs>\r\n       <use xlink:href=\"#DejaVuSans-32\"/>\r\n       <use x=\"63.623047\" xlink:href=\"#DejaVuSans-30\"/>\r\n       <use x=\"127.246094\" xlink:href=\"#DejaVuSans-31\"/>\r\n       <use x=\"190.869141\" xlink:href=\"#DejaVuSans-38\"/>\r\n      </g>\r\n     </g>\r\n    </g>\r\n    <g id=\"xtick_6\">\r\n     <g id=\"line2d_6\">\r\n      <g>\r\n       <use style=\"stroke:#000000;stroke-width:0.8;\" x=\"266.333207\" xlink:href=\"#m7d1a2eb822\" y=\"224.64\"/>\r\n      </g>\r\n     </g>\r\n     <g id=\"text_6\">\r\n      <!-- 2019 -->\r\n      <g transform=\"translate(253.608207 239.238438)scale(0.1 -0.1)\">\r\n       <defs>\r\n        <path d=\"M 703 97 \r\nL 703 672 \r\nQ 941 559 1184 500 \r\nQ 1428 441 1663 441 \r\nQ 2288 441 2617 861 \r\nQ 2947 1281 2994 2138 \r\nQ 2813 1869 2534 1725 \r\nQ 2256 1581 1919 1581 \r\nQ 1219 1581 811 2004 \r\nQ 403 2428 403 3163 \r\nQ 403 3881 828 4315 \r\nQ 1253 4750 1959 4750 \r\nQ 2769 4750 3195 4129 \r\nQ 3622 3509 3622 2328 \r\nQ 3622 1225 3098 567 \r\nQ 2575 -91 1691 -91 \r\nQ 1453 -91 1209 -44 \r\nQ 966 3 703 97 \r\nz\r\nM 1959 2075 \r\nQ 2384 2075 2632 2365 \r\nQ 2881 2656 2881 3163 \r\nQ 2881 3666 2632 3958 \r\nQ 2384 4250 1959 4250 \r\nQ 1534 4250 1286 3958 \r\nQ 1038 3666 1038 3163 \r\nQ 1038 2656 1286 2365 \r\nQ 1534 2075 1959 2075 \r\nz\r\n\" id=\"DejaVuSans-39\" transform=\"scale(0.015625)\"/>\r\n       </defs>\r\n       <use xlink:href=\"#DejaVuSans-32\"/>\r\n       <use x=\"63.623047\" xlink:href=\"#DejaVuSans-30\"/>\r\n       <use x=\"127.246094\" xlink:href=\"#DejaVuSans-31\"/>\r\n       <use x=\"190.869141\" xlink:href=\"#DejaVuSans-39\"/>\r\n      </g>\r\n     </g>\r\n    </g>\r\n    <g id=\"xtick_7\">\r\n     <g id=\"line2d_7\">\r\n      <g>\r\n       <use style=\"stroke:#000000;stroke-width:0.8;\" x=\"309.309117\" xlink:href=\"#m7d1a2eb822\" y=\"224.64\"/>\r\n      </g>\r\n     </g>\r\n     <g id=\"text_7\">\r\n      <!-- 2020 -->\r\n      <g transform=\"translate(296.584117 239.238438)scale(0.1 -0.1)\">\r\n       <use xlink:href=\"#DejaVuSans-32\"/>\r\n       <use x=\"63.623047\" xlink:href=\"#DejaVuSans-30\"/>\r\n       <use x=\"127.246094\" xlink:href=\"#DejaVuSans-32\"/>\r\n       <use x=\"190.869141\" xlink:href=\"#DejaVuSans-30\"/>\r\n      </g>\r\n     </g>\r\n    </g>\r\n    <g id=\"xtick_8\">\r\n     <g id=\"line2d_8\">\r\n      <g>\r\n       <use style=\"stroke:#000000;stroke-width:0.8;\" x=\"352.402769\" xlink:href=\"#m7d1a2eb822\" y=\"224.64\"/>\r\n      </g>\r\n     </g>\r\n     <g id=\"text_8\">\r\n      <!-- 2021 -->\r\n      <g transform=\"translate(339.677769 239.238438)scale(0.1 -0.1)\">\r\n       <use xlink:href=\"#DejaVuSans-32\"/>\r\n       <use x=\"63.623047\" xlink:href=\"#DejaVuSans-30\"/>\r\n       <use x=\"127.246094\" xlink:href=\"#DejaVuSans-32\"/>\r\n       <use x=\"190.869141\" xlink:href=\"#DejaVuSans-31\"/>\r\n      </g>\r\n     </g>\r\n    </g>\r\n   </g>\r\n   <g id=\"matplotlib.axis_2\">\r\n    <g id=\"ytick_1\">\r\n     <g id=\"line2d_9\">\r\n      <defs>\r\n       <path d=\"M 0 0 \r\nL -3.5 0 \r\n\" id=\"m62b303285d\" style=\"stroke:#000000;stroke-width:0.8;\"/>\r\n      </defs>\r\n      <g>\r\n       <use style=\"stroke:#000000;stroke-width:0.8;\" x=\"39.65\" xlink:href=\"#m62b303285d\" y=\"181.959647\"/>\r\n      </g>\r\n     </g>\r\n     <g id=\"text_9\">\r\n      <!-- 1000 -->\r\n      <g transform=\"translate(7.2 185.758866)scale(0.1 -0.1)\">\r\n       <use xlink:href=\"#DejaVuSans-31\"/>\r\n       <use x=\"63.623047\" xlink:href=\"#DejaVuSans-30\"/>\r\n       <use x=\"127.246094\" xlink:href=\"#DejaVuSans-30\"/>\r\n       <use x=\"190.869141\" xlink:href=\"#DejaVuSans-30\"/>\r\n      </g>\r\n     </g>\r\n    </g>\r\n    <g id=\"ytick_2\">\r\n     <g id=\"line2d_10\">\r\n      <g>\r\n       <use style=\"stroke:#000000;stroke-width:0.8;\" x=\"39.65\" xlink:href=\"#m62b303285d\" y=\"137.338264\"/>\r\n      </g>\r\n     </g>\r\n     <g id=\"text_10\">\r\n      <!-- 1200 -->\r\n      <g transform=\"translate(7.2 141.137483)scale(0.1 -0.1)\">\r\n       <use xlink:href=\"#DejaVuSans-31\"/>\r\n       <use x=\"63.623047\" xlink:href=\"#DejaVuSans-32\"/>\r\n       <use x=\"127.246094\" xlink:href=\"#DejaVuSans-30\"/>\r\n       <use x=\"190.869141\" xlink:href=\"#DejaVuSans-30\"/>\r\n      </g>\r\n     </g>\r\n    </g>\r\n    <g id=\"ytick_3\">\r\n     <g id=\"line2d_11\">\r\n      <g>\r\n       <use style=\"stroke:#000000;stroke-width:0.8;\" x=\"39.65\" xlink:href=\"#m62b303285d\" y=\"92.716881\"/>\r\n      </g>\r\n     </g>\r\n     <g id=\"text_11\">\r\n      <!-- 1400 -->\r\n      <g transform=\"translate(7.2 96.5161)scale(0.1 -0.1)\">\r\n       <use xlink:href=\"#DejaVuSans-31\"/>\r\n       <use x=\"63.623047\" xlink:href=\"#DejaVuSans-34\"/>\r\n       <use x=\"127.246094\" xlink:href=\"#DejaVuSans-30\"/>\r\n       <use x=\"190.869141\" xlink:href=\"#DejaVuSans-30\"/>\r\n      </g>\r\n     </g>\r\n    </g>\r\n    <g id=\"ytick_4\">\r\n     <g id=\"line2d_12\">\r\n      <g>\r\n       <use style=\"stroke:#000000;stroke-width:0.8;\" x=\"39.65\" xlink:href=\"#m62b303285d\" y=\"48.095498\"/>\r\n      </g>\r\n     </g>\r\n     <g id=\"text_12\">\r\n      <!-- 1600 -->\r\n      <g transform=\"translate(7.2 51.894716)scale(0.1 -0.1)\">\r\n       <use xlink:href=\"#DejaVuSans-31\"/>\r\n       <use x=\"63.623047\" xlink:href=\"#DejaVuSans-36\"/>\r\n       <use x=\"127.246094\" xlink:href=\"#DejaVuSans-30\"/>\r\n       <use x=\"190.869141\" xlink:href=\"#DejaVuSans-30\"/>\r\n      </g>\r\n     </g>\r\n    </g>\r\n   </g>\r\n   <g id=\"patch_3\">\r\n    <path d=\"M 39.65 224.64 \r\nL 39.65 7.2 \r\n\" style=\"fill:none;stroke:#000000;stroke-linecap:square;stroke-linejoin:miter;stroke-width:0.8;\"/>\r\n   </g>\r\n   <g id=\"patch_4\">\r\n    <path d=\"M 374.45 224.64 \r\nL 374.45 7.2 \r\n\" style=\"fill:none;stroke:#000000;stroke-linecap:square;stroke-linejoin:miter;stroke-width:0.8;\"/>\r\n   </g>\r\n   <g id=\"patch_5\">\r\n    <path d=\"M 39.65 224.64 \r\nL 374.45 224.64 \r\n\" style=\"fill:none;stroke:#000000;stroke-linecap:square;stroke-linejoin:miter;stroke-width:0.8;\"/>\r\n   </g>\r\n   <g id=\"patch_6\">\r\n    <path d=\"M 39.65 7.2 \r\nL 374.45 7.2 \r\n\" style=\"fill:none;stroke:#000000;stroke-linecap:square;stroke-linejoin:miter;stroke-width:0.8;\"/>\r\n   </g>\r\n  </g>\r\n </g>\r\n <defs>\r\n  <clipPath id=\"p8dbddab044\">\r\n   <rect height=\"217.44\" width=\"334.8\" x=\"39.65\" y=\"7.2\"/>\r\n  </clipPath>\r\n </defs>\r\n</svg>\r\n",
      "image/png": "[encoded data removed]"
     },
     "metadata": {
      "needs_background": "light"
     }
    }
   ],
   "source": [
    "# This shows the change but it's a little muddy\n",
    "x = rent_data[rent_data['city'] == \"Worcester\"]['date']\n",
    "y = rent_data[rent_data['city'] == \"Worcester\"]['value']\n",
    "\n",
    "plt.scatter(x, y);"
   ]
  },
  {
   "cell_type": "code",
   "execution_count": 208,
   "metadata": {},
   "outputs": [],
   "source": [
    "# Box plots to show change over time\n",
    "\n",
    "for city in rent_data['city'].unique():\n",
    "    x = rent_data[rent_data['city'] == city]['date'].dt.year\n",
    "    y = rent_data[rent_data['city'] == city]['value']\n",
    "\n",
    "    sns.boxplot(x=x, y=y, data=rent_data)\n",
    "    plt.title(city)\n",
    "    plt.xlabel(\"Change Over Years\")\n",
    "    plt.ylabel(\"Price Range\")\n",
    "    plt.show()"
   ]
  },
  {
   "cell_type": "code",
   "execution_count": null,
   "metadata": {},
   "outputs": [],
   "source": []
  },
  {
   "source": [
    "# QUANDL API for the same data to maintain in real time"
   ],
   "cell_type": "markdown",
   "metadata": {}
  },
  {
   "cell_type": "code",
   "execution_count": 219,
   "metadata": {},
   "outputs": [
    {
     "output_type": "stream",
     "name": "stderr",
     "text": [
      "C:\\Users\\Rob\\.virtualenvs\\labspt15-cityspire-g-ds-E6DoiE-G\\lib\\site-packages\\quandl\\get_table.py:38: UserWarning: To request more pages, please set paginate=True in your         quandl.get_table() call. For more information see our documentation:         https://github.com/quandl/quandl-python/blob/master/FOR_ANALYSTS.md#things-to-note\n  warnings.warn(Message.WARN_PAGE_LIMIT_EXCEEDED, UserWarning)\n"
     ]
    },
    {
     "output_type": "execute_result",
     "data": {
      "text/plain": [
       "     indicator_id region_id       date   value\n",
       "None                                          \n",
       "0            RSSA     99965 2021-02-28  1886.0\n",
       "1            RSSA     99965 2021-01-31  1892.0\n",
       "2            RSSA     99965 2020-12-31  1898.0\n",
       "3            RSSA     99965 2020-11-30  1789.0\n",
       "4            RSSA     99965 2020-08-31  1742.0"
      ],
      "text/html": "<div>\n<style scoped>\n    .dataframe tbody tr th:only-of-type {\n        vertical-align: middle;\n    }\n\n    .dataframe tbody tr th {\n        vertical-align: top;\n    }\n\n    .dataframe thead th {\n        text-align: right;\n    }\n</style>\n<table border=\"1\" class=\"dataframe\">\n  <thead>\n    <tr style=\"text-align: right;\">\n      <th></th>\n      <th>indicator_id</th>\n      <th>region_id</th>\n      <th>date</th>\n      <th>value</th>\n    </tr>\n    <tr>\n      <th>None</th>\n      <th></th>\n      <th></th>\n      <th></th>\n      <th></th>\n    </tr>\n  </thead>\n  <tbody>\n    <tr>\n      <th>0</th>\n      <td>RSSA</td>\n      <td>99965</td>\n      <td>2021-02-28</td>\n      <td>1886.0</td>\n    </tr>\n    <tr>\n      <th>1</th>\n      <td>RSSA</td>\n      <td>99965</td>\n      <td>2021-01-31</td>\n      <td>1892.0</td>\n    </tr>\n    <tr>\n      <th>2</th>\n      <td>RSSA</td>\n      <td>99965</td>\n      <td>2020-12-31</td>\n      <td>1898.0</td>\n    </tr>\n    <tr>\n      <th>3</th>\n      <td>RSSA</td>\n      <td>99965</td>\n      <td>2020-11-30</td>\n      <td>1789.0</td>\n    </tr>\n    <tr>\n      <th>4</th>\n      <td>RSSA</td>\n      <td>99965</td>\n      <td>2020-08-31</td>\n      <td>1742.0</td>\n    </tr>\n  </tbody>\n</table>\n</div>"
     },
     "metadata": {},
     "execution_count": 219
    }
   ],
   "source": [
    "quandl.ApiConfig.api_key = 'rfzykh-NDsw72dmc4Ms4'\n",
    "data = quandl.get_table('ZILLOW/DATA', indicator_id=['RSSA', 'RSNA'])\n",
    "data.head()"
   ]
  },
  {
   "cell_type": "code",
   "execution_count": null,
   "metadata": {},
   "outputs": [],
   "source": []
  }
 ]
}