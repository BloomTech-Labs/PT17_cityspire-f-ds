{
 "metadata": {
  "language_info": {
   "codemirror_mode": {
    "name": "ipython",
    "version": 3
   },
   "file_extension": ".py",
   "mimetype": "text/x-python",
   "name": "python",
   "nbconvert_exporter": "python",
   "pygments_lexer": "ipython3",
   "version": "3.9.1-final"
  },
  "orig_nbformat": 2,
  "kernelspec": {
   "name": "cityspire",
   "display_name": "Python (cityspire 15)",
   "language": "python"
  }
 },
 "nbformat": 4,
 "nbformat_minor": 2,
 "cells": [
  {
   "source": [
    "# Zillow Data via Quandl"
   ],
   "cell_type": "markdown",
   "metadata": {}
  },
  {
   "cell_type": "code",
   "execution_count": 49,
   "metadata": {},
   "outputs": [],
   "source": [
    "import os\n",
    "import sys\n",
    "import quandl\n",
    "import pandas as pd\n",
    "import numpy as np\n",
    "import matplotlib.pyplot as plt\n",
    "\n",
    "# sys.path.append('C:Users/Rob/repos/labspt15-cityspire-g-ds')\n",
    "# sys.path\n",
    "\n",
    "# path = r'C:\\Users\\Rob\\repos\\\\'\n",
    "# path == r'V:\\\\'"
   ]
  },
  {
   "cell_type": "code",
   "execution_count": 50,
   "metadata": {},
   "outputs": [],
   "source": [
    "# quandl.ApiConfig.api_key = 'rfzykh-NDsw72dmc4Ms4'"
   ]
  },
  {
   "cell_type": "code",
   "execution_count": 51,
   "metadata": {},
   "outputs": [],
   "source": [
    "# data = quandl.get_table('MER/F1', compnumber=\"39102\", paginate=True)"
   ]
  },
  {
   "cell_type": "code",
   "execution_count": 52,
   "metadata": {},
   "outputs": [],
   "source": [
    "# quandl.ApiConfig.api_key = 'rfzykh-NDsw72dmc4Ms4'\n",
    "# quandl.get_table('ZILLOW/DATA', indicator_id='ZSFH', region_id='99999')"
   ]
  },
  {
   "source": [
    "## Data"
   ],
   "cell_type": "markdown",
   "metadata": {}
  },
  {
   "cell_type": "code",
   "execution_count": 53,
   "metadata": {},
   "outputs": [
    {
     "output_type": "execute_result",
     "data": {
      "text/plain": [
       "  indicator_id  region_id        date     value\n",
       "0         ZATT       3101  1998-01-31  338849.0\n",
       "1         ZATT       3101  1998-02-28  342993.0\n",
       "2         ZATT       3101  1998-03-31  346763.0\n",
       "3         ZATT       3101  1998-04-30  349356.0\n",
       "4         ZATT       3101  1998-05-31  351981.0"
      ],
      "text/html": "<div>\n<style scoped>\n    .dataframe tbody tr th:only-of-type {\n        vertical-align: middle;\n    }\n\n    .dataframe tbody tr th {\n        vertical-align: top;\n    }\n\n    .dataframe thead th {\n        text-align: right;\n    }\n</style>\n<table border=\"1\" class=\"dataframe\">\n  <thead>\n    <tr style=\"text-align: right;\">\n      <th></th>\n      <th>indicator_id</th>\n      <th>region_id</th>\n      <th>date</th>\n      <th>value</th>\n    </tr>\n  </thead>\n  <tbody>\n    <tr>\n      <th>0</th>\n      <td>ZATT</td>\n      <td>3101</td>\n      <td>1998-01-31</td>\n      <td>338849.0</td>\n    </tr>\n    <tr>\n      <th>1</th>\n      <td>ZATT</td>\n      <td>3101</td>\n      <td>1998-02-28</td>\n      <td>342993.0</td>\n    </tr>\n    <tr>\n      <th>2</th>\n      <td>ZATT</td>\n      <td>3101</td>\n      <td>1998-03-31</td>\n      <td>346763.0</td>\n    </tr>\n    <tr>\n      <th>3</th>\n      <td>ZATT</td>\n      <td>3101</td>\n      <td>1998-04-30</td>\n      <td>349356.0</td>\n    </tr>\n    <tr>\n      <th>4</th>\n      <td>ZATT</td>\n      <td>3101</td>\n      <td>1998-05-31</td>\n      <td>351981.0</td>\n    </tr>\n  </tbody>\n</table>\n</div>"
     },
     "metadata": {},
     "execution_count": 53
    }
   ],
   "source": [
    "data = pd.read_csv(\"V:\\ZILLOW_DATA.csv\")\n",
    "data.head()"
   ]
  },
  {
   "cell_type": "code",
   "execution_count": 54,
   "metadata": {},
   "outputs": [
    {
     "output_type": "execute_result",
     "data": {
      "text/plain": [
       "125528409"
      ]
     },
     "metadata": {},
     "execution_count": 54
    }
   ],
   "source": [
    "len(data) #125.5 million lines!!"
   ]
  },
  {
   "cell_type": "code",
   "execution_count": 55,
   "metadata": {},
   "outputs": [
    {
     "output_type": "execute_result",
     "data": {
      "text/plain": [
       "array(['ZATT', 'ZSFH', 'ZALL', 'ZCON', 'ZABT', 'Z5BR', 'Z2BR', 'Z3BR',\n",
       "       'Z1BR', 'Z4BR', 'ISAW', 'SSAW', 'IRAM', 'CRSM', 'CSSM', 'MSAM',\n",
       "       'IRAW', 'MRAM', 'SSSW', 'LSSM', 'CSAW', 'ISSM', 'SASW', 'MRAW',\n",
       "       'LRAM', 'ISSW', 'MSAW', 'LSAM', 'CRAM', 'ISAM', 'IRSM', 'SRSW',\n",
       "       'LSAW', 'NRAW', 'NSAW', 'CRSW', 'SSAM', 'IRSW', 'NRAM', 'CRAW',\n",
       "       'LRSM', 'SASM', 'SSSM', 'SAAM', 'LRAW', 'CSAM', 'SRAW', 'CSSW',\n",
       "       'LRSW', 'SRSM', 'SAAW', 'LSSW', 'SRAM', 'NSAM', 'RSNA', 'RSSA'],\n",
       "      dtype=object)"
      ]
     },
     "metadata": {},
     "execution_count": 55
    }
   ],
   "source": [
    "data['indicator_id'].unique()"
   ]
  },
  {
   "cell_type": "code",
   "execution_count": 62,
   "metadata": {},
   "outputs": [],
   "source": [
    "rental_data = data[data['indicator_id'].isin(['RSSA', 'RSNA'])]"
   ]
  },
  {
   "cell_type": "code",
   "execution_count": 63,
   "metadata": {},
   "outputs": [
    {
     "output_type": "stream",
     "name": "stdout",
     "text": [
      "535891\n(535891, 4)\n"
     ]
    },
    {
     "output_type": "execute_result",
     "data": {
      "text/plain": [
       "        indicator_id  region_id        date   value\n",
       "1586389         RSNA     102001  2020-06-30  1777.0\n",
       "1586392         RSNA     394913  2020-06-30  2811.0\n",
       "1586396         RSNA     753899  2020-06-30  2625.0\n",
       "1586400         RSNA     394463  2020-06-30  1804.0\n",
       "1586403         RSNA     394514  2020-06-30  1611.0"
      ],
      "text/html": "<div>\n<style scoped>\n    .dataframe tbody tr th:only-of-type {\n        vertical-align: middle;\n    }\n\n    .dataframe tbody tr th {\n        vertical-align: top;\n    }\n\n    .dataframe thead th {\n        text-align: right;\n    }\n</style>\n<table border=\"1\" class=\"dataframe\">\n  <thead>\n    <tr style=\"text-align: right;\">\n      <th></th>\n      <th>indicator_id</th>\n      <th>region_id</th>\n      <th>date</th>\n      <th>value</th>\n    </tr>\n  </thead>\n  <tbody>\n    <tr>\n      <th>1586389</th>\n      <td>RSNA</td>\n      <td>102001</td>\n      <td>2020-06-30</td>\n      <td>1777.0</td>\n    </tr>\n    <tr>\n      <th>1586392</th>\n      <td>RSNA</td>\n      <td>394913</td>\n      <td>2020-06-30</td>\n      <td>2811.0</td>\n    </tr>\n    <tr>\n      <th>1586396</th>\n      <td>RSNA</td>\n      <td>753899</td>\n      <td>2020-06-30</td>\n      <td>2625.0</td>\n    </tr>\n    <tr>\n      <th>1586400</th>\n      <td>RSNA</td>\n      <td>394463</td>\n      <td>2020-06-30</td>\n      <td>1804.0</td>\n    </tr>\n    <tr>\n      <th>1586403</th>\n      <td>RSNA</td>\n      <td>394514</td>\n      <td>2020-06-30</td>\n      <td>1611.0</td>\n    </tr>\n  </tbody>\n</table>\n</div>"
     },
     "metadata": {},
     "execution_count": 63
    }
   ],
   "source": [
    "print(len(rental_data))\n",
    "print(rental_data.shape)\n",
    "rental_data.head()"
   ]
  },
  {
   "cell_type": "code",
   "execution_count": null,
   "metadata": {},
   "outputs": [],
   "source": []
  },
  {
   "source": [
    "## Indicators"
   ],
   "cell_type": "markdown",
   "metadata": {}
  },
  {
   "cell_type": "code",
   "execution_count": 56,
   "metadata": {},
   "outputs": [
    {
     "output_type": "execute_result",
     "data": {
      "text/plain": [
       "  indicator_id                                          indicator     category\n",
       "0         ZATT           ZHVI All Homes- Top Tier Time Series ($)  Home values\n",
       "1         ZSFH           ZHVI Single-Family Homes Time Series ($)  Home values\n",
       "2         ZALL  ZHVI All Homes (SFR, Condo/Co-op) Time Series ($)  Home values\n",
       "3         ZCON                   ZHVI Condo/Co-op Time Series ($)  Home values\n",
       "4         ZABT        ZHVI All Homes- Bottom Tier Time Series ($)  Home values"
      ],
      "text/html": "<div>\n<style scoped>\n    .dataframe tbody tr th:only-of-type {\n        vertical-align: middle;\n    }\n\n    .dataframe tbody tr th {\n        vertical-align: top;\n    }\n\n    .dataframe thead th {\n        text-align: right;\n    }\n</style>\n<table border=\"1\" class=\"dataframe\">\n  <thead>\n    <tr style=\"text-align: right;\">\n      <th></th>\n      <th>indicator_id</th>\n      <th>indicator</th>\n      <th>category</th>\n    </tr>\n  </thead>\n  <tbody>\n    <tr>\n      <th>0</th>\n      <td>ZATT</td>\n      <td>ZHVI All Homes- Top Tier Time Series ($)</td>\n      <td>Home values</td>\n    </tr>\n    <tr>\n      <th>1</th>\n      <td>ZSFH</td>\n      <td>ZHVI Single-Family Homes Time Series ($)</td>\n      <td>Home values</td>\n    </tr>\n    <tr>\n      <th>2</th>\n      <td>ZALL</td>\n      <td>ZHVI All Homes (SFR, Condo/Co-op) Time Series ($)</td>\n      <td>Home values</td>\n    </tr>\n    <tr>\n      <th>3</th>\n      <td>ZCON</td>\n      <td>ZHVI Condo/Co-op Time Series ($)</td>\n      <td>Home values</td>\n    </tr>\n    <tr>\n      <th>4</th>\n      <td>ZABT</td>\n      <td>ZHVI All Homes- Bottom Tier Time Series ($)</td>\n      <td>Home values</td>\n    </tr>\n  </tbody>\n</table>\n</div>"
     },
     "metadata": {},
     "execution_count": 56
    }
   ],
   "source": [
    "indicators = pd.read_csv('V:\\ZILLOW_INDICATORS.csv')\n",
    "indicators.head()"
   ]
  },
  {
   "cell_type": "code",
   "execution_count": 57,
   "metadata": {},
   "outputs": [
    {
     "output_type": "execute_result",
     "data": {
      "text/plain": [
       "array(['ZATT', 'ZSFH', 'ZALL', 'ZCON', 'ZABT', 'Z5BR', 'Z2BR', 'Z3BR',\n",
       "       'Z1BR', 'LSAW', 'NRAW', 'NSAW', 'CRSW', 'SSAM', 'IRSW', 'NRAM',\n",
       "       'CRAW', 'LRSM', 'SASM', 'SSSM', 'SAAM', 'LRAW', 'CSAM', 'SRAW',\n",
       "       'CSSW', 'LRSW', 'SRSM', 'SAAW', 'LSSW', 'SRAM', 'NSAM', 'RSNA',\n",
       "       'RSSA', 'Z4BR', 'ISAW', 'SSAW', 'IRAM', 'CRSM', 'CSSM', 'MSAM',\n",
       "       'IRAW', 'MRAM', 'SSSW', 'LSSM', 'CSAW', 'ISSM', 'SASW', 'MRAW',\n",
       "       'LRAM', 'ISSW', 'MSAW', 'LSAM', 'CRAM', 'ISAM', 'IRSM', 'SRSW'],\n",
       "      dtype=object)"
      ]
     },
     "metadata": {},
     "execution_count": 57
    }
   ],
   "source": [
    "indicators['indicator_id'].unique()"
   ]
  },
  {
   "cell_type": "code",
   "execution_count": 58,
   "metadata": {},
   "outputs": [
    {
     "output_type": "execute_result",
     "data": {
      "text/plain": [
       "   indicator_id                                          indicator  \\\n",
       "0          ZATT           ZHVI All Homes- Top Tier Time Series ($)   \n",
       "1          ZSFH           ZHVI Single-Family Homes Time Series ($)   \n",
       "2          ZALL  ZHVI All Homes (SFR, Condo/Co-op) Time Series ($)   \n",
       "3          ZCON                   ZHVI Condo/Co-op Time Series ($)   \n",
       "4          ZABT        ZHVI All Homes- Bottom Tier Time Series ($)   \n",
       "5          Z5BR                    ZHVI 5+ Bedroom Time Series ($)   \n",
       "6          Z2BR                     ZHVI 2-Bedroom Time Series ($)   \n",
       "7          Z3BR                     ZHVI 3-Bedroom Time Series ($)   \n",
       "8          Z1BR                     ZHVI 1-Bedroom Time Series ($)   \n",
       "9          LSAW  Median List Price (Smooth, All Homes, Weekly V...   \n",
       "10         NRAW  Median Days to Pending (Raw, All Homes, Weekly...   \n",
       "11         NSAW  Median Days to Pending (Smooth, All Homes, Wee...   \n",
       "12         CRSW  Share of Listings With a Price Cut (Raw, SFR O...   \n",
       "13         SSAM     Median Sale Price (Smooth, All Homes, Monthly)   \n",
       "14         IRSW    For-sale Inventory (Raw, SFR only, Weekly View)   \n",
       "15         NRAM   Median Days to Pending (Raw, All Homes, Monthly)   \n",
       "16         CRAW  Share of Listings With a Price Cut (Raw, All H...   \n",
       "17         LRSM         Median List Price (Raw, SFR Only, Monthly)   \n",
       "18         SASM  Median Sale Price (Smooth & Seasonally Adjuste...   \n",
       "19         SSSM      Median Sale Price (Smooth, SFR only, Monthly)   \n",
       "20         SAAM  Median Sale Price (Smooth & Seasonally Adjuste...   \n",
       "21         LRAW    Median List Price (Raw, All Homes, Weekly View)   \n",
       "22         CSAM  Share of Listings With a Price Cut (Smooth, Al...   \n",
       "23         SRAW    Median Sale Price (Raw, All Homes, Weekly View)   \n",
       "24         CSSW  Share of Listings With a Price Cut (Smooth, SF...   \n",
       "25         LRSW     Median List Price (Raw, SFR Only, Weekly View)   \n",
       "26         SRSM         Median Sale Price (Raw, SFR only, Monthly)   \n",
       "27         SAAW  Median Sale Price (Smooth & Seasonally Adjuste...   \n",
       "28         LSSW  Median List Price (Smooth, SFR Only, Weekly View)   \n",
       "29         SRAM        Median Sale Price (Raw, All Homes, Monthly)   \n",
       "30         NSAM  Median Days to Pending (Smooth, All Homes, Mon...   \n",
       "31         RSNA  ZORI (Smoothed): All Homes Plus Multifamily Ti...   \n",
       "32         RSSA  ZORI (Smoothed, Seasonally Adjusted): All Home...   \n",
       "33         Z4BR                     ZHVI 4-Bedroom Time Series ($)   \n",
       "34         ISAW  For-Sale Inventory (Smooth, All Homes, Weekly ...   \n",
       "35         SSAW  Median Sale Price (Smooth, All Homes, Weekly V...   \n",
       "36         IRAM       For-Sale Inventory (Raw, All Homes, Monthly)   \n",
       "37         CRSM  Share of Listings With a Price Cut (Raw, SFR O...   \n",
       "38         CSSM  Share of Listings With a Price Cut (Smooth, SF...   \n",
       "39         MSAM  Mean Days to Pending (Smooth, All Homes, Monthly)   \n",
       "40         IRAW   For-Sale Inventory (Raw, All Homes, Weekly View)   \n",
       "41         MRAM     Mean Days to Pending (Raw, All Homes, Monthly)   \n",
       "42         SSSW  Median Sale Price (Smooth, SFR only, Weekly View)   \n",
       "43         LSSM      Median List Price (Smooth, SFR Only, Monthly)   \n",
       "44         CSAW  Share of Listings With a Price Cut (Smooth, Al...   \n",
       "45         ISSM     For-Sale Inventory (Smooth, SFR only, Monthly)   \n",
       "46         SASW  Median Sale Price (Smooth & Seasonally Adjuste...   \n",
       "47         MRAW  Mean Days to Pending (Raw, All Homes, Weekly V...   \n",
       "48         LRAM        Median List Price (Raw, All Homes, Monthly)   \n",
       "49         ISSW  For-Sale Inventory (Smooth, SFR only, Weekly V...   \n",
       "50         MSAW  Mean Days to Pending (Smooth, All Homes, Weekl...   \n",
       "51         LSAM     Median List Price (Smooth, All Homes, Monthly)   \n",
       "52         CRAM  Share of Listings With a Price Cut (Raw, All H...   \n",
       "53         ISAM    For-Sale Inventory (Smooth, All Homes, Monthly)   \n",
       "54         IRSM        For-sale Inventory (Raw, SFR only, Monthly)   \n",
       "55         SRSW     Median Sale Price (Raw, SFR only, Weekly View)   \n",
       "\n",
       "               category  \n",
       "0           Home values  \n",
       "1           Home values  \n",
       "2           Home values  \n",
       "3           Home values  \n",
       "4           Home values  \n",
       "5           Home values  \n",
       "6           Home values  \n",
       "7           Home values  \n",
       "8           Home values  \n",
       "9   Inventory and sales  \n",
       "10  Inventory and sales  \n",
       "11  Inventory and sales  \n",
       "12  Inventory and sales  \n",
       "13  Inventory and sales  \n",
       "14  Inventory and sales  \n",
       "15  Inventory and sales  \n",
       "16  Inventory and sales  \n",
       "17  Inventory and sales  \n",
       "18  Inventory and sales  \n",
       "19  Inventory and sales  \n",
       "20  Inventory and sales  \n",
       "21  Inventory and sales  \n",
       "22  Inventory and sales  \n",
       "23  Inventory and sales  \n",
       "24  Inventory and sales  \n",
       "25  Inventory and sales  \n",
       "26  Inventory and sales  \n",
       "27  Inventory and sales  \n",
       "28  Inventory and sales  \n",
       "29  Inventory and sales  \n",
       "30  Inventory and sales  \n",
       "31              Rentals  \n",
       "32              Rentals  \n",
       "33          Home values  \n",
       "34  Inventory and sales  \n",
       "35  Inventory and sales  \n",
       "36  Inventory and sales  \n",
       "37  Inventory and sales  \n",
       "38  Inventory and sales  \n",
       "39  Inventory and sales  \n",
       "40  Inventory and sales  \n",
       "41  Inventory and sales  \n",
       "42  Inventory and sales  \n",
       "43  Inventory and sales  \n",
       "44  Inventory and sales  \n",
       "45  Inventory and sales  \n",
       "46  Inventory and sales  \n",
       "47  Inventory and sales  \n",
       "48  Inventory and sales  \n",
       "49  Inventory and sales  \n",
       "50  Inventory and sales  \n",
       "51  Inventory and sales  \n",
       "52  Inventory and sales  \n",
       "53  Inventory and sales  \n",
       "54  Inventory and sales  \n",
       "55  Inventory and sales  "
      ],
      "text/html": "<div>\n<style scoped>\n    .dataframe tbody tr th:only-of-type {\n        vertical-align: middle;\n    }\n\n    .dataframe tbody tr th {\n        vertical-align: top;\n    }\n\n    .dataframe thead th {\n        text-align: right;\n    }\n</style>\n<table border=\"1\" class=\"dataframe\">\n  <thead>\n    <tr style=\"text-align: right;\">\n      <th></th>\n      <th>indicator_id</th>\n      <th>indicator</th>\n      <th>category</th>\n    </tr>\n  </thead>\n  <tbody>\n    <tr>\n      <th>0</th>\n      <td>ZATT</td>\n      <td>ZHVI All Homes- Top Tier Time Series ($)</td>\n      <td>Home values</td>\n    </tr>\n    <tr>\n      <th>1</th>\n      <td>ZSFH</td>\n      <td>ZHVI Single-Family Homes Time Series ($)</td>\n      <td>Home values</td>\n    </tr>\n    <tr>\n      <th>2</th>\n      <td>ZALL</td>\n      <td>ZHVI All Homes (SFR, Condo/Co-op) Time Series ($)</td>\n      <td>Home values</td>\n    </tr>\n    <tr>\n      <th>3</th>\n      <td>ZCON</td>\n      <td>ZHVI Condo/Co-op Time Series ($)</td>\n      <td>Home values</td>\n    </tr>\n    <tr>\n      <th>4</th>\n      <td>ZABT</td>\n      <td>ZHVI All Homes- Bottom Tier Time Series ($)</td>\n      <td>Home values</td>\n    </tr>\n    <tr>\n      <th>5</th>\n      <td>Z5BR</td>\n      <td>ZHVI 5+ Bedroom Time Series ($)</td>\n      <td>Home values</td>\n    </tr>\n    <tr>\n      <th>6</th>\n      <td>Z2BR</td>\n      <td>ZHVI 2-Bedroom Time Series ($)</td>\n      <td>Home values</td>\n    </tr>\n    <tr>\n      <th>7</th>\n      <td>Z3BR</td>\n      <td>ZHVI 3-Bedroom Time Series ($)</td>\n      <td>Home values</td>\n    </tr>\n    <tr>\n      <th>8</th>\n      <td>Z1BR</td>\n      <td>ZHVI 1-Bedroom Time Series ($)</td>\n      <td>Home values</td>\n    </tr>\n    <tr>\n      <th>9</th>\n      <td>LSAW</td>\n      <td>Median List Price (Smooth, All Homes, Weekly V...</td>\n      <td>Inventory and sales</td>\n    </tr>\n    <tr>\n      <th>10</th>\n      <td>NRAW</td>\n      <td>Median Days to Pending (Raw, All Homes, Weekly...</td>\n      <td>Inventory and sales</td>\n    </tr>\n    <tr>\n      <th>11</th>\n      <td>NSAW</td>\n      <td>Median Days to Pending (Smooth, All Homes, Wee...</td>\n      <td>Inventory and sales</td>\n    </tr>\n    <tr>\n      <th>12</th>\n      <td>CRSW</td>\n      <td>Share of Listings With a Price Cut (Raw, SFR O...</td>\n      <td>Inventory and sales</td>\n    </tr>\n    <tr>\n      <th>13</th>\n      <td>SSAM</td>\n      <td>Median Sale Price (Smooth, All Homes, Monthly)</td>\n      <td>Inventory and sales</td>\n    </tr>\n    <tr>\n      <th>14</th>\n      <td>IRSW</td>\n      <td>For-sale Inventory (Raw, SFR only, Weekly View)</td>\n      <td>Inventory and sales</td>\n    </tr>\n    <tr>\n      <th>15</th>\n      <td>NRAM</td>\n      <td>Median Days to Pending (Raw, All Homes, Monthly)</td>\n      <td>Inventory and sales</td>\n    </tr>\n    <tr>\n      <th>16</th>\n      <td>CRAW</td>\n      <td>Share of Listings With a Price Cut (Raw, All H...</td>\n      <td>Inventory and sales</td>\n    </tr>\n    <tr>\n      <th>17</th>\n      <td>LRSM</td>\n      <td>Median List Price (Raw, SFR Only, Monthly)</td>\n      <td>Inventory and sales</td>\n    </tr>\n    <tr>\n      <th>18</th>\n      <td>SASM</td>\n      <td>Median Sale Price (Smooth &amp; Seasonally Adjuste...</td>\n      <td>Inventory and sales</td>\n    </tr>\n    <tr>\n      <th>19</th>\n      <td>SSSM</td>\n      <td>Median Sale Price (Smooth, SFR only, Monthly)</td>\n      <td>Inventory and sales</td>\n    </tr>\n    <tr>\n      <th>20</th>\n      <td>SAAM</td>\n      <td>Median Sale Price (Smooth &amp; Seasonally Adjuste...</td>\n      <td>Inventory and sales</td>\n    </tr>\n    <tr>\n      <th>21</th>\n      <td>LRAW</td>\n      <td>Median List Price (Raw, All Homes, Weekly View)</td>\n      <td>Inventory and sales</td>\n    </tr>\n    <tr>\n      <th>22</th>\n      <td>CSAM</td>\n      <td>Share of Listings With a Price Cut (Smooth, Al...</td>\n      <td>Inventory and sales</td>\n    </tr>\n    <tr>\n      <th>23</th>\n      <td>SRAW</td>\n      <td>Median Sale Price (Raw, All Homes, Weekly View)</td>\n      <td>Inventory and sales</td>\n    </tr>\n    <tr>\n      <th>24</th>\n      <td>CSSW</td>\n      <td>Share of Listings With a Price Cut (Smooth, SF...</td>\n      <td>Inventory and sales</td>\n    </tr>\n    <tr>\n      <th>25</th>\n      <td>LRSW</td>\n      <td>Median List Price (Raw, SFR Only, Weekly View)</td>\n      <td>Inventory and sales</td>\n    </tr>\n    <tr>\n      <th>26</th>\n      <td>SRSM</td>\n      <td>Median Sale Price (Raw, SFR only, Monthly)</td>\n      <td>Inventory and sales</td>\n    </tr>\n    <tr>\n      <th>27</th>\n      <td>SAAW</td>\n      <td>Median Sale Price (Smooth &amp; Seasonally Adjuste...</td>\n      <td>Inventory and sales</td>\n    </tr>\n    <tr>\n      <th>28</th>\n      <td>LSSW</td>\n      <td>Median List Price (Smooth, SFR Only, Weekly View)</td>\n      <td>Inventory and sales</td>\n    </tr>\n    <tr>\n      <th>29</th>\n      <td>SRAM</td>\n      <td>Median Sale Price (Raw, All Homes, Monthly)</td>\n      <td>Inventory and sales</td>\n    </tr>\n    <tr>\n      <th>30</th>\n      <td>NSAM</td>\n      <td>Median Days to Pending (Smooth, All Homes, Mon...</td>\n      <td>Inventory and sales</td>\n    </tr>\n    <tr>\n      <th>31</th>\n      <td>RSNA</td>\n      <td>ZORI (Smoothed): All Homes Plus Multifamily Ti...</td>\n      <td>Rentals</td>\n    </tr>\n    <tr>\n      <th>32</th>\n      <td>RSSA</td>\n      <td>ZORI (Smoothed, Seasonally Adjusted): All Home...</td>\n      <td>Rentals</td>\n    </tr>\n    <tr>\n      <th>33</th>\n      <td>Z4BR</td>\n      <td>ZHVI 4-Bedroom Time Series ($)</td>\n      <td>Home values</td>\n    </tr>\n    <tr>\n      <th>34</th>\n      <td>ISAW</td>\n      <td>For-Sale Inventory (Smooth, All Homes, Weekly ...</td>\n      <td>Inventory and sales</td>\n    </tr>\n    <tr>\n      <th>35</th>\n      <td>SSAW</td>\n      <td>Median Sale Price (Smooth, All Homes, Weekly V...</td>\n      <td>Inventory and sales</td>\n    </tr>\n    <tr>\n      <th>36</th>\n      <td>IRAM</td>\n      <td>For-Sale Inventory (Raw, All Homes, Monthly)</td>\n      <td>Inventory and sales</td>\n    </tr>\n    <tr>\n      <th>37</th>\n      <td>CRSM</td>\n      <td>Share of Listings With a Price Cut (Raw, SFR O...</td>\n      <td>Inventory and sales</td>\n    </tr>\n    <tr>\n      <th>38</th>\n      <td>CSSM</td>\n      <td>Share of Listings With a Price Cut (Smooth, SF...</td>\n      <td>Inventory and sales</td>\n    </tr>\n    <tr>\n      <th>39</th>\n      <td>MSAM</td>\n      <td>Mean Days to Pending (Smooth, All Homes, Monthly)</td>\n      <td>Inventory and sales</td>\n    </tr>\n    <tr>\n      <th>40</th>\n      <td>IRAW</td>\n      <td>For-Sale Inventory (Raw, All Homes, Weekly View)</td>\n      <td>Inventory and sales</td>\n    </tr>\n    <tr>\n      <th>41</th>\n      <td>MRAM</td>\n      <td>Mean Days to Pending (Raw, All Homes, Monthly)</td>\n      <td>Inventory and sales</td>\n    </tr>\n    <tr>\n      <th>42</th>\n      <td>SSSW</td>\n      <td>Median Sale Price (Smooth, SFR only, Weekly View)</td>\n      <td>Inventory and sales</td>\n    </tr>\n    <tr>\n      <th>43</th>\n      <td>LSSM</td>\n      <td>Median List Price (Smooth, SFR Only, Monthly)</td>\n      <td>Inventory and sales</td>\n    </tr>\n    <tr>\n      <th>44</th>\n      <td>CSAW</td>\n      <td>Share of Listings With a Price Cut (Smooth, Al...</td>\n      <td>Inventory and sales</td>\n    </tr>\n    <tr>\n      <th>45</th>\n      <td>ISSM</td>\n      <td>For-Sale Inventory (Smooth, SFR only, Monthly)</td>\n      <td>Inventory and sales</td>\n    </tr>\n    <tr>\n      <th>46</th>\n      <td>SASW</td>\n      <td>Median Sale Price (Smooth &amp; Seasonally Adjuste...</td>\n      <td>Inventory and sales</td>\n    </tr>\n    <tr>\n      <th>47</th>\n      <td>MRAW</td>\n      <td>Mean Days to Pending (Raw, All Homes, Weekly V...</td>\n      <td>Inventory and sales</td>\n    </tr>\n    <tr>\n      <th>48</th>\n      <td>LRAM</td>\n      <td>Median List Price (Raw, All Homes, Monthly)</td>\n      <td>Inventory and sales</td>\n    </tr>\n    <tr>\n      <th>49</th>\n      <td>ISSW</td>\n      <td>For-Sale Inventory (Smooth, SFR only, Weekly V...</td>\n      <td>Inventory and sales</td>\n    </tr>\n    <tr>\n      <th>50</th>\n      <td>MSAW</td>\n      <td>Mean Days to Pending (Smooth, All Homes, Weekl...</td>\n      <td>Inventory and sales</td>\n    </tr>\n    <tr>\n      <th>51</th>\n      <td>LSAM</td>\n      <td>Median List Price (Smooth, All Homes, Monthly)</td>\n      <td>Inventory and sales</td>\n    </tr>\n    <tr>\n      <th>52</th>\n      <td>CRAM</td>\n      <td>Share of Listings With a Price Cut (Raw, All H...</td>\n      <td>Inventory and sales</td>\n    </tr>\n    <tr>\n      <th>53</th>\n      <td>ISAM</td>\n      <td>For-Sale Inventory (Smooth, All Homes, Monthly)</td>\n      <td>Inventory and sales</td>\n    </tr>\n    <tr>\n      <th>54</th>\n      <td>IRSM</td>\n      <td>For-sale Inventory (Raw, SFR only, Monthly)</td>\n      <td>Inventory and sales</td>\n    </tr>\n    <tr>\n      <th>55</th>\n      <td>SRSW</td>\n      <td>Median Sale Price (Raw, SFR only, Weekly View)</td>\n      <td>Inventory and sales</td>\n    </tr>\n  </tbody>\n</table>\n</div>"
     },
     "metadata": {},
     "execution_count": 58
    }
   ],
   "source": [
    "indicators"
   ]
  },
  {
   "cell_type": "code",
   "execution_count": 65,
   "metadata": {},
   "outputs": [
    {
     "output_type": "execute_result",
     "data": {
      "text/plain": [
       "array(['Home values', 'Inventory and sales', 'Rentals'], dtype=object)"
      ]
     },
     "metadata": {},
     "execution_count": 65
    }
   ],
   "source": [
    "indicators['category'].unique()"
   ]
  },
  {
   "cell_type": "code",
   "execution_count": 66,
   "metadata": {},
   "outputs": [
    {
     "output_type": "execute_result",
     "data": {
      "text/plain": [
       "   indicator_id                                          indicator category\n",
       "31         RSNA  ZORI (Smoothed): All Homes Plus Multifamily Ti...  Rentals\n",
       "32         RSSA  ZORI (Smoothed, Seasonally Adjusted): All Home...  Rentals"
      ],
      "text/html": "<div>\n<style scoped>\n    .dataframe tbody tr th:only-of-type {\n        vertical-align: middle;\n    }\n\n    .dataframe tbody tr th {\n        vertical-align: top;\n    }\n\n    .dataframe thead th {\n        text-align: right;\n    }\n</style>\n<table border=\"1\" class=\"dataframe\">\n  <thead>\n    <tr style=\"text-align: right;\">\n      <th></th>\n      <th>indicator_id</th>\n      <th>indicator</th>\n      <th>category</th>\n    </tr>\n  </thead>\n  <tbody>\n    <tr>\n      <th>31</th>\n      <td>RSNA</td>\n      <td>ZORI (Smoothed): All Homes Plus Multifamily Ti...</td>\n      <td>Rentals</td>\n    </tr>\n    <tr>\n      <th>32</th>\n      <td>RSSA</td>\n      <td>ZORI (Smoothed, Seasonally Adjusted): All Home...</td>\n      <td>Rentals</td>\n    </tr>\n  </tbody>\n</table>\n</div>"
     },
     "metadata": {},
     "execution_count": 66
    }
   ],
   "source": [
    "rentals = indicators[indicators['category'] == 'Rentals']\n",
    "rentals.head()"
   ]
  },
  {
   "cell_type": "code",
   "execution_count": 67,
   "metadata": {},
   "outputs": [
    {
     "output_type": "stream",
     "name": "stdout",
     "text": [
      "ZORI (Smoothed): All Homes Plus Multifamily Time Series ($)\nZORI (Smoothed, Seasonally Adjusted): All Homes Plus Multifamily Time Series ($)\n"
     ]
    }
   ],
   "source": [
    "for item in rentals['indicator']:\n",
    "    print(item)"
   ]
  },
  {
   "cell_type": "code",
   "execution_count": null,
   "metadata": {},
   "outputs": [],
   "source": []
  },
  {
   "source": [
    "## Regions"
   ],
   "cell_type": "markdown",
   "metadata": {}
  },
  {
   "cell_type": "code",
   "execution_count": 59,
   "metadata": {},
   "outputs": [
    {
     "output_type": "execute_result",
     "data": {
      "text/plain": [
       "   region_id region_type                                             region\n",
       "0        207      county           King County; WA; Seattle-Tacoma-Bellevue\n",
       "1        791      county          Wayne County; MI; Detroit-Warren-Dearborn\n",
       "2       3136      county  Santa Clara County; CA; San Jose-Sunnyvale-San...\n",
       "3       3175      county  Philadelphia County; PA; Philadelphia-Camden-W...\n",
       "4      92515         zip  78572; TX; McAllen-Edinburg-Mission; Hidalgo C..."
      ],
      "text/html": "<div>\n<style scoped>\n    .dataframe tbody tr th:only-of-type {\n        vertical-align: middle;\n    }\n\n    .dataframe tbody tr th {\n        vertical-align: top;\n    }\n\n    .dataframe thead th {\n        text-align: right;\n    }\n</style>\n<table border=\"1\" class=\"dataframe\">\n  <thead>\n    <tr style=\"text-align: right;\">\n      <th></th>\n      <th>region_id</th>\n      <th>region_type</th>\n      <th>region</th>\n    </tr>\n  </thead>\n  <tbody>\n    <tr>\n      <th>0</th>\n      <td>207</td>\n      <td>county</td>\n      <td>King County; WA; Seattle-Tacoma-Bellevue</td>\n    </tr>\n    <tr>\n      <th>1</th>\n      <td>791</td>\n      <td>county</td>\n      <td>Wayne County; MI; Detroit-Warren-Dearborn</td>\n    </tr>\n    <tr>\n      <th>2</th>\n      <td>3136</td>\n      <td>county</td>\n      <td>Santa Clara County; CA; San Jose-Sunnyvale-San...</td>\n    </tr>\n    <tr>\n      <th>3</th>\n      <td>3175</td>\n      <td>county</td>\n      <td>Philadelphia County; PA; Philadelphia-Camden-W...</td>\n    </tr>\n    <tr>\n      <th>4</th>\n      <td>92515</td>\n      <td>zip</td>\n      <td>78572; TX; McAllen-Edinburg-Mission; Hidalgo C...</td>\n    </tr>\n  </tbody>\n</table>\n</div>"
     },
     "metadata": {},
     "execution_count": 59
    }
   ],
   "source": [
    "regions = pd.read_csv('V:\\ZILLOW_REGIONS.csv')\n",
    "regions.head()"
   ]
  },
  {
   "cell_type": "code",
   "execution_count": 60,
   "metadata": {},
   "outputs": [
    {
     "output_type": "execute_result",
     "data": {
      "text/plain": [
       "78730"
      ]
     },
     "metadata": {},
     "execution_count": 60
    }
   ],
   "source": [
    "len(regions)"
   ]
  },
  {
   "cell_type": "code",
   "execution_count": 61,
   "metadata": {},
   "outputs": [
    {
     "output_type": "execute_result",
     "data": {
      "text/plain": [
       "array(['county', 'zip', 'metro', 'state', 'neigh', 'city'], dtype=object)"
      ]
     },
     "metadata": {},
     "execution_count": 61
    }
   ],
   "source": [
    "regions['region_type'].unique()"
   ]
  },
  {
   "cell_type": "code",
   "execution_count": 68,
   "metadata": {},
   "outputs": [
    {
     "output_type": "execute_result",
     "data": {
      "text/plain": [
       "78730"
      ]
     },
     "metadata": {},
     "execution_count": 68
    }
   ],
   "source": [
    "len(regions['region_type'] == 'metro')"
   ]
  },
  {
   "cell_type": "code",
   "execution_count": 69,
   "metadata": {},
   "outputs": [
    {
     "output_type": "execute_result",
     "data": {
      "text/plain": [
       "     region_id region_type                              region\n",
       "7       394913       metro                        New York, NY\n",
       "8       753899       metro  Los Angeles-Long Beach-Anaheim, CA\n",
       "9       394463       metro                         Chicago, IL\n",
       "12      394514       metro               Dallas-Fort Worth, TX\n",
       "40      394692       metro                         Houston, TX\n",
       "41      394856       metro           Miami-Fort Lauderdale, FL\n",
       "42      395057       metro                   San Francisco, CA\n",
       "43      394532       metro                         Detroit, MI\n",
       "44      395121       metro                       St. Louis, MO\n",
       "45      395148       metro                           Tampa, FL\n",
       "48      394358       metro                       Baltimore, MD\n",
       "72      394530       metro                          Denver, CO\n",
       "73      395055       metro                     San Antonio, TX\n",
       "74      394943       metro                         Orlando, FL\n",
       "78      394466       metro                      Cincinnati, OH\n",
       "79      394475       metro                       Cleveland, OH\n",
       "80      394775       metro                       Las Vegas, NV\n",
       "81      394355       metro                          Austin, TX\n",
       "82      395005       metro                      Providence, RI\n",
       "99      394347       metro                         Atlanta, GA\n",
       "100     394492       metro                        Columbus, OH\n",
       "101     394705       metro                    Indianapolis, IN\n",
       "102     395059       metro                        San Jose, CA\n",
       "160     395194       metro                  Virginia Beach, VA\n",
       "161     394902       metro                       Nashville, TN\n",
       "162     394714       metro                    Jacksonville, FL\n",
       "170     394807       metro     Louisville-Jefferson County, KY\n",
       "251     394367       metro                     Baton Rouge, LA\n",
       "252     394528       metro                   Daytona Beach, FL\n",
       "255     394531       metro                      Des Moines, IA\n",
       "302     394650       metro                  Greenville, MS; MS\n",
       "365     394669       metro                        Hartford, CT\n",
       "366     394711       metro                         Jackson, MS\n",
       "367     394460       metro                     Chattanooga, TN\n",
       "368     395113       metro                         Spokane, WA\n",
       "369     394549       metro                          Durham, NC\n",
       "370     395068       metro                  Santa Rosa, CA; CA\n",
       "371     394792       metro                   Lexington, KY; KY\n",
       "372     394761       metro                   Lafayette, LA; LA\n",
       "373     394770       metro                     Lansing, MI; MI\n",
       "374     394590       metro                Fayetteville, AR; AR\n",
       "375     394971       metro                   Pensacola, FL; FL\n",
       "376     395195       metro                     Visalia, CA; CA\n",
       "377     395096       metro                  Shreveport, LA; LA\n",
       "378     395116       metro                 Springfield, MO; MO\n",
       "379     395244       metro                        York, PA; PA\n",
       "380     394502       metro              Corpus Christi, TX; TX\n",
       "381     395019       metro                        Reno, NV; NV\n",
       "383     753917       metro   Santa Maria-Santa Barbara, CA; CA\n",
       "398     394698       metro                  Huntsville, AL; AL"
      ],
      "text/html": "<div>\n<style scoped>\n    .dataframe tbody tr th:only-of-type {\n        vertical-align: middle;\n    }\n\n    .dataframe tbody tr th {\n        vertical-align: top;\n    }\n\n    .dataframe thead th {\n        text-align: right;\n    }\n</style>\n<table border=\"1\" class=\"dataframe\">\n  <thead>\n    <tr style=\"text-align: right;\">\n      <th></th>\n      <th>region_id</th>\n      <th>region_type</th>\n      <th>region</th>\n    </tr>\n  </thead>\n  <tbody>\n    <tr>\n      <th>7</th>\n      <td>394913</td>\n      <td>metro</td>\n      <td>New York, NY</td>\n    </tr>\n    <tr>\n      <th>8</th>\n      <td>753899</td>\n      <td>metro</td>\n      <td>Los Angeles-Long Beach-Anaheim, CA</td>\n    </tr>\n    <tr>\n      <th>9</th>\n      <td>394463</td>\n      <td>metro</td>\n      <td>Chicago, IL</td>\n    </tr>\n    <tr>\n      <th>12</th>\n      <td>394514</td>\n      <td>metro</td>\n      <td>Dallas-Fort Worth, TX</td>\n    </tr>\n    <tr>\n      <th>40</th>\n      <td>394692</td>\n      <td>metro</td>\n      <td>Houston, TX</td>\n    </tr>\n    <tr>\n      <th>41</th>\n      <td>394856</td>\n      <td>metro</td>\n      <td>Miami-Fort Lauderdale, FL</td>\n    </tr>\n    <tr>\n      <th>42</th>\n      <td>395057</td>\n      <td>metro</td>\n      <td>San Francisco, CA</td>\n    </tr>\n    <tr>\n      <th>43</th>\n      <td>394532</td>\n      <td>metro</td>\n      <td>Detroit, MI</td>\n    </tr>\n    <tr>\n      <th>44</th>\n      <td>395121</td>\n      <td>metro</td>\n      <td>St. Louis, MO</td>\n    </tr>\n    <tr>\n      <th>45</th>\n      <td>395148</td>\n      <td>metro</td>\n      <td>Tampa, FL</td>\n    </tr>\n    <tr>\n      <th>48</th>\n      <td>394358</td>\n      <td>metro</td>\n      <td>Baltimore, MD</td>\n    </tr>\n    <tr>\n      <th>72</th>\n      <td>394530</td>\n      <td>metro</td>\n      <td>Denver, CO</td>\n    </tr>\n    <tr>\n      <th>73</th>\n      <td>395055</td>\n      <td>metro</td>\n      <td>San Antonio, TX</td>\n    </tr>\n    <tr>\n      <th>74</th>\n      <td>394943</td>\n      <td>metro</td>\n      <td>Orlando, FL</td>\n    </tr>\n    <tr>\n      <th>78</th>\n      <td>394466</td>\n      <td>metro</td>\n      <td>Cincinnati, OH</td>\n    </tr>\n    <tr>\n      <th>79</th>\n      <td>394475</td>\n      <td>metro</td>\n      <td>Cleveland, OH</td>\n    </tr>\n    <tr>\n      <th>80</th>\n      <td>394775</td>\n      <td>metro</td>\n      <td>Las Vegas, NV</td>\n    </tr>\n    <tr>\n      <th>81</th>\n      <td>394355</td>\n      <td>metro</td>\n      <td>Austin, TX</td>\n    </tr>\n    <tr>\n      <th>82</th>\n      <td>395005</td>\n      <td>metro</td>\n      <td>Providence, RI</td>\n    </tr>\n    <tr>\n      <th>99</th>\n      <td>394347</td>\n      <td>metro</td>\n      <td>Atlanta, GA</td>\n    </tr>\n    <tr>\n      <th>100</th>\n      <td>394492</td>\n      <td>metro</td>\n      <td>Columbus, OH</td>\n    </tr>\n    <tr>\n      <th>101</th>\n      <td>394705</td>\n      <td>metro</td>\n      <td>Indianapolis, IN</td>\n    </tr>\n    <tr>\n      <th>102</th>\n      <td>395059</td>\n      <td>metro</td>\n      <td>San Jose, CA</td>\n    </tr>\n    <tr>\n      <th>160</th>\n      <td>395194</td>\n      <td>metro</td>\n      <td>Virginia Beach, VA</td>\n    </tr>\n    <tr>\n      <th>161</th>\n      <td>394902</td>\n      <td>metro</td>\n      <td>Nashville, TN</td>\n    </tr>\n    <tr>\n      <th>162</th>\n      <td>394714</td>\n      <td>metro</td>\n      <td>Jacksonville, FL</td>\n    </tr>\n    <tr>\n      <th>170</th>\n      <td>394807</td>\n      <td>metro</td>\n      <td>Louisville-Jefferson County, KY</td>\n    </tr>\n    <tr>\n      <th>251</th>\n      <td>394367</td>\n      <td>metro</td>\n      <td>Baton Rouge, LA</td>\n    </tr>\n    <tr>\n      <th>252</th>\n      <td>394528</td>\n      <td>metro</td>\n      <td>Daytona Beach, FL</td>\n    </tr>\n    <tr>\n      <th>255</th>\n      <td>394531</td>\n      <td>metro</td>\n      <td>Des Moines, IA</td>\n    </tr>\n    <tr>\n      <th>302</th>\n      <td>394650</td>\n      <td>metro</td>\n      <td>Greenville, MS; MS</td>\n    </tr>\n    <tr>\n      <th>365</th>\n      <td>394669</td>\n      <td>metro</td>\n      <td>Hartford, CT</td>\n    </tr>\n    <tr>\n      <th>366</th>\n      <td>394711</td>\n      <td>metro</td>\n      <td>Jackson, MS</td>\n    </tr>\n    <tr>\n      <th>367</th>\n      <td>394460</td>\n      <td>metro</td>\n      <td>Chattanooga, TN</td>\n    </tr>\n    <tr>\n      <th>368</th>\n      <td>395113</td>\n      <td>metro</td>\n      <td>Spokane, WA</td>\n    </tr>\n    <tr>\n      <th>369</th>\n      <td>394549</td>\n      <td>metro</td>\n      <td>Durham, NC</td>\n    </tr>\n    <tr>\n      <th>370</th>\n      <td>395068</td>\n      <td>metro</td>\n      <td>Santa Rosa, CA; CA</td>\n    </tr>\n    <tr>\n      <th>371</th>\n      <td>394792</td>\n      <td>metro</td>\n      <td>Lexington, KY; KY</td>\n    </tr>\n    <tr>\n      <th>372</th>\n      <td>394761</td>\n      <td>metro</td>\n      <td>Lafayette, LA; LA</td>\n    </tr>\n    <tr>\n      <th>373</th>\n      <td>394770</td>\n      <td>metro</td>\n      <td>Lansing, MI; MI</td>\n    </tr>\n    <tr>\n      <th>374</th>\n      <td>394590</td>\n      <td>metro</td>\n      <td>Fayetteville, AR; AR</td>\n    </tr>\n    <tr>\n      <th>375</th>\n      <td>394971</td>\n      <td>metro</td>\n      <td>Pensacola, FL; FL</td>\n    </tr>\n    <tr>\n      <th>376</th>\n      <td>395195</td>\n      <td>metro</td>\n      <td>Visalia, CA; CA</td>\n    </tr>\n    <tr>\n      <th>377</th>\n      <td>395096</td>\n      <td>metro</td>\n      <td>Shreveport, LA; LA</td>\n    </tr>\n    <tr>\n      <th>378</th>\n      <td>395116</td>\n      <td>metro</td>\n      <td>Springfield, MO; MO</td>\n    </tr>\n    <tr>\n      <th>379</th>\n      <td>395244</td>\n      <td>metro</td>\n      <td>York, PA; PA</td>\n    </tr>\n    <tr>\n      <th>380</th>\n      <td>394502</td>\n      <td>metro</td>\n      <td>Corpus Christi, TX; TX</td>\n    </tr>\n    <tr>\n      <th>381</th>\n      <td>395019</td>\n      <td>metro</td>\n      <td>Reno, NV; NV</td>\n    </tr>\n    <tr>\n      <th>383</th>\n      <td>753917</td>\n      <td>metro</td>\n      <td>Santa Maria-Santa Barbara, CA; CA</td>\n    </tr>\n    <tr>\n      <th>398</th>\n      <td>394698</td>\n      <td>metro</td>\n      <td>Huntsville, AL; AL</td>\n    </tr>\n  </tbody>\n</table>\n</div>"
     },
     "metadata": {},
     "execution_count": 69
    }
   ],
   "source": [
    "metro = regions[regions['region_type'] == 'metro']\n",
    "metro[:50]"
   ]
  },
  {
   "cell_type": "code",
   "execution_count": null,
   "metadata": {},
   "outputs": [],
   "source": []
  },
  {
   "source": [
    "# Data.World Population Data Set"
   ],
   "cell_type": "markdown",
   "metadata": {}
  },
  {
   "cell_type": "code",
   "execution_count": 70,
   "metadata": {},
   "outputs": [
    {
     "output_type": "execute_result",
     "data": {
      "text/plain": [
       "     State            City  Population\n",
       "0  Alabama        Abernant        7599\n",
       "1  Alabama       Alabaster       31545\n",
       "2  Alabama     Albertville       21458\n",
       "3  Alabama  Alexander City       14849\n",
       "4  Alabama       Andalusia        9081"
      ],
      "text/html": "<div>\n<style scoped>\n    .dataframe tbody tr th:only-of-type {\n        vertical-align: middle;\n    }\n\n    .dataframe tbody tr th {\n        vertical-align: top;\n    }\n\n    .dataframe thead th {\n        text-align: right;\n    }\n</style>\n<table border=\"1\" class=\"dataframe\">\n  <thead>\n    <tr style=\"text-align: right;\">\n      <th></th>\n      <th>State</th>\n      <th>City</th>\n      <th>Population</th>\n    </tr>\n  </thead>\n  <tbody>\n    <tr>\n      <th>0</th>\n      <td>Alabama</td>\n      <td>Abernant</td>\n      <td>7599</td>\n    </tr>\n    <tr>\n      <th>1</th>\n      <td>Alabama</td>\n      <td>Alabaster</td>\n      <td>31545</td>\n    </tr>\n    <tr>\n      <th>2</th>\n      <td>Alabama</td>\n      <td>Albertville</td>\n      <td>21458</td>\n    </tr>\n    <tr>\n      <th>3</th>\n      <td>Alabama</td>\n      <td>Alexander City</td>\n      <td>14849</td>\n    </tr>\n    <tr>\n      <th>4</th>\n      <td>Alabama</td>\n      <td>Andalusia</td>\n      <td>9081</td>\n    </tr>\n  </tbody>\n</table>\n</div>"
     },
     "metadata": {},
     "execution_count": 70
    }
   ],
   "source": [
    "population = pd.read_excel('https://query.data.world/s/gewikohoj4s2gqv4bowlzpdxeu4jzl', usecols=['State', 'City', 'Population'])\n",
    "population.head()"
   ]
  },
  {
   "cell_type": "code",
   "execution_count": 73,
   "metadata": {},
   "outputs": [
    {
     "output_type": "execute_result",
     "data": {
      "text/plain": [
       "6889"
      ]
     },
     "metadata": {},
     "execution_count": 73
    }
   ],
   "source": [
    "len(population)"
   ]
  },
  {
   "cell_type": "code",
   "execution_count": 74,
   "metadata": {},
   "outputs": [
    {
     "output_type": "execute_result",
     "data": {
      "text/plain": [
       "0             Abernant\n",
       "1            Alabaster\n",
       "2          Albertville\n",
       "3       Alexander City\n",
       "4            Andalusia\n",
       "             ...      \n",
       "6884            Lander\n",
       "6885        Torrington\n",
       "6886           Douglas\n",
       "6887            Powell\n",
       "6888    Bridger Valley\n",
       "Name: City, Length: 6889, dtype: object"
      ]
     },
     "metadata": {},
     "execution_count": 74
    }
   ],
   "source": [
    "population['City']"
   ]
  },
  {
   "cell_type": "code",
   "execution_count": 83,
   "metadata": {},
   "outputs": [],
   "source": [
    "cities = population[population['Population'] > 80000]"
   ]
  },
  {
   "cell_type": "code",
   "execution_count": 84,
   "metadata": {},
   "outputs": [
    {
     "output_type": "execute_result",
     "data": {
      "text/plain": [
       "47"
      ]
     },
     "metadata": {},
     "execution_count": 84
    }
   ],
   "source": [
    "len(cities['State'].unique())"
   ]
  },
  {
   "cell_type": "code",
   "execution_count": 85,
   "metadata": {},
   "outputs": [
    {
     "output_type": "execute_result",
     "data": {
      "text/plain": [
       "array(['Alabama', 'Alaska', 'Arkansas', 'Arizona', 'California',\n",
       "       'Colorado', 'Connecticut', 'Delaware', 'DC', 'Florida', 'Georgia',\n",
       "       'Hawaii', 'Idaho', 'Illinois', 'Indiana', 'Iowa', 'Kansas',\n",
       "       'Kentucky', 'Louisiana', 'Maryland', 'Massachusetts', 'Michigan',\n",
       "       'Minnesota', 'Mississippi', 'Missouri', 'Montana', 'Nebraska',\n",
       "       'Nevada', 'New Hampshire', 'New Jersey', 'New Mexico', 'New York',\n",
       "       'North Carolina', 'North Dakota', 'Ohio', 'Oklahoma', 'Oregon',\n",
       "       'Pennsylvania', 'Rhode Island', 'South Carolina', 'South Dakota',\n",
       "       'Tennessee', 'Texas', 'Utah', 'Virginia', 'Washington',\n",
       "       'Wisconsin'], dtype=object)"
      ]
     },
     "metadata": {},
     "execution_count": 85
    }
   ],
   "source": [
    "cities['State'].unique()"
   ]
  },
  {
   "cell_type": "code",
   "execution_count": 86,
   "metadata": {},
   "outputs": [],
   "source": [
    "states = ['Alabama', 'Alaska', 'Arizona', 'Arkansas', 'California', 'Colorado', \n",
    "'Connecticut', 'Delaware', 'Florida', 'Georgia', 'Hawaii', 'Idaho', \n",
    "'Illinois', 'Indiana', 'Iowa', 'Kansas', 'Kentucky', 'Louisiana', 'Maine', \n",
    "'Maryland', 'Massachusetts', 'Michigan', 'Minnesota', 'Mississippi', \n",
    "'Missouri', 'Montana', 'Nebraska', 'Nevada', 'New Hampshire','New Jersey', \n",
    "'New Mexico', 'New York', 'North Carolina', 'North Dakota', 'Ohio', \n",
    "'Oklahoma', 'Oregon', 'Pennsylvania', 'Rhode Island', 'South Carolina', \n",
    "'South Dakota', 'Tennessee', 'Texas', 'Utah', 'Vermont', 'Virginia', 'Washington', \n",
    "'West Virginia', 'Wisconsin', 'Wyoming']"
   ]
  },
  {
   "cell_type": "code",
   "execution_count": 87,
   "metadata": {},
   "outputs": [
    {
     "output_type": "stream",
     "name": "stdout",
     "text": [
      "['Maine', 'Vermont', 'West Virginia', 'Wyoming']\n"
     ]
    }
   ],
   "source": [
    "missing = []\n",
    "\n",
    "for state in states:\n",
    "    if state not in list(cities['State'].unique()):\n",
    "        missing.append(state)\n",
    "\n",
    "print(missing)"
   ]
  },
  {
   "source": [
    "# Aggregating Data"
   ],
   "cell_type": "markdown",
   "metadata": {}
  },
  {
   "cell_type": "code",
   "execution_count": null,
   "metadata": {},
   "outputs": [],
   "source": [
    "# Checking if data has all the same sections\n",
    "sorted(data['indicator_id'].unique()) == sorted(indicators['indicator_id'].unique())"
   ]
  },
  {
   "cell_type": "code",
   "execution_count": null,
   "metadata": {},
   "outputs": [],
   "source": []
  }
 ]
}