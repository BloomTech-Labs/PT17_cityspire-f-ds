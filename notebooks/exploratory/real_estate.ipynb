{
 "metadata": {
  "language_info": {
   "codemirror_mode": {
    "name": "ipython",
    "version": 3
   },
   "file_extension": ".py",
   "mimetype": "text/x-python",
   "name": "python",
   "nbconvert_exporter": "python",
   "pygments_lexer": "ipython3",
   "version": "3.9.1-final"
  },
  "orig_nbformat": 2,
  "kernelspec": {
   "name": "cityspire",
   "display_name": "Python (cityspire 15)",
   "language": "python"
  }
 },
 "nbformat": 4,
 "nbformat_minor": 2,
 "cells": [
  {
   "source": [
    "# Zillow Data via Quandl"
   ],
   "cell_type": "markdown",
   "metadata": {}
  },
  {
   "cell_type": "code",
   "execution_count": 3,
   "metadata": {},
   "outputs": [],
   "source": [
    "import os\n",
    "import sys\n",
    "import quandl\n",
    "import pandas as pd\n",
    "import numpy as np\n",
    "import matplotlib.pyplot as plt\n",
    "\n",
    "# sys.path.append('C:Users/Rob/repos/labspt15-cityspire-g-ds')\n",
    "# sys.path\n",
    "\n",
    "# path = r'C:\\Users\\Rob\\repos\\\\'\n",
    "# path == r'V:\\\\'"
   ]
  },
  {
   "cell_type": "code",
   "execution_count": 5,
   "metadata": {},
   "outputs": [],
   "source": [
    "# quandl.ApiConfig.api_key = 'rfzykh-NDsw72dmc4Ms4'"
   ]
  },
  {
   "cell_type": "code",
   "execution_count": 7,
   "metadata": {},
   "outputs": [],
   "source": [
    "# data = quandl.get_table('MER/F1', compnumber=\"39102\", paginate=True)"
   ]
  },
  {
   "cell_type": "code",
   "execution_count": 9,
   "metadata": {},
   "outputs": [],
   "source": [
    "# quandl.ApiConfig.api_key = 'rfzykh-NDsw72dmc4Ms4'\n",
    "# quandl.get_table('ZILLOW/DATA', indicator_id='ZSFH', region_id='99999')"
   ]
  },
  {
   "source": [
    "## Data"
   ],
   "cell_type": "markdown",
   "metadata": {}
  },
  {
   "cell_type": "code",
   "execution_count": 11,
   "metadata": {},
   "outputs": [
    {
     "output_type": "execute_result",
     "data": {
      "text/plain": [
       "  indicator_id  region_id        date     value\n",
       "0         ZATT       3101  1998-01-31  338849.0\n",
       "1         ZATT       3101  1998-02-28  342993.0\n",
       "2         ZATT       3101  1998-03-31  346763.0\n",
       "3         ZATT       3101  1998-04-30  349356.0\n",
       "4         ZATT       3101  1998-05-31  351981.0"
      ],
      "text/html": "<div>\n<style scoped>\n    .dataframe tbody tr th:only-of-type {\n        vertical-align: middle;\n    }\n\n    .dataframe tbody tr th {\n        vertical-align: top;\n    }\n\n    .dataframe thead th {\n        text-align: right;\n    }\n</style>\n<table border=\"1\" class=\"dataframe\">\n  <thead>\n    <tr style=\"text-align: right;\">\n      <th></th>\n      <th>indicator_id</th>\n      <th>region_id</th>\n      <th>date</th>\n      <th>value</th>\n    </tr>\n  </thead>\n  <tbody>\n    <tr>\n      <th>0</th>\n      <td>ZATT</td>\n      <td>3101</td>\n      <td>1998-01-31</td>\n      <td>338849.0</td>\n    </tr>\n    <tr>\n      <th>1</th>\n      <td>ZATT</td>\n      <td>3101</td>\n      <td>1998-02-28</td>\n      <td>342993.0</td>\n    </tr>\n    <tr>\n      <th>2</th>\n      <td>ZATT</td>\n      <td>3101</td>\n      <td>1998-03-31</td>\n      <td>346763.0</td>\n    </tr>\n    <tr>\n      <th>3</th>\n      <td>ZATT</td>\n      <td>3101</td>\n      <td>1998-04-30</td>\n      <td>349356.0</td>\n    </tr>\n    <tr>\n      <th>4</th>\n      <td>ZATT</td>\n      <td>3101</td>\n      <td>1998-05-31</td>\n      <td>351981.0</td>\n    </tr>\n  </tbody>\n</table>\n</div>"
     },
     "metadata": {},
     "execution_count": 11
    }
   ],
   "source": [
    "data = pd.read_csv(\"V:\\ZILLOW_DATA.csv\")\n",
    "data.head()"
   ]
  },
  {
   "cell_type": "code",
   "execution_count": 13,
   "metadata": {},
   "outputs": [
    {
     "output_type": "execute_result",
     "data": {
      "text/plain": [
       "125528409"
      ]
     },
     "metadata": {},
     "execution_count": 13
    }
   ],
   "source": [
    "len(data) #125.5 million lines!!"
   ]
  },
  {
   "cell_type": "code",
   "execution_count": 15,
   "metadata": {},
   "outputs": [
    {
     "output_type": "execute_result",
     "data": {
      "text/plain": [
       "array(['ZATT', 'ZSFH', 'ZALL', 'ZCON', 'ZABT', 'Z5BR', 'Z2BR', 'Z3BR',\n",
       "       'Z1BR', 'Z4BR', 'ISAW', 'SSAW', 'IRAM', 'CRSM', 'CSSM', 'MSAM',\n",
       "       'IRAW', 'MRAM', 'SSSW', 'LSSM', 'CSAW', 'ISSM', 'SASW', 'MRAW',\n",
       "       'LRAM', 'ISSW', 'MSAW', 'LSAM', 'CRAM', 'ISAM', 'IRSM', 'SRSW',\n",
       "       'LSAW', 'NRAW', 'NSAW', 'CRSW', 'SSAM', 'IRSW', 'NRAM', 'CRAW',\n",
       "       'LRSM', 'SASM', 'SSSM', 'SAAM', 'LRAW', 'CSAM', 'SRAW', 'CSSW',\n",
       "       'LRSW', 'SRSM', 'SAAW', 'LSSW', 'SRAM', 'NSAM', 'RSNA', 'RSSA'],\n",
       "      dtype=object)"
      ]
     },
     "metadata": {},
     "execution_count": 15
    }
   ],
   "source": [
    "data['indicator_id'].unique()"
   ]
  },
  {
   "cell_type": "code",
   "execution_count": 17,
   "metadata": {},
   "outputs": [],
   "source": [
    "rental_data = data[data['indicator_id'].isin(['RSSA', 'RSNA'])]"
   ]
  },
  {
   "cell_type": "code",
   "execution_count": 19,
   "metadata": {},
   "outputs": [
    {
     "output_type": "stream",
     "name": "stdout",
     "text": [
      "535891\n(535891, 4)\n"
     ]
    },
    {
     "output_type": "execute_result",
     "data": {
      "text/plain": [
       "        indicator_id  region_id        date   value\n",
       "1586389         RSNA     102001  2020-06-30  1777.0\n",
       "1586392         RSNA     394913  2020-06-30  2811.0\n",
       "1586396         RSNA     753899  2020-06-30  2625.0\n",
       "1586400         RSNA     394463  2020-06-30  1804.0\n",
       "1586403         RSNA     394514  2020-06-30  1611.0"
      ],
      "text/html": "<div>\n<style scoped>\n    .dataframe tbody tr th:only-of-type {\n        vertical-align: middle;\n    }\n\n    .dataframe tbody tr th {\n        vertical-align: top;\n    }\n\n    .dataframe thead th {\n        text-align: right;\n    }\n</style>\n<table border=\"1\" class=\"dataframe\">\n  <thead>\n    <tr style=\"text-align: right;\">\n      <th></th>\n      <th>indicator_id</th>\n      <th>region_id</th>\n      <th>date</th>\n      <th>value</th>\n    </tr>\n  </thead>\n  <tbody>\n    <tr>\n      <th>1586389</th>\n      <td>RSNA</td>\n      <td>102001</td>\n      <td>2020-06-30</td>\n      <td>1777.0</td>\n    </tr>\n    <tr>\n      <th>1586392</th>\n      <td>RSNA</td>\n      <td>394913</td>\n      <td>2020-06-30</td>\n      <td>2811.0</td>\n    </tr>\n    <tr>\n      <th>1586396</th>\n      <td>RSNA</td>\n      <td>753899</td>\n      <td>2020-06-30</td>\n      <td>2625.0</td>\n    </tr>\n    <tr>\n      <th>1586400</th>\n      <td>RSNA</td>\n      <td>394463</td>\n      <td>2020-06-30</td>\n      <td>1804.0</td>\n    </tr>\n    <tr>\n      <th>1586403</th>\n      <td>RSNA</td>\n      <td>394514</td>\n      <td>2020-06-30</td>\n      <td>1611.0</td>\n    </tr>\n  </tbody>\n</table>\n</div>"
     },
     "metadata": {},
     "execution_count": 19
    }
   ],
   "source": [
    "print(len(rental_data))\n",
    "print(rental_data.shape)\n",
    "rental_data.head()"
   ]
  },
  {
   "cell_type": "code",
   "execution_count": 21,
   "metadata": {},
   "outputs": [
    {
     "output_type": "stream",
     "name": "stdout",
     "text": [
      "average rent:  1686\n"
     ]
    }
   ],
   "source": [
    "print('average rent: ', round(sum(rental_data['value']) / len(rental_data)))"
   ]
  },
  {
   "source": [
    "## Indicators"
   ],
   "cell_type": "markdown",
   "metadata": {}
  },
  {
   "cell_type": "code",
   "execution_count": 23,
   "metadata": {},
   "outputs": [
    {
     "output_type": "execute_result",
     "data": {
      "text/plain": [
       "  indicator_id                                          indicator     category\n",
       "0         ZATT           ZHVI All Homes- Top Tier Time Series ($)  Home values\n",
       "1         ZSFH           ZHVI Single-Family Homes Time Series ($)  Home values\n",
       "2         ZALL  ZHVI All Homes (SFR, Condo/Co-op) Time Series ($)  Home values\n",
       "3         ZCON                   ZHVI Condo/Co-op Time Series ($)  Home values\n",
       "4         ZABT        ZHVI All Homes- Bottom Tier Time Series ($)  Home values"
      ],
      "text/html": "<div>\n<style scoped>\n    .dataframe tbody tr th:only-of-type {\n        vertical-align: middle;\n    }\n\n    .dataframe tbody tr th {\n        vertical-align: top;\n    }\n\n    .dataframe thead th {\n        text-align: right;\n    }\n</style>\n<table border=\"1\" class=\"dataframe\">\n  <thead>\n    <tr style=\"text-align: right;\">\n      <th></th>\n      <th>indicator_id</th>\n      <th>indicator</th>\n      <th>category</th>\n    </tr>\n  </thead>\n  <tbody>\n    <tr>\n      <th>0</th>\n      <td>ZATT</td>\n      <td>ZHVI All Homes- Top Tier Time Series ($)</td>\n      <td>Home values</td>\n    </tr>\n    <tr>\n      <th>1</th>\n      <td>ZSFH</td>\n      <td>ZHVI Single-Family Homes Time Series ($)</td>\n      <td>Home values</td>\n    </tr>\n    <tr>\n      <th>2</th>\n      <td>ZALL</td>\n      <td>ZHVI All Homes (SFR, Condo/Co-op) Time Series ($)</td>\n      <td>Home values</td>\n    </tr>\n    <tr>\n      <th>3</th>\n      <td>ZCON</td>\n      <td>ZHVI Condo/Co-op Time Series ($)</td>\n      <td>Home values</td>\n    </tr>\n    <tr>\n      <th>4</th>\n      <td>ZABT</td>\n      <td>ZHVI All Homes- Bottom Tier Time Series ($)</td>\n      <td>Home values</td>\n    </tr>\n  </tbody>\n</table>\n</div>"
     },
     "metadata": {},
     "execution_count": 23
    }
   ],
   "source": [
    "indicators = pd.read_csv('V:\\ZILLOW_INDICATORS.csv')\n",
    "indicators.head()"
   ]
  },
  {
   "cell_type": "code",
   "execution_count": 25,
   "metadata": {},
   "outputs": [
    {
     "output_type": "execute_result",
     "data": {
      "text/plain": [
       "array(['ZATT', 'ZSFH', 'ZALL', 'ZCON', 'ZABT', 'Z5BR', 'Z2BR', 'Z3BR',\n",
       "       'Z1BR', 'LSAW', 'NRAW', 'NSAW', 'CRSW', 'SSAM', 'IRSW', 'NRAM',\n",
       "       'CRAW', 'LRSM', 'SASM', 'SSSM', 'SAAM', 'LRAW', 'CSAM', 'SRAW',\n",
       "       'CSSW', 'LRSW', 'SRSM', 'SAAW', 'LSSW', 'SRAM', 'NSAM', 'RSNA',\n",
       "       'RSSA', 'Z4BR', 'ISAW', 'SSAW', 'IRAM', 'CRSM', 'CSSM', 'MSAM',\n",
       "       'IRAW', 'MRAM', 'SSSW', 'LSSM', 'CSAW', 'ISSM', 'SASW', 'MRAW',\n",
       "       'LRAM', 'ISSW', 'MSAW', 'LSAM', 'CRAM', 'ISAM', 'IRSM', 'SRSW'],\n",
       "      dtype=object)"
      ]
     },
     "metadata": {},
     "execution_count": 25
    }
   ],
   "source": [
    "indicators['indicator_id'].unique()"
   ]
  },
  {
   "cell_type": "code",
   "execution_count": 27,
   "metadata": {},
   "outputs": [
    {
     "output_type": "execute_result",
     "data": {
      "text/plain": [
       "   indicator_id                                          indicator  \\\n",
       "0          ZATT           ZHVI All Homes- Top Tier Time Series ($)   \n",
       "1          ZSFH           ZHVI Single-Family Homes Time Series ($)   \n",
       "2          ZALL  ZHVI All Homes (SFR, Condo/Co-op) Time Series ($)   \n",
       "3          ZCON                   ZHVI Condo/Co-op Time Series ($)   \n",
       "4          ZABT        ZHVI All Homes- Bottom Tier Time Series ($)   \n",
       "5          Z5BR                    ZHVI 5+ Bedroom Time Series ($)   \n",
       "6          Z2BR                     ZHVI 2-Bedroom Time Series ($)   \n",
       "7          Z3BR                     ZHVI 3-Bedroom Time Series ($)   \n",
       "8          Z1BR                     ZHVI 1-Bedroom Time Series ($)   \n",
       "9          LSAW  Median List Price (Smooth, All Homes, Weekly V...   \n",
       "10         NRAW  Median Days to Pending (Raw, All Homes, Weekly...   \n",
       "11         NSAW  Median Days to Pending (Smooth, All Homes, Wee...   \n",
       "12         CRSW  Share of Listings With a Price Cut (Raw, SFR O...   \n",
       "13         SSAM     Median Sale Price (Smooth, All Homes, Monthly)   \n",
       "14         IRSW    For-sale Inventory (Raw, SFR only, Weekly View)   \n",
       "15         NRAM   Median Days to Pending (Raw, All Homes, Monthly)   \n",
       "16         CRAW  Share of Listings With a Price Cut (Raw, All H...   \n",
       "17         LRSM         Median List Price (Raw, SFR Only, Monthly)   \n",
       "18         SASM  Median Sale Price (Smooth & Seasonally Adjuste...   \n",
       "19         SSSM      Median Sale Price (Smooth, SFR only, Monthly)   \n",
       "20         SAAM  Median Sale Price (Smooth & Seasonally Adjuste...   \n",
       "21         LRAW    Median List Price (Raw, All Homes, Weekly View)   \n",
       "22         CSAM  Share of Listings With a Price Cut (Smooth, Al...   \n",
       "23         SRAW    Median Sale Price (Raw, All Homes, Weekly View)   \n",
       "24         CSSW  Share of Listings With a Price Cut (Smooth, SF...   \n",
       "25         LRSW     Median List Price (Raw, SFR Only, Weekly View)   \n",
       "26         SRSM         Median Sale Price (Raw, SFR only, Monthly)   \n",
       "27         SAAW  Median Sale Price (Smooth & Seasonally Adjuste...   \n",
       "28         LSSW  Median List Price (Smooth, SFR Only, Weekly View)   \n",
       "29         SRAM        Median Sale Price (Raw, All Homes, Monthly)   \n",
       "30         NSAM  Median Days to Pending (Smooth, All Homes, Mon...   \n",
       "31         RSNA  ZORI (Smoothed): All Homes Plus Multifamily Ti...   \n",
       "32         RSSA  ZORI (Smoothed, Seasonally Adjusted): All Home...   \n",
       "33         Z4BR                     ZHVI 4-Bedroom Time Series ($)   \n",
       "34         ISAW  For-Sale Inventory (Smooth, All Homes, Weekly ...   \n",
       "35         SSAW  Median Sale Price (Smooth, All Homes, Weekly V...   \n",
       "36         IRAM       For-Sale Inventory (Raw, All Homes, Monthly)   \n",
       "37         CRSM  Share of Listings With a Price Cut (Raw, SFR O...   \n",
       "38         CSSM  Share of Listings With a Price Cut (Smooth, SF...   \n",
       "39         MSAM  Mean Days to Pending (Smooth, All Homes, Monthly)   \n",
       "40         IRAW   For-Sale Inventory (Raw, All Homes, Weekly View)   \n",
       "41         MRAM     Mean Days to Pending (Raw, All Homes, Monthly)   \n",
       "42         SSSW  Median Sale Price (Smooth, SFR only, Weekly View)   \n",
       "43         LSSM      Median List Price (Smooth, SFR Only, Monthly)   \n",
       "44         CSAW  Share of Listings With a Price Cut (Smooth, Al...   \n",
       "45         ISSM     For-Sale Inventory (Smooth, SFR only, Monthly)   \n",
       "46         SASW  Median Sale Price (Smooth & Seasonally Adjuste...   \n",
       "47         MRAW  Mean Days to Pending (Raw, All Homes, Weekly V...   \n",
       "48         LRAM        Median List Price (Raw, All Homes, Monthly)   \n",
       "49         ISSW  For-Sale Inventory (Smooth, SFR only, Weekly V...   \n",
       "50         MSAW  Mean Days to Pending (Smooth, All Homes, Weekl...   \n",
       "51         LSAM     Median List Price (Smooth, All Homes, Monthly)   \n",
       "52         CRAM  Share of Listings With a Price Cut (Raw, All H...   \n",
       "53         ISAM    For-Sale Inventory (Smooth, All Homes, Monthly)   \n",
       "54         IRSM        For-sale Inventory (Raw, SFR only, Monthly)   \n",
       "55         SRSW     Median Sale Price (Raw, SFR only, Weekly View)   \n",
       "\n",
       "               category  \n",
       "0           Home values  \n",
       "1           Home values  \n",
       "2           Home values  \n",
       "3           Home values  \n",
       "4           Home values  \n",
       "5           Home values  \n",
       "6           Home values  \n",
       "7           Home values  \n",
       "8           Home values  \n",
       "9   Inventory and sales  \n",
       "10  Inventory and sales  \n",
       "11  Inventory and sales  \n",
       "12  Inventory and sales  \n",
       "13  Inventory and sales  \n",
       "14  Inventory and sales  \n",
       "15  Inventory and sales  \n",
       "16  Inventory and sales  \n",
       "17  Inventory and sales  \n",
       "18  Inventory and sales  \n",
       "19  Inventory and sales  \n",
       "20  Inventory and sales  \n",
       "21  Inventory and sales  \n",
       "22  Inventory and sales  \n",
       "23  Inventory and sales  \n",
       "24  Inventory and sales  \n",
       "25  Inventory and sales  \n",
       "26  Inventory and sales  \n",
       "27  Inventory and sales  \n",
       "28  Inventory and sales  \n",
       "29  Inventory and sales  \n",
       "30  Inventory and sales  \n",
       "31              Rentals  \n",
       "32              Rentals  \n",
       "33          Home values  \n",
       "34  Inventory and sales  \n",
       "35  Inventory and sales  \n",
       "36  Inventory and sales  \n",
       "37  Inventory and sales  \n",
       "38  Inventory and sales  \n",
       "39  Inventory and sales  \n",
       "40  Inventory and sales  \n",
       "41  Inventory and sales  \n",
       "42  Inventory and sales  \n",
       "43  Inventory and sales  \n",
       "44  Inventory and sales  \n",
       "45  Inventory and sales  \n",
       "46  Inventory and sales  \n",
       "47  Inventory and sales  \n",
       "48  Inventory and sales  \n",
       "49  Inventory and sales  \n",
       "50  Inventory and sales  \n",
       "51  Inventory and sales  \n",
       "52  Inventory and sales  \n",
       "53  Inventory and sales  \n",
       "54  Inventory and sales  \n",
       "55  Inventory and sales  "
      ],
      "text/html": "<div>\n<style scoped>\n    .dataframe tbody tr th:only-of-type {\n        vertical-align: middle;\n    }\n\n    .dataframe tbody tr th {\n        vertical-align: top;\n    }\n\n    .dataframe thead th {\n        text-align: right;\n    }\n</style>\n<table border=\"1\" class=\"dataframe\">\n  <thead>\n    <tr style=\"text-align: right;\">\n      <th></th>\n      <th>indicator_id</th>\n      <th>indicator</th>\n      <th>category</th>\n    </tr>\n  </thead>\n  <tbody>\n    <tr>\n      <th>0</th>\n      <td>ZATT</td>\n      <td>ZHVI All Homes- Top Tier Time Series ($)</td>\n      <td>Home values</td>\n    </tr>\n    <tr>\n      <th>1</th>\n      <td>ZSFH</td>\n      <td>ZHVI Single-Family Homes Time Series ($)</td>\n      <td>Home values</td>\n    </tr>\n    <tr>\n      <th>2</th>\n      <td>ZALL</td>\n      <td>ZHVI All Homes (SFR, Condo/Co-op) Time Series ($)</td>\n      <td>Home values</td>\n    </tr>\n    <tr>\n      <th>3</th>\n      <td>ZCON</td>\n      <td>ZHVI Condo/Co-op Time Series ($)</td>\n      <td>Home values</td>\n    </tr>\n    <tr>\n      <th>4</th>\n      <td>ZABT</td>\n      <td>ZHVI All Homes- Bottom Tier Time Series ($)</td>\n      <td>Home values</td>\n    </tr>\n    <tr>\n      <th>5</th>\n      <td>Z5BR</td>\n      <td>ZHVI 5+ Bedroom Time Series ($)</td>\n      <td>Home values</td>\n    </tr>\n    <tr>\n      <th>6</th>\n      <td>Z2BR</td>\n      <td>ZHVI 2-Bedroom Time Series ($)</td>\n      <td>Home values</td>\n    </tr>\n    <tr>\n      <th>7</th>\n      <td>Z3BR</td>\n      <td>ZHVI 3-Bedroom Time Series ($)</td>\n      <td>Home values</td>\n    </tr>\n    <tr>\n      <th>8</th>\n      <td>Z1BR</td>\n      <td>ZHVI 1-Bedroom Time Series ($)</td>\n      <td>Home values</td>\n    </tr>\n    <tr>\n      <th>9</th>\n      <td>LSAW</td>\n      <td>Median List Price (Smooth, All Homes, Weekly V...</td>\n      <td>Inventory and sales</td>\n    </tr>\n    <tr>\n      <th>10</th>\n      <td>NRAW</td>\n      <td>Median Days to Pending (Raw, All Homes, Weekly...</td>\n      <td>Inventory and sales</td>\n    </tr>\n    <tr>\n      <th>11</th>\n      <td>NSAW</td>\n      <td>Median Days to Pending (Smooth, All Homes, Wee...</td>\n      <td>Inventory and sales</td>\n    </tr>\n    <tr>\n      <th>12</th>\n      <td>CRSW</td>\n      <td>Share of Listings With a Price Cut (Raw, SFR O...</td>\n      <td>Inventory and sales</td>\n    </tr>\n    <tr>\n      <th>13</th>\n      <td>SSAM</td>\n      <td>Median Sale Price (Smooth, All Homes, Monthly)</td>\n      <td>Inventory and sales</td>\n    </tr>\n    <tr>\n      <th>14</th>\n      <td>IRSW</td>\n      <td>For-sale Inventory (Raw, SFR only, Weekly View)</td>\n      <td>Inventory and sales</td>\n    </tr>\n    <tr>\n      <th>15</th>\n      <td>NRAM</td>\n      <td>Median Days to Pending (Raw, All Homes, Monthly)</td>\n      <td>Inventory and sales</td>\n    </tr>\n    <tr>\n      <th>16</th>\n      <td>CRAW</td>\n      <td>Share of Listings With a Price Cut (Raw, All H...</td>\n      <td>Inventory and sales</td>\n    </tr>\n    <tr>\n      <th>17</th>\n      <td>LRSM</td>\n      <td>Median List Price (Raw, SFR Only, Monthly)</td>\n      <td>Inventory and sales</td>\n    </tr>\n    <tr>\n      <th>18</th>\n      <td>SASM</td>\n      <td>Median Sale Price (Smooth &amp; Seasonally Adjuste...</td>\n      <td>Inventory and sales</td>\n    </tr>\n    <tr>\n      <th>19</th>\n      <td>SSSM</td>\n      <td>Median Sale Price (Smooth, SFR only, Monthly)</td>\n      <td>Inventory and sales</td>\n    </tr>\n    <tr>\n      <th>20</th>\n      <td>SAAM</td>\n      <td>Median Sale Price (Smooth &amp; Seasonally Adjuste...</td>\n      <td>Inventory and sales</td>\n    </tr>\n    <tr>\n      <th>21</th>\n      <td>LRAW</td>\n      <td>Median List Price (Raw, All Homes, Weekly View)</td>\n      <td>Inventory and sales</td>\n    </tr>\n    <tr>\n      <th>22</th>\n      <td>CSAM</td>\n      <td>Share of Listings With a Price Cut (Smooth, Al...</td>\n      <td>Inventory and sales</td>\n    </tr>\n    <tr>\n      <th>23</th>\n      <td>SRAW</td>\n      <td>Median Sale Price (Raw, All Homes, Weekly View)</td>\n      <td>Inventory and sales</td>\n    </tr>\n    <tr>\n      <th>24</th>\n      <td>CSSW</td>\n      <td>Share of Listings With a Price Cut (Smooth, SF...</td>\n      <td>Inventory and sales</td>\n    </tr>\n    <tr>\n      <th>25</th>\n      <td>LRSW</td>\n      <td>Median List Price (Raw, SFR Only, Weekly View)</td>\n      <td>Inventory and sales</td>\n    </tr>\n    <tr>\n      <th>26</th>\n      <td>SRSM</td>\n      <td>Median Sale Price (Raw, SFR only, Monthly)</td>\n      <td>Inventory and sales</td>\n    </tr>\n    <tr>\n      <th>27</th>\n      <td>SAAW</td>\n      <td>Median Sale Price (Smooth &amp; Seasonally Adjuste...</td>\n      <td>Inventory and sales</td>\n    </tr>\n    <tr>\n      <th>28</th>\n      <td>LSSW</td>\n      <td>Median List Price (Smooth, SFR Only, Weekly View)</td>\n      <td>Inventory and sales</td>\n    </tr>\n    <tr>\n      <th>29</th>\n      <td>SRAM</td>\n      <td>Median Sale Price (Raw, All Homes, Monthly)</td>\n      <td>Inventory and sales</td>\n    </tr>\n    <tr>\n      <th>30</th>\n      <td>NSAM</td>\n      <td>Median Days to Pending (Smooth, All Homes, Mon...</td>\n      <td>Inventory and sales</td>\n    </tr>\n    <tr>\n      <th>31</th>\n      <td>RSNA</td>\n      <td>ZORI (Smoothed): All Homes Plus Multifamily Ti...</td>\n      <td>Rentals</td>\n    </tr>\n    <tr>\n      <th>32</th>\n      <td>RSSA</td>\n      <td>ZORI (Smoothed, Seasonally Adjusted): All Home...</td>\n      <td>Rentals</td>\n    </tr>\n    <tr>\n      <th>33</th>\n      <td>Z4BR</td>\n      <td>ZHVI 4-Bedroom Time Series ($)</td>\n      <td>Home values</td>\n    </tr>\n    <tr>\n      <th>34</th>\n      <td>ISAW</td>\n      <td>For-Sale Inventory (Smooth, All Homes, Weekly ...</td>\n      <td>Inventory and sales</td>\n    </tr>\n    <tr>\n      <th>35</th>\n      <td>SSAW</td>\n      <td>Median Sale Price (Smooth, All Homes, Weekly V...</td>\n      <td>Inventory and sales</td>\n    </tr>\n    <tr>\n      <th>36</th>\n      <td>IRAM</td>\n      <td>For-Sale Inventory (Raw, All Homes, Monthly)</td>\n      <td>Inventory and sales</td>\n    </tr>\n    <tr>\n      <th>37</th>\n      <td>CRSM</td>\n      <td>Share of Listings With a Price Cut (Raw, SFR O...</td>\n      <td>Inventory and sales</td>\n    </tr>\n    <tr>\n      <th>38</th>\n      <td>CSSM</td>\n      <td>Share of Listings With a Price Cut (Smooth, SF...</td>\n      <td>Inventory and sales</td>\n    </tr>\n    <tr>\n      <th>39</th>\n      <td>MSAM</td>\n      <td>Mean Days to Pending (Smooth, All Homes, Monthly)</td>\n      <td>Inventory and sales</td>\n    </tr>\n    <tr>\n      <th>40</th>\n      <td>IRAW</td>\n      <td>For-Sale Inventory (Raw, All Homes, Weekly View)</td>\n      <td>Inventory and sales</td>\n    </tr>\n    <tr>\n      <th>41</th>\n      <td>MRAM</td>\n      <td>Mean Days to Pending (Raw, All Homes, Monthly)</td>\n      <td>Inventory and sales</td>\n    </tr>\n    <tr>\n      <th>42</th>\n      <td>SSSW</td>\n      <td>Median Sale Price (Smooth, SFR only, Weekly View)</td>\n      <td>Inventory and sales</td>\n    </tr>\n    <tr>\n      <th>43</th>\n      <td>LSSM</td>\n      <td>Median List Price (Smooth, SFR Only, Monthly)</td>\n      <td>Inventory and sales</td>\n    </tr>\n    <tr>\n      <th>44</th>\n      <td>CSAW</td>\n      <td>Share of Listings With a Price Cut (Smooth, Al...</td>\n      <td>Inventory and sales</td>\n    </tr>\n    <tr>\n      <th>45</th>\n      <td>ISSM</td>\n      <td>For-Sale Inventory (Smooth, SFR only, Monthly)</td>\n      <td>Inventory and sales</td>\n    </tr>\n    <tr>\n      <th>46</th>\n      <td>SASW</td>\n      <td>Median Sale Price (Smooth &amp; Seasonally Adjuste...</td>\n      <td>Inventory and sales</td>\n    </tr>\n    <tr>\n      <th>47</th>\n      <td>MRAW</td>\n      <td>Mean Days to Pending (Raw, All Homes, Weekly V...</td>\n      <td>Inventory and sales</td>\n    </tr>\n    <tr>\n      <th>48</th>\n      <td>LRAM</td>\n      <td>Median List Price (Raw, All Homes, Monthly)</td>\n      <td>Inventory and sales</td>\n    </tr>\n    <tr>\n      <th>49</th>\n      <td>ISSW</td>\n      <td>For-Sale Inventory (Smooth, SFR only, Weekly V...</td>\n      <td>Inventory and sales</td>\n    </tr>\n    <tr>\n      <th>50</th>\n      <td>MSAW</td>\n      <td>Mean Days to Pending (Smooth, All Homes, Weekl...</td>\n      <td>Inventory and sales</td>\n    </tr>\n    <tr>\n      <th>51</th>\n      <td>LSAM</td>\n      <td>Median List Price (Smooth, All Homes, Monthly)</td>\n      <td>Inventory and sales</td>\n    </tr>\n    <tr>\n      <th>52</th>\n      <td>CRAM</td>\n      <td>Share of Listings With a Price Cut (Raw, All H...</td>\n      <td>Inventory and sales</td>\n    </tr>\n    <tr>\n      <th>53</th>\n      <td>ISAM</td>\n      <td>For-Sale Inventory (Smooth, All Homes, Monthly)</td>\n      <td>Inventory and sales</td>\n    </tr>\n    <tr>\n      <th>54</th>\n      <td>IRSM</td>\n      <td>For-sale Inventory (Raw, SFR only, Monthly)</td>\n      <td>Inventory and sales</td>\n    </tr>\n    <tr>\n      <th>55</th>\n      <td>SRSW</td>\n      <td>Median Sale Price (Raw, SFR only, Weekly View)</td>\n      <td>Inventory and sales</td>\n    </tr>\n  </tbody>\n</table>\n</div>"
     },
     "metadata": {},
     "execution_count": 27
    }
   ],
   "source": [
    "indicators"
   ]
  },
  {
   "cell_type": "code",
   "execution_count": 29,
   "metadata": {},
   "outputs": [
    {
     "output_type": "execute_result",
     "data": {
      "text/plain": [
       "array(['Home values', 'Inventory and sales', 'Rentals'], dtype=object)"
      ]
     },
     "metadata": {},
     "execution_count": 29
    }
   ],
   "source": [
    "indicators['category'].unique()"
   ]
  },
  {
   "cell_type": "code",
   "execution_count": 31,
   "metadata": {},
   "outputs": [
    {
     "output_type": "execute_result",
     "data": {
      "text/plain": [
       "   indicator_id                                          indicator category\n",
       "31         RSNA  ZORI (Smoothed): All Homes Plus Multifamily Ti...  Rentals\n",
       "32         RSSA  ZORI (Smoothed, Seasonally Adjusted): All Home...  Rentals"
      ],
      "text/html": "<div>\n<style scoped>\n    .dataframe tbody tr th:only-of-type {\n        vertical-align: middle;\n    }\n\n    .dataframe tbody tr th {\n        vertical-align: top;\n    }\n\n    .dataframe thead th {\n        text-align: right;\n    }\n</style>\n<table border=\"1\" class=\"dataframe\">\n  <thead>\n    <tr style=\"text-align: right;\">\n      <th></th>\n      <th>indicator_id</th>\n      <th>indicator</th>\n      <th>category</th>\n    </tr>\n  </thead>\n  <tbody>\n    <tr>\n      <th>31</th>\n      <td>RSNA</td>\n      <td>ZORI (Smoothed): All Homes Plus Multifamily Ti...</td>\n      <td>Rentals</td>\n    </tr>\n    <tr>\n      <th>32</th>\n      <td>RSSA</td>\n      <td>ZORI (Smoothed, Seasonally Adjusted): All Home...</td>\n      <td>Rentals</td>\n    </tr>\n  </tbody>\n</table>\n</div>"
     },
     "metadata": {},
     "execution_count": 31
    }
   ],
   "source": [
    "rentals = indicators[indicators['category'] == 'Rentals']\n",
    "rentals.head()"
   ]
  },
  {
   "cell_type": "code",
   "execution_count": 67,
   "metadata": {},
   "outputs": [
    {
     "output_type": "stream",
     "name": "stdout",
     "text": [
      "RSNA\nRSSA\n"
     ]
    }
   ],
   "source": [
    "for item in rentals['indicator_id']:\n",
    "    print(item)"
   ]
  },
  {
   "cell_type": "code",
   "execution_count": null,
   "metadata": {},
   "outputs": [],
   "source": []
  },
  {
   "source": [
    "## Regions"
   ],
   "cell_type": "markdown",
   "metadata": {}
  },
  {
   "cell_type": "code",
   "execution_count": 35,
   "metadata": {},
   "outputs": [
    {
     "output_type": "execute_result",
     "data": {
      "text/plain": [
       "      region_id region_type                    region\n",
       "1150          3       state                Alaska; AK\n",
       "453           4       state               Alabama; AL\n",
       "515           6       state              Arkansas; AR\n",
       "30            8       state               Arizona; AZ\n",
       "10            9       state            California; CA\n",
       "2555         10       state              Colorado; CO\n",
       "349          11       state           Connecticut; CT\n",
       "1243         12       state  District of Columbia; DC\n",
       "1149         13       state              Delaware; DE\n",
       "11           14       state               Florida; FL\n",
       "2539         16       state               Georgia; GA\n",
       "76           18       state                Hawaii; HI\n",
       "454          19       state                  Iowa; IA\n",
       "75           20       state                 Idaho; ID\n",
       "14           21       state              Illinois; IL\n",
       "2030         22       state               Indiana; IN\n",
       "65           23       state                Kansas; KS\n",
       "5855         24       state              Kentucky; KY\n",
       "52           25       state             Louisiana; LA\n",
       "88           26       state         Massachusetts; MA"
      ],
      "text/html": "<div>\n<style scoped>\n    .dataframe tbody tr th:only-of-type {\n        vertical-align: middle;\n    }\n\n    .dataframe tbody tr th {\n        vertical-align: top;\n    }\n\n    .dataframe thead th {\n        text-align: right;\n    }\n</style>\n<table border=\"1\" class=\"dataframe\">\n  <thead>\n    <tr style=\"text-align: right;\">\n      <th></th>\n      <th>region_id</th>\n      <th>region_type</th>\n      <th>region</th>\n    </tr>\n  </thead>\n  <tbody>\n    <tr>\n      <th>1150</th>\n      <td>3</td>\n      <td>state</td>\n      <td>Alaska; AK</td>\n    </tr>\n    <tr>\n      <th>453</th>\n      <td>4</td>\n      <td>state</td>\n      <td>Alabama; AL</td>\n    </tr>\n    <tr>\n      <th>515</th>\n      <td>6</td>\n      <td>state</td>\n      <td>Arkansas; AR</td>\n    </tr>\n    <tr>\n      <th>30</th>\n      <td>8</td>\n      <td>state</td>\n      <td>Arizona; AZ</td>\n    </tr>\n    <tr>\n      <th>10</th>\n      <td>9</td>\n      <td>state</td>\n      <td>California; CA</td>\n    </tr>\n    <tr>\n      <th>2555</th>\n      <td>10</td>\n      <td>state</td>\n      <td>Colorado; CO</td>\n    </tr>\n    <tr>\n      <th>349</th>\n      <td>11</td>\n      <td>state</td>\n      <td>Connecticut; CT</td>\n    </tr>\n    <tr>\n      <th>1243</th>\n      <td>12</td>\n      <td>state</td>\n      <td>District of Columbia; DC</td>\n    </tr>\n    <tr>\n      <th>1149</th>\n      <td>13</td>\n      <td>state</td>\n      <td>Delaware; DE</td>\n    </tr>\n    <tr>\n      <th>11</th>\n      <td>14</td>\n      <td>state</td>\n      <td>Florida; FL</td>\n    </tr>\n    <tr>\n      <th>2539</th>\n      <td>16</td>\n      <td>state</td>\n      <td>Georgia; GA</td>\n    </tr>\n    <tr>\n      <th>76</th>\n      <td>18</td>\n      <td>state</td>\n      <td>Hawaii; HI</td>\n    </tr>\n    <tr>\n      <th>454</th>\n      <td>19</td>\n      <td>state</td>\n      <td>Iowa; IA</td>\n    </tr>\n    <tr>\n      <th>75</th>\n      <td>20</td>\n      <td>state</td>\n      <td>Idaho; ID</td>\n    </tr>\n    <tr>\n      <th>14</th>\n      <td>21</td>\n      <td>state</td>\n      <td>Illinois; IL</td>\n    </tr>\n    <tr>\n      <th>2030</th>\n      <td>22</td>\n      <td>state</td>\n      <td>Indiana; IN</td>\n    </tr>\n    <tr>\n      <th>65</th>\n      <td>23</td>\n      <td>state</td>\n      <td>Kansas; KS</td>\n    </tr>\n    <tr>\n      <th>5855</th>\n      <td>24</td>\n      <td>state</td>\n      <td>Kentucky; KY</td>\n    </tr>\n    <tr>\n      <th>52</th>\n      <td>25</td>\n      <td>state</td>\n      <td>Louisiana; LA</td>\n    </tr>\n    <tr>\n      <th>88</th>\n      <td>26</td>\n      <td>state</td>\n      <td>Massachusetts; MA</td>\n    </tr>\n  </tbody>\n</table>\n</div>"
     },
     "metadata": {},
     "execution_count": 35
    }
   ],
   "source": [
    "regions = pd.read_csv('V:\\ZILLOW_REGIONS.csv')\n",
    "regions = regions.sort_values(by=['region_id'])\n",
    "regions.head(20)"
   ]
  },
  {
   "cell_type": "code",
   "execution_count": 37,
   "metadata": {},
   "outputs": [
    {
     "output_type": "execute_result",
     "data": {
      "text/plain": [
       "78730"
      ]
     },
     "metadata": {},
     "execution_count": 37
    }
   ],
   "source": [
    "len(regions)"
   ]
  },
  {
   "cell_type": "code",
   "execution_count": 39,
   "metadata": {},
   "outputs": [
    {
     "output_type": "execute_result",
     "data": {
      "text/plain": [
       "array(['state', 'county', 'city', 'neigh', 'zip', 'metro'], dtype=object)"
      ]
     },
     "metadata": {},
     "execution_count": 39
    }
   ],
   "source": [
    "regions['region_type'].unique()"
   ]
  },
  {
   "cell_type": "code",
   "execution_count": 41,
   "metadata": {},
   "outputs": [
    {
     "output_type": "execute_result",
     "data": {
      "text/plain": [
       "78730"
      ]
     },
     "metadata": {},
     "execution_count": 41
    }
   ],
   "source": [
    "len(regions['region_type'] == 'metro')"
   ]
  },
  {
   "cell_type": "code",
   "execution_count": 43,
   "metadata": {},
   "outputs": [
    {
     "output_type": "execute_result",
     "data": {
      "text/plain": [
       "       region_id region_type                 region\n",
       "5176      102001       metro          United States\n",
       "13277     394297       metro       Aberdeen, SD; SD\n",
       "13668     394298       metro       Aberdeen, WA; WA\n",
       "1213      394299       metro        Abilene, TX; TX\n",
       "4449      394300       metro            Ada, OK; OK\n",
       "3469      394302       metro         Adrian, MI; MI\n",
       "1237      394304       metro              Akron, OH\n",
       "5831      394305       metro     Alamogordo, NM; NM\n",
       "2423      394306       metro         Albany, GA; GA\n",
       "2899      394307       metro         Albany, OR; OR\n",
       "595       394308       metro             Albany, NY\n",
       "3822      394309       metro      Albemarle, NC; NC\n",
       "4733      394310       metro     Albert Lea, MN; MN\n",
       "4193      394311       metro    Albertville, AL; AL\n",
       "571       394312       metro        Albuquerque, NM\n",
       "6304      394314       metro     Alexandria, LA; LA\n",
       "7409      394315       metro     Alexandria, MN; MN\n",
       "15618     394316       metro          Alice, TX; TX\n",
       "27753     394318       metro          Allentown, PA\n",
       "6538      394319       metro           Alma, MI; MI\n",
       "4739      394320       metro         Alpena, MI; MI\n",
       "2619      394321       metro        Altoona, PA; PA\n",
       "8366      394322       metro          Altus, OK; OK\n",
       "1917      394323       metro       Amarillo, TX; TX\n",
       "17871     394324       metro       Americus, GA; GA\n",
       "8132      394325       metro           Ames, IA; IA\n",
       "9409      394326       metro      Amsterdam, NY; NY\n",
       "1124      394327       metro      Anchorage, AK; AK\n",
       "26329     394330       metro        Andrews, TX; TX\n",
       "7742      394331       metro         Angola, IN; IN\n",
       "1619      394332       metro      Ann Arbor, MI; MI\n",
       "2839      394333       metro       Anniston, AL; AL\n",
       "584       394334       metro       Appleton, WI; WI\n",
       "7490      394335       metro        Arcadia, FL; FL\n",
       "31251     394336       metro        Ardmore, OK; OK\n",
       "4886      394337       metro    Arkadelphia, AR; AR\n",
       "581       394338       metro      Asheville, NC; NC\n",
       "30241     394339       metro        Ashland, OH; OH\n",
       "3243      394340       metro      Ashtabula, OH; OH\n",
       "7201      394341       metro        Astoria, OR; OR\n",
       "10888     394342       metro       Atchison, KS; KS\n",
       "5810      394343       metro         Athens, OH; OH\n",
       "30464     394344       metro         Athens, TN; TN\n",
       "11524     394345       metro         Athens, TX; TX\n",
       "1199      394346       metro         Athens, GA; GA\n",
       "99        394347       metro            Atlanta, GA\n",
       "1875      394348       metro  Atlantic City, NJ; NJ\n",
       "13911     394349       metro         Auburn, IN; IN\n",
       "3482      394350       metro         Auburn, NY; NY\n",
       "2278      394351       metro         Auburn, AL; AL"
      ],
      "text/html": "<div>\n<style scoped>\n    .dataframe tbody tr th:only-of-type {\n        vertical-align: middle;\n    }\n\n    .dataframe tbody tr th {\n        vertical-align: top;\n    }\n\n    .dataframe thead th {\n        text-align: right;\n    }\n</style>\n<table border=\"1\" class=\"dataframe\">\n  <thead>\n    <tr style=\"text-align: right;\">\n      <th></th>\n      <th>region_id</th>\n      <th>region_type</th>\n      <th>region</th>\n    </tr>\n  </thead>\n  <tbody>\n    <tr>\n      <th>5176</th>\n      <td>102001</td>\n      <td>metro</td>\n      <td>United States</td>\n    </tr>\n    <tr>\n      <th>13277</th>\n      <td>394297</td>\n      <td>metro</td>\n      <td>Aberdeen, SD; SD</td>\n    </tr>\n    <tr>\n      <th>13668</th>\n      <td>394298</td>\n      <td>metro</td>\n      <td>Aberdeen, WA; WA</td>\n    </tr>\n    <tr>\n      <th>1213</th>\n      <td>394299</td>\n      <td>metro</td>\n      <td>Abilene, TX; TX</td>\n    </tr>\n    <tr>\n      <th>4449</th>\n      <td>394300</td>\n      <td>metro</td>\n      <td>Ada, OK; OK</td>\n    </tr>\n    <tr>\n      <th>3469</th>\n      <td>394302</td>\n      <td>metro</td>\n      <td>Adrian, MI; MI</td>\n    </tr>\n    <tr>\n      <th>1237</th>\n      <td>394304</td>\n      <td>metro</td>\n      <td>Akron, OH</td>\n    </tr>\n    <tr>\n      <th>5831</th>\n      <td>394305</td>\n      <td>metro</td>\n      <td>Alamogordo, NM; NM</td>\n    </tr>\n    <tr>\n      <th>2423</th>\n      <td>394306</td>\n      <td>metro</td>\n      <td>Albany, GA; GA</td>\n    </tr>\n    <tr>\n      <th>2899</th>\n      <td>394307</td>\n      <td>metro</td>\n      <td>Albany, OR; OR</td>\n    </tr>\n    <tr>\n      <th>595</th>\n      <td>394308</td>\n      <td>metro</td>\n      <td>Albany, NY</td>\n    </tr>\n    <tr>\n      <th>3822</th>\n      <td>394309</td>\n      <td>metro</td>\n      <td>Albemarle, NC; NC</td>\n    </tr>\n    <tr>\n      <th>4733</th>\n      <td>394310</td>\n      <td>metro</td>\n      <td>Albert Lea, MN; MN</td>\n    </tr>\n    <tr>\n      <th>4193</th>\n      <td>394311</td>\n      <td>metro</td>\n      <td>Albertville, AL; AL</td>\n    </tr>\n    <tr>\n      <th>571</th>\n      <td>394312</td>\n      <td>metro</td>\n      <td>Albuquerque, NM</td>\n    </tr>\n    <tr>\n      <th>6304</th>\n      <td>394314</td>\n      <td>metro</td>\n      <td>Alexandria, LA; LA</td>\n    </tr>\n    <tr>\n      <th>7409</th>\n      <td>394315</td>\n      <td>metro</td>\n      <td>Alexandria, MN; MN</td>\n    </tr>\n    <tr>\n      <th>15618</th>\n      <td>394316</td>\n      <td>metro</td>\n      <td>Alice, TX; TX</td>\n    </tr>\n    <tr>\n      <th>27753</th>\n      <td>394318</td>\n      <td>metro</td>\n      <td>Allentown, PA</td>\n    </tr>\n    <tr>\n      <th>6538</th>\n      <td>394319</td>\n      <td>metro</td>\n      <td>Alma, MI; MI</td>\n    </tr>\n    <tr>\n      <th>4739</th>\n      <td>394320</td>\n      <td>metro</td>\n      <td>Alpena, MI; MI</td>\n    </tr>\n    <tr>\n      <th>2619</th>\n      <td>394321</td>\n      <td>metro</td>\n      <td>Altoona, PA; PA</td>\n    </tr>\n    <tr>\n      <th>8366</th>\n      <td>394322</td>\n      <td>metro</td>\n      <td>Altus, OK; OK</td>\n    </tr>\n    <tr>\n      <th>1917</th>\n      <td>394323</td>\n      <td>metro</td>\n      <td>Amarillo, TX; TX</td>\n    </tr>\n    <tr>\n      <th>17871</th>\n      <td>394324</td>\n      <td>metro</td>\n      <td>Americus, GA; GA</td>\n    </tr>\n    <tr>\n      <th>8132</th>\n      <td>394325</td>\n      <td>metro</td>\n      <td>Ames, IA; IA</td>\n    </tr>\n    <tr>\n      <th>9409</th>\n      <td>394326</td>\n      <td>metro</td>\n      <td>Amsterdam, NY; NY</td>\n    </tr>\n    <tr>\n      <th>1124</th>\n      <td>394327</td>\n      <td>metro</td>\n      <td>Anchorage, AK; AK</td>\n    </tr>\n    <tr>\n      <th>26329</th>\n      <td>394330</td>\n      <td>metro</td>\n      <td>Andrews, TX; TX</td>\n    </tr>\n    <tr>\n      <th>7742</th>\n      <td>394331</td>\n      <td>metro</td>\n      <td>Angola, IN; IN</td>\n    </tr>\n    <tr>\n      <th>1619</th>\n      <td>394332</td>\n      <td>metro</td>\n      <td>Ann Arbor, MI; MI</td>\n    </tr>\n    <tr>\n      <th>2839</th>\n      <td>394333</td>\n      <td>metro</td>\n      <td>Anniston, AL; AL</td>\n    </tr>\n    <tr>\n      <th>584</th>\n      <td>394334</td>\n      <td>metro</td>\n      <td>Appleton, WI; WI</td>\n    </tr>\n    <tr>\n      <th>7490</th>\n      <td>394335</td>\n      <td>metro</td>\n      <td>Arcadia, FL; FL</td>\n    </tr>\n    <tr>\n      <th>31251</th>\n      <td>394336</td>\n      <td>metro</td>\n      <td>Ardmore, OK; OK</td>\n    </tr>\n    <tr>\n      <th>4886</th>\n      <td>394337</td>\n      <td>metro</td>\n      <td>Arkadelphia, AR; AR</td>\n    </tr>\n    <tr>\n      <th>581</th>\n      <td>394338</td>\n      <td>metro</td>\n      <td>Asheville, NC; NC</td>\n    </tr>\n    <tr>\n      <th>30241</th>\n      <td>394339</td>\n      <td>metro</td>\n      <td>Ashland, OH; OH</td>\n    </tr>\n    <tr>\n      <th>3243</th>\n      <td>394340</td>\n      <td>metro</td>\n      <td>Ashtabula, OH; OH</td>\n    </tr>\n    <tr>\n      <th>7201</th>\n      <td>394341</td>\n      <td>metro</td>\n      <td>Astoria, OR; OR</td>\n    </tr>\n    <tr>\n      <th>10888</th>\n      <td>394342</td>\n      <td>metro</td>\n      <td>Atchison, KS; KS</td>\n    </tr>\n    <tr>\n      <th>5810</th>\n      <td>394343</td>\n      <td>metro</td>\n      <td>Athens, OH; OH</td>\n    </tr>\n    <tr>\n      <th>30464</th>\n      <td>394344</td>\n      <td>metro</td>\n      <td>Athens, TN; TN</td>\n    </tr>\n    <tr>\n      <th>11524</th>\n      <td>394345</td>\n      <td>metro</td>\n      <td>Athens, TX; TX</td>\n    </tr>\n    <tr>\n      <th>1199</th>\n      <td>394346</td>\n      <td>metro</td>\n      <td>Athens, GA; GA</td>\n    </tr>\n    <tr>\n      <th>99</th>\n      <td>394347</td>\n      <td>metro</td>\n      <td>Atlanta, GA</td>\n    </tr>\n    <tr>\n      <th>1875</th>\n      <td>394348</td>\n      <td>metro</td>\n      <td>Atlantic City, NJ; NJ</td>\n    </tr>\n    <tr>\n      <th>13911</th>\n      <td>394349</td>\n      <td>metro</td>\n      <td>Auburn, IN; IN</td>\n    </tr>\n    <tr>\n      <th>3482</th>\n      <td>394350</td>\n      <td>metro</td>\n      <td>Auburn, NY; NY</td>\n    </tr>\n    <tr>\n      <th>2278</th>\n      <td>394351</td>\n      <td>metro</td>\n      <td>Auburn, AL; AL</td>\n    </tr>\n  </tbody>\n</table>\n</div>"
     },
     "metadata": {},
     "execution_count": 43
    }
   ],
   "source": [
    "metro = regions[regions['region_type'] == 'metro']\n",
    "metro[:50]"
   ]
  },
  {
   "cell_type": "code",
   "execution_count": null,
   "metadata": {},
   "outputs": [],
   "source": []
  },
  {
   "source": [
    "# Data.World Population Data Set"
   ],
   "cell_type": "markdown",
   "metadata": {}
  },
  {
   "cell_type": "code",
   "execution_count": 45,
   "metadata": {},
   "outputs": [
    {
     "output_type": "execute_result",
     "data": {
      "text/plain": [
       "     State            City  Population\n",
       "0  Alabama        Abernant        7599\n",
       "1  Alabama       Alabaster       31545\n",
       "2  Alabama     Albertville       21458\n",
       "3  Alabama  Alexander City       14849\n",
       "4  Alabama       Andalusia        9081"
      ],
      "text/html": "<div>\n<style scoped>\n    .dataframe tbody tr th:only-of-type {\n        vertical-align: middle;\n    }\n\n    .dataframe tbody tr th {\n        vertical-align: top;\n    }\n\n    .dataframe thead th {\n        text-align: right;\n    }\n</style>\n<table border=\"1\" class=\"dataframe\">\n  <thead>\n    <tr style=\"text-align: right;\">\n      <th></th>\n      <th>State</th>\n      <th>City</th>\n      <th>Population</th>\n    </tr>\n  </thead>\n  <tbody>\n    <tr>\n      <th>0</th>\n      <td>Alabama</td>\n      <td>Abernant</td>\n      <td>7599</td>\n    </tr>\n    <tr>\n      <th>1</th>\n      <td>Alabama</td>\n      <td>Alabaster</td>\n      <td>31545</td>\n    </tr>\n    <tr>\n      <th>2</th>\n      <td>Alabama</td>\n      <td>Albertville</td>\n      <td>21458</td>\n    </tr>\n    <tr>\n      <th>3</th>\n      <td>Alabama</td>\n      <td>Alexander City</td>\n      <td>14849</td>\n    </tr>\n    <tr>\n      <th>4</th>\n      <td>Alabama</td>\n      <td>Andalusia</td>\n      <td>9081</td>\n    </tr>\n  </tbody>\n</table>\n</div>"
     },
     "metadata": {},
     "execution_count": 45
    }
   ],
   "source": [
    "population = pd.read_excel('https://query.data.world/s/gewikohoj4s2gqv4bowlzpdxeu4jzl', usecols=['State', 'City', 'Population'])\n",
    "population.head()"
   ]
  },
  {
   "cell_type": "code",
   "execution_count": 47,
   "metadata": {},
   "outputs": [
    {
     "output_type": "execute_result",
     "data": {
      "text/plain": [
       "6889"
      ]
     },
     "metadata": {},
     "execution_count": 47
    }
   ],
   "source": [
    "len(population)"
   ]
  },
  {
   "cell_type": "code",
   "execution_count": 49,
   "metadata": {},
   "outputs": [
    {
     "output_type": "execute_result",
     "data": {
      "text/plain": [
       "0             Abernant\n",
       "1            Alabaster\n",
       "2          Albertville\n",
       "3       Alexander City\n",
       "4            Andalusia\n",
       "             ...      \n",
       "6884            Lander\n",
       "6885        Torrington\n",
       "6886           Douglas\n",
       "6887            Powell\n",
       "6888    Bridger Valley\n",
       "Name: City, Length: 6889, dtype: object"
      ]
     },
     "metadata": {},
     "execution_count": 49
    }
   ],
   "source": [
    "population['City']"
   ]
  },
  {
   "cell_type": "code",
   "execution_count": 51,
   "metadata": {},
   "outputs": [
    {
     "output_type": "execute_result",
     "data": {
      "text/plain": [
       "500"
      ]
     },
     "metadata": {},
     "execution_count": 51
    }
   ],
   "source": [
    "cities = population[population['Population'] > 80000]\n",
    "len(cities)"
   ]
  },
  {
   "cell_type": "code",
   "execution_count": 53,
   "metadata": {},
   "outputs": [
    {
     "output_type": "execute_result",
     "data": {
      "text/plain": [
       "47"
      ]
     },
     "metadata": {},
     "execution_count": 53
    }
   ],
   "source": [
    "len(cities['State'].unique())"
   ]
  },
  {
   "cell_type": "code",
   "execution_count": 55,
   "metadata": {},
   "outputs": [
    {
     "output_type": "execute_result",
     "data": {
      "text/plain": [
       "array(['Alabama', 'Alaska', 'Arkansas', 'Arizona', 'California',\n",
       "       'Colorado', 'Connecticut', 'Delaware', 'DC', 'Florida', 'Georgia',\n",
       "       'Hawaii', 'Idaho', 'Illinois', 'Indiana', 'Iowa', 'Kansas',\n",
       "       'Kentucky', 'Louisiana', 'Maryland', 'Massachusetts', 'Michigan',\n",
       "       'Minnesota', 'Mississippi', 'Missouri', 'Montana', 'Nebraska',\n",
       "       'Nevada', 'New Hampshire', 'New Jersey', 'New Mexico', 'New York',\n",
       "       'North Carolina', 'North Dakota', 'Ohio', 'Oklahoma', 'Oregon',\n",
       "       'Pennsylvania', 'Rhode Island', 'South Carolina', 'South Dakota',\n",
       "       'Tennessee', 'Texas', 'Utah', 'Virginia', 'Washington',\n",
       "       'Wisconsin'], dtype=object)"
      ]
     },
     "metadata": {},
     "execution_count": 55
    }
   ],
   "source": [
    "cities['State'].unique()"
   ]
  },
  {
   "cell_type": "code",
   "execution_count": 57,
   "metadata": {},
   "outputs": [],
   "source": [
    "states = ['Alabama', 'Alaska', 'Arizona', 'Arkansas', 'California', 'Colorado', \n",
    "'Connecticut', 'Delaware', 'Florida', 'Georgia', 'Hawaii', 'Idaho', \n",
    "'Illinois', 'Indiana', 'Iowa', 'Kansas', 'Kentucky', 'Louisiana', 'Maine', \n",
    "'Maryland', 'Massachusetts', 'Michigan', 'Minnesota', 'Mississippi', \n",
    "'Missouri', 'Montana', 'Nebraska', 'Nevada', 'New Hampshire','New Jersey', \n",
    "'New Mexico', 'New York', 'North Carolina', 'North Dakota', 'Ohio', \n",
    "'Oklahoma', 'Oregon', 'Pennsylvania', 'Rhode Island', 'South Carolina', \n",
    "'South Dakota', 'Tennessee', 'Texas', 'Utah', 'Vermont', 'Virginia', 'Washington', \n",
    "'West Virginia', 'Wisconsin', 'Wyoming']"
   ]
  },
  {
   "cell_type": "code",
   "execution_count": 59,
   "metadata": {},
   "outputs": [
    {
     "output_type": "stream",
     "name": "stdout",
     "text": [
      "['Maine', 'Vermont', 'West Virginia', 'Wyoming']\n"
     ]
    }
   ],
   "source": [
    "missing = []\n",
    "\n",
    "for state in states:\n",
    "    if state not in list(cities['State'].unique()):\n",
    "        missing.append(state)\n",
    "\n",
    "print(missing)"
   ]
  },
  {
   "source": [
    "# Aggregating Data"
   ],
   "cell_type": "markdown",
   "metadata": {}
  },
  {
   "cell_type": "code",
   "execution_count": 61,
   "metadata": {},
   "outputs": [
    {
     "output_type": "execute_result",
     "data": {
      "text/plain": [
       "True"
      ]
     },
     "metadata": {},
     "execution_count": 61
    }
   ],
   "source": [
    "# Checking if data has all the same sections\n",
    "sorted(data['indicator_id'].unique()) == sorted(indicators['indicator_id'].unique())"
   ]
  },
  {
   "cell_type": "code",
   "execution_count": 96,
   "metadata": {},
   "outputs": [
    {
     "output_type": "stream",
     "name": "stdout",
     "text": [
      "(535891, 4)\n"
     ]
    },
    {
     "output_type": "execute_result",
     "data": {
      "text/plain": [
       "        indicator_id  region_id        date   value\n",
       "7851413         RSNA      58362  2020-09-30  1321.0\n",
       "7854977         RSSA      58362  2020-10-31  1363.0\n",
       "7851412         RSNA      58362  2020-10-31  1382.0\n",
       "8753680         RSSA      58362  2020-05-31  1243.0\n",
       "8753679         RSSA      58362  2020-06-30  1251.0"
      ],
      "text/html": "<div>\n<style scoped>\n    .dataframe tbody tr th:only-of-type {\n        vertical-align: middle;\n    }\n\n    .dataframe tbody tr th {\n        vertical-align: top;\n    }\n\n    .dataframe thead th {\n        text-align: right;\n    }\n</style>\n<table border=\"1\" class=\"dataframe\">\n  <thead>\n    <tr style=\"text-align: right;\">\n      <th></th>\n      <th>indicator_id</th>\n      <th>region_id</th>\n      <th>date</th>\n      <th>value</th>\n    </tr>\n  </thead>\n  <tbody>\n    <tr>\n      <th>7851413</th>\n      <td>RSNA</td>\n      <td>58362</td>\n      <td>2020-09-30</td>\n      <td>1321.0</td>\n    </tr>\n    <tr>\n      <th>7854977</th>\n      <td>RSSA</td>\n      <td>58362</td>\n      <td>2020-10-31</td>\n      <td>1363.0</td>\n    </tr>\n    <tr>\n      <th>7851412</th>\n      <td>RSNA</td>\n      <td>58362</td>\n      <td>2020-10-31</td>\n      <td>1382.0</td>\n    </tr>\n    <tr>\n      <th>8753680</th>\n      <td>RSSA</td>\n      <td>58362</td>\n      <td>2020-05-31</td>\n      <td>1243.0</td>\n    </tr>\n    <tr>\n      <th>8753679</th>\n      <td>RSSA</td>\n      <td>58362</td>\n      <td>2020-06-30</td>\n      <td>1251.0</td>\n    </tr>\n  </tbody>\n</table>\n</div>"
     },
     "metadata": {},
     "execution_count": 96
    }
   ],
   "source": [
    "rental_data = rental_data.sort_values(by=['region_id'])\n",
    "rental_data = rental_data[rental_data['indicator_id'].isin(['RSSA', 'RSNA'])]\n",
    "print(rental_data.shape)\n",
    "rental_data.head()"
   ]
  },
  {
   "cell_type": "code",
   "execution_count": 93,
   "metadata": {},
   "outputs": [
    {
     "output_type": "execute_result",
     "data": {
      "text/plain": [
       "         indicator_id  region_id        date   value\n",
       "7851413          RSNA      58362  2020-09-30  1321.0\n",
       "8753679          RSSA      58362  2020-06-30  1251.0\n",
       "8747088          RSNA      58362  2020-06-30  1220.0\n",
       "8747082          RSNA      58362  2020-07-31  1351.0\n",
       "8747089          RSNA      58362  2020-05-31  1243.0\n",
       "...               ...        ...         ...     ...\n",
       "51008783         RSSA     753924  2019-10-31  2105.0\n",
       "1610766          RSSA     753924  2020-04-30  2093.0\n",
       "51008768         RSSA     753924  2018-07-31  2057.0\n",
       "51008757         RSSA     753924  2017-08-31  2029.0\n",
       "51008753         RSSA     753924  2017-04-30  2023.0\n",
       "\n",
       "[535891 rows x 4 columns]"
      ],
      "text/html": "<div>\n<style scoped>\n    .dataframe tbody tr th:only-of-type {\n        vertical-align: middle;\n    }\n\n    .dataframe tbody tr th {\n        vertical-align: top;\n    }\n\n    .dataframe thead th {\n        text-align: right;\n    }\n</style>\n<table border=\"1\" class=\"dataframe\">\n  <thead>\n    <tr style=\"text-align: right;\">\n      <th></th>\n      <th>indicator_id</th>\n      <th>region_id</th>\n      <th>date</th>\n      <th>value</th>\n    </tr>\n  </thead>\n  <tbody>\n    <tr>\n      <th>7851413</th>\n      <td>RSNA</td>\n      <td>58362</td>\n      <td>2020-09-30</td>\n      <td>1321.0</td>\n    </tr>\n    <tr>\n      <th>8753679</th>\n      <td>RSSA</td>\n      <td>58362</td>\n      <td>2020-06-30</td>\n      <td>1251.0</td>\n    </tr>\n    <tr>\n      <th>8747088</th>\n      <td>RSNA</td>\n      <td>58362</td>\n      <td>2020-06-30</td>\n      <td>1220.0</td>\n    </tr>\n    <tr>\n      <th>8747082</th>\n      <td>RSNA</td>\n      <td>58362</td>\n      <td>2020-07-31</td>\n      <td>1351.0</td>\n    </tr>\n    <tr>\n      <th>8747089</th>\n      <td>RSNA</td>\n      <td>58362</td>\n      <td>2020-05-31</td>\n      <td>1243.0</td>\n    </tr>\n    <tr>\n      <th>...</th>\n      <td>...</td>\n      <td>...</td>\n      <td>...</td>\n      <td>...</td>\n    </tr>\n    <tr>\n      <th>51008783</th>\n      <td>RSSA</td>\n      <td>753924</td>\n      <td>2019-10-31</td>\n      <td>2105.0</td>\n    </tr>\n    <tr>\n      <th>1610766</th>\n      <td>RSSA</td>\n      <td>753924</td>\n      <td>2020-04-30</td>\n      <td>2093.0</td>\n    </tr>\n    <tr>\n      <th>51008768</th>\n      <td>RSSA</td>\n      <td>753924</td>\n      <td>2018-07-31</td>\n      <td>2057.0</td>\n    </tr>\n    <tr>\n      <th>51008757</th>\n      <td>RSSA</td>\n      <td>753924</td>\n      <td>2017-08-31</td>\n      <td>2029.0</td>\n    </tr>\n    <tr>\n      <th>51008753</th>\n      <td>RSSA</td>\n      <td>753924</td>\n      <td>2017-04-30</td>\n      <td>2023.0</td>\n    </tr>\n  </tbody>\n</table>\n<p>535891 rows × 4 columns</p>\n</div>"
     },
     "metadata": {},
     "execution_count": 93
    }
   ],
   "source": []
  },
  {
   "cell_type": "code",
   "execution_count": 98,
   "metadata": {},
   "outputs": [
    {
     "output_type": "execute_result",
     "data": {
      "text/plain": [
       "  indicator_id  region_id        date   value region_type  \\\n",
       "0         RSNA      58362  2020-09-30  1321.0         zip   \n",
       "1         RSSA      58362  2020-10-31  1363.0         zip   \n",
       "2         RSNA      58362  2020-10-31  1382.0         zip   \n",
       "3         RSSA      58362  2020-05-31  1243.0         zip   \n",
       "4         RSSA      58362  2020-06-30  1251.0         zip   \n",
       "\n",
       "                                              region  \n",
       "0  01432; MA; Boston-Cambridge-Newton; Middlesex ...  \n",
       "1  01432; MA; Boston-Cambridge-Newton; Middlesex ...  \n",
       "2  01432; MA; Boston-Cambridge-Newton; Middlesex ...  \n",
       "3  01432; MA; Boston-Cambridge-Newton; Middlesex ...  \n",
       "4  01432; MA; Boston-Cambridge-Newton; Middlesex ...  "
      ],
      "text/html": "<div>\n<style scoped>\n    .dataframe tbody tr th:only-of-type {\n        vertical-align: middle;\n    }\n\n    .dataframe tbody tr th {\n        vertical-align: top;\n    }\n\n    .dataframe thead th {\n        text-align: right;\n    }\n</style>\n<table border=\"1\" class=\"dataframe\">\n  <thead>\n    <tr style=\"text-align: right;\">\n      <th></th>\n      <th>indicator_id</th>\n      <th>region_id</th>\n      <th>date</th>\n      <th>value</th>\n      <th>region_type</th>\n      <th>region</th>\n    </tr>\n  </thead>\n  <tbody>\n    <tr>\n      <th>0</th>\n      <td>RSNA</td>\n      <td>58362</td>\n      <td>2020-09-30</td>\n      <td>1321.0</td>\n      <td>zip</td>\n      <td>01432; MA; Boston-Cambridge-Newton; Middlesex ...</td>\n    </tr>\n    <tr>\n      <th>1</th>\n      <td>RSSA</td>\n      <td>58362</td>\n      <td>2020-10-31</td>\n      <td>1363.0</td>\n      <td>zip</td>\n      <td>01432; MA; Boston-Cambridge-Newton; Middlesex ...</td>\n    </tr>\n    <tr>\n      <th>2</th>\n      <td>RSNA</td>\n      <td>58362</td>\n      <td>2020-10-31</td>\n      <td>1382.0</td>\n      <td>zip</td>\n      <td>01432; MA; Boston-Cambridge-Newton; Middlesex ...</td>\n    </tr>\n    <tr>\n      <th>3</th>\n      <td>RSSA</td>\n      <td>58362</td>\n      <td>2020-05-31</td>\n      <td>1243.0</td>\n      <td>zip</td>\n      <td>01432; MA; Boston-Cambridge-Newton; Middlesex ...</td>\n    </tr>\n    <tr>\n      <th>4</th>\n      <td>RSSA</td>\n      <td>58362</td>\n      <td>2020-06-30</td>\n      <td>1251.0</td>\n      <td>zip</td>\n      <td>01432; MA; Boston-Cambridge-Newton; Middlesex ...</td>\n    </tr>\n  </tbody>\n</table>\n</div>"
     },
     "metadata": {},
     "execution_count": 98
    }
   ],
   "source": [
    "rent_per_region = pd.merge(rental_data, regions, on='region_id')\n",
    "rent_per_region.head()"
   ]
  },
  {
   "cell_type": "code",
   "execution_count": 100,
   "metadata": {},
   "outputs": [
    {
     "output_type": "execute_result",
     "data": {
      "text/plain": [
       "4031"
      ]
     },
     "metadata": {},
     "execution_count": 100
    }
   ],
   "source": [
    "len(rent_per_region['region'].unique())"
   ]
  },
  {
   "cell_type": "code",
   "execution_count": 113,
   "metadata": {},
   "outputs": [],
   "source": [
    "rent_per_region[[\n",
    "    'zip', 'state', 'city', 'county', 'neighborhood'\n",
    "    ]] = rent_per_region['region'].str.split(';', expand=True)"
   ]
  },
  {
   "cell_type": "code",
   "execution_count": 120,
   "metadata": {},
   "outputs": [
    {
     "output_type": "execute_result",
     "data": {
      "text/plain": [
       "       indicator_id  region_id        date   value region_type  \\\n",
       "535890         RSSA     753924  2017-04-30  2023.0       metro   \n",
       "535889         RSNA     753924  2018-08-31  2129.0       metro   \n",
       "535888         RSNA     753924  2018-12-31  2110.0       metro   \n",
       "535887         RSNA     753924  2017-08-31  2082.0       metro   \n",
       "535886         RSNA     753924  2020-03-31  2172.0       metro   \n",
       "535885         RSNA     753924  2020-04-30  2152.0       metro   \n",
       "535884         RSNA     753924  2020-06-30  2101.0       metro   \n",
       "535883         RSNA     753924  2015-06-30  2006.0       metro   \n",
       "535882         RSNA     753924  2017-06-30  2080.0       metro   \n",
       "535881         RSNA     753924  2017-05-31  2067.0       metro   \n",
       "535880         RSNA     753924  2017-10-31  2074.0       metro   \n",
       "535879         RSNA     753924  2015-10-31  2006.0       metro   \n",
       "535878         RSNA     753924  2017-02-28  2048.0       metro   \n",
       "535877         RSNA     753924  2017-01-31  2044.0       metro   \n",
       "535876         RSNA     753924  2016-12-31  2058.0       metro   \n",
       "535875         RSNA     753924  2016-11-30  2066.0       metro   \n",
       "535874         RSNA     753924  2016-10-31  2069.0       metro   \n",
       "535873         RSNA     753924  2019-02-28  2124.0       metro   \n",
       "535872         RSNA     753924  2020-12-31  2181.0       metro   \n",
       "535871         RSSA     753924  2018-06-30  2054.0       metro   \n",
       "\n",
       "                    region                 zip state  city county neighborhood  \n",
       "535890  Urban Honolulu, HI  Urban Honolulu, HI  None  None   None         None  \n",
       "535889  Urban Honolulu, HI  Urban Honolulu, HI  None  None   None         None  \n",
       "535888  Urban Honolulu, HI  Urban Honolulu, HI  None  None   None         None  \n",
       "535887  Urban Honolulu, HI  Urban Honolulu, HI  None  None   None         None  \n",
       "535886  Urban Honolulu, HI  Urban Honolulu, HI  None  None   None         None  \n",
       "535885  Urban Honolulu, HI  Urban Honolulu, HI  None  None   None         None  \n",
       "535884  Urban Honolulu, HI  Urban Honolulu, HI  None  None   None         None  \n",
       "535883  Urban Honolulu, HI  Urban Honolulu, HI  None  None   None         None  \n",
       "535882  Urban Honolulu, HI  Urban Honolulu, HI  None  None   None         None  \n",
       "535881  Urban Honolulu, HI  Urban Honolulu, HI  None  None   None         None  \n",
       "535880  Urban Honolulu, HI  Urban Honolulu, HI  None  None   None         None  \n",
       "535879  Urban Honolulu, HI  Urban Honolulu, HI  None  None   None         None  \n",
       "535878  Urban Honolulu, HI  Urban Honolulu, HI  None  None   None         None  \n",
       "535877  Urban Honolulu, HI  Urban Honolulu, HI  None  None   None         None  \n",
       "535876  Urban Honolulu, HI  Urban Honolulu, HI  None  None   None         None  \n",
       "535875  Urban Honolulu, HI  Urban Honolulu, HI  None  None   None         None  \n",
       "535874  Urban Honolulu, HI  Urban Honolulu, HI  None  None   None         None  \n",
       "535873  Urban Honolulu, HI  Urban Honolulu, HI  None  None   None         None  \n",
       "535872  Urban Honolulu, HI  Urban Honolulu, HI  None  None   None         None  \n",
       "535871  Urban Honolulu, HI  Urban Honolulu, HI  None  None   None         None  "
      ],
      "text/html": "<div>\n<style scoped>\n    .dataframe tbody tr th:only-of-type {\n        vertical-align: middle;\n    }\n\n    .dataframe tbody tr th {\n        vertical-align: top;\n    }\n\n    .dataframe thead th {\n        text-align: right;\n    }\n</style>\n<table border=\"1\" class=\"dataframe\">\n  <thead>\n    <tr style=\"text-align: right;\">\n      <th></th>\n      <th>indicator_id</th>\n      <th>region_id</th>\n      <th>date</th>\n      <th>value</th>\n      <th>region_type</th>\n      <th>region</th>\n      <th>zip</th>\n      <th>state</th>\n      <th>city</th>\n      <th>county</th>\n      <th>neighborhood</th>\n    </tr>\n  </thead>\n  <tbody>\n    <tr>\n      <th>535890</th>\n      <td>RSSA</td>\n      <td>753924</td>\n      <td>2017-04-30</td>\n      <td>2023.0</td>\n      <td>metro</td>\n      <td>Urban Honolulu, HI</td>\n      <td>Urban Honolulu, HI</td>\n      <td>None</td>\n      <td>None</td>\n      <td>None</td>\n      <td>None</td>\n    </tr>\n    <tr>\n      <th>535889</th>\n      <td>RSNA</td>\n      <td>753924</td>\n      <td>2018-08-31</td>\n      <td>2129.0</td>\n      <td>metro</td>\n      <td>Urban Honolulu, HI</td>\n      <td>Urban Honolulu, HI</td>\n      <td>None</td>\n      <td>None</td>\n      <td>None</td>\n      <td>None</td>\n    </tr>\n    <tr>\n      <th>535888</th>\n      <td>RSNA</td>\n      <td>753924</td>\n      <td>2018-12-31</td>\n      <td>2110.0</td>\n      <td>metro</td>\n      <td>Urban Honolulu, HI</td>\n      <td>Urban Honolulu, HI</td>\n      <td>None</td>\n      <td>None</td>\n      <td>None</td>\n      <td>None</td>\n    </tr>\n    <tr>\n      <th>535887</th>\n      <td>RSNA</td>\n      <td>753924</td>\n      <td>2017-08-31</td>\n      <td>2082.0</td>\n      <td>metro</td>\n      <td>Urban Honolulu, HI</td>\n      <td>Urban Honolulu, HI</td>\n      <td>None</td>\n      <td>None</td>\n      <td>None</td>\n      <td>None</td>\n    </tr>\n    <tr>\n      <th>535886</th>\n      <td>RSNA</td>\n      <td>753924</td>\n      <td>2020-03-31</td>\n      <td>2172.0</td>\n      <td>metro</td>\n      <td>Urban Honolulu, HI</td>\n      <td>Urban Honolulu, HI</td>\n      <td>None</td>\n      <td>None</td>\n      <td>None</td>\n      <td>None</td>\n    </tr>\n    <tr>\n      <th>535885</th>\n      <td>RSNA</td>\n      <td>753924</td>\n      <td>2020-04-30</td>\n      <td>2152.0</td>\n      <td>metro</td>\n      <td>Urban Honolulu, HI</td>\n      <td>Urban Honolulu, HI</td>\n      <td>None</td>\n      <td>None</td>\n      <td>None</td>\n      <td>None</td>\n    </tr>\n    <tr>\n      <th>535884</th>\n      <td>RSNA</td>\n      <td>753924</td>\n      <td>2020-06-30</td>\n      <td>2101.0</td>\n      <td>metro</td>\n      <td>Urban Honolulu, HI</td>\n      <td>Urban Honolulu, HI</td>\n      <td>None</td>\n      <td>None</td>\n      <td>None</td>\n      <td>None</td>\n    </tr>\n    <tr>\n      <th>535883</th>\n      <td>RSNA</td>\n      <td>753924</td>\n      <td>2015-06-30</td>\n      <td>2006.0</td>\n      <td>metro</td>\n      <td>Urban Honolulu, HI</td>\n      <td>Urban Honolulu, HI</td>\n      <td>None</td>\n      <td>None</td>\n      <td>None</td>\n      <td>None</td>\n    </tr>\n    <tr>\n      <th>535882</th>\n      <td>RSNA</td>\n      <td>753924</td>\n      <td>2017-06-30</td>\n      <td>2080.0</td>\n      <td>metro</td>\n      <td>Urban Honolulu, HI</td>\n      <td>Urban Honolulu, HI</td>\n      <td>None</td>\n      <td>None</td>\n      <td>None</td>\n      <td>None</td>\n    </tr>\n    <tr>\n      <th>535881</th>\n      <td>RSNA</td>\n      <td>753924</td>\n      <td>2017-05-31</td>\n      <td>2067.0</td>\n      <td>metro</td>\n      <td>Urban Honolulu, HI</td>\n      <td>Urban Honolulu, HI</td>\n      <td>None</td>\n      <td>None</td>\n      <td>None</td>\n      <td>None</td>\n    </tr>\n    <tr>\n      <th>535880</th>\n      <td>RSNA</td>\n      <td>753924</td>\n      <td>2017-10-31</td>\n      <td>2074.0</td>\n      <td>metro</td>\n      <td>Urban Honolulu, HI</td>\n      <td>Urban Honolulu, HI</td>\n      <td>None</td>\n      <td>None</td>\n      <td>None</td>\n      <td>None</td>\n    </tr>\n    <tr>\n      <th>535879</th>\n      <td>RSNA</td>\n      <td>753924</td>\n      <td>2015-10-31</td>\n      <td>2006.0</td>\n      <td>metro</td>\n      <td>Urban Honolulu, HI</td>\n      <td>Urban Honolulu, HI</td>\n      <td>None</td>\n      <td>None</td>\n      <td>None</td>\n      <td>None</td>\n    </tr>\n    <tr>\n      <th>535878</th>\n      <td>RSNA</td>\n      <td>753924</td>\n      <td>2017-02-28</td>\n      <td>2048.0</td>\n      <td>metro</td>\n      <td>Urban Honolulu, HI</td>\n      <td>Urban Honolulu, HI</td>\n      <td>None</td>\n      <td>None</td>\n      <td>None</td>\n      <td>None</td>\n    </tr>\n    <tr>\n      <th>535877</th>\n      <td>RSNA</td>\n      <td>753924</td>\n      <td>2017-01-31</td>\n      <td>2044.0</td>\n      <td>metro</td>\n      <td>Urban Honolulu, HI</td>\n      <td>Urban Honolulu, HI</td>\n      <td>None</td>\n      <td>None</td>\n      <td>None</td>\n      <td>None</td>\n    </tr>\n    <tr>\n      <th>535876</th>\n      <td>RSNA</td>\n      <td>753924</td>\n      <td>2016-12-31</td>\n      <td>2058.0</td>\n      <td>metro</td>\n      <td>Urban Honolulu, HI</td>\n      <td>Urban Honolulu, HI</td>\n      <td>None</td>\n      <td>None</td>\n      <td>None</td>\n      <td>None</td>\n    </tr>\n    <tr>\n      <th>535875</th>\n      <td>RSNA</td>\n      <td>753924</td>\n      <td>2016-11-30</td>\n      <td>2066.0</td>\n      <td>metro</td>\n      <td>Urban Honolulu, HI</td>\n      <td>Urban Honolulu, HI</td>\n      <td>None</td>\n      <td>None</td>\n      <td>None</td>\n      <td>None</td>\n    </tr>\n    <tr>\n      <th>535874</th>\n      <td>RSNA</td>\n      <td>753924</td>\n      <td>2016-10-31</td>\n      <td>2069.0</td>\n      <td>metro</td>\n      <td>Urban Honolulu, HI</td>\n      <td>Urban Honolulu, HI</td>\n      <td>None</td>\n      <td>None</td>\n      <td>None</td>\n      <td>None</td>\n    </tr>\n    <tr>\n      <th>535873</th>\n      <td>RSNA</td>\n      <td>753924</td>\n      <td>2019-02-28</td>\n      <td>2124.0</td>\n      <td>metro</td>\n      <td>Urban Honolulu, HI</td>\n      <td>Urban Honolulu, HI</td>\n      <td>None</td>\n      <td>None</td>\n      <td>None</td>\n      <td>None</td>\n    </tr>\n    <tr>\n      <th>535872</th>\n      <td>RSNA</td>\n      <td>753924</td>\n      <td>2020-12-31</td>\n      <td>2181.0</td>\n      <td>metro</td>\n      <td>Urban Honolulu, HI</td>\n      <td>Urban Honolulu, HI</td>\n      <td>None</td>\n      <td>None</td>\n      <td>None</td>\n      <td>None</td>\n    </tr>\n    <tr>\n      <th>535871</th>\n      <td>RSSA</td>\n      <td>753924</td>\n      <td>2018-06-30</td>\n      <td>2054.0</td>\n      <td>metro</td>\n      <td>Urban Honolulu, HI</td>\n      <td>Urban Honolulu, HI</td>\n      <td>None</td>\n      <td>None</td>\n      <td>None</td>\n      <td>None</td>\n    </tr>\n  </tbody>\n</table>\n</div>"
     },
     "metadata": {},
     "execution_count": 120
    }
   ],
   "source": [
    "test = rent_per_region[::-1]\n",
    "test = test[:100]\n",
    "test.head(20)"
   ]
  },
  {
   "cell_type": "code",
   "execution_count": 121,
   "metadata": {},
   "outputs": [
    {
     "output_type": "execute_result",
     "data": {
      "text/plain": [
       "       indicator_id  region_id        date   value region_type  \\\n",
       "535890         RSSA     753924  2017-04-30  2023.0       metro   \n",
       "535889         RSNA     753924  2018-08-31  2129.0       metro   \n",
       "535888         RSNA     753924  2018-12-31  2110.0       metro   \n",
       "535887         RSNA     753924  2017-08-31  2082.0       metro   \n",
       "535886         RSNA     753924  2020-03-31  2172.0       metro   \n",
       "\n",
       "                    region                 zip state            city county  \\\n",
       "535890  Urban Honolulu, HI  Urban Honolulu, HI    HI  Urban Honolulu   None   \n",
       "535889  Urban Honolulu, HI  Urban Honolulu, HI    HI  Urban Honolulu   None   \n",
       "535888  Urban Honolulu, HI  Urban Honolulu, HI    HI  Urban Honolulu   None   \n",
       "535887  Urban Honolulu, HI  Urban Honolulu, HI    HI  Urban Honolulu   None   \n",
       "535886  Urban Honolulu, HI  Urban Honolulu, HI    HI  Urban Honolulu   None   \n",
       "\n",
       "       neighborhood  \n",
       "535890         None  \n",
       "535889         None  \n",
       "535888         None  \n",
       "535887         None  \n",
       "535886         None  "
      ],
      "text/html": "<div>\n<style scoped>\n    .dataframe tbody tr th:only-of-type {\n        vertical-align: middle;\n    }\n\n    .dataframe tbody tr th {\n        vertical-align: top;\n    }\n\n    .dataframe thead th {\n        text-align: right;\n    }\n</style>\n<table border=\"1\" class=\"dataframe\">\n  <thead>\n    <tr style=\"text-align: right;\">\n      <th></th>\n      <th>indicator_id</th>\n      <th>region_id</th>\n      <th>date</th>\n      <th>value</th>\n      <th>region_type</th>\n      <th>region</th>\n      <th>zip</th>\n      <th>state</th>\n      <th>city</th>\n      <th>county</th>\n      <th>neighborhood</th>\n    </tr>\n  </thead>\n  <tbody>\n    <tr>\n      <th>535890</th>\n      <td>RSSA</td>\n      <td>753924</td>\n      <td>2017-04-30</td>\n      <td>2023.0</td>\n      <td>metro</td>\n      <td>Urban Honolulu, HI</td>\n      <td>Urban Honolulu, HI</td>\n      <td>HI</td>\n      <td>Urban Honolulu</td>\n      <td>None</td>\n      <td>None</td>\n    </tr>\n    <tr>\n      <th>535889</th>\n      <td>RSNA</td>\n      <td>753924</td>\n      <td>2018-08-31</td>\n      <td>2129.0</td>\n      <td>metro</td>\n      <td>Urban Honolulu, HI</td>\n      <td>Urban Honolulu, HI</td>\n      <td>HI</td>\n      <td>Urban Honolulu</td>\n      <td>None</td>\n      <td>None</td>\n    </tr>\n    <tr>\n      <th>535888</th>\n      <td>RSNA</td>\n      <td>753924</td>\n      <td>2018-12-31</td>\n      <td>2110.0</td>\n      <td>metro</td>\n      <td>Urban Honolulu, HI</td>\n      <td>Urban Honolulu, HI</td>\n      <td>HI</td>\n      <td>Urban Honolulu</td>\n      <td>None</td>\n      <td>None</td>\n    </tr>\n    <tr>\n      <th>535887</th>\n      <td>RSNA</td>\n      <td>753924</td>\n      <td>2017-08-31</td>\n      <td>2082.0</td>\n      <td>metro</td>\n      <td>Urban Honolulu, HI</td>\n      <td>Urban Honolulu, HI</td>\n      <td>HI</td>\n      <td>Urban Honolulu</td>\n      <td>None</td>\n      <td>None</td>\n    </tr>\n    <tr>\n      <th>535886</th>\n      <td>RSNA</td>\n      <td>753924</td>\n      <td>2020-03-31</td>\n      <td>2172.0</td>\n      <td>metro</td>\n      <td>Urban Honolulu, HI</td>\n      <td>Urban Honolulu, HI</td>\n      <td>HI</td>\n      <td>Urban Honolulu</td>\n      <td>None</td>\n      <td>None</td>\n    </tr>\n  </tbody>\n</table>\n</div>"
     },
     "metadata": {},
     "execution_count": 121
    }
   ],
   "source": [
    "test[['city', 'state']] = test['region'].str.split(',', expand=True)\n",
    "test.head()"
   ]
  },
  {
   "cell_type": "code",
   "execution_count": 122,
   "metadata": {},
   "outputs": [],
   "source": [
    "rent_per_region[['city', 'state']] = rent_per_region['region'].str.split(',', expand=True)"
   ]
  },
  {
   "cell_type": "code",
   "execution_count": 123,
   "metadata": {},
   "outputs": [
    {
     "output_type": "execute_result",
     "data": {
      "text/plain": [
       "       indicator_id  region_id        date   value region_type  \\\n",
       "535886         RSNA     753924  2020-03-31  2172.0       metro   \n",
       "535887         RSNA     753924  2017-08-31  2082.0       metro   \n",
       "535888         RSNA     753924  2018-12-31  2110.0       metro   \n",
       "535889         RSNA     753924  2018-08-31  2129.0       metro   \n",
       "535890         RSSA     753924  2017-04-30  2023.0       metro   \n",
       "\n",
       "                    region                 zip state            city county  \\\n",
       "535886  Urban Honolulu, HI  Urban Honolulu, HI    HI  Urban Honolulu   None   \n",
       "535887  Urban Honolulu, HI  Urban Honolulu, HI    HI  Urban Honolulu   None   \n",
       "535888  Urban Honolulu, HI  Urban Honolulu, HI    HI  Urban Honolulu   None   \n",
       "535889  Urban Honolulu, HI  Urban Honolulu, HI    HI  Urban Honolulu   None   \n",
       "535890  Urban Honolulu, HI  Urban Honolulu, HI    HI  Urban Honolulu   None   \n",
       "\n",
       "       neighborhood  \n",
       "535886         None  \n",
       "535887         None  \n",
       "535888         None  \n",
       "535889         None  \n",
       "535890         None  "
      ],
      "text/html": "<div>\n<style scoped>\n    .dataframe tbody tr th:only-of-type {\n        vertical-align: middle;\n    }\n\n    .dataframe tbody tr th {\n        vertical-align: top;\n    }\n\n    .dataframe thead th {\n        text-align: right;\n    }\n</style>\n<table border=\"1\" class=\"dataframe\">\n  <thead>\n    <tr style=\"text-align: right;\">\n      <th></th>\n      <th>indicator_id</th>\n      <th>region_id</th>\n      <th>date</th>\n      <th>value</th>\n      <th>region_type</th>\n      <th>region</th>\n      <th>zip</th>\n      <th>state</th>\n      <th>city</th>\n      <th>county</th>\n      <th>neighborhood</th>\n    </tr>\n  </thead>\n  <tbody>\n    <tr>\n      <th>535886</th>\n      <td>RSNA</td>\n      <td>753924</td>\n      <td>2020-03-31</td>\n      <td>2172.0</td>\n      <td>metro</td>\n      <td>Urban Honolulu, HI</td>\n      <td>Urban Honolulu, HI</td>\n      <td>HI</td>\n      <td>Urban Honolulu</td>\n      <td>None</td>\n      <td>None</td>\n    </tr>\n    <tr>\n      <th>535887</th>\n      <td>RSNA</td>\n      <td>753924</td>\n      <td>2017-08-31</td>\n      <td>2082.0</td>\n      <td>metro</td>\n      <td>Urban Honolulu, HI</td>\n      <td>Urban Honolulu, HI</td>\n      <td>HI</td>\n      <td>Urban Honolulu</td>\n      <td>None</td>\n      <td>None</td>\n    </tr>\n    <tr>\n      <th>535888</th>\n      <td>RSNA</td>\n      <td>753924</td>\n      <td>2018-12-31</td>\n      <td>2110.0</td>\n      <td>metro</td>\n      <td>Urban Honolulu, HI</td>\n      <td>Urban Honolulu, HI</td>\n      <td>HI</td>\n      <td>Urban Honolulu</td>\n      <td>None</td>\n      <td>None</td>\n    </tr>\n    <tr>\n      <th>535889</th>\n      <td>RSNA</td>\n      <td>753924</td>\n      <td>2018-08-31</td>\n      <td>2129.0</td>\n      <td>metro</td>\n      <td>Urban Honolulu, HI</td>\n      <td>Urban Honolulu, HI</td>\n      <td>HI</td>\n      <td>Urban Honolulu</td>\n      <td>None</td>\n      <td>None</td>\n    </tr>\n    <tr>\n      <th>535890</th>\n      <td>RSSA</td>\n      <td>753924</td>\n      <td>2017-04-30</td>\n      <td>2023.0</td>\n      <td>metro</td>\n      <td>Urban Honolulu, HI</td>\n      <td>Urban Honolulu, HI</td>\n      <td>HI</td>\n      <td>Urban Honolulu</td>\n      <td>None</td>\n      <td>None</td>\n    </tr>\n  </tbody>\n</table>\n</div>"
     },
     "metadata": {},
     "execution_count": 123
    }
   ],
   "source": []
  },
  {
   "cell_type": "code",
   "execution_count": 131,
   "metadata": {},
   "outputs": [
    {
     "output_type": "execute_result",
     "data": {
      "text/plain": [
       "42"
      ]
     },
     "metadata": {},
     "execution_count": 131
    }
   ],
   "source": [
    "len(rent_per_region['state'].unique())"
   ]
  },
  {
   "cell_type": "code",
   "execution_count": 132,
   "metadata": {},
   "outputs": [
    {
     "output_type": "execute_result",
     "data": {
      "text/plain": [
       "indicator_id         0\n",
       "region_id            0\n",
       "date                 0\n",
       "value                0\n",
       "region_type          0\n",
       "region               0\n",
       "zip                  0\n",
       "state           517923\n",
       "city                 0\n",
       "county          380909\n",
       "neighborhood    393657\n",
       "dtype: int64"
      ]
     },
     "metadata": {},
     "execution_count": 132
    }
   ],
   "source": [
    "rent_per_region.isnull().sum()"
   ]
  },
  {
   "cell_type": "code",
   "execution_count": 140,
   "metadata": {},
   "outputs": [
    {
     "output_type": "stream",
     "name": "stdout",
     "text": [
      "01432\n01432\n01432\n01432\n01432\n01432\n01432\n01432\n01432\n01432\n01545\n01545\n01545\n01545\n01545\n01545\n01545\n01545\n01545\n01545\n01545\n01545\n01545\n01545\n01545\n01545\n01545\n01545\n01545\n01545\n01545\n01545\n01545\n01545\n01545\n01545\n01545\n01545\n01545\n01545\n01545\n01545\n01545\n01545\n01545\n01545\n01545\n01545\n01545\n01545\n01545\n01545\n01545\n01545\n01545\n01545\n01545\n01545\n01545\n01545\n01545\n01545\n01545\n01545\n01545\n01545\n01545\n01545\n01545\n01545\n01545\n01545\n01545\n01545\n01545\n01545\n01545\n01545\n01545\n01545\n01545\n01545\n01545\n01545\n01545\n01545\n01545\n01545\n01545\n01545\n01545\n01545\n01545\n01545\n01545\n01545\n01545\n01545\n01545\n01545\n01545\n01545\n01545\n01545\n01545\n01545\n01545\n01545\n01545\n01545\n01545\n01545\n01545\n01545\n01545\n01545\n01545\n01545\n01545\n01545\n01545\n01545\n01545\n01545\n01545\n01545\n01545\n01545\n01545\n01545\n01545\n01545\n01545\n01545\n01545\n01545\n01545\n01545\n01545\n01545\n01545\n01545\n01545\n01545\n01545\n01545\n01545\n01545\n01545\n01545\n01545\n01545\n01545\n01545\n01545\n01545\n01603\n01603\n01603\n01603\n01603\n01603\n01603\n01603\n01603\n01603\n01603\n01603\n01603\n01603\n01604\n01604\n01604\n01604\n01604\n01604\n01604\n01604\n01604\n01604\n01604\n01604\n01604\n01604\n01604\n01604\n01604\n01604\n01604\n01604\n01604\n01604\n01604\n01604\n01604\n01604\n01604\n01604\n01604\n01604\n01604\n01604\n01604\n01604\n01604\n01604\n01604\n01604\n01604\n01604\n01604\n01604\n01604\n01604\n01604\n01604\n01604\n01604\n01604\n01604\n01604\n01604\n01604\n01604\n01604\n01604\n01604\n01604\n01604\n01604\n01604\n01604\n01604\n01604\n01604\n01604\n01604\n01604\n01604\n01604\n01604\n01604\n01604\n01604\n01604\n01604\n01604\n01604\n01604\n01604\n01604\n01604\n01604\n01604\n01604\n01604\n01604\n01604\n01604\n01604\n01604\n01604\n01604\n01604\n01604\n01604\n01604\n01604\n01604\n01604\n01604\n01604\n01604\n01604\n01604\n01604\n01604\n01604\n01604\n01604\n01604\n01604\n01604\n01604\n01604\n01604\n01604\n01604\n01604\n01604\n01604\n01604\n01604\n01604\n01604\n01604\n01604\n01604\n01604\n01604\n01604\n01604\n01604\n01604\n01604\n01604\n01604\n01604\n01604\n01604\n01604\n01604\n01604\n01604\n01604\n01604\n01604\n01604\n01604\n01604\n01604\n01604\n01604\n01604\n01604\n01604\n01604\n01604\n01604\n01604\n01604\n01604\n01604\n01604\n01604\n01604\n01605\n01605\n01605\n01605\n01605\n01605\n01605\n01605\n01605\n01605\n01605\n01605\n01605\n01605\n01605\n01605\n01605\n01605\n01605\n01605\n01605\n01605\n01605\n01605\n01605\n01605\n01605\n01605\n01605\n01605\n01605\n01605\n01605\n01605\n01605\n01605\n01605\n01605\n01605\n01605\n01605\n01605\n01605\n01605\n01605\n01605\n01605\n01605\n01605\n01605\n01605\n01605\n01605\n01605\n01605\n01605\n01605\n01605\n01605\n01605\n01605\n01605\n01605\n01605\n01605\n01605\n01605\n01605\n01605\n01605\n01605\n01605\n01605\n01605\n01605\n01605\n01605\n01605\n01605\n01605\n01605\n01605\n01605\n01605\n01605\n01605\n01605\n01605\n01605\n01605\n01605\n01605\n01605\n01605\n01605\n01605\n01605\n01605\n01605\n01605\n01605\n01605\n01605\n01605\n01605\n01605\n01605\n01605\n01605\n01605\n01605\n01605\n01605\n01605\n01605\n01605\n01605\n01605\n01605\n01605\n01605\n01605\n01605\n01605\n01605\n01605\n01605\n01605\n01605\n01605\n01605\n01605\n01605\n01605\n01605\n01605\n01605\n01605\n01605\n01605\n01605\n01605\n01605\n01605\n01605\n01605\n01606\n01606\n01606\n01606\n01606\n01606\n01606\n01606\n01606\n01606\n01606\n01606\n01606\n01606\n01606\n01606\n01606\n01606\n01606\n01606\n01606\n01606\n01606\n01606\n01606\n01606\n01606\n01606\n01606\n01606\n01606\n01606\n01606\n01606\n01606\n01606\n01606\n01606\n01606\n01606\n01606\n01606\n01606\n01606\n01606\n01606\n01606\n01606\n01606\n01606\n01606\n01606\n01606\n01606\n01606\n01606\n01606\n01606\n01606\n01606\n01606\n01606\n01606\n01606\n01606\n01606\n01606\n01606\n01606\n01606\n01606\n01606\n01606\n01606\n01606\n01606\n01606\n01606\n01606\n01606\n01606\n01606\n01606\n01606\n01606\n01606\n01606\n01606\n01606\n01606\n01606\n01606\n01606\n01606\n01606\n01606\n01606\n01606\n01606\n01606\n01606\n01606\n01606\n01606\n01606\n01606\n01606\n01606\n01606\n01606\n01606\n01606\n01606\n01606\n01606\n01606\n01606\n01606\n01606\n01606\n01606\n01606\n01606\n01606\n01606\n01606\n01606\n01606\n01606\n01606\n01609\n01609\n01609\n01609\n01609\n01609\n01609\n01609\n01609\n01609\n01609\n01609\n01609\n01609\n01609\n01609\n01609\n01609\n01609\n01609\n01609\n01609\n01609\n01609\n01609\n01609\n01609\n01609\n01609\n01609\n01609\n01609\n01609\n01609\n01609\n01609\n01609\n01609\n01609\n01609\n01609\n01609\n01609\n01609\n01609\n01609\n01609\n01609\n01609\n01609\n01609\n01609\n01609\n01609\n01609\n01609\n01609\n01609\n01609\n01609\n01609\n01609\n01609\n01609\n01609\n01609\n01609\n01609\n01609\n01609\n01609\n01609\n01609\n01609\n01609\n01609\n01609\n01609\n01609\n01609\n01609\n01609\n01609\n01609\n01609\n01609\n01609\n01609\n01609\n01609\n01609\n01609\n01609\n01609\n01609\n01609\n01609\n01609\n01609\n01609\n01609\n01609\n01609\n01609\n01609\n01609\n01609\n01609\n01609\n01609\n01609\n01609\n01609\n01609\n01609\n01609\n01609\n01609\n01609\n01609\n01609\n01609\n01609\n01609\n01609\n01609\n01609\n01609\n01609\n01609\n01609\n01609\n01609\n01609\n01609\n01609\n01609\n01609\n01609\n01609\n01609\n01609\n01609\n01609\n01610\n01610\n01610\n01610\n01610\n01610\n01610\n01610\n01610\n01610\n01610\n01610\n01610\n01610\n01610\n01610\n01610\n01610\n01610\n01610\n01610\n01610\n01610\n01610\n01610\n01610\n01610\n01610\n01610\n01610\n01610\n01610\n01610\n01610\n01610\n01610\n01610\n01610\n01610\n01610\n01610\n01610\n01610\n01610\n01610\n01610\n01610\n01610\n01610\n01610\n01610\n01610\n01610\n01610\n01610\n01610\n01610\n01610\n01610\n01610\n01610\n01610\n01610\n01610\n01610\n01610\n01610\n01610\n01610\n01610\n01610\n01610\n01610\n01610\n01610\n01610\n01610\n01610\n01610\n01610\n01610\n01610\n01610\n01610\n01610\n01610\n01610\n01610\n01610\n01610\n01610\n01610\n01610\n01610\n01610\n01610\n01610\n01610\n01610\n01610\n01610\n01610\n01610\n01610\n01610\n01610\n01610\n01610\n01610\n01610\n01610\n01610\n01610\n01610\n01610\n01610\n01610\n01610\n01610\n01610\n01610\n01610\n01610\n01610\n01610\n01610\n01610\n01610\n01610\n01610\n01610\n01610\n01610\n01610\n01610\n01610\n01701\n01701\n01701\n01701\n01701\n01701\n01701\n01701\n01701\n01701\n01701\n01701\n01701\n01701\n01701\n01701\n01701\n01701\n01701\n01701\n01701\n01701\n01701\n01701\n01701\n01701\n01701\n01701\n01701\n01701\n01701\n01701\n01701\n01701\n01701\n01701\n01701\n01701\n01701\n01701\n01701\n01701\n01701\n01701\n01701\n01701\n01701\n01701\n01701\n01701\n01701\n01701\n01701\n01701\n01701\n01701\n01701\n01701\n01701\n01701\n01701\n01701\n01701\n01701\n01701\n01701\n01701\n01701\n01701\n01701\n01701\n01701\n01701\n01701\n01701\n01701\n01701\n01701\n01701\n01701\n01701\n01701\n01701\n01701\n01701\n01701\n01701\n01701\n01701\n01701\n01701\n01701\n01701\n01701\n01701\n01701\n01701\n01701\n01701\n01701\n01701\n01701\n01701\n01701\n01701\n01701\n01701\n01701\n1000\n"
     ]
    }
   ],
   "source": [
    "count = 0\n",
    "for i in rent_per_region['zip']:\n",
    "    if i.isdigit():\n",
    "        count += 1\n",
    "\n",
    "print(count)"
   ]
  },
  {
   "cell_type": "code",
   "execution_count": null,
   "metadata": {},
   "outputs": [],
   "source": []
  }
 ]
}