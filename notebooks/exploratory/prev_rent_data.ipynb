{
 "metadata": {
  "language_info": {
   "codemirror_mode": {
    "name": "ipython",
    "version": 3
   },
   "file_extension": ".py",
   "mimetype": "text/x-python",
   "name": "python",
   "nbconvert_exporter": "python",
   "pygments_lexer": "ipython3",
   "version": "3.9.1-final"
  },
  "orig_nbformat": 2,
  "kernelspec": {
   "name": "cityspire",
   "display_name": "Python (cityspire 15)",
   "language": "python"
  }
 },
 "nbformat": 4,
 "nbformat_minor": 2,
 "cells": [
  {
   "cell_type": "code",
   "execution_count": 110,
   "metadata": {},
   "outputs": [],
   "source": [
    "import pandas as pd\n",
    "import numpy as np\n",
    "import matplotlib.pyplot as plt"
   ]
  },
  {
   "cell_type": "code",
   "execution_count": 125,
   "metadata": {},
   "outputs": [],
   "source": [
    "# Importing in data sets\n",
    "\n",
    "rent2021 = pd.read_csv('V:\\\\2021.csv')\n",
    "rent2021.columns = [\n",
    "    'index', 'id', 'area', 'rent0', 'rent1', 'rent2', \n",
    "    'rent3', 'rent4', 'state', 'pop17', 'hu17']\n",
    "rent2021 = rent2021[['state', 'rent0', 'rent1', 'rent2', 'rent3', 'rent4']]\n",
    "\n",
    "rent2020 = pd.read_csv('V:\\\\2020.csv')\n",
    "rent2020.columns = [\n",
    "    'index', 'id', 'area', 'rent0', 'rent1', 'rent2', 'rent3', \n",
    "    'rent4', 'state', 'pop17', 'pop10', 'hu10', 'hu17']\n",
    "rent2020 = rent2020[['state', 'rent0', 'rent1', 'rent2', 'rent3', 'rent4']]\n",
    "\n",
    "rent2019 = pd.read_csv('V:\\\\2019.csv')\n",
    "rent2019.columns = [\n",
    "    'index', 'id', 'area', 'rent0', 'rent1', 'rent2', 'rent3', \n",
    "    'rent4', 'state', 'pop10', 'hu10', 'county', 'name']\n",
    "rent2019 = rent2019[['state', 'rent0', 'rent1', 'rent2', 'rent3', 'rent4']]\n",
    "\n",
    "rent2018 = pd.read_csv('V:\\\\2018.csv')\n",
    "rent2018.columns = [\n",
    "    'index', 'id', 'area', 'rent0', 'rent1', 'rent2', 'rent3', \n",
    "    'rent4', 'state', 'pop10', 'hu10', 'county', 'name']\n",
    "rent2018 = rent2018[['state', 'rent0', 'rent1', 'rent2', 'rent3', 'rent4']]\n",
    "\n",
    "rent2017 = pd.read_csv('V:\\\\2017.csv')\n",
    "rent2017.columns = [\n",
    "    'index', 'id', 'area', 'rent0', 'rent1', 'rent2', 'rent3', \n",
    "    'rent4', 'state', 'pop10']\n",
    "rent2017 = rent2017[['state', 'rent0', 'rent1', 'rent2', 'rent3', 'rent4']]\n",
    "\n",
    "rent2016 = pd.read_csv('V:\\\\2016.csv')\n",
    "rent2016.columns = [\n",
    "    'index', 'id', 'area', 'rent0', 'rent1', 'rent2', 'rent3', \n",
    "    'rent4', 'state', 'pop10']\n",
    "rent2016 = rent2016[['state', 'rent0', 'rent1', 'rent2', 'rent3', 'rent4']]\n",
    "\n",
    "rent2015 = pd.read_csv('V:\\\\2015.csv')\n",
    "rent2015.columns = [\n",
    "    'index', 'id', 'area', 'rent0', 'rent1', 'rent2', 'rent3', \n",
    "    'rent4', 'state', 'pop10']\n",
    "rent2015 = rent2015[['state', 'rent0', 'rent1', 'rent2', 'rent3', 'rent4']]\n",
    "\n",
    "rent2014 = pd.read_csv('V:\\\\2014.csv')\n",
    "rent2014.columns = [\n",
    "    'index', 'id', 'area', 'rent0', 'rent1', 'rent2', 'rent3', \n",
    "    'rent4', 'state', 'pop10']\n",
    "rent2014 = rent2014[['state', 'rent0', 'rent1', 'rent2', 'rent3', 'rent4']]\n",
    "\n",
    "rent2013 = pd.read_csv('V:\\\\2013.csv')\n",
    "rent2013.columns = [\n",
    "    'index', 'id', 'area', 'rent0', 'rent1', 'rent2', 'rent3', \n",
    "    'rent4', 'state', 'pop10']\n",
    "rent2013 = rent2013[['state', 'rent0', 'rent1', 'rent2', 'rent3', 'rent4']]\n",
    "\n",
    "rent2012 = pd.read_csv('V:\\\\2012.csv')\n",
    "rent2012.columns = [\n",
    "    'index', 'id', 'area', 'rent0', 'rent1', 'rent2', 'rent3', \n",
    "    'rent4', 'state', 'pop10']\n",
    "rent2012 = rent2012[['state', 'rent0', 'rent1', 'rent2', 'rent3', 'rent4']]\n",
    "\n",
    "rent2011 = pd.read_csv('V:\\\\2011.csv')\n",
    "rent2011.columns = [\n",
    "    'index', 'id', 'area', 'rent0', 'rent1', 'rent2', 'rent3', \n",
    "    'rent4', 'state', 'pop10']\n",
    "rent2011 = rent2011[['state', 'rent0', 'rent1', 'rent2', 'rent3', 'rent4']]\n",
    "\n",
    "rent2010 = pd.read_csv('V:\\\\2010.csv')\n",
    "rent2010.columns = [\n",
    "    'index', 'id', 'area', 'rent0', 'rent1', 'rent2', 'rent3', \n",
    "    'rent4', 'state', 'pop2000']\n",
    "rent2010 = rent2010[['state', 'rent0', 'rent1', 'rent2', 'rent3', 'rent4']]\n",
    "\n",
    "rent2009 = pd.read_csv('V:\\\\2009.csv')\n",
    "rent2009.columns = [\n",
    "    'index', 'id', 'area', 'rent0', 'rent1', 'rent2', 'rent3', \n",
    "    'rent4', 'state', 'pop2000']\n",
    "rent2009 = rent2009[['state', 'rent0', 'rent1', 'rent2', 'rent3', 'rent4']]\n",
    "\n",
    "rent2008 = pd.read_csv('V:\\\\2008.csv')\n",
    "rent2008.columns = [\n",
    "    'index', 'id', 'area', 'rent0', 'rent1', 'rent2', 'rent3', \n",
    "    'rent4', 'state', 'pop2000']\n",
    "rent2008 = rent2008[['state', 'rent0', 'rent1', 'rent2', 'rent3', 'rent4']]\n",
    "\n",
    "rent2007 = pd.read_csv('V:\\\\2007.csv')\n",
    "rent2007.columns = [\n",
    "    'index', 'id', 'area', 'rent0', 'rent1', 'rent2', 'rent3', \n",
    "    'rent4', 'state', 'pop2000']\n",
    "rent2007 = rent2007[['state', 'rent0', 'rent1', 'rent2', 'rent3', 'rent4']]\n",
    "\n",
    "rent2006 = pd.read_csv('V:\\\\2006.csv')\n",
    "rent2006.columns = [\n",
    "    'index', 'id', 'area', 'rent0', 'rent1', 'rent2', 'rent3', \n",
    "    'rent4', 'state', 'pop2000']\n",
    "rent2006 = rent2006[['state', 'rent0', 'rent1', 'rent2', 'rent3', 'rent4']]\n",
    "\n",
    "rent2005 = pd.read_csv('V:\\\\2005.csv')\n",
    "rent2005.columns = [\n",
    "    'index', 'FMR_Area', 'rent0', 'rent1', 'rent2', 'rent3', \n",
    "    'rent4', 'area', 'MSA', 'state', 'pop2000']\n",
    "rent2005 = rent2005[['state', 'rent0', 'rent1', 'rent2', 'rent3', 'rent4']]\n",
    "\n",
    "rent2004 = pd.read_csv('V:\\\\2004.csv')\n",
    "rent2004.columns = [\n",
    "    'id', 'MSA', 'index', 'state', 'county_num', 'MSA_name', 'state_long', \n",
    "    'rent0', 'rent1', 'rent2', 'rent3', 'rent4', 'FMR_type', 'pop2000']\n",
    "rent2004 = rent2004[['state', 'rent0', 'rent1', 'rent2', 'rent3', 'rent4']]\n",
    "\n",
    "rent2003 = pd.read_csv('V:\\\\2003.csv')\n",
    "rent2003.columns = [\n",
    "    'FMR_Area', 'MSA', 'index', 'state', 'county_num', 'MSA_name', 'county', 'state_long', \n",
    "    'rent0', 'rent1', 'rent2', 'rent3', 'rent4', 'FMR_type', 'pop2000']\n",
    "rent2003 = rent2003[['state', 'rent0', 'rent1', 'rent2', 'rent3', 'rent4']]\n",
    "\n",
    "rent2021['year'] = 2021\n",
    "rent2020['year'] = 2020\n",
    "rent2019['year'] = 2019\n",
    "rent2018['year'] = 2018\n",
    "rent2017['year'] = 2017\n",
    "rent2016['year'] = 2016\n",
    "rent2015['year'] = 2015\n",
    "rent2014['year'] = 2014\n",
    "rent2013['year'] = 2013\n",
    "rent2012['year'] = 2012\n",
    "rent2011['year'] = 2011\n",
    "rent2010['year'] = 2010\n",
    "rent2009['year'] = 2009\n",
    "rent2008['year'] = 2008\n",
    "rent2007['year'] = 2007\n",
    "rent2006['year'] = 2006\n",
    "rent2005['year'] = 2005\n",
    "rent2004['year'] = 2004\n",
    "rent2003['year'] = 2003\n",
    "\n",
    "rent_combined = rent2021.append(\n",
    "    rent2020\n",
    ").append(\n",
    "    rent2019\n",
    ").append(\n",
    "    rent2018\n",
    ").append(\n",
    "    rent2017\n",
    ").append(\n",
    "    rent2016\n",
    ").append(\n",
    "    rent2015\n",
    ").append(\n",
    "    rent2014\n",
    ").append(\n",
    "    rent2013\n",
    ").append(\n",
    "    rent2012\n",
    ").append(\n",
    "    rent2011\n",
    ").append(\n",
    "    rent2010\n",
    ").append(\n",
    "    rent2009\n",
    ").append(\n",
    "    rent2008\n",
    ").append(\n",
    "    rent2007\n",
    ").append(\n",
    "    rent2006\n",
    ").append(\n",
    "    rent2005\n",
    ").append(\n",
    "    rent2004\n",
    ").append(\n",
    "    rent2003\n",
    ")"
   ]
  },
  {
   "cell_type": "code",
   "execution_count": 126,
   "metadata": {},
   "outputs": [
    {
     "output_type": "execute_result",
     "data": {
      "text/plain": [
       "  state  rent0  rent1  rent2  rent3  rent4  year\n",
       "0    AL    521    545    716    925    963  2015\n",
       "1    AL    636    641    867   1194   1465  2015\n",
       "2    AL    595    712    844   1109   1247  2015\n",
       "3    AL    430    483    609    815   1079  2015\n",
       "4    AL    540    551    668    923   1121  2015"
      ],
      "text/html": "<div>\n<style scoped>\n    .dataframe tbody tr th:only-of-type {\n        vertical-align: middle;\n    }\n\n    .dataframe tbody tr th {\n        vertical-align: top;\n    }\n\n    .dataframe thead th {\n        text-align: right;\n    }\n</style>\n<table border=\"1\" class=\"dataframe\">\n  <thead>\n    <tr style=\"text-align: right;\">\n      <th></th>\n      <th>state</th>\n      <th>rent0</th>\n      <th>rent1</th>\n      <th>rent2</th>\n      <th>rent3</th>\n      <th>rent4</th>\n      <th>year</th>\n    </tr>\n  </thead>\n  <tbody>\n    <tr>\n      <th>0</th>\n      <td>AL</td>\n      <td>521</td>\n      <td>545</td>\n      <td>716</td>\n      <td>925</td>\n      <td>963</td>\n      <td>2015</td>\n    </tr>\n    <tr>\n      <th>1</th>\n      <td>AL</td>\n      <td>636</td>\n      <td>641</td>\n      <td>867</td>\n      <td>1194</td>\n      <td>1465</td>\n      <td>2015</td>\n    </tr>\n    <tr>\n      <th>2</th>\n      <td>AL</td>\n      <td>595</td>\n      <td>712</td>\n      <td>844</td>\n      <td>1109</td>\n      <td>1247</td>\n      <td>2015</td>\n    </tr>\n    <tr>\n      <th>3</th>\n      <td>AL</td>\n      <td>430</td>\n      <td>483</td>\n      <td>609</td>\n      <td>815</td>\n      <td>1079</td>\n      <td>2015</td>\n    </tr>\n    <tr>\n      <th>4</th>\n      <td>AL</td>\n      <td>540</td>\n      <td>551</td>\n      <td>668</td>\n      <td>923</td>\n      <td>1121</td>\n      <td>2015</td>\n    </tr>\n  </tbody>\n</table>\n</div>"
     },
     "metadata": {},
     "execution_count": 126
    }
   ],
   "source": [
    "rent2015.head()"
   ]
  },
  {
   "cell_type": "code",
   "execution_count": 128,
   "metadata": {},
   "outputs": [
    {
     "output_type": "execute_result",
     "data": {
      "text/plain": [
       "     state  rent0  rent1   rent2   rent3   rent4  year\n",
       "2675    PR  231.0  285.0   334.0   422.0   467.0  2003\n",
       "2676    PR  231.0  285.0   334.0   422.0   467.0  2003\n",
       "2677    PR  231.0  285.0   334.0   422.0   467.0  2003\n",
       "2678    VI  551.0  668.0   788.0   984.0  1103.0  2003\n",
       "2679    VI  707.0  857.0  1010.0  1263.0  1413.0  2003"
      ],
      "text/html": "<div>\n<style scoped>\n    .dataframe tbody tr th:only-of-type {\n        vertical-align: middle;\n    }\n\n    .dataframe tbody tr th {\n        vertical-align: top;\n    }\n\n    .dataframe thead th {\n        text-align: right;\n    }\n</style>\n<table border=\"1\" class=\"dataframe\">\n  <thead>\n    <tr style=\"text-align: right;\">\n      <th></th>\n      <th>state</th>\n      <th>rent0</th>\n      <th>rent1</th>\n      <th>rent2</th>\n      <th>rent3</th>\n      <th>rent4</th>\n      <th>year</th>\n    </tr>\n  </thead>\n  <tbody>\n    <tr>\n      <th>2675</th>\n      <td>PR</td>\n      <td>231.0</td>\n      <td>285.0</td>\n      <td>334.0</td>\n      <td>422.0</td>\n      <td>467.0</td>\n      <td>2003</td>\n    </tr>\n    <tr>\n      <th>2676</th>\n      <td>PR</td>\n      <td>231.0</td>\n      <td>285.0</td>\n      <td>334.0</td>\n      <td>422.0</td>\n      <td>467.0</td>\n      <td>2003</td>\n    </tr>\n    <tr>\n      <th>2677</th>\n      <td>PR</td>\n      <td>231.0</td>\n      <td>285.0</td>\n      <td>334.0</td>\n      <td>422.0</td>\n      <td>467.0</td>\n      <td>2003</td>\n    </tr>\n    <tr>\n      <th>2678</th>\n      <td>VI</td>\n      <td>551.0</td>\n      <td>668.0</td>\n      <td>788.0</td>\n      <td>984.0</td>\n      <td>1103.0</td>\n      <td>2003</td>\n    </tr>\n    <tr>\n      <th>2679</th>\n      <td>VI</td>\n      <td>707.0</td>\n      <td>857.0</td>\n      <td>1010.0</td>\n      <td>1263.0</td>\n      <td>1413.0</td>\n      <td>2003</td>\n    </tr>\n  </tbody>\n</table>\n</div>"
     },
     "metadata": {},
     "execution_count": 128
    }
   ],
   "source": [
    "rent_combined.tail()"
   ]
  },
  {
   "cell_type": "code",
   "execution_count": 114,
   "metadata": {},
   "outputs": [
    {
     "output_type": "execute_result",
     "data": {
      "text/plain": [
       "array(['TX', 'PR', 'OH', 'GA', 'OR', 'NY', 'NM', 'LA', 'PA', 'NJ', 'IA',\n",
       "       'AK', 'MI', 'AL', 'WI', 'NC', 'CA', 'MD', 'ME', 'MA', 'WV', 'WA',\n",
       "       'MT', 'ND', 'VA', 'IL', 'IN', 'ID', 'NH', 'CO', 'KY', 'CT', 'VT',\n",
       "       'FL', 'NV', 'WY', 'SC', 'TN', 'MO', 'DE', 'MN', 'OK', 'AR', 'AZ',\n",
       "       'NE', 'MS', 'HI', 'KS', 'UT', 'RI', 'SD', 'DC', 'AS', 'GU', 'MP',\n",
       "       'VI'], dtype=object)"
      ]
     },
     "metadata": {},
     "execution_count": 114
    }
   ],
   "source": [
    "rent2021['state'].unique()"
   ]
  },
  {
   "cell_type": "code",
   "execution_count": 87,
   "metadata": {},
   "outputs": [
    {
     "output_type": "stream",
     "name": "stdout",
     "text": [
      "569.0\n624.1859838274933\n"
     ]
    }
   ],
   "source": [
    "print(np.median(rent2021['rent0']))\n",
    "print(np.average(rent2021['rent0']))"
   ]
  },
  {
   "cell_type": "code",
   "execution_count": null,
   "metadata": {},
   "outputs": [],
   "source": []
  }
 ]
}