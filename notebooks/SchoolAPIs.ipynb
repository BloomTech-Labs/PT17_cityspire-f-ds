{
  "nbformat": 4,
  "nbformat_minor": 0,
  "metadata": {
    "colab": {
      "name": "SchoolAPIs",
      "provenance": []
    },
    "kernelspec": {
      "name": "python3",
      "display_name": "Python 3"
    },
    "language_info": {
      "name": "python"
    }
  },
  "cells": [
    {
      "cell_type": "code",
      "metadata": {
        "id": "XTy1NQxOQQgk"
      },
      "source": [
        "https://api.data.gov/docs/ed/\n",
        "\n",
        "https://developer.schooldigger.com/\n",
        "\n",
        "https://code.org/learn/find-school/json\n",
        "\n",
        "https://www.programmableweb.com/news/top-10-education-apis/brief/2019/06/16"
      ],
      "execution_count": null,
      "outputs": []
    }
  ]
}